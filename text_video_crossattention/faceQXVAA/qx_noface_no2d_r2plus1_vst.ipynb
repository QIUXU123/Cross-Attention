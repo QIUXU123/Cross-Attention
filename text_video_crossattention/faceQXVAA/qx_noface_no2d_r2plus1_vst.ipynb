{
 "cells": [
  {
   "cell_type": "code",
   "execution_count": 1,
   "metadata": {},
   "outputs": [],
   "source": [
    "import librosa\n",
    "import librosa.display\n",
    "import numpy as np\n",
    "import pandas as pd\n",
    "import os\n",
    "from typing import List, Tuple, Dict\n",
    "import matplotlib.pyplot as plt\n",
    "import random\n",
    "import cv2\n",
    "# from vgg16 import VGG16_LSTM\n",
    "import pickle\n",
    "import torch.nn as nn\n",
    "import torch\n",
    "import datetime\n",
    "import torch.nn.functional as F\n",
    "import torchvision.models as models\n",
    "from torchvision import transforms, utils, models\n",
    "from torch.utils.data import Dataset, DataLoader\n",
    "from facenet_pytorch import MTCNN\n",
    "import logging\n",
    "import torch\n",
    "import torch.nn as nn\n",
    "from qx_noface_no2d_video_swin_transformer01 import SwinTransformer3D\n",
    "import gc\n",
    "from einops import rearrange\n",
    "from tqdm import tqdm\n",
    "# from kw_r2plus1d_video_swin_transformer import SwinTransformer3D\n",
    "batchsz = 4\n",
    "frame_nums=15\n",
    "start_epoch = 0\n",
    "test_flage=False\n",
    "model_name =\"fullshot and ast\"\n",
    "logger = logging.getLogger(__name__)\n",
    "logger.setLevel(logging.DEBUG)\n",
    "formatter = logging.Formatter('[%(asctime)s]::%(module)s::%(levelname)s::%(message)s')\n",
    "streamHandler = logging.StreamHandler()\n",
    "streamHandler.setFormatter(formatter)\n",
    "fileHandler = logging.FileHandler('./LOG/personalityLog.log')\n",
    "fileHandler.setFormatter(formatter)\n",
    "logger.addHandler(streamHandler)\n",
    "logger.addHandler(fileHandler)\n",
    "USE_CUDA = torch.cuda.is_available()\n",
    "# device = torch.device('cuda:1' if USE_CUDA else 'cpu')"
   ]
  },
  {
   "cell_type": "code",
   "execution_count": 2,
   "metadata": {},
   "outputs": [
    {
     "name": "stderr",
     "output_type": "stream",
     "text": [
      "[2024-03-26 18:54:51,405]::387438924::DEBUG::=============fullshot and ast+Video swin transformerTrain Strat!=============\n"
     ]
    },
    {
     "name": "stdout",
     "output_type": "stream",
     "text": [
      "True\n",
      "학습을 진행하는 기기: cuda:1\n"
     ]
    }
   ],
   "source": [
    "logger.debug('============={}+Video swin transformerTrain Strat!============='.format(model_name))\n",
    "USE_CUDA = torch.cuda.is_available()\n",
    "print(USE_CUDA)\n",
    "\n",
    "device = torch.device('cuda:1' if USE_CUDA else 'cpu')\n",
    "print('학습을 진행하는 기기:', device)"
   ]
  },
  {
   "cell_type": "code",
   "execution_count": 3,
   "metadata": {},
   "outputs": [
    {
     "name": "stdout",
     "output_type": "stream",
     "text": [
      "1\n"
     ]
    }
   ],
   "source": [
    "def select_frame_data(datas,frame_num):\n",
    "    data_set=[]\n",
    "    begin_num=0\n",
    "    x=128/frame_num\n",
    "    indexes=[None] * frame_num\n",
    "    for i in range(frame_num):\n",
    "        indexes[i]=int(begin_num)\n",
    "        begin_num+=x\n",
    "    for data in datas:\n",
    "        video_frames = [None] * 2\n",
    "        video_frames[0]=[]\n",
    "        video_frames[1]=[]\n",
    "        for index in indexes:\n",
    "            video_frames[0].append(data[0][index])\n",
    "        video_frames[1].append(data[1])\n",
    "        data_set.append(video_frames)\n",
    "        del video_frames\n",
    "        del data \n",
    "        gc.collect()\n",
    "    del datas\n",
    "    gc.collect()\n",
    "    return data_set\n",
    "print(1)"
   ]
  },
  {
   "cell_type": "code",
   "execution_count": 4,
   "metadata": {},
   "outputs": [
    {
     "name": "stdout",
     "output_type": "stream",
     "text": [
      "1\n"
     ]
    }
   ],
   "source": [
    "def getdata(pathname,datatype):\n",
    "    if datatype==\"train\":\n",
    "        final_data_set=[]\n",
    "        output_file=open(pathname, \"rb\")\n",
    "        for i in range(1):\n",
    "            # train_data_set.extend(pickle.load(output_file))\n",
    "            final_data_set.extend(pickle.load(output_file))\n",
    "            # print(i)\n",
    "        return final_data_set\n",
    "    elif datatype==\"valid\":\n",
    "        final_data_set=[]\n",
    "        output_file=open(pathname, \"rb\")\n",
    "        for i in range(1):\n",
    "            valid_data_set=[]\n",
    "            final_data_set.extend(pickle.load(output_file))\n",
    "            del valid_data_set\n",
    "        return final_data_set\n",
    "print(1)"
   ]
  },
  {
   "cell_type": "code",
   "execution_count": 5,
   "metadata": {},
   "outputs": [
    {
     "name": "stdout",
     "output_type": "stream",
     "text": [
      "1\n"
     ]
    }
   ],
   "source": [
    "def datasize(type,batchsz):\n",
    "    if type=='train':\n",
    "        i=5076#5967\n",
    "        while True:\n",
    "            if i%batchsz==0:\n",
    "                return i\n",
    "            else:\n",
    "                i-=1\n",
    "    else:\n",
    "        i=1701#1986\n",
    "        while True:\n",
    "            if i%batchsz==0:\n",
    "                return i\n",
    "            else:\n",
    "                i-=1\n",
    "print(1)"
   ]
  },
  {
   "cell_type": "code",
   "execution_count": 6,
   "metadata": {},
   "outputs": [
    {
     "name": "stdout",
     "output_type": "stream",
     "text": [
      "1\n"
     ]
    }
   ],
   "source": [
    "\n",
    "save_model_file_path = './save_swintransformer_folder/{}_{}.{}'\n",
    "mtcnn= MTCNN(image_size=224, margin=0, min_face_size= 20, thresholds=[0.6, 0.7, 0.7], post_process=True)\n",
    "# test_set_data=getdata(\"/home/ssrlab/qx/code/test/video-swin-transformer-pytorch/data/15Frames/test_set.dat\",\"test\")\n",
    "# test_set_data=test_set_data[:datasize(\"test\",batchsz)]\n",
    "print(1)"
   ]
  },
  {
   "cell_type": "code",
   "execution_count": 7,
   "metadata": {},
   "outputs": [
    {
     "name": "stdout",
     "output_type": "stream",
     "text": [
      "1\n"
     ]
    }
   ],
   "source": [
    "def reshape_to_expected_traininput(dataset: List[Tuple[ np.ndarray, np.ndarray]]) -> Tuple[\n",
    "     np.ndarray, np.ndarray]:\n",
    "    result=[]\n",
    "    for i in range(0, len(dataset[0])):\n",
    "        result.append((dataset[0][i],dataset[1][i],dataset[2][i],dataset[3][i],dataset[4][i],dataset[5][i]))\n",
    "    result = result[:datasize(\"train\",batchsz)]\n",
    "    x0_list = []\n",
    "    x1_list = []\n",
    "    x2_list = []\n",
    "    x3_list = []\n",
    "    x4_list = []\n",
    "    x5_list = []\n",
    "    for i in range(0, len(result)):\n",
    "        x0_list.append(result[i][0])\n",
    "        x1_list.append(result[i][1])\n",
    "        x2_list.append(result[i][2])\n",
    "        x3_list.append(result[i][3])\n",
    "        x4_list.append(result[i][4])\n",
    "        x5_list.append(result[i][5])\n",
    "    return (np.stack(x0_list), np.stack(x1_list), np.stack(x2_list),np.stack(x3_list), np.stack(x4_list), np.stack(x5_list))\n",
    "print(1)"
   ]
  },
  {
   "cell_type": "code",
   "execution_count": 8,
   "metadata": {},
   "outputs": [
    {
     "name": "stdout",
     "output_type": "stream",
     "text": [
      "1\n"
     ]
    }
   ],
   "source": [
    "def reshape_to_expected_validinput(dataset: List[Tuple[ np.ndarray, np.ndarray]]) -> Tuple[\n",
    "     np.ndarray, np.ndarray]:\n",
    "    result=[]\n",
    "    for i in range(0, len(dataset[0])):\n",
    "        result.append((dataset[0][i],dataset[1][i],dataset[2][i],dataset[3][i],dataset[4][i],dataset[5][i]))\n",
    "    result = result[:datasize(\"valid\",batchsz)]\n",
    "    x0_list = []\n",
    "    x1_list = []\n",
    "    x2_list = []\n",
    "    x3_list = []\n",
    "    x4_list = []\n",
    "    x5_list = []\n",
    "    for i in range(0, len(result)):\n",
    "        x0_list.append(result[i][0])\n",
    "        x1_list.append(result[i][1])\n",
    "        x2_list.append(result[i][2])\n",
    "        x3_list.append(result[i][3])\n",
    "        x4_list.append(result[i][4])\n",
    "        x5_list.append(result[i][5])\n",
    "    return (np.stack(x0_list), np.stack(x1_list), np.stack(x2_list),np.stack(x3_list), np.stack(x4_list), np.stack(x5_list))\n",
    "print(1)"
   ]
  },
  {
   "cell_type": "code",
   "execution_count": 9,
   "metadata": {},
   "outputs": [
    {
     "name": "stdout",
     "output_type": "stream",
     "text": [
      "1\n"
     ]
    }
   ],
   "source": [
    "validation_set_data=getdata(\"/home/ssrlab/qx/code/test/video-swin-transformer-pytorch/data/15Frames/multidata/1700valid_set.dat\",\"valid\")\n",
    "validation_set_data=reshape_to_expected_validinput(validation_set_data)\n",
    "print(1)"
   ]
  },
  {
   "cell_type": "code",
   "execution_count": 10,
   "metadata": {},
   "outputs": [
    {
     "name": "stdout",
     "output_type": "stream",
     "text": [
      "<class 'numpy.ndarray'>\n"
     ]
    }
   ],
   "source": [
    "print(type(validation_set_data[2][0]))"
   ]
  },
  {
   "cell_type": "code",
   "execution_count": 11,
   "metadata": {},
   "outputs": [
    {
     "name": "stdout",
     "output_type": "stream",
     "text": [
      "1\n"
     ]
    }
   ],
   "source": [
    "train_set_data=getdata(\"/home/ssrlab/qx/code/test/video-swin-transformer-pytorch/data/15Frames/multidata/5076train_set.dat\",\"train\")\n",
    "train_set_data=reshape_to_expected_traininput(train_set_data)\n",
    "print(1)"
   ]
  },
  {
   "cell_type": "code",
   "execution_count": 12,
   "metadata": {},
   "outputs": [
    {
     "name": "stdout",
     "output_type": "stream",
     "text": [
      "1\n"
     ]
    }
   ],
   "source": [
    "def imagecrop(imagedata,batchsz):\n",
    "    # convert_tensor= transforms.ToTensor()\n",
    "    output=[]\n",
    "    for j in range(batchsz):#비디오 데이터 batchsz(9) 개 있다\n",
    "        firstoutput=[]\n",
    "        for i in range(len(imagedata[j])):#imagedata에 15개의 프레임이 있다\n",
    "            # temp = convert_tensor(imagedata[i])\n",
    "            #이미지를 나누\n",
    "            temp = imagedata[j][i].unfold(1,112,112).unfold(2,112,112)\n",
    "            temp = rearrange(temp, 'c h1 w1 h w -> (h1 w1) c h w')\n",
    "            firstoutput.append(temp)\n",
    "        firstoutput = torch.stack(firstoutput,0)\n",
    "        output.append(firstoutput)\n",
    "    output = torch.stack(output,0)\n",
    "    return output\n",
    "print(1)"
   ]
  },
  {
   "cell_type": "code",
   "execution_count": 13,
   "metadata": {},
   "outputs": [
    {
     "name": "stdout",
     "output_type": "stream",
     "text": [
      "1\n"
     ]
    }
   ],
   "source": [
    "transform = transforms.Compose([\n",
    "    transforms.ToPILImage(),\n",
    "    transforms.ToTensor(),\n",
    "])\n",
    "print(1)"
   ]
  },
  {
   "cell_type": "code",
   "execution_count": 14,
   "metadata": {},
   "outputs": [
    {
     "name": "stdout",
     "output_type": "stream",
     "text": [
      "1\n"
     ]
    }
   ],
   "source": [
    "class ChalearnDataset(Dataset):\n",
    "    def __init__(self,audiodata,facedata,tagdata,transform=None):\n",
    "        self.audiodata=audiodata\n",
    "        self.facedata=facedata\n",
    "        self.tagdata=tagdata\n",
    "        self.transform = transform  # 표준화 여부\n",
    "    def __len__(self):\n",
    "        return len(self.facedata)\n",
    "\n",
    "    def __getitem__(self, idx):\n",
    "        if torch.is_tensor(idx):\n",
    "            idx = idx.tolist()#텐서의 경우 목록으로 돌아가기\n",
    "        audiodata = self.audiodata[idx]\n",
    "        audiodata = torch.FloatTensor(audiodata)\n",
    "        facedata=self.facedata[idx]\n",
    "        facedata=torch.FloatTensor(facedata)\n",
    "        # image_data=image_data.reshape(15,3,224,224)\n",
    "        big_five_sorces=self.tagdata[idx]\n",
    "        big_five_sorces = torch.FloatTensor(big_five_sorces)\n",
    "        return audiodata,facedata,big_five_sorces\n",
    "print(1)"
   ]
  },
  {
   "cell_type": "code",
   "execution_count": 15,
   "metadata": {},
   "outputs": [
    {
     "name": "stdout",
     "output_type": "stream",
     "text": [
      "1\n"
     ]
    }
   ],
   "source": [
    "num_workerssz = 20\n",
    "lr = 3e-05\n",
    "epochs = 120\n",
    "#device = torch.device('cuda')\n",
    "# train_set_data = reshape_to_expected_input(train_set_data)\n",
    "# val_set_data = reshape_to_expected_input(validation_set_data)\n",
    "print(1)"
   ]
  },
  {
   "cell_type": "markdown",
   "metadata": {},
   "source": []
  },
  {
   "cell_type": "code",
   "execution_count": 16,
   "metadata": {},
   "outputs": [
    {
     "name": "stdout",
     "output_type": "stream",
     "text": [
      "1\n"
     ]
    }
   ],
   "source": [
    "train_set_data = ChalearnDataset(audiodata=train_set_data[0],facedata = train_set_data[2],tagdata=train_set_data[5],transform=transform)\n",
    "val_set_data = ChalearnDataset(audiodata=validation_set_data[0],facedata = validation_set_data[2], tagdata=validation_set_data[5],transform=transform)\n",
    "train_dataloader = DataLoader(dataset=train_set_data, batch_size=batchsz, shuffle=True, num_workers=num_workerssz)\n",
    "val_dataloader = DataLoader(dataset=val_set_data, batch_size=batchsz, shuffle=True, num_workers=num_workerssz)\n",
    "max_value=0\n",
    "print(1)"
   ]
  },
  {
   "cell_type": "code",
   "execution_count": 17,
   "metadata": {},
   "outputs": [
    {
     "name": "stderr",
     "output_type": "stream",
     "text": [
      "Some weights of AlbertModel were not initialized from the model checkpoint at text_model/ and are newly initialized: ['albert.pooler.weight', 'albert.pooler.bias']\n",
      "You should probably TRAIN this model on a down-stream task to be able to use it for predictions and inference.\n"
     ]
    },
    {
     "name": "stdout",
     "output_type": "stream",
     "text": [
      "---------------AST Model Summary---------------\n",
      "ImageNet pretraining: True, AudioSet pretraining: True\n",
      "frequncey stride=10, time stride=10\n",
      "number of patches=131\n"
     ]
    },
    {
     "name": "stderr",
     "output_type": "stream",
     "text": [
      "/home/ssrlab/anaconda3/envs/qx/lib/python3.10/site-packages/torch/functional.py:504: UserWarning: torch.meshgrid: in an upcoming release, it will be required to pass the indexing argument. (Triggered internally at ../aten/src/ATen/native/TensorShape.cpp:3483.)\n",
      "  return _VF.meshgrid(tensors, **kwargs)  # type: ignore[attr-defined]\n"
     ]
    },
    {
     "name": "stdout",
     "output_type": "stream",
     "text": [
      "1\n"
     ]
    }
   ],
   "source": [
    "model=SwinTransformer3D()#num_frames=frame_nums,batchsz = batchsz\n",
    "model.to(device)\n",
    "criterion = torch.nn.L1Loss().to(device)  # 손실함수\n",
    "optimizer = torch.optim.AdamW(model.parameters(), lr=lr) # 옵티마이저\n",
    "\n",
    "if test_flage==True:\n",
    "    checkpoint=torch.load(save_model_file_path.format('model',start_epoch,'pth'), map_location=device)\n",
    "    model.load_state_dict(checkpoint[\"model\"])\n",
    "    optimizer.load_state_dict(checkpoint[\"optimizer\"])\n",
    "    # criterion.load_state_dict(checkpoint[\"loss\"])\n",
    "train_avg_loss0=[]\n",
    "val_avg_loss0=[]\n",
    "print(1)"
   ]
  },
  {
   "cell_type": "code",
   "execution_count": 18,
   "metadata": {},
   "outputs": [],
   "source": [
    "# from torchinfo import summary\n",
    "\n",
    "# summary(model, input_size = ((8,15,224,224,3),(8,24,1319,1)), col_names = ['input_size','output_size','num_params'])"
   ]
  },
  {
   "cell_type": "code",
   "execution_count": 19,
   "metadata": {},
   "outputs": [],
   "source": [
    "def extract_ocean(data,batch_size):\n",
    "    o=[]\n",
    "    c=[]\n",
    "    e=[]\n",
    "    a=[]\n",
    "    n=[]\n",
    "    for i in range(batch_size):\n",
    "        o.append(data[i][0].item())\n",
    "        c.append(data[i][1].item())\n",
    "        e.append(data[i][2].item())\n",
    "        a.append(data[i][3].item())\n",
    "        n.append(data[i][4].item())\n",
    "    o = torch.tensor(o) \n",
    "    c = torch.tensor(c) \n",
    "    e = torch.tensor(e) \n",
    "    a = torch.tensor(a) \n",
    "    n = torch.tensor(n) \n",
    "    return o,c,e,a,n"
   ]
  },
  {
   "cell_type": "code",
   "execution_count": 20,
   "metadata": {},
   "outputs": [
    {
     "name": "stderr",
     "output_type": "stream",
     "text": [
      "100%|██████████| 1269/1269 [04:48<00:00,  4.40it/s]\n",
      "100%|██████████| 425/425 [00:35<00:00, 11.86it/s]\n",
      "[2024-03-26 19:01:36,308]::2745825432::DEBUG::Epoch: 1 , 1-MAE: 0.8605 , 1-val_avg_o_loss:0.8618 , 1-val_avg_c_loss:0.7874 , 1-val_avg_e_loss:0.9014 , 1-val_avg_a_loss:0.8580 , 1-val_avg_n_loss:0.8938\n",
      "100%|██████████| 1269/1269 [04:48<00:00,  4.40it/s]\n",
      "100%|██████████| 425/425 [00:36<00:00, 11.78it/s]\n",
      "[2024-03-26 19:07:01,885]::2745825432::DEBUG::Epoch: 2 , 1-MAE: 0.8810 , 1-val_avg_o_loss:0.8918 , 1-val_avg_c_loss:0.8925 , 1-val_avg_e_loss:0.8978 , 1-val_avg_a_loss:0.8902 , 1-val_avg_n_loss:0.8327\n",
      "100%|██████████| 1269/1269 [04:48<00:00,  4.40it/s]\n",
      "100%|██████████| 425/425 [00:35<00:00, 11.82it/s]\n",
      "[2024-03-26 19:12:27,553]::2745825432::DEBUG::Epoch: 3 , 1-MAE: 0.8861 , 1-val_avg_o_loss:0.8940 , 1-val_avg_c_loss:0.8877 , 1-val_avg_e_loss:0.9039 , 1-val_avg_a_loss:0.8680 , 1-val_avg_n_loss:0.8770\n",
      "100%|██████████| 1269/1269 [04:48<00:00,  4.40it/s]\n",
      "100%|██████████| 425/425 [00:36<00:00, 11.68it/s]\n",
      "[2024-03-26 19:17:53,898]::2745825432::DEBUG::Epoch: 4 , 1-MAE: 0.8964 , 1-val_avg_o_loss:0.9111 , 1-val_avg_c_loss:0.8874 , 1-val_avg_e_loss:0.8908 , 1-val_avg_a_loss:0.8963 , 1-val_avg_n_loss:0.8964\n",
      "100%|██████████| 1269/1269 [04:48<00:00,  4.40it/s]\n",
      "100%|██████████| 425/425 [00:36<00:00, 11.78it/s]\n",
      "[2024-03-26 19:23:22,050]::2745825432::DEBUG::Epoch: 5 , 1-MAE: 0.8966 , 1-val_avg_o_loss:0.9082 , 1-val_avg_c_loss:0.9024 , 1-val_avg_e_loss:0.8747 , 1-val_avg_a_loss:0.8985 , 1-val_avg_n_loss:0.8992\n",
      "100%|██████████| 1269/1269 [04:47<00:00,  4.41it/s]\n",
      "100%|██████████| 425/425 [00:35<00:00, 11.84it/s]\n",
      "[2024-03-26 19:28:47,187]::2745825432::DEBUG::Epoch: 6 , 1-MAE: 0.9001 , 1-val_avg_o_loss:0.8942 , 1-val_avg_c_loss:0.9024 , 1-val_avg_e_loss:0.9119 , 1-val_avg_a_loss:0.8923 , 1-val_avg_n_loss:0.8999\n",
      "100%|██████████| 1269/1269 [04:48<00:00,  4.40it/s]\n",
      "100%|██████████| 425/425 [00:35<00:00, 11.86it/s]\n",
      "[2024-03-26 19:34:12,793]::2745825432::DEBUG::Epoch: 7 , 1-MAE: 0.9025 , 1-val_avg_o_loss:0.9095 , 1-val_avg_c_loss:0.8978 , 1-val_avg_e_loss:0.9043 , 1-val_avg_a_loss:0.8906 , 1-val_avg_n_loss:0.9107\n",
      "100%|██████████| 1269/1269 [04:48<00:00,  4.40it/s]\n",
      "100%|██████████| 425/425 [00:36<00:00, 11.73it/s]\n",
      "[2024-03-26 19:39:38,761]::2745825432::DEBUG::Epoch: 8 , 1-MAE: 0.9076 , 1-val_avg_o_loss:0.9022 , 1-val_avg_c_loss:0.9053 , 1-val_avg_e_loss:0.9120 , 1-val_avg_a_loss:0.9068 , 1-val_avg_n_loss:0.9120\n",
      "100%|██████████| 1269/1269 [04:49<00:00,  4.39it/s]\n",
      "100%|██████████| 425/425 [00:36<00:00, 11.62it/s]\n",
      "[2024-03-26 19:45:05,704]::2745825432::DEBUG::Epoch: 9 , 1-MAE: 0.9097 , 1-val_avg_o_loss:0.9125 , 1-val_avg_c_loss:0.9062 , 1-val_avg_e_loss:0.9134 , 1-val_avg_a_loss:0.9075 , 1-val_avg_n_loss:0.9088\n",
      "100%|██████████| 1269/1269 [04:48<00:00,  4.39it/s]\n",
      "100%|██████████| 425/425 [00:36<00:00, 11.68it/s]\n",
      "[2024-03-26 19:50:34,657]::2745825432::DEBUG::Epoch: 10 , 1-MAE: 0.9060 , 1-val_avg_o_loss:0.9128 , 1-val_avg_c_loss:0.9045 , 1-val_avg_e_loss:0.9050 , 1-val_avg_a_loss:0.8999 , 1-val_avg_n_loss:0.9080\n",
      "100%|██████████| 1269/1269 [04:48<00:00,  4.39it/s]\n",
      "100%|██████████| 425/425 [00:36<00:00, 11.60it/s]\n",
      "[2024-03-26 19:56:01,577]::2745825432::DEBUG::Epoch: 11 , 1-MAE: 0.9037 , 1-val_avg_o_loss:0.9141 , 1-val_avg_c_loss:0.9047 , 1-val_avg_e_loss:0.8918 , 1-val_avg_a_loss:0.8970 , 1-val_avg_n_loss:0.9109\n",
      "100%|██████████| 1269/1269 [04:48<00:00,  4.39it/s]\n",
      "100%|██████████| 425/425 [00:36<00:00, 11.71it/s]\n",
      "[2024-03-26 20:01:27,965]::2745825432::DEBUG::Epoch: 12 , 1-MAE: 0.9015 , 1-val_avg_o_loss:0.9043 , 1-val_avg_c_loss:0.8942 , 1-val_avg_e_loss:0.9107 , 1-val_avg_a_loss:0.8924 , 1-val_avg_n_loss:0.9060\n",
      "100%|██████████| 1269/1269 [04:47<00:00,  4.41it/s]\n",
      "100%|██████████| 425/425 [00:36<00:00, 11.70it/s]\n",
      "[2024-03-26 20:06:53,312]::2745825432::DEBUG::Epoch: 13 , 1-MAE: 0.9084 , 1-val_avg_o_loss:0.9081 , 1-val_avg_c_loss:0.9076 , 1-val_avg_e_loss:0.9100 , 1-val_avg_a_loss:0.9083 , 1-val_avg_n_loss:0.9081\n",
      "100%|██████████| 1269/1269 [04:48<00:00,  4.40it/s]\n",
      "100%|██████████| 425/425 [00:36<00:00, 11.62it/s]\n",
      "[2024-03-26 20:12:19,410]::2745825432::DEBUG::Epoch: 14 , 1-MAE: 0.9094 , 1-val_avg_o_loss:0.9092 , 1-val_avg_c_loss:0.9093 , 1-val_avg_e_loss:0.9106 , 1-val_avg_a_loss:0.9074 , 1-val_avg_n_loss:0.9104\n",
      "100%|██████████| 1269/1269 [04:48<00:00,  4.39it/s]\n",
      "100%|██████████| 425/425 [00:35<00:00, 11.84it/s]\n",
      "[2024-03-26 20:17:47,789]::2745825432::DEBUG::Epoch: 15 , 1-MAE: 0.9072 , 1-val_avg_o_loss:0.9118 , 1-val_avg_c_loss:0.8985 , 1-val_avg_e_loss:0.9087 , 1-val_avg_a_loss:0.9090 , 1-val_avg_n_loss:0.9081\n",
      "100%|██████████| 1269/1269 [04:48<00:00,  4.40it/s]\n",
      "100%|██████████| 425/425 [00:36<00:00, 11.74it/s]\n",
      "[2024-03-26 20:23:13,537]::2745825432::DEBUG::Epoch: 16 , 1-MAE: 0.9077 , 1-val_avg_o_loss:0.9129 , 1-val_avg_c_loss:0.9080 , 1-val_avg_e_loss:0.9072 , 1-val_avg_a_loss:0.9089 , 1-val_avg_n_loss:0.9015\n",
      "100%|██████████| 1269/1269 [04:48<00:00,  4.39it/s]\n",
      "100%|██████████| 425/425 [00:36<00:00, 11.68it/s]\n",
      "[2024-03-26 20:28:39,959]::2745825432::DEBUG::Epoch: 17 , 1-MAE: 0.9086 , 1-val_avg_o_loss:0.9085 , 1-val_avg_c_loss:0.9058 , 1-val_avg_e_loss:0.9114 , 1-val_avg_a_loss:0.9096 , 1-val_avg_n_loss:0.9079\n",
      "100%|██████████| 1269/1269 [04:48<00:00,  4.39it/s]\n",
      "100%|██████████| 425/425 [00:35<00:00, 11.84it/s]\n",
      "[2024-03-26 20:34:05,881]::2745825432::DEBUG::Epoch: 18 , 1-MAE: 0.9095 , 1-val_avg_o_loss:0.9125 , 1-val_avg_c_loss:0.9084 , 1-val_avg_e_loss:0.9097 , 1-val_avg_a_loss:0.9068 , 1-val_avg_n_loss:0.9100\n",
      "100%|██████████| 1269/1269 [04:48<00:00,  4.40it/s]\n",
      "100%|██████████| 425/425 [00:36<00:00, 11.75it/s]\n",
      "[2024-03-26 20:39:31,709]::2745825432::DEBUG::Epoch: 19 , 1-MAE: 0.9084 , 1-val_avg_o_loss:0.9124 , 1-val_avg_c_loss:0.9060 , 1-val_avg_e_loss:0.9112 , 1-val_avg_a_loss:0.9034 , 1-val_avg_n_loss:0.9087\n",
      "100%|██████████| 1269/1269 [04:48<00:00,  4.40it/s]\n",
      "100%|██████████| 425/425 [00:35<00:00, 11.88it/s]\n",
      "[2024-03-26 20:44:59,689]::2745825432::DEBUG::Epoch: 20 , 1-MAE: 0.9095 , 1-val_avg_o_loss:0.9101 , 1-val_avg_c_loss:0.9077 , 1-val_avg_e_loss:0.9100 , 1-val_avg_a_loss:0.9092 , 1-val_avg_n_loss:0.9105\n",
      "100%|██████████| 1269/1269 [04:48<00:00,  4.40it/s]\n",
      "100%|██████████| 425/425 [00:36<00:00, 11.80it/s]\n",
      "[2024-03-26 20:50:25,272]::2745825432::DEBUG::Epoch: 21 , 1-MAE: 0.9094 , 1-val_avg_o_loss:0.9143 , 1-val_avg_c_loss:0.9029 , 1-val_avg_e_loss:0.9117 , 1-val_avg_a_loss:0.9080 , 1-val_avg_n_loss:0.9102\n",
      "100%|██████████| 1269/1269 [04:48<00:00,  4.40it/s]\n",
      "100%|██████████| 425/425 [00:36<00:00, 11.73it/s]\n",
      "[2024-03-26 20:55:51,144]::2745825432::DEBUG::Epoch: 22 , 1-MAE: 0.9088 , 1-val_avg_o_loss:0.9120 , 1-val_avg_c_loss:0.9043 , 1-val_avg_e_loss:0.9104 , 1-val_avg_a_loss:0.9080 , 1-val_avg_n_loss:0.9090\n",
      "100%|██████████| 1269/1269 [04:48<00:00,  4.40it/s]\n",
      "100%|██████████| 425/425 [00:35<00:00, 11.87it/s]\n",
      "[2024-03-26 21:01:16,409]::2745825432::DEBUG::Epoch: 23 , 1-MAE: 0.9094 , 1-val_avg_o_loss:0.9146 , 1-val_avg_c_loss:0.9055 , 1-val_avg_e_loss:0.9084 , 1-val_avg_a_loss:0.9096 , 1-val_avg_n_loss:0.9087\n",
      "100%|██████████| 1269/1269 [04:48<00:00,  4.40it/s]\n",
      "100%|██████████| 425/425 [00:35<00:00, 11.90it/s]\n",
      "[2024-03-26 21:06:41,645]::2745825432::DEBUG::Epoch: 24 , 1-MAE: 0.9092 , 1-val_avg_o_loss:0.9113 , 1-val_avg_c_loss:0.9062 , 1-val_avg_e_loss:0.9123 , 1-val_avg_a_loss:0.9084 , 1-val_avg_n_loss:0.9078\n",
      "100%|██████████| 1269/1269 [04:48<00:00,  4.40it/s]\n",
      "100%|██████████| 425/425 [00:35<00:00, 11.89it/s]\n",
      "[2024-03-26 21:12:09,085]::2745825432::DEBUG::Epoch: 25 , 1-MAE: 0.9090 , 1-val_avg_o_loss:0.9125 , 1-val_avg_c_loss:0.9058 , 1-val_avg_e_loss:0.9112 , 1-val_avg_a_loss:0.9063 , 1-val_avg_n_loss:0.9090\n",
      "100%|██████████| 1269/1269 [04:48<00:00,  4.40it/s]\n",
      "100%|██████████| 425/425 [00:36<00:00, 11.74it/s]\n",
      "[2024-03-26 21:17:34,694]::2745825432::DEBUG::Epoch: 26 , 1-MAE: 0.9102 , 1-val_avg_o_loss:0.9150 , 1-val_avg_c_loss:0.9058 , 1-val_avg_e_loss:0.9122 , 1-val_avg_a_loss:0.9105 , 1-val_avg_n_loss:0.9074\n",
      "100%|██████████| 1269/1269 [04:48<00:00,  4.40it/s]\n",
      "100%|██████████| 425/425 [00:36<00:00, 11.79it/s]\n",
      "[2024-03-26 21:23:00,344]::2745825432::DEBUG::Epoch: 27 , 1-MAE: 0.9099 , 1-val_avg_o_loss:0.9139 , 1-val_avg_c_loss:0.9065 , 1-val_avg_e_loss:0.9101 , 1-val_avg_a_loss:0.9100 , 1-val_avg_n_loss:0.9087\n",
      "100%|██████████| 1269/1269 [04:48<00:00,  4.40it/s]\n",
      "100%|██████████| 425/425 [00:35<00:00, 11.85it/s]\n",
      "[2024-03-26 21:28:25,646]::2745825432::DEBUG::Epoch: 28 , 1-MAE: 0.9102 , 1-val_avg_o_loss:0.9153 , 1-val_avg_c_loss:0.9061 , 1-val_avg_e_loss:0.9113 , 1-val_avg_a_loss:0.9086 , 1-val_avg_n_loss:0.9097\n",
      "100%|██████████| 1269/1269 [04:48<00:00,  4.40it/s]\n",
      "100%|██████████| 425/425 [00:35<00:00, 11.84it/s]\n",
      "[2024-03-26 21:33:50,985]::2745825432::DEBUG::Epoch: 29 , 1-MAE: 0.9095 , 1-val_avg_o_loss:0.9139 , 1-val_avg_c_loss:0.9057 , 1-val_avg_e_loss:0.9075 , 1-val_avg_a_loss:0.9104 , 1-val_avg_n_loss:0.9099\n",
      "100%|██████████| 1269/1269 [04:48<00:00,  4.40it/s]\n",
      "100%|██████████| 425/425 [00:36<00:00, 11.75it/s]\n",
      "[2024-03-26 21:39:19,183]::2745825432::DEBUG::Epoch: 30 , 1-MAE: 0.9104 , 1-val_avg_o_loss:0.9138 , 1-val_avg_c_loss:0.9060 , 1-val_avg_e_loss:0.9128 , 1-val_avg_a_loss:0.9082 , 1-val_avg_n_loss:0.9112\n",
      "100%|██████████| 1269/1269 [04:48<00:00,  4.39it/s]\n",
      "100%|██████████| 425/425 [00:35<00:00, 11.83it/s]\n",
      "[2024-03-26 21:44:45,209]::2745825432::DEBUG::Epoch: 31 , 1-MAE: 0.9100 , 1-val_avg_o_loss:0.9158 , 1-val_avg_c_loss:0.9089 , 1-val_avg_e_loss:0.9111 , 1-val_avg_a_loss:0.9070 , 1-val_avg_n_loss:0.9074\n",
      "100%|██████████| 1269/1269 [04:48<00:00,  4.40it/s]\n",
      "100%|██████████| 425/425 [00:36<00:00, 11.72it/s]\n",
      "[2024-03-26 21:50:11,341]::2745825432::DEBUG::Epoch: 32 , 1-MAE: 0.9101 , 1-val_avg_o_loss:0.9140 , 1-val_avg_c_loss:0.9072 , 1-val_avg_e_loss:0.9088 , 1-val_avg_a_loss:0.9098 , 1-val_avg_n_loss:0.9108\n",
      "100%|██████████| 1269/1269 [04:48<00:00,  4.40it/s]\n",
      "100%|██████████| 425/425 [00:36<00:00, 11.76it/s]\n",
      "[2024-03-26 21:55:37,477]::2745825432::DEBUG::Epoch: 33 , 1-MAE: 0.9104 , 1-val_avg_o_loss:0.9145 , 1-val_avg_c_loss:0.9073 , 1-val_avg_e_loss:0.9102 , 1-val_avg_a_loss:0.9097 , 1-val_avg_n_loss:0.9102\n",
      "100%|██████████| 1269/1269 [04:48<00:00,  4.39it/s]\n",
      "100%|██████████| 425/425 [00:36<00:00, 11.78it/s]\n",
      "[2024-03-26 22:01:03,591]::2745825432::DEBUG::Epoch: 34 , 1-MAE: 0.9098 , 1-val_avg_o_loss:0.9140 , 1-val_avg_c_loss:0.9066 , 1-val_avg_e_loss:0.9110 , 1-val_avg_a_loss:0.9085 , 1-val_avg_n_loss:0.9089\n",
      "100%|██████████| 1269/1269 [04:48<00:00,  4.40it/s]\n",
      "100%|██████████| 425/425 [00:35<00:00, 11.83it/s]\n",
      "[2024-03-26 22:06:31,843]::2745825432::DEBUG::Epoch: 35 , 1-MAE: 0.9105 , 1-val_avg_o_loss:0.9151 , 1-val_avg_c_loss:0.9070 , 1-val_avg_e_loss:0.9120 , 1-val_avg_a_loss:0.9092 , 1-val_avg_n_loss:0.9089\n",
      "100%|██████████| 1269/1269 [04:48<00:00,  4.39it/s]\n",
      "100%|██████████| 425/425 [00:35<00:00, 11.83it/s]\n",
      "[2024-03-26 22:11:57,786]::2745825432::DEBUG::Epoch: 36 , 1-MAE: 0.9105 , 1-val_avg_o_loss:0.9144 , 1-val_avg_c_loss:0.9063 , 1-val_avg_e_loss:0.9107 , 1-val_avg_a_loss:0.9107 , 1-val_avg_n_loss:0.9104\n",
      "100%|██████████| 1269/1269 [04:48<00:00,  4.40it/s]\n",
      "100%|██████████| 425/425 [00:35<00:00, 11.82it/s]\n",
      "[2024-03-26 22:17:23,640]::2745825432::DEBUG::Epoch: 37 , 1-MAE: 0.9094 , 1-val_avg_o_loss:0.9131 , 1-val_avg_c_loss:0.9074 , 1-val_avg_e_loss:0.9117 , 1-val_avg_a_loss:0.9099 , 1-val_avg_n_loss:0.9047\n",
      "100%|██████████| 1269/1269 [04:48<00:00,  4.40it/s]\n",
      "100%|██████████| 425/425 [00:36<00:00, 11.67it/s]\n",
      "[2024-03-26 22:22:49,671]::2745825432::DEBUG::Epoch: 38 , 1-MAE: 0.9107 , 1-val_avg_o_loss:0.9146 , 1-val_avg_c_loss:0.9076 , 1-val_avg_e_loss:0.9109 , 1-val_avg_a_loss:0.9095 , 1-val_avg_n_loss:0.9111\n",
      "100%|██████████| 1269/1269 [04:48<00:00,  4.40it/s]\n",
      "100%|██████████| 425/425 [00:36<00:00, 11.80it/s]\n",
      "[2024-03-26 22:28:15,742]::2745825432::DEBUG::Epoch: 39 , 1-MAE: 0.9088 , 1-val_avg_o_loss:0.9146 , 1-val_avg_c_loss:0.9060 , 1-val_avg_e_loss:0.9096 , 1-val_avg_a_loss:0.9077 , 1-val_avg_n_loss:0.9063\n",
      "100%|██████████| 1269/1269 [04:48<00:00,  4.40it/s]\n",
      "100%|██████████| 425/425 [00:36<00:00, 11.55it/s]\n",
      "[2024-03-26 22:33:44,184]::2745825432::DEBUG::Epoch: 40 , 1-MAE: 0.9105 , 1-val_avg_o_loss:0.9151 , 1-val_avg_c_loss:0.9057 , 1-val_avg_e_loss:0.9118 , 1-val_avg_a_loss:0.9095 , 1-val_avg_n_loss:0.9106\n",
      "100%|██████████| 1269/1269 [04:48<00:00,  4.40it/s]\n",
      "100%|██████████| 425/425 [00:36<00:00, 11.70it/s]\n",
      "[2024-03-26 22:39:10,519]::2745825432::DEBUG::Epoch: 41 , 1-MAE: 0.9111 , 1-val_avg_o_loss:0.9144 , 1-val_avg_c_loss:0.9075 , 1-val_avg_e_loss:0.9122 , 1-val_avg_a_loss:0.9099 , 1-val_avg_n_loss:0.9116\n",
      "100%|██████████| 1269/1269 [04:48<00:00,  4.40it/s]\n",
      "100%|██████████| 425/425 [00:35<00:00, 11.82it/s]\n",
      "[2024-03-26 22:44:36,052]::2745825432::DEBUG::Epoch: 42 , 1-MAE: 0.9112 , 1-val_avg_o_loss:0.9149 , 1-val_avg_c_loss:0.9070 , 1-val_avg_e_loss:0.9129 , 1-val_avg_a_loss:0.9103 , 1-val_avg_n_loss:0.9111\n",
      "100%|██████████| 1269/1269 [04:48<00:00,  4.40it/s]\n",
      "100%|██████████| 425/425 [00:36<00:00, 11.77it/s]\n",
      "[2024-03-26 22:50:01,777]::2745825432::DEBUG::Epoch: 43 , 1-MAE: 0.9105 , 1-val_avg_o_loss:0.9146 , 1-val_avg_c_loss:0.9075 , 1-val_avg_e_loss:0.9120 , 1-val_avg_a_loss:0.9086 , 1-val_avg_n_loss:0.9095\n",
      "100%|██████████| 1269/1269 [04:48<00:00,  4.39it/s]\n",
      "100%|██████████| 425/425 [00:35<00:00, 11.84it/s]\n",
      "[2024-03-26 22:55:27,749]::2745825432::DEBUG::Epoch: 44 , 1-MAE: 0.9111 , 1-val_avg_o_loss:0.9159 , 1-val_avg_c_loss:0.9058 , 1-val_avg_e_loss:0.9130 , 1-val_avg_a_loss:0.9103 , 1-val_avg_n_loss:0.9103\n",
      "100%|██████████| 1269/1269 [04:48<00:00,  4.40it/s]\n",
      "100%|██████████| 425/425 [00:35<00:00, 11.90it/s]\n",
      "[2024-03-26 23:00:55,436]::2745825432::DEBUG::Epoch: 45 , 1-MAE: 0.9113 , 1-val_avg_o_loss:0.9159 , 1-val_avg_c_loss:0.9054 , 1-val_avg_e_loss:0.9129 , 1-val_avg_a_loss:0.9112 , 1-val_avg_n_loss:0.9110\n",
      "100%|██████████| 1269/1269 [04:48<00:00,  4.40it/s]\n",
      "100%|██████████| 425/425 [00:36<00:00, 11.71it/s]\n",
      "[2024-03-26 23:06:21,079]::2745825432::DEBUG::Epoch: 46 , 1-MAE: 0.9108 , 1-val_avg_o_loss:0.9146 , 1-val_avg_c_loss:0.9072 , 1-val_avg_e_loss:0.9134 , 1-val_avg_a_loss:0.9076 , 1-val_avg_n_loss:0.9111\n",
      "100%|██████████| 1269/1269 [04:48<00:00,  4.39it/s]\n",
      "100%|██████████| 425/425 [00:36<00:00, 11.72it/s]\n",
      "[2024-03-26 23:11:47,472]::2745825432::DEBUG::Epoch: 47 , 1-MAE: 0.9107 , 1-val_avg_o_loss:0.9126 , 1-val_avg_c_loss:0.9071 , 1-val_avg_e_loss:0.9126 , 1-val_avg_a_loss:0.9102 , 1-val_avg_n_loss:0.9110\n",
      "100%|██████████| 1269/1269 [04:48<00:00,  4.39it/s]\n",
      "100%|██████████| 425/425 [00:36<00:00, 11.75it/s]\n",
      "[2024-03-26 23:17:13,799]::2745825432::DEBUG::Epoch: 48 , 1-MAE: 0.9110 , 1-val_avg_o_loss:0.9133 , 1-val_avg_c_loss:0.9074 , 1-val_avg_e_loss:0.9129 , 1-val_avg_a_loss:0.9100 , 1-val_avg_n_loss:0.9116\n",
      "100%|██████████| 1269/1269 [04:48<00:00,  4.40it/s]\n",
      "100%|██████████| 425/425 [00:35<00:00, 11.81it/s]\n",
      "[2024-03-26 23:22:39,604]::2745825432::DEBUG::Epoch: 49 , 1-MAE: 0.9115 , 1-val_avg_o_loss:0.9156 , 1-val_avg_c_loss:0.9074 , 1-val_avg_e_loss:0.9128 , 1-val_avg_a_loss:0.9106 , 1-val_avg_n_loss:0.9112\n",
      "100%|██████████| 1269/1269 [04:48<00:00,  4.39it/s]\n",
      "100%|██████████| 425/425 [00:35<00:00, 11.87it/s]\n",
      "[2024-03-26 23:28:07,764]::2745825432::DEBUG::Epoch: 50 , 1-MAE: 0.9118 , 1-val_avg_o_loss:0.9151 , 1-val_avg_c_loss:0.9077 , 1-val_avg_e_loss:0.9136 , 1-val_avg_a_loss:0.9110 , 1-val_avg_n_loss:0.9115\n",
      "100%|██████████| 1269/1269 [04:48<00:00,  4.41it/s]\n",
      "100%|██████████| 425/425 [00:35<00:00, 11.88it/s]\n",
      "[2024-03-26 23:33:32,810]::2745825432::DEBUG::Epoch: 51 , 1-MAE: 0.9109 , 1-val_avg_o_loss:0.9154 , 1-val_avg_c_loss:0.9072 , 1-val_avg_e_loss:0.9124 , 1-val_avg_a_loss:0.9096 , 1-val_avg_n_loss:0.9100\n",
      "100%|██████████| 1269/1269 [04:48<00:00,  4.40it/s]\n",
      "100%|██████████| 425/425 [00:36<00:00, 11.72it/s]\n",
      "[2024-03-26 23:38:58,642]::2745825432::DEBUG::Epoch: 52 , 1-MAE: 0.9108 , 1-val_avg_o_loss:0.9140 , 1-val_avg_c_loss:0.9067 , 1-val_avg_e_loss:0.9128 , 1-val_avg_a_loss:0.9093 , 1-val_avg_n_loss:0.9113\n",
      "100%|██████████| 1269/1269 [04:48<00:00,  4.40it/s]\n",
      "100%|██████████| 425/425 [00:36<00:00, 11.75it/s]\n",
      "[2024-03-26 23:44:24,563]::2745825432::DEBUG::Epoch: 53 , 1-MAE: 0.9116 , 1-val_avg_o_loss:0.9157 , 1-val_avg_c_loss:0.9077 , 1-val_avg_e_loss:0.9128 , 1-val_avg_a_loss:0.9101 , 1-val_avg_n_loss:0.9115\n",
      "100%|██████████| 1269/1269 [04:48<00:00,  4.40it/s]\n",
      "100%|██████████| 425/425 [00:35<00:00, 11.87it/s]\n",
      "[2024-03-26 23:49:50,268]::2745825432::DEBUG::Epoch: 54 , 1-MAE: 0.9110 , 1-val_avg_o_loss:0.9156 , 1-val_avg_c_loss:0.9058 , 1-val_avg_e_loss:0.9138 , 1-val_avg_a_loss:0.9095 , 1-val_avg_n_loss:0.9103\n",
      "100%|██████████| 1269/1269 [04:48<00:00,  4.40it/s]\n",
      "100%|██████████| 425/425 [00:36<00:00, 11.73it/s]\n",
      "[2024-03-26 23:55:18,711]::2745825432::DEBUG::Epoch: 55 , 1-MAE: 0.9111 , 1-val_avg_o_loss:0.9151 , 1-val_avg_c_loss:0.9071 , 1-val_avg_e_loss:0.9126 , 1-val_avg_a_loss:0.9104 , 1-val_avg_n_loss:0.9103\n",
      "100%|██████████| 1269/1269 [04:48<00:00,  4.40it/s]\n",
      "100%|██████████| 425/425 [00:35<00:00, 11.88it/s]\n",
      "[2024-03-27 00:00:44,192]::2745825432::DEBUG::Epoch: 56 , 1-MAE: 0.9105 , 1-val_avg_o_loss:0.9146 , 1-val_avg_c_loss:0.9058 , 1-val_avg_e_loss:0.9122 , 1-val_avg_a_loss:0.9096 , 1-val_avg_n_loss:0.9103\n",
      "100%|██████████| 1269/1269 [04:48<00:00,  4.40it/s]\n",
      "100%|██████████| 425/425 [00:36<00:00, 11.73it/s]\n",
      "[2024-03-27 00:06:10,136]::2745825432::DEBUG::Epoch: 57 , 1-MAE: 0.9108 , 1-val_avg_o_loss:0.9142 , 1-val_avg_c_loss:0.9063 , 1-val_avg_e_loss:0.9131 , 1-val_avg_a_loss:0.9102 , 1-val_avg_n_loss:0.9101\n",
      "100%|██████████| 1269/1269 [04:48<00:00,  4.40it/s]\n",
      "100%|██████████| 425/425 [00:35<00:00, 11.95it/s]\n",
      "[2024-03-27 00:11:35,467]::2745825432::DEBUG::Epoch: 58 , 1-MAE: 0.9112 , 1-val_avg_o_loss:0.9151 , 1-val_avg_c_loss:0.9066 , 1-val_avg_e_loss:0.9139 , 1-val_avg_a_loss:0.9105 , 1-val_avg_n_loss:0.9099\n",
      "100%|██████████| 1269/1269 [04:48<00:00,  4.40it/s]\n",
      "100%|██████████| 425/425 [00:35<00:00, 11.87it/s]\n",
      "[2024-03-27 00:17:00,867]::2745825432::DEBUG::Epoch: 59 , 1-MAE: 0.9114 , 1-val_avg_o_loss:0.9142 , 1-val_avg_c_loss:0.9074 , 1-val_avg_e_loss:0.9132 , 1-val_avg_a_loss:0.9114 , 1-val_avg_n_loss:0.9110\n",
      "100%|██████████| 1269/1269 [04:48<00:00,  4.40it/s]\n",
      "100%|██████████| 425/425 [00:35<00:00, 11.94it/s]\n",
      "[2024-03-27 00:22:28,331]::2745825432::DEBUG::Epoch: 60 , 1-MAE: 0.9107 , 1-val_avg_o_loss:0.9149 , 1-val_avg_c_loss:0.9055 , 1-val_avg_e_loss:0.9133 , 1-val_avg_a_loss:0.9094 , 1-val_avg_n_loss:0.9106\n",
      "100%|██████████| 1269/1269 [04:48<00:00,  4.40it/s]\n",
      "100%|██████████| 425/425 [00:35<00:00, 11.87it/s]\n",
      "[2024-03-27 00:27:53,535]::2745825432::DEBUG::Epoch: 61 , 1-MAE: 0.9107 , 1-val_avg_o_loss:0.9132 , 1-val_avg_c_loss:0.9074 , 1-val_avg_e_loss:0.9127 , 1-val_avg_a_loss:0.9102 , 1-val_avg_n_loss:0.9101\n",
      "100%|██████████| 1269/1269 [04:48<00:00,  4.41it/s]\n",
      "100%|██████████| 425/425 [00:35<00:00, 11.90it/s]\n",
      "[2024-03-27 00:33:18,527]::2745825432::DEBUG::Epoch: 62 , 1-MAE: 0.9111 , 1-val_avg_o_loss:0.9151 , 1-val_avg_c_loss:0.9065 , 1-val_avg_e_loss:0.9129 , 1-val_avg_a_loss:0.9102 , 1-val_avg_n_loss:0.9111\n",
      "100%|██████████| 1269/1269 [04:48<00:00,  4.40it/s]\n",
      "100%|██████████| 425/425 [00:36<00:00, 11.72it/s]\n",
      "[2024-03-27 00:38:44,643]::2745825432::DEBUG::Epoch: 63 , 1-MAE: 0.9109 , 1-val_avg_o_loss:0.9144 , 1-val_avg_c_loss:0.9068 , 1-val_avg_e_loss:0.9129 , 1-val_avg_a_loss:0.9099 , 1-val_avg_n_loss:0.9107\n",
      "100%|██████████| 1269/1269 [04:48<00:00,  4.40it/s]\n",
      "100%|██████████| 425/425 [00:36<00:00, 11.77it/s]\n",
      "[2024-03-27 00:44:10,705]::2745825432::DEBUG::Epoch: 64 , 1-MAE: 0.9112 , 1-val_avg_o_loss:0.9156 , 1-val_avg_c_loss:0.9067 , 1-val_avg_e_loss:0.9131 , 1-val_avg_a_loss:0.9102 , 1-val_avg_n_loss:0.9104\n",
      "100%|██████████| 1269/1269 [04:48<00:00,  4.39it/s]\n",
      "100%|██████████| 425/425 [00:36<00:00, 11.70it/s]\n",
      "[2024-03-27 00:49:39,348]::2745825432::DEBUG::Epoch: 65 , 1-MAE: 0.9112 , 1-val_avg_o_loss:0.9144 , 1-val_avg_c_loss:0.9071 , 1-val_avg_e_loss:0.9138 , 1-val_avg_a_loss:0.9100 , 1-val_avg_n_loss:0.9107\n",
      "100%|██████████| 1269/1269 [04:48<00:00,  4.40it/s]\n",
      "100%|██████████| 425/425 [00:36<00:00, 11.62it/s]\n",
      "[2024-03-27 00:55:05,892]::2745825432::DEBUG::Epoch: 66 , 1-MAE: 0.9107 , 1-val_avg_o_loss:0.9146 , 1-val_avg_c_loss:0.9063 , 1-val_avg_e_loss:0.9130 , 1-val_avg_a_loss:0.9081 , 1-val_avg_n_loss:0.9113\n",
      "100%|██████████| 1269/1269 [04:48<00:00,  4.40it/s]\n",
      "100%|██████████| 425/425 [00:36<00:00, 11.74it/s]\n",
      "[2024-03-27 01:00:32,133]::2745825432::DEBUG::Epoch: 67 , 1-MAE: 0.9111 , 1-val_avg_o_loss:0.9144 , 1-val_avg_c_loss:0.9071 , 1-val_avg_e_loss:0.9135 , 1-val_avg_a_loss:0.9102 , 1-val_avg_n_loss:0.9101\n",
      "100%|██████████| 1269/1269 [04:48<00:00,  4.40it/s]\n",
      "100%|██████████| 425/425 [00:36<00:00, 11.69it/s]\n",
      "[2024-03-27 01:05:58,184]::2745825432::DEBUG::Epoch: 68 , 1-MAE: 0.9114 , 1-val_avg_o_loss:0.9145 , 1-val_avg_c_loss:0.9075 , 1-val_avg_e_loss:0.9135 , 1-val_avg_a_loss:0.9100 , 1-val_avg_n_loss:0.9114\n",
      "100%|██████████| 1269/1269 [04:48<00:00,  4.40it/s]\n",
      "100%|██████████| 425/425 [00:36<00:00, 11.54it/s]\n",
      "[2024-03-27 01:11:24,663]::2745825432::DEBUG::Epoch: 69 , 1-MAE: 0.9118 , 1-val_avg_o_loss:0.9152 , 1-val_avg_c_loss:0.9078 , 1-val_avg_e_loss:0.9133 , 1-val_avg_a_loss:0.9118 , 1-val_avg_n_loss:0.9108\n",
      "100%|██████████| 1269/1269 [04:48<00:00,  4.40it/s]\n",
      "100%|██████████| 425/425 [00:36<00:00, 11.74it/s]\n",
      "[2024-03-27 01:16:52,576]::2745825432::DEBUG::Epoch: 70 , 1-MAE: 0.9112 , 1-val_avg_o_loss:0.9142 , 1-val_avg_c_loss:0.9069 , 1-val_avg_e_loss:0.9132 , 1-val_avg_a_loss:0.9101 , 1-val_avg_n_loss:0.9113\n",
      "100%|██████████| 1269/1269 [04:48<00:00,  4.40it/s]\n",
      "100%|██████████| 425/425 [00:35<00:00, 11.89it/s]\n",
      "[2024-03-27 01:22:18,269]::2745825432::DEBUG::Epoch: 71 , 1-MAE: 0.9109 , 1-val_avg_o_loss:0.9144 , 1-val_avg_c_loss:0.9064 , 1-val_avg_e_loss:0.9131 , 1-val_avg_a_loss:0.9104 , 1-val_avg_n_loss:0.9100\n",
      "100%|██████████| 1269/1269 [04:48<00:00,  4.40it/s]\n",
      "100%|██████████| 425/425 [00:36<00:00, 11.77it/s]\n",
      "[2024-03-27 01:27:43,968]::2745825432::DEBUG::Epoch: 72 , 1-MAE: 0.9108 , 1-val_avg_o_loss:0.9138 , 1-val_avg_c_loss:0.9066 , 1-val_avg_e_loss:0.9133 , 1-val_avg_a_loss:0.9094 , 1-val_avg_n_loss:0.9107\n",
      "100%|██████████| 1269/1269 [04:47<00:00,  4.41it/s]\n",
      "100%|██████████| 425/425 [00:35<00:00, 11.87it/s]\n",
      "[2024-03-27 01:33:08,882]::2745825432::DEBUG::Epoch: 73 , 1-MAE: 0.9113 , 1-val_avg_o_loss:0.9149 , 1-val_avg_c_loss:0.9074 , 1-val_avg_e_loss:0.9130 , 1-val_avg_a_loss:0.9100 , 1-val_avg_n_loss:0.9111\n",
      "100%|██████████| 1269/1269 [04:47<00:00,  4.41it/s]\n",
      "100%|██████████| 425/425 [00:36<00:00, 11.77it/s]\n",
      "[2024-03-27 01:38:34,018]::2745825432::DEBUG::Epoch: 74 , 1-MAE: 0.9111 , 1-val_avg_o_loss:0.9156 , 1-val_avg_c_loss:0.9062 , 1-val_avg_e_loss:0.9121 , 1-val_avg_a_loss:0.9111 , 1-val_avg_n_loss:0.9107\n",
      "100%|██████████| 1269/1269 [04:48<00:00,  4.40it/s]\n",
      "100%|██████████| 425/425 [00:36<00:00, 11.71it/s]\n",
      "[2024-03-27 01:44:02,209]::2745825432::DEBUG::Epoch: 75 , 1-MAE: 0.9112 , 1-val_avg_o_loss:0.9147 , 1-val_avg_c_loss:0.9071 , 1-val_avg_e_loss:0.9135 , 1-val_avg_a_loss:0.9102 , 1-val_avg_n_loss:0.9106\n",
      "100%|██████████| 1269/1269 [04:48<00:00,  4.40it/s]\n",
      "100%|██████████| 425/425 [00:35<00:00, 11.92it/s]\n",
      "[2024-03-27 01:49:27,405]::2745825432::DEBUG::Epoch: 76 , 1-MAE: 0.9116 , 1-val_avg_o_loss:0.9149 , 1-val_avg_c_loss:0.9079 , 1-val_avg_e_loss:0.9132 , 1-val_avg_a_loss:0.9114 , 1-val_avg_n_loss:0.9108\n",
      "100%|██████████| 1269/1269 [04:48<00:00,  4.40it/s]\n",
      "100%|██████████| 425/425 [00:36<00:00, 11.71it/s]\n",
      "[2024-03-27 01:54:53,139]::2745825432::DEBUG::Epoch: 77 , 1-MAE: 0.9110 , 1-val_avg_o_loss:0.9148 , 1-val_avg_c_loss:0.9067 , 1-val_avg_e_loss:0.9131 , 1-val_avg_a_loss:0.9099 , 1-val_avg_n_loss:0.9103\n",
      "100%|██████████| 1269/1269 [04:48<00:00,  4.40it/s]\n",
      "100%|██████████| 425/425 [00:35<00:00, 11.90it/s]\n",
      "[2024-03-27 02:00:18,501]::2745825432::DEBUG::Epoch: 78 , 1-MAE: 0.9109 , 1-val_avg_o_loss:0.9138 , 1-val_avg_c_loss:0.9078 , 1-val_avg_e_loss:0.9140 , 1-val_avg_a_loss:0.9101 , 1-val_avg_n_loss:0.9090\n",
      "100%|██████████| 1269/1269 [04:47<00:00,  4.41it/s]\n",
      "100%|██████████| 425/425 [00:35<00:00, 11.91it/s]\n",
      "[2024-03-27 02:05:43,295]::2745825432::DEBUG::Epoch: 79 , 1-MAE: 0.9114 , 1-val_avg_o_loss:0.9151 , 1-val_avg_c_loss:0.9076 , 1-val_avg_e_loss:0.9133 , 1-val_avg_a_loss:0.9107 , 1-val_avg_n_loss:0.9104\n",
      "100%|██████████| 1269/1269 [04:48<00:00,  4.40it/s]\n",
      "100%|██████████| 425/425 [00:36<00:00, 11.66it/s]\n",
      "[2024-03-27 02:11:11,547]::2745825432::DEBUG::Epoch: 80 , 1-MAE: 0.9116 , 1-val_avg_o_loss:0.9156 , 1-val_avg_c_loss:0.9072 , 1-val_avg_e_loss:0.9134 , 1-val_avg_a_loss:0.9108 , 1-val_avg_n_loss:0.9111\n",
      "100%|██████████| 1269/1269 [04:48<00:00,  4.40it/s]\n",
      "100%|██████████| 425/425 [00:36<00:00, 11.75it/s]\n",
      "[2024-03-27 02:16:37,088]::2745825432::DEBUG::Epoch: 81 , 1-MAE: 0.9115 , 1-val_avg_o_loss:0.9152 , 1-val_avg_c_loss:0.9077 , 1-val_avg_e_loss:0.9134 , 1-val_avg_a_loss:0.9109 , 1-val_avg_n_loss:0.9105\n",
      "100%|██████████| 1269/1269 [04:48<00:00,  4.40it/s]\n",
      "100%|██████████| 425/425 [00:36<00:00, 11.75it/s]\n",
      "[2024-03-27 02:22:03,052]::2745825432::DEBUG::Epoch: 82 , 1-MAE: 0.9112 , 1-val_avg_o_loss:0.9140 , 1-val_avg_c_loss:0.9074 , 1-val_avg_e_loss:0.9133 , 1-val_avg_a_loss:0.9103 , 1-val_avg_n_loss:0.9112\n",
      "100%|██████████| 1269/1269 [04:48<00:00,  4.39it/s]\n",
      "100%|██████████| 425/425 [00:36<00:00, 11.70it/s]\n",
      "[2024-03-27 02:27:29,634]::2745825432::DEBUG::Epoch: 83 , 1-MAE: 0.9115 , 1-val_avg_o_loss:0.9148 , 1-val_avg_c_loss:0.9076 , 1-val_avg_e_loss:0.9135 , 1-val_avg_a_loss:0.9105 , 1-val_avg_n_loss:0.9111\n",
      "100%|██████████| 1269/1269 [04:48<00:00,  4.39it/s]\n",
      "100%|██████████| 425/425 [00:36<00:00, 11.80it/s]\n",
      "[2024-03-27 02:32:55,687]::2745825432::DEBUG::Epoch: 84 , 1-MAE: 0.9110 , 1-val_avg_o_loss:0.9148 , 1-val_avg_c_loss:0.9063 , 1-val_avg_e_loss:0.9130 , 1-val_avg_a_loss:0.9107 , 1-val_avg_n_loss:0.9100\n",
      "100%|██████████| 1269/1269 [04:48<00:00,  4.40it/s]\n",
      "100%|██████████| 425/425 [00:36<00:00, 11.71it/s]\n",
      "[2024-03-27 02:38:24,025]::2745825432::DEBUG::Epoch: 85 , 1-MAE: 0.9107 , 1-val_avg_o_loss:0.9136 , 1-val_avg_c_loss:0.9065 , 1-val_avg_e_loss:0.9128 , 1-val_avg_a_loss:0.9111 , 1-val_avg_n_loss:0.9095\n",
      "100%|██████████| 1269/1269 [04:48<00:00,  4.39it/s]\n",
      "100%|██████████| 425/425 [00:36<00:00, 11.74it/s]\n",
      "[2024-03-27 02:43:50,281]::2745825432::DEBUG::Epoch: 86 , 1-MAE: 0.9112 , 1-val_avg_o_loss:0.9154 , 1-val_avg_c_loss:0.9072 , 1-val_avg_e_loss:0.9125 , 1-val_avg_a_loss:0.9105 , 1-val_avg_n_loss:0.9106\n",
      "100%|██████████| 1269/1269 [04:48<00:00,  4.40it/s]\n",
      "100%|██████████| 425/425 [00:36<00:00, 11.69it/s]\n",
      "[2024-03-27 02:49:16,286]::2745825432::DEBUG::Epoch: 87 , 1-MAE: 0.9107 , 1-val_avg_o_loss:0.9140 , 1-val_avg_c_loss:0.9059 , 1-val_avg_e_loss:0.9136 , 1-val_avg_a_loss:0.9096 , 1-val_avg_n_loss:0.9105\n",
      "100%|██████████| 1269/1269 [04:48<00:00,  4.39it/s]\n",
      "100%|██████████| 425/425 [00:36<00:00, 11.77it/s]\n",
      "[2024-03-27 02:54:42,535]::2745825432::DEBUG::Epoch: 88 , 1-MAE: 0.9117 , 1-val_avg_o_loss:0.9160 , 1-val_avg_c_loss:0.9075 , 1-val_avg_e_loss:0.9126 , 1-val_avg_a_loss:0.9109 , 1-val_avg_n_loss:0.9114\n",
      "100%|██████████| 1269/1269 [04:48<00:00,  4.40it/s]\n",
      "100%|██████████| 425/425 [00:35<00:00, 11.87it/s]\n",
      "[2024-03-27 03:00:07,876]::2745825432::DEBUG::Epoch: 89 , 1-MAE: 0.9112 , 1-val_avg_o_loss:0.9142 , 1-val_avg_c_loss:0.9081 , 1-val_avg_e_loss:0.9130 , 1-val_avg_a_loss:0.9101 , 1-val_avg_n_loss:0.9105\n",
      "100%|██████████| 1269/1269 [04:48<00:00,  4.41it/s]\n",
      "100%|██████████| 425/425 [00:36<00:00, 11.79it/s]\n",
      "[2024-03-27 03:05:35,498]::2745825432::DEBUG::Epoch: 90 , 1-MAE: 0.9111 , 1-val_avg_o_loss:0.9148 , 1-val_avg_c_loss:0.9071 , 1-val_avg_e_loss:0.9128 , 1-val_avg_a_loss:0.9102 , 1-val_avg_n_loss:0.9108\n",
      "100%|██████████| 1269/1269 [04:48<00:00,  4.39it/s]\n",
      "100%|██████████| 425/425 [00:36<00:00, 11.72it/s]\n",
      "[2024-03-27 03:11:01,990]::2745825432::DEBUG::Epoch: 91 , 1-MAE: 0.9107 , 1-val_avg_o_loss:0.9154 , 1-val_avg_c_loss:0.9065 , 1-val_avg_e_loss:0.9125 , 1-val_avg_a_loss:0.9101 , 1-val_avg_n_loss:0.9089\n",
      "100%|██████████| 1269/1269 [04:48<00:00,  4.40it/s]\n",
      "100%|██████████| 425/425 [00:36<00:00, 11.74it/s]\n",
      "[2024-03-27 03:16:27,739]::2745825432::DEBUG::Epoch: 92 , 1-MAE: 0.9110 , 1-val_avg_o_loss:0.9140 , 1-val_avg_c_loss:0.9073 , 1-val_avg_e_loss:0.9132 , 1-val_avg_a_loss:0.9099 , 1-val_avg_n_loss:0.9106\n",
      "100%|██████████| 1269/1269 [04:48<00:00,  4.40it/s]\n",
      "100%|██████████| 425/425 [00:36<00:00, 11.74it/s]\n",
      "[2024-03-27 03:21:53,772]::2745825432::DEBUG::Epoch: 93 , 1-MAE: 0.9109 , 1-val_avg_o_loss:0.9155 , 1-val_avg_c_loss:0.9062 , 1-val_avg_e_loss:0.9135 , 1-val_avg_a_loss:0.9098 , 1-val_avg_n_loss:0.9094\n",
      "100%|██████████| 1269/1269 [04:48<00:00,  4.39it/s]\n",
      "100%|██████████| 425/425 [00:36<00:00, 11.68it/s]\n",
      "[2024-03-27 03:27:20,377]::2745825432::DEBUG::Epoch: 94 , 1-MAE: 0.9110 , 1-val_avg_o_loss:0.9146 , 1-val_avg_c_loss:0.9070 , 1-val_avg_e_loss:0.9128 , 1-val_avg_a_loss:0.9098 , 1-val_avg_n_loss:0.9110\n",
      "100%|██████████| 1269/1269 [04:49<00:00,  4.39it/s]\n",
      "100%|██████████| 425/425 [00:36<00:00, 11.64it/s]\n",
      "[2024-03-27 03:32:49,612]::2745825432::DEBUG::Epoch: 95 , 1-MAE: 0.9113 , 1-val_avg_o_loss:0.9154 , 1-val_avg_c_loss:0.9079 , 1-val_avg_e_loss:0.9127 , 1-val_avg_a_loss:0.9098 , 1-val_avg_n_loss:0.9106\n",
      "100%|██████████| 1269/1269 [04:48<00:00,  4.39it/s]\n",
      "100%|██████████| 425/425 [00:36<00:00, 11.51it/s]\n",
      "[2024-03-27 03:38:16,669]::2745825432::DEBUG::Epoch: 96 , 1-MAE: 0.9107 , 1-val_avg_o_loss:0.9142 , 1-val_avg_c_loss:0.9065 , 1-val_avg_e_loss:0.9129 , 1-val_avg_a_loss:0.9099 , 1-val_avg_n_loss:0.9100\n",
      "100%|██████████| 1269/1269 [04:48<00:00,  4.40it/s]\n",
      "100%|██████████| 425/425 [00:36<00:00, 11.75it/s]\n",
      "[2024-03-27 03:43:42,635]::2745825432::DEBUG::Epoch: 97 , 1-MAE: 0.9113 , 1-val_avg_o_loss:0.9147 , 1-val_avg_c_loss:0.9079 , 1-val_avg_e_loss:0.9131 , 1-val_avg_a_loss:0.9100 , 1-val_avg_n_loss:0.9108\n",
      "100%|██████████| 1269/1269 [04:48<00:00,  4.40it/s]\n",
      "100%|██████████| 425/425 [00:36<00:00, 11.63it/s]\n",
      "[2024-03-27 03:49:08,909]::2745825432::DEBUG::Epoch: 98 , 1-MAE: 0.9115 , 1-val_avg_o_loss:0.9148 , 1-val_avg_c_loss:0.9078 , 1-val_avg_e_loss:0.9134 , 1-val_avg_a_loss:0.9114 , 1-val_avg_n_loss:0.9101\n",
      "100%|██████████| 1269/1269 [04:48<00:00,  4.40it/s]\n",
      "100%|██████████| 425/425 [00:36<00:00, 11.76it/s]\n",
      "[2024-03-27 03:54:34,565]::2745825432::DEBUG::Epoch: 99 , 1-MAE: 0.9115 , 1-val_avg_o_loss:0.9154 , 1-val_avg_c_loss:0.9080 , 1-val_avg_e_loss:0.9131 , 1-val_avg_a_loss:0.9102 , 1-val_avg_n_loss:0.9107\n",
      "100%|██████████| 1269/1269 [04:48<00:00,  4.40it/s]\n",
      "100%|██████████| 425/425 [00:35<00:00, 11.85it/s]\n",
      "[2024-03-27 04:00:02,379]::2745825432::DEBUG::Epoch: 100 , 1-MAE: 0.9107 , 1-val_avg_o_loss:0.9141 , 1-val_avg_c_loss:0.9066 , 1-val_avg_e_loss:0.9128 , 1-val_avg_a_loss:0.9095 , 1-val_avg_n_loss:0.9103\n",
      "100%|██████████| 1269/1269 [04:48<00:00,  4.40it/s]\n",
      "100%|██████████| 425/425 [00:35<00:00, 11.86it/s]\n",
      "[2024-03-27 04:05:28,159]::2745825432::DEBUG::Epoch: 101 , 1-MAE: 0.9114 , 1-val_avg_o_loss:0.9149 , 1-val_avg_c_loss:0.9068 , 1-val_avg_e_loss:0.9131 , 1-val_avg_a_loss:0.9114 , 1-val_avg_n_loss:0.9107\n",
      "100%|██████████| 1269/1269 [04:48<00:00,  4.40it/s]\n",
      "100%|██████████| 425/425 [00:36<00:00, 11.73it/s]\n",
      "[2024-03-27 04:10:54,261]::2745825432::DEBUG::Epoch: 102 , 1-MAE: 0.9110 , 1-val_avg_o_loss:0.9151 , 1-val_avg_c_loss:0.9070 , 1-val_avg_e_loss:0.9132 , 1-val_avg_a_loss:0.9101 , 1-val_avg_n_loss:0.9095\n",
      "100%|██████████| 1269/1269 [04:48<00:00,  4.39it/s]\n",
      "100%|██████████| 425/425 [00:36<00:00, 11.71it/s]\n",
      "[2024-03-27 04:16:20,647]::2745825432::DEBUG::Epoch: 103 , 1-MAE: 0.9108 , 1-val_avg_o_loss:0.9144 , 1-val_avg_c_loss:0.9065 , 1-val_avg_e_loss:0.9128 , 1-val_avg_a_loss:0.9098 , 1-val_avg_n_loss:0.9107\n",
      "100%|██████████| 1269/1269 [04:48<00:00,  4.40it/s]\n",
      "100%|██████████| 425/425 [00:36<00:00, 11.75it/s]\n",
      "[2024-03-27 04:21:46,679]::2745825432::DEBUG::Epoch: 104 , 1-MAE: 0.9112 , 1-val_avg_o_loss:0.9154 , 1-val_avg_c_loss:0.9067 , 1-val_avg_e_loss:0.9133 , 1-val_avg_a_loss:0.9101 , 1-val_avg_n_loss:0.9104\n",
      "100%|██████████| 1269/1269 [04:48<00:00,  4.40it/s]\n",
      "100%|██████████| 425/425 [00:36<00:00, 11.77it/s]\n",
      "[2024-03-27 04:27:15,078]::2745825432::DEBUG::Epoch: 105 , 1-MAE: 0.9116 , 1-val_avg_o_loss:0.9152 , 1-val_avg_c_loss:0.9073 , 1-val_avg_e_loss:0.9137 , 1-val_avg_a_loss:0.9107 , 1-val_avg_n_loss:0.9110\n",
      "100%|██████████| 1269/1269 [04:48<00:00,  4.40it/s]\n",
      "100%|██████████| 425/425 [00:35<00:00, 11.81it/s]\n",
      "[2024-03-27 04:32:40,880]::2745825432::DEBUG::Epoch: 106 , 1-MAE: 0.9108 , 1-val_avg_o_loss:0.9149 , 1-val_avg_c_loss:0.9075 , 1-val_avg_e_loss:0.9118 , 1-val_avg_a_loss:0.9097 , 1-val_avg_n_loss:0.9102\n",
      "100%|██████████| 1269/1269 [04:48<00:00,  4.40it/s]\n",
      "100%|██████████| 425/425 [00:36<00:00, 11.73it/s]\n",
      "[2024-03-27 04:38:06,403]::2745825432::DEBUG::Epoch: 107 , 1-MAE: 0.9106 , 1-val_avg_o_loss:0.9146 , 1-val_avg_c_loss:0.9071 , 1-val_avg_e_loss:0.9130 , 1-val_avg_a_loss:0.9086 , 1-val_avg_n_loss:0.9098\n",
      "100%|██████████| 1269/1269 [04:48<00:00,  4.39it/s]\n",
      "100%|██████████| 425/425 [00:36<00:00, 11.69it/s]\n",
      "[2024-03-27 04:43:32,775]::2745825432::DEBUG::Epoch: 108 , 1-MAE: 0.9115 , 1-val_avg_o_loss:0.9151 , 1-val_avg_c_loss:0.9078 , 1-val_avg_e_loss:0.9131 , 1-val_avg_a_loss:0.9106 , 1-val_avg_n_loss:0.9110\n",
      "100%|██████████| 1269/1269 [04:48<00:00,  4.40it/s]\n",
      "100%|██████████| 425/425 [00:36<00:00, 11.75it/s]\n",
      "[2024-03-27 04:48:58,825]::2745825432::DEBUG::Epoch: 109 , 1-MAE: 0.9110 , 1-val_avg_o_loss:0.9146 , 1-val_avg_c_loss:0.9071 , 1-val_avg_e_loss:0.9131 , 1-val_avg_a_loss:0.9099 , 1-val_avg_n_loss:0.9105\n",
      "100%|██████████| 1269/1269 [04:48<00:00,  4.40it/s]\n",
      "100%|██████████| 425/425 [00:36<00:00, 11.63it/s]\n",
      "[2024-03-27 04:54:27,420]::2745825432::DEBUG::Epoch: 110 , 1-MAE: 0.9112 , 1-val_avg_o_loss:0.9145 , 1-val_avg_c_loss:0.9073 , 1-val_avg_e_loss:0.9129 , 1-val_avg_a_loss:0.9103 , 1-val_avg_n_loss:0.9108\n",
      "100%|██████████| 1269/1269 [04:48<00:00,  4.40it/s]\n",
      "100%|██████████| 425/425 [00:35<00:00, 11.83it/s]\n",
      "[2024-03-27 04:59:53,351]::2745825432::DEBUG::Epoch: 111 , 1-MAE: 0.9117 , 1-val_avg_o_loss:0.9153 , 1-val_avg_c_loss:0.9080 , 1-val_avg_e_loss:0.9139 , 1-val_avg_a_loss:0.9104 , 1-val_avg_n_loss:0.9109\n",
      "100%|██████████| 1269/1269 [04:48<00:00,  4.39it/s]\n",
      "100%|██████████| 425/425 [00:36<00:00, 11.72it/s]\n",
      "[2024-03-27 05:05:19,764]::2745825432::DEBUG::Epoch: 112 , 1-MAE: 0.9113 , 1-val_avg_o_loss:0.9147 , 1-val_avg_c_loss:0.9076 , 1-val_avg_e_loss:0.9131 , 1-val_avg_a_loss:0.9106 , 1-val_avg_n_loss:0.9105\n",
      "100%|██████████| 1269/1269 [04:48<00:00,  4.40it/s]\n",
      "100%|██████████| 425/425 [00:36<00:00, 11.75it/s]\n",
      "[2024-03-27 05:10:45,779]::2745825432::DEBUG::Epoch: 113 , 1-MAE: 0.9114 , 1-val_avg_o_loss:0.9150 , 1-val_avg_c_loss:0.9076 , 1-val_avg_e_loss:0.9134 , 1-val_avg_a_loss:0.9100 , 1-val_avg_n_loss:0.9110\n",
      "100%|██████████| 1269/1269 [04:48<00:00,  4.40it/s]\n",
      "100%|██████████| 425/425 [00:35<00:00, 11.89it/s]\n",
      "[2024-03-27 05:16:11,292]::2745825432::DEBUG::Epoch: 114 , 1-MAE: 0.9112 , 1-val_avg_o_loss:0.9148 , 1-val_avg_c_loss:0.9079 , 1-val_avg_e_loss:0.9130 , 1-val_avg_a_loss:0.9105 , 1-val_avg_n_loss:0.9099\n",
      "100%|██████████| 1269/1269 [04:48<00:00,  4.40it/s]\n",
      "100%|██████████| 425/425 [00:36<00:00, 11.73it/s]\n",
      "[2024-03-27 05:21:39,784]::2745825432::DEBUG::Epoch: 115 , 1-MAE: 0.9113 , 1-val_avg_o_loss:0.9147 , 1-val_avg_c_loss:0.9071 , 1-val_avg_e_loss:0.9136 , 1-val_avg_a_loss:0.9106 , 1-val_avg_n_loss:0.9105\n",
      "100%|██████████| 1269/1269 [04:48<00:00,  4.40it/s]\n",
      "100%|██████████| 425/425 [00:35<00:00, 12.01it/s]\n",
      "[2024-03-27 05:27:04,610]::2745825432::DEBUG::Epoch: 116 , 1-MAE: 0.9110 , 1-val_avg_o_loss:0.9142 , 1-val_avg_c_loss:0.9072 , 1-val_avg_e_loss:0.9126 , 1-val_avg_a_loss:0.9098 , 1-val_avg_n_loss:0.9111\n",
      "100%|██████████| 1269/1269 [04:47<00:00,  4.41it/s]\n",
      "100%|██████████| 425/425 [00:35<00:00, 11.89it/s]\n",
      "[2024-03-27 05:32:29,433]::2745825432::DEBUG::Epoch: 117 , 1-MAE: 0.9109 , 1-val_avg_o_loss:0.9150 , 1-val_avg_c_loss:0.9068 , 1-val_avg_e_loss:0.9132 , 1-val_avg_a_loss:0.9095 , 1-val_avg_n_loss:0.9101\n",
      "100%|██████████| 1269/1269 [04:47<00:00,  4.41it/s]\n",
      "100%|██████████| 425/425 [00:35<00:00, 11.92it/s]\n",
      "[2024-03-27 05:37:53,974]::2745825432::DEBUG::Epoch: 118 , 1-MAE: 0.9105 , 1-val_avg_o_loss:0.9137 , 1-val_avg_c_loss:0.9057 , 1-val_avg_e_loss:0.9123 , 1-val_avg_a_loss:0.9100 , 1-val_avg_n_loss:0.9106\n",
      "100%|██████████| 1269/1269 [04:47<00:00,  4.41it/s]\n",
      "100%|██████████| 425/425 [00:35<00:00, 11.81it/s]\n",
      "[2024-03-27 05:43:19,163]::2745825432::DEBUG::Epoch: 119 , 1-MAE: 0.9109 , 1-val_avg_o_loss:0.9141 , 1-val_avg_c_loss:0.9071 , 1-val_avg_e_loss:0.9125 , 1-val_avg_a_loss:0.9106 , 1-val_avg_n_loss:0.9103\n",
      "100%|██████████| 1269/1269 [04:48<00:00,  4.40it/s]\n",
      "100%|██████████| 425/425 [00:35<00:00, 11.90it/s]\n",
      "[2024-03-27 05:48:47,059]::2745825432::DEBUG::Epoch: 120 , 1-MAE: 0.9109 , 1-val_avg_o_loss:0.9147 , 1-val_avg_c_loss:0.9073 , 1-val_avg_e_loss:0.9130 , 1-val_avg_a_loss:0.9094 , 1-val_avg_n_loss:0.9103\n"
     ]
    }
   ],
   "source": [
    "with torch.cuda.device(1):\n",
    "    for i in range(start_epoch, epochs):\n",
    "        train_avg_loss = 0\n",
    "        val_avg_loss = 0\n",
    "        train_avg_o_loss = 0\n",
    "        train_avg_c_loss = 0\n",
    "        train_avg_e_loss = 0\n",
    "        train_avg_a_loss = 0\n",
    "        train_avg_n_loss = 0\n",
    "        val_avg_o_loss = 0\n",
    "        val_avg_c_loss = 0\n",
    "        val_avg_e_loss = 0\n",
    "        val_avg_a_loss = 0\n",
    "        val_avg_n_loss = 0\n",
    "        for audiodata,facedata,big_five_data in tqdm(train_dataloader):\n",
    "            big_five_data=big_five_data.permute(0,2,1)\n",
    "            big_five_data=big_five_data.squeeze()\n",
    "            audiodata = audiodata.to(device)\n",
    "            facedata = facedata.to(device)\n",
    "            big_five_data = big_five_data.to(device)\n",
    "            optimizer.zero_grad()  # 기울기가 0이 됩니다.\n",
    "            hypothesis = model(facedata,audiodata)  # 모델의 예측 결과를 저장합니다.\n",
    "            loss = criterion(hypothesis, big_five_data)  # 예측된 결과와 실제 태그 사이의 손실 값을 저장합니다.\n",
    "            loss.backward()  # 역방향 전파입니다. \n",
    "            optimizer.step()  \n",
    "            train_avg_loss += loss  \n",
    "        train_avg_loss=train_avg_loss/len(train_dataloader)\n",
    "        with torch.no_grad():#validate\n",
    "            for audiodata,facedata,big_five_data in tqdm(val_dataloader):\n",
    "                big_five_data=big_five_data.permute(0,2,1)\n",
    "                big_five_data=big_five_data.squeeze()\n",
    "                audiodata = audiodata.to(device)\n",
    "                facedata = facedata.to(device)\n",
    "                big_five_data = big_five_data.to(device)\n",
    "                hypothesis = model(facedata,audiodata)\n",
    "                val_loss = criterion(hypothesis, big_five_data)\n",
    "                hypothesiso,hypothesisc,hypothesise,hypothesisa,hypothesisn=extract_ocean(hypothesis,batchsz)\n",
    "                big_five_datao,big_five_datac,big_five_datae,big_five_dataa,big_five_datan=extract_ocean(big_five_data,batchsz)\n",
    "                val_o_loss = criterion(hypothesiso, big_five_datao) \n",
    "                val_c_loss = criterion(hypothesisc, big_five_datac) \n",
    "                val_e_loss = criterion(hypothesise, big_five_datae) \n",
    "                val_a_loss = criterion(hypothesisa, big_five_dataa) \n",
    "                val_n_loss = criterion(hypothesisn, big_five_datan)  \n",
    "                val_avg_loss += val_loss\n",
    "                val_avg_o_loss += val_o_loss\n",
    "                val_avg_c_loss += val_c_loss\n",
    "                val_avg_e_loss += val_e_loss\n",
    "                val_avg_a_loss += val_a_loss\n",
    "                val_avg_n_loss += val_n_loss\n",
    "            val_avg_loss=val_avg_loss/len(val_dataloader)\n",
    "            val_avg_o_loss=val_avg_o_loss/len(val_dataloader)\n",
    "            val_avg_c_loss=val_avg_c_loss/len(val_dataloader)\n",
    "            val_avg_e_loss=val_avg_e_loss/len(val_dataloader)\n",
    "            val_avg_a_loss=val_avg_a_loss/len(val_dataloader)\n",
    "            val_avg_n_loss=val_avg_n_loss/len(val_dataloader)\n",
    "        torch.cuda.empty_cache()\n",
    "        # if (1-val_avg_loss)>=(1-max_value):\n",
    "        max_value=val_avg_loss\n",
    "        start_epoch+=1\n",
    "        if (i + 1) % 5 == 0:\n",
    "            torch.save({\n",
    "                    'epoch': i+1,\n",
    "                    'model': model.state_dict(),\n",
    "                    'optimizer': optimizer.state_dict(),\n",
    "                    'loss': val_avg_loss,\n",
    "                }, save_model_file_path.format('model',start_epoch,'pth'))\n",
    "        logger.debug('Epoch: {} , 1-MAE: {:.4f} , 1-val_avg_o_loss:{:.4f} , 1-val_avg_c_loss:{:.4f} , 1-val_avg_e_loss:{:.4f} , 1-val_avg_a_loss:{:.4f} , 1-val_avg_n_loss:{:.4f}'.format(i+1, 1-val_avg_loss, 1-val_avg_o_loss, 1-val_avg_c_loss, 1-val_avg_e_loss, 1-val_avg_a_loss,1-val_avg_n_loss))\n",
    "    "
   ]
  },
  {
   "cell_type": "code",
   "execution_count": 21,
   "metadata": {},
   "outputs": [],
   "source": [
    "# from torchinfo import summary\n",
    "\n",
    "# summary(model, input_size = (4,15,4,3,224,224))"
   ]
  },
  {
   "cell_type": "code",
   "execution_count": null,
   "metadata": {},
   "outputs": [],
   "source": []
  }
 ],
 "metadata": {
  "kernelspec": {
   "display_name": "Python 3",
   "language": "python",
   "name": "python3"
  },
  "language_info": {
   "codemirror_mode": {
    "name": "ipython",
    "version": 3
   },
   "file_extension": ".py",
   "mimetype": "text/x-python",
   "name": "python",
   "nbconvert_exporter": "python",
   "pygments_lexer": "ipython3",
   "version": "3.10.11"
  }
 },
 "nbformat": 4,
 "nbformat_minor": 4
}
