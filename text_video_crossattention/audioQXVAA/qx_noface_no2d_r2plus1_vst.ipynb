{
 "cells": [
  {
   "cell_type": "code",
   "execution_count": null,
   "metadata": {},
   "outputs": [],
   "source": []
  },
  {
   "cell_type": "code",
   "execution_count": 1,
   "metadata": {},
   "outputs": [
    {
     "name": "stderr",
     "output_type": "stream",
     "text": [
      "/home/ssrlab/.local/lib/python3.10/site-packages/lazy_loader/__init__.py:202: RuntimeWarning: subpackages can technically be lazily loaded, but it causes the package to be eagerly loaded even if it is already lazily loaded.So, you probably shouldn't use subpackages with this lazy feature.\n",
      "  warnings.warn(msg, RuntimeWarning)\n",
      "/home/ssrlab/.local/lib/python3.10/site-packages/lazy_loader/__init__.py:202: RuntimeWarning: subpackages can technically be lazily loaded, but it causes the package to be eagerly loaded even if it is already lazily loaded.So, you probably shouldn't use subpackages with this lazy feature.\n",
      "  warnings.warn(msg, RuntimeWarning)\n",
      "/home/ssrlab/anaconda3/envs/qx/lib/python3.10/site-packages/transformers/utils/generic.py:441: UserWarning: torch.utils._pytree._register_pytree_node is deprecated. Please use torch.utils._pytree.register_pytree_node instead.\n",
      "  _torch_pytree._register_pytree_node(\n"
     ]
    }
   ],
   "source": [
    "import librosa\n",
    "import librosa.display\n",
    "import numpy as np\n",
    "import pandas as pd\n",
    "import os\n",
    "from typing import List, Tuple, Dict\n",
    "import matplotlib.pyplot as plt\n",
    "import random\n",
    "import cv2\n",
    "# from vgg16 import VGG16_LSTM\n",
    "import pickle\n",
    "import torch.nn as nn\n",
    "import torch\n",
    "import datetime\n",
    "import torch.nn.functional as F\n",
    "import torchvision.models as models\n",
    "from torchvision import transforms, utils, models\n",
    "from torch.utils.data import Dataset, DataLoader\n",
    "from facenet_pytorch import MTCNN\n",
    "import logging\n",
    "import torch\n",
    "import torch.nn as nn\n",
    "from qx_noface_no2d_video_swin_transformer01 import SwinTransformer3D\n",
    "import gc\n",
    "from einops import rearrange\n",
    "from tqdm import tqdm\n",
    "# from kw_r2plus1d_video_swin_transformer import SwinTransformer3D\n",
    "batchsz = 4\n",
    "frame_nums=15\n",
    "start_epoch = 0\n",
    "test_flage=False\n",
    "model_name =\"fullshot and ast\"\n",
    "logger = logging.getLogger(__name__)\n",
    "logger.setLevel(logging.DEBUG)\n",
    "formatter = logging.Formatter('[%(asctime)s]::%(module)s::%(levelname)s::%(message)s')\n",
    "streamHandler = logging.StreamHandler()\n",
    "streamHandler.setFormatter(formatter)\n",
    "fileHandler = logging.FileHandler('./LOG/personalityLog.log')\n",
    "fileHandler.setFormatter(formatter)\n",
    "logger.addHandler(streamHandler)\n",
    "logger.addHandler(fileHandler)\n",
    "USE_CUDA = torch.cuda.is_available()\n",
    "# device = torch.device('cuda:1' if USE_CUDA else 'cpu')"
   ]
  },
  {
   "cell_type": "code",
   "execution_count": 2,
   "metadata": {},
   "outputs": [
    {
     "name": "stderr",
     "output_type": "stream",
     "text": [
      "[2024-04-12 17:40:45,861]::387438924::DEBUG::=============fullshot and ast+Video swin transformerTrain Strat!=============\n"
     ]
    },
    {
     "name": "stdout",
     "output_type": "stream",
     "text": [
      "True\n",
      "학습을 진행하는 기기: cuda:1\n"
     ]
    }
   ],
   "source": [
    "logger.debug('============={}+Video swin transformerTrain Strat!============='.format(model_name))\n",
    "USE_CUDA = torch.cuda.is_available()\n",
    "print(USE_CUDA)\n",
    "\n",
    "device = torch.device('cuda:1' if USE_CUDA else 'cpu')\n",
    "print('학습을 진행하는 기기:', device)"
   ]
  },
  {
   "cell_type": "code",
   "execution_count": 3,
   "metadata": {},
   "outputs": [
    {
     "name": "stdout",
     "output_type": "stream",
     "text": [
      "1\n"
     ]
    }
   ],
   "source": [
    "def select_frame_data(datas,frame_num):\n",
    "    data_set=[]\n",
    "    begin_num=0\n",
    "    x=128/frame_num\n",
    "    indexes=[None] * frame_num\n",
    "    for i in range(frame_num):\n",
    "        indexes[i]=int(begin_num)\n",
    "        begin_num+=x\n",
    "    for data in datas:\n",
    "        video_frames = [None] * 2\n",
    "        video_frames[0]=[]\n",
    "        video_frames[1]=[]\n",
    "        for index in indexes:\n",
    "            video_frames[0].append(data[0][index])\n",
    "        video_frames[1].append(data[1])\n",
    "        data_set.append(video_frames)\n",
    "        del video_frames\n",
    "        del data \n",
    "        gc.collect()\n",
    "    del datas\n",
    "    gc.collect()\n",
    "    return data_set\n",
    "print(1)"
   ]
  },
  {
   "cell_type": "code",
   "execution_count": 4,
   "metadata": {},
   "outputs": [
    {
     "name": "stdout",
     "output_type": "stream",
     "text": [
      "1\n"
     ]
    }
   ],
   "source": [
    "def getdata(pathname,datatype):\n",
    "    if datatype==\"train\":\n",
    "        final_data_set=[]\n",
    "        output_file=open(pathname, \"rb\")\n",
    "        for i in range(1):\n",
    "            # train_data_set.extend(pickle.load(output_file))\n",
    "            final_data_set.extend(pickle.load(output_file))\n",
    "            # print(i)\n",
    "        return final_data_set\n",
    "    elif datatype==\"valid\":\n",
    "        final_data_set=[]\n",
    "        output_file=open(pathname, \"rb\")\n",
    "        for i in range(1):\n",
    "            valid_data_set=[]\n",
    "            final_data_set.extend(pickle.load(output_file))\n",
    "            del valid_data_set\n",
    "        return final_data_set\n",
    "print(1)"
   ]
  },
  {
   "cell_type": "code",
   "execution_count": 5,
   "metadata": {},
   "outputs": [
    {
     "name": "stdout",
     "output_type": "stream",
     "text": [
      "1\n"
     ]
    }
   ],
   "source": [
    "def datasize(type,batchsz):\n",
    "    if type=='train':\n",
    "        i=5076#5967\n",
    "        while True:\n",
    "            if i%batchsz==0:\n",
    "                return i\n",
    "            else:\n",
    "                i-=1\n",
    "    else:\n",
    "        i=1700#1986\n",
    "        while True:\n",
    "            if i%batchsz==0:\n",
    "                return i\n",
    "            else:\n",
    "                i-=1\n",
    "print(1)"
   ]
  },
  {
   "cell_type": "code",
   "execution_count": 6,
   "metadata": {},
   "outputs": [
    {
     "name": "stdout",
     "output_type": "stream",
     "text": [
      "1\n"
     ]
    }
   ],
   "source": [
    "\n",
    "save_model_file_path = './save_swintransformer_folder/{}_{}.{}'\n",
    "mtcnn= MTCNN(image_size=224, margin=0, min_face_size= 20, thresholds=[0.6, 0.7, 0.7], post_process=True)\n",
    "# test_set_data=getdata(\"/home/ssrlab/qx/code/test/video-swin-transformer-pytorch/data/15Frames/test_set.dat\",\"test\")\n",
    "# test_set_data=test_set_data[:datasize(\"test\",batchsz)]\n",
    "print(1)"
   ]
  },
  {
   "cell_type": "code",
   "execution_count": 7,
   "metadata": {},
   "outputs": [
    {
     "name": "stdout",
     "output_type": "stream",
     "text": [
      "1\n"
     ]
    }
   ],
   "source": [
    "def reshape_to_expected_traininput(dataset: List[Tuple[ np.ndarray, np.ndarray]]) -> Tuple[\n",
    "     np.ndarray, np.ndarray]:\n",
    "    result=[]\n",
    "    for i in range(0, len(dataset[0])):\n",
    "        result.append((dataset[0][i],dataset[1][i],dataset[2][i],dataset[3][i],dataset[4][i],dataset[5][i]))\n",
    "    result = result[:datasize(\"train\",batchsz)]\n",
    "    x0_list = []\n",
    "    x1_list = []\n",
    "    x2_list = []\n",
    "    x3_list = []\n",
    "    x4_list = []\n",
    "    x5_list = []\n",
    "    for i in range(0, len(result)):\n",
    "        x0_list.append(result[i][0])\n",
    "        x1_list.append(result[i][1])\n",
    "        x2_list.append(result[i][2])\n",
    "        x3_list.append(result[i][3])\n",
    "        x4_list.append(result[i][4])\n",
    "        x5_list.append(result[i][5])\n",
    "    return (np.stack(x0_list), np.stack(x1_list), np.stack(x2_list),np.stack(x3_list), np.stack(x4_list), np.stack(x5_list))\n",
    "print(1)"
   ]
  },
  {
   "cell_type": "code",
   "execution_count": 8,
   "metadata": {},
   "outputs": [
    {
     "name": "stdout",
     "output_type": "stream",
     "text": [
      "1\n"
     ]
    }
   ],
   "source": [
    "def reshape_to_expected_validinput(dataset: List[Tuple[ np.ndarray, np.ndarray]]) -> Tuple[\n",
    "     np.ndarray, np.ndarray]:\n",
    "    result=[]\n",
    "    for i in range(0, len(dataset[0])):\n",
    "        result.append((dataset[0][i],dataset[1][i],dataset[2][i],dataset[3][i],dataset[4][i],dataset[5][i]))\n",
    "    result = result[:datasize(\"valid\",batchsz)]\n",
    "    x0_list = []\n",
    "    x1_list = []\n",
    "    x2_list = []\n",
    "    x3_list = []\n",
    "    x4_list = []\n",
    "    x5_list = []\n",
    "    for i in range(0, len(result)):\n",
    "        x0_list.append(result[i][0])\n",
    "        x1_list.append(result[i][1])\n",
    "        x2_list.append(result[i][2])\n",
    "        x3_list.append(result[i][3])\n",
    "        x4_list.append(result[i][4])\n",
    "        x5_list.append(result[i][5])\n",
    "    return (np.stack(x0_list), np.stack(x1_list), np.stack(x2_list),np.stack(x3_list), np.stack(x4_list), np.stack(x5_list))\n",
    "print(1)"
   ]
  },
  {
   "cell_type": "code",
   "execution_count": 9,
   "metadata": {},
   "outputs": [
    {
     "name": "stdout",
     "output_type": "stream",
     "text": [
      "1\n"
     ]
    }
   ],
   "source": [
    "validation_set_data=getdata(\"/home/ssrlab/qx/code/test/video-swin-transformer-pytorch/data/15Frames/multidata/1700valid_set.dat\",\"valid\")\n",
    "validation_set_data=reshape_to_expected_validinput(validation_set_data)\n",
    "print(1)"
   ]
  },
  {
   "cell_type": "code",
   "execution_count": 10,
   "metadata": {},
   "outputs": [
    {
     "name": "stdout",
     "output_type": "stream",
     "text": [
      "1\n"
     ]
    }
   ],
   "source": [
    "train_set_data=getdata(\"/home/ssrlab/qx/code/test/video-swin-transformer-pytorch/data/15Frames/multidata/5076train_set.dat\",\"train\")\n",
    "train_set_data=reshape_to_expected_traininput(train_set_data)\n",
    "print(1)"
   ]
  },
  {
   "cell_type": "code",
   "execution_count": 11,
   "metadata": {},
   "outputs": [
    {
     "name": "stdout",
     "output_type": "stream",
     "text": [
      "1\n"
     ]
    }
   ],
   "source": [
    "def imagecrop(imagedata,batchsz):\n",
    "    # convert_tensor= transforms.ToTensor()\n",
    "    output=[]\n",
    "    for j in range(batchsz):#비디오 데이터 batchsz(9) 개 있다\n",
    "        firstoutput=[]\n",
    "        for i in range(len(imagedata[j])):#imagedata에 15개의 프레임이 있다\n",
    "            # temp = convert_tensor(imagedata[i])\n",
    "            #이미지를 나누\n",
    "            temp = imagedata[j][i].unfold(1,112,112).unfold(2,112,112)\n",
    "            temp = rearrange(temp, 'c h1 w1 h w -> (h1 w1) c h w')\n",
    "            firstoutput.append(temp)\n",
    "        firstoutput = torch.stack(firstoutput,0)\n",
    "        output.append(firstoutput)\n",
    "    output = torch.stack(output,0)\n",
    "    return output\n",
    "print(1)"
   ]
  },
  {
   "cell_type": "code",
   "execution_count": 12,
   "metadata": {},
   "outputs": [
    {
     "name": "stdout",
     "output_type": "stream",
     "text": [
      "1\n"
     ]
    }
   ],
   "source": [
    "transform = transforms.Compose([\n",
    "    transforms.ToPILImage(),\n",
    "    transforms.ToTensor(),\n",
    "])\n",
    "print(1)"
   ]
  },
  {
   "cell_type": "code",
   "execution_count": 13,
   "metadata": {},
   "outputs": [
    {
     "name": "stdout",
     "output_type": "stream",
     "text": [
      "1\n"
     ]
    }
   ],
   "source": [
    "class ChalearnDataset(Dataset):\n",
    "    def __init__(self,audiodata,fullshot,tagdata,transform=None):\n",
    "        self.audiodata=audiodata\n",
    "        self.fullshot=fullshot\n",
    "        self.tagdata=tagdata\n",
    "        self.transform = transform  # 표준화 여부\n",
    "    def __len__(self):\n",
    "        return len(self.fullshot)\n",
    "\n",
    "    def __getitem__(self, idx):\n",
    "        if torch.is_tensor(idx):\n",
    "            idx = idx.tolist()#텐서의 경우 목록으로 돌아가기\n",
    "        audiodata = self.audiodata[idx]\n",
    "        audiodata = torch.FloatTensor(audiodata)\n",
    "        fullshot=self.fullshot[idx]\n",
    "        fullshot=torch.FloatTensor(fullshot)\n",
    "        # image_data=image_data.reshape(15,3,224,224)\n",
    "        big_five_sorces=self.tagdata[idx]\n",
    "        big_five_sorces = torch.FloatTensor(big_five_sorces)\n",
    "        return audiodata,fullshot,big_five_sorces\n",
    "print(1)"
   ]
  },
  {
   "cell_type": "code",
   "execution_count": 14,
   "metadata": {},
   "outputs": [
    {
     "name": "stdout",
     "output_type": "stream",
     "text": [
      "1\n"
     ]
    }
   ],
   "source": [
    "num_workerssz = 20\n",
    "lr = 3e-05\n",
    "epochs = 120\n",
    "#device = torch.device('cuda')\n",
    "# train_set_data = reshape_to_expected_input(train_set_data)\n",
    "# val_set_data = reshape_to_expected_input(validation_set_data)\n",
    "print(1)"
   ]
  },
  {
   "cell_type": "markdown",
   "metadata": {},
   "source": []
  },
  {
   "cell_type": "code",
   "execution_count": 15,
   "metadata": {},
   "outputs": [
    {
     "name": "stdout",
     "output_type": "stream",
     "text": [
      "1\n"
     ]
    }
   ],
   "source": [
    "train_set_data = ChalearnDataset(audiodata=train_set_data[0],fullshot = train_set_data[1],tagdata=train_set_data[5],transform=transform)\n",
    "val_set_data = ChalearnDataset(audiodata=validation_set_data[0],fullshot = validation_set_data[1], tagdata=validation_set_data[5],transform=transform)\n",
    "train_dataloader = DataLoader(dataset=train_set_data, batch_size=batchsz, shuffle=True, num_workers=num_workerssz)\n",
    "val_dataloader = DataLoader(dataset=val_set_data, batch_size=batchsz, shuffle=True, num_workers=num_workerssz)\n",
    "max_value=0\n",
    "print(1)"
   ]
  },
  {
   "cell_type": "code",
   "execution_count": 16,
   "metadata": {},
   "outputs": [
    {
     "name": "stderr",
     "output_type": "stream",
     "text": [
      "/home/ssrlab/anaconda3/envs/qx/lib/python3.10/site-packages/transformers/utils/generic.py:309: UserWarning: torch.utils._pytree._register_pytree_node is deprecated. Please use torch.utils._pytree.register_pytree_node instead.\n",
      "  _torch_pytree._register_pytree_node(\n",
      "Some weights of AlbertModel were not initialized from the model checkpoint at text_model/ and are newly initialized: ['albert.pooler.weight', 'albert.pooler.bias']\n",
      "You should probably TRAIN this model on a down-stream task to be able to use it for predictions and inference.\n"
     ]
    },
    {
     "name": "stdout",
     "output_type": "stream",
     "text": [
      "---------------AST Model Summary---------------\n",
      "ImageNet pretraining: True, AudioSet pretraining: True\n",
      "frequncey stride=10, time stride=10\n",
      "number of patches=131\n"
     ]
    },
    {
     "name": "stderr",
     "output_type": "stream",
     "text": [
      "/home/ssrlab/.local/lib/python3.10/site-packages/torch/functional.py:507: UserWarning: torch.meshgrid: in an upcoming release, it will be required to pass the indexing argument. (Triggered internally at ../aten/src/ATen/native/TensorShape.cpp:3549.)\n",
      "  return _VF.meshgrid(tensors, **kwargs)  # type: ignore[attr-defined]\n"
     ]
    },
    {
     "name": "stdout",
     "output_type": "stream",
     "text": [
      "1\n"
     ]
    }
   ],
   "source": [
    "model=SwinTransformer3D()#num_frames=frame_nums,batchsz = batchsz\n",
    "model.to(device)\n",
    "criterion = torch.nn.L1Loss().to(device)  # 손실함수\n",
    "optimizer = torch.optim.AdamW(model.parameters(), lr=lr) # 옵티마이저\n",
    "\n",
    "if test_flage==True:\n",
    "    checkpoint=torch.load(save_model_file_path.format('model',start_epoch,'pth'), map_location=device)\n",
    "    model.load_state_dict(checkpoint[\"model\"])\n",
    "    optimizer.load_state_dict(checkpoint[\"optimizer\"])\n",
    "    # criterion.load_state_dict(checkpoint[\"loss\"])\n",
    "train_avg_loss0=[]\n",
    "val_avg_loss0=[]\n",
    "print(1)"
   ]
  },
  {
   "cell_type": "code",
   "execution_count": 17,
   "metadata": {},
   "outputs": [],
   "source": [
    "# from torchinfo import summary\n",
    "\n",
    "# summary(model, input_size = ((8,15,224,224,3),(8,24,1319,1)), col_names = ['input_size','output_size','num_params'])"
   ]
  },
  {
   "cell_type": "code",
   "execution_count": 18,
   "metadata": {},
   "outputs": [],
   "source": [
    "def extract_ocean(data,batch_size):\n",
    "    o=[]\n",
    "    c=[]\n",
    "    e=[]\n",
    "    a=[]\n",
    "    n=[]\n",
    "    for i in range(batch_size):\n",
    "        o.append(data[i][0].item())\n",
    "        c.append(data[i][1].item())\n",
    "        e.append(data[i][2].item())\n",
    "        a.append(data[i][3].item())\n",
    "        n.append(data[i][4].item())\n",
    "    o = torch.tensor(o) \n",
    "    c = torch.tensor(c) \n",
    "    e = torch.tensor(e) \n",
    "    a = torch.tensor(a) \n",
    "    n = torch.tensor(n) \n",
    "    return o,c,e,a,n"
   ]
  },
  {
   "cell_type": "code",
   "execution_count": 19,
   "metadata": {},
   "outputs": [
    {
     "name": "stderr",
     "output_type": "stream",
     "text": [
      "100%|██████████| 1269/1269 [05:06<00:00,  4.14it/s]\n",
      "100%|██████████| 425/425 [00:36<00:00, 11.49it/s]\n",
      "[2024-04-12 17:47:33,717]::2239881090::DEBUG::Epoch: 1 , 1-MAE: 0.8699 , 1-val_avg_o_loss:0.8621 , 1-val_avg_c_loss:0.8853 , 1-val_avg_e_loss:0.8799 , 1-val_avg_a_loss:0.8633 , 1-val_avg_n_loss:0.8587\n",
      "100%|██████████| 1269/1269 [05:04<00:00,  4.17it/s]\n",
      "100%|██████████| 425/425 [00:36<00:00, 11.54it/s]\n",
      "[2024-04-12 17:53:15,824]::2239881090::DEBUG::Epoch: 2 , 1-MAE: 0.8958 , 1-val_avg_o_loss:0.8868 , 1-val_avg_c_loss:0.8996 , 1-val_avg_e_loss:0.9093 , 1-val_avg_a_loss:0.8839 , 1-val_avg_n_loss:0.8995\n",
      "100%|██████████| 1269/1269 [05:04<00:00,  4.16it/s]\n",
      "100%|██████████| 425/425 [00:36<00:00, 11.50it/s]\n",
      "[2024-04-12 17:58:59,082]::2239881090::DEBUG::Epoch: 3 , 1-MAE: 0.8934 , 1-val_avg_o_loss:0.8935 , 1-val_avg_c_loss:0.8899 , 1-val_avg_e_loss:0.8899 , 1-val_avg_a_loss:0.8932 , 1-val_avg_n_loss:0.9003\n",
      "100%|██████████| 1269/1269 [05:04<00:00,  4.17it/s]\n",
      "100%|██████████| 425/425 [00:36<00:00, 11.51it/s]\n",
      "[2024-04-12 18:04:42,096]::2239881090::DEBUG::Epoch: 4 , 1-MAE: 0.8994 , 1-val_avg_o_loss:0.9036 , 1-val_avg_c_loss:0.9022 , 1-val_avg_e_loss:0.8848 , 1-val_avg_a_loss:0.8966 , 1-val_avg_n_loss:0.9099\n",
      "100%|██████████| 1269/1269 [05:04<00:00,  4.16it/s]\n",
      "100%|██████████| 425/425 [00:36<00:00, 11.51it/s]\n",
      "[2024-04-12 18:10:27,725]::2239881090::DEBUG::Epoch: 5 , 1-MAE: 0.8995 , 1-val_avg_o_loss:0.9073 , 1-val_avg_c_loss:0.8926 , 1-val_avg_e_loss:0.9096 , 1-val_avg_a_loss:0.8930 , 1-val_avg_n_loss:0.8951\n",
      "100%|██████████| 1269/1269 [05:04<00:00,  4.17it/s]\n",
      "100%|██████████| 425/425 [00:36<00:00, 11.58it/s]\n",
      "[2024-04-12 18:16:10,585]::2239881090::DEBUG::Epoch: 6 , 1-MAE: 0.9037 , 1-val_avg_o_loss:0.9081 , 1-val_avg_c_loss:0.9032 , 1-val_avg_e_loss:0.9108 , 1-val_avg_a_loss:0.8863 , 1-val_avg_n_loss:0.9102\n",
      "100%|██████████| 1269/1269 [05:05<00:00,  4.16it/s]\n",
      "100%|██████████| 425/425 [00:36<00:00, 11.58it/s]\n",
      "[2024-04-12 18:21:53,945]::2239881090::DEBUG::Epoch: 7 , 1-MAE: 0.9072 , 1-val_avg_o_loss:0.9116 , 1-val_avg_c_loss:0.9029 , 1-val_avg_e_loss:0.9115 , 1-val_avg_a_loss:0.8971 , 1-val_avg_n_loss:0.9127\n",
      "100%|██████████| 1269/1269 [05:04<00:00,  4.17it/s]\n",
      "100%|██████████| 425/425 [00:36<00:00, 11.52it/s]\n",
      "[2024-04-12 18:27:37,021]::2239881090::DEBUG::Epoch: 8 , 1-MAE: 0.9057 , 1-val_avg_o_loss:0.9101 , 1-val_avg_c_loss:0.9065 , 1-val_avg_e_loss:0.9050 , 1-val_avg_a_loss:0.8954 , 1-val_avg_n_loss:0.9117\n",
      "100%|██████████| 1269/1269 [05:04<00:00,  4.17it/s]\n",
      "100%|██████████| 425/425 [00:36<00:00, 11.49it/s]\n",
      "[2024-04-12 18:33:19,691]::2239881090::DEBUG::Epoch: 9 , 1-MAE: 0.9064 , 1-val_avg_o_loss:0.9121 , 1-val_avg_c_loss:0.9004 , 1-val_avg_e_loss:0.9104 , 1-val_avg_a_loss:0.8993 , 1-val_avg_n_loss:0.9096\n",
      "100%|██████████| 1269/1269 [05:04<00:00,  4.16it/s]\n",
      "100%|██████████| 425/425 [00:36<00:00, 11.52it/s]\n",
      "[2024-04-12 18:39:05,358]::2239881090::DEBUG::Epoch: 10 , 1-MAE: 0.9086 , 1-val_avg_o_loss:0.9110 , 1-val_avg_c_loss:0.9073 , 1-val_avg_e_loss:0.9150 , 1-val_avg_a_loss:0.9026 , 1-val_avg_n_loss:0.9073\n",
      "100%|██████████| 1269/1269 [05:04<00:00,  4.16it/s]\n",
      "100%|██████████| 425/425 [00:36<00:00, 11.55it/s]\n",
      "[2024-04-12 18:44:48,244]::2239881090::DEBUG::Epoch: 11 , 1-MAE: 0.9103 , 1-val_avg_o_loss:0.9119 , 1-val_avg_c_loss:0.9070 , 1-val_avg_e_loss:0.9136 , 1-val_avg_a_loss:0.9078 , 1-val_avg_n_loss:0.9113\n",
      "100%|██████████| 1269/1269 [05:04<00:00,  4.16it/s]\n",
      "100%|██████████| 425/425 [00:36<00:00, 11.55it/s]\n",
      "[2024-04-12 18:50:31,350]::2239881090::DEBUG::Epoch: 12 , 1-MAE: 0.9110 , 1-val_avg_o_loss:0.9145 , 1-val_avg_c_loss:0.9067 , 1-val_avg_e_loss:0.9122 , 1-val_avg_a_loss:0.9096 , 1-val_avg_n_loss:0.9120\n",
      "100%|██████████| 1269/1269 [05:05<00:00,  4.16it/s]\n",
      "100%|██████████| 425/425 [00:37<00:00, 11.45it/s]\n",
      "[2024-04-12 18:56:14,960]::2239881090::DEBUG::Epoch: 13 , 1-MAE: 0.9108 , 1-val_avg_o_loss:0.9131 , 1-val_avg_c_loss:0.9070 , 1-val_avg_e_loss:0.9142 , 1-val_avg_a_loss:0.9125 , 1-val_avg_n_loss:0.9074\n",
      "100%|██████████| 1269/1269 [05:04<00:00,  4.17it/s]\n",
      "100%|██████████| 425/425 [00:36<00:00, 11.59it/s]\n",
      "[2024-04-12 19:01:57,412]::2239881090::DEBUG::Epoch: 14 , 1-MAE: 0.9095 , 1-val_avg_o_loss:0.9122 , 1-val_avg_c_loss:0.9081 , 1-val_avg_e_loss:0.9058 , 1-val_avg_a_loss:0.9079 , 1-val_avg_n_loss:0.9132\n",
      "100%|██████████| 1269/1269 [05:04<00:00,  4.17it/s]\n",
      "100%|██████████| 425/425 [00:36<00:00, 11.53it/s]\n",
      "[2024-04-12 19:07:42,789]::2239881090::DEBUG::Epoch: 15 , 1-MAE: 0.9071 , 1-val_avg_o_loss:0.9092 , 1-val_avg_c_loss:0.8909 , 1-val_avg_e_loss:0.9132 , 1-val_avg_a_loss:0.9120 , 1-val_avg_n_loss:0.9103\n",
      "100%|██████████| 1269/1269 [05:04<00:00,  4.16it/s]\n",
      "100%|██████████| 425/425 [00:36<00:00, 11.60it/s]\n",
      "[2024-04-12 19:13:25,571]::2239881090::DEBUG::Epoch: 16 , 1-MAE: 0.9099 , 1-val_avg_o_loss:0.9123 , 1-val_avg_c_loss:0.9049 , 1-val_avg_e_loss:0.9117 , 1-val_avg_a_loss:0.9103 , 1-val_avg_n_loss:0.9103\n",
      "100%|██████████| 1269/1269 [05:04<00:00,  4.16it/s]\n",
      "100%|██████████| 425/425 [00:36<00:00, 11.63it/s]\n",
      "[2024-04-12 19:19:08,299]::2239881090::DEBUG::Epoch: 17 , 1-MAE: 0.9080 , 1-val_avg_o_loss:0.9124 , 1-val_avg_c_loss:0.9035 , 1-val_avg_e_loss:0.9030 , 1-val_avg_a_loss:0.9097 , 1-val_avg_n_loss:0.9116\n",
      "100%|██████████| 1269/1269 [05:04<00:00,  4.16it/s]\n",
      "100%|██████████| 425/425 [00:36<00:00, 11.51it/s]\n",
      "[2024-04-12 19:24:51,453]::2239881090::DEBUG::Epoch: 18 , 1-MAE: 0.9117 , 1-val_avg_o_loss:0.9130 , 1-val_avg_c_loss:0.9055 , 1-val_avg_e_loss:0.9127 , 1-val_avg_a_loss:0.9146 , 1-val_avg_n_loss:0.9127\n",
      "100%|██████████| 1269/1269 [05:04<00:00,  4.16it/s]\n",
      "100%|██████████| 425/425 [00:36<00:00, 11.54it/s]\n",
      "[2024-04-12 19:30:34,652]::2239881090::DEBUG::Epoch: 19 , 1-MAE: 0.9108 , 1-val_avg_o_loss:0.9122 , 1-val_avg_c_loss:0.9050 , 1-val_avg_e_loss:0.9122 , 1-val_avg_a_loss:0.9127 , 1-val_avg_n_loss:0.9118\n",
      "100%|██████████| 1269/1269 [05:04<00:00,  4.17it/s]\n",
      "100%|██████████| 425/425 [00:36<00:00, 11.58it/s]\n",
      "[2024-04-12 19:36:19,930]::2239881090::DEBUG::Epoch: 20 , 1-MAE: 0.9115 , 1-val_avg_o_loss:0.9149 , 1-val_avg_c_loss:0.9060 , 1-val_avg_e_loss:0.9133 , 1-val_avg_a_loss:0.9103 , 1-val_avg_n_loss:0.9132\n",
      "100%|██████████| 1269/1269 [05:04<00:00,  4.16it/s]\n",
      "100%|██████████| 425/425 [00:36<00:00, 11.59it/s]\n",
      "[2024-04-12 19:42:02,987]::2239881090::DEBUG::Epoch: 21 , 1-MAE: 0.9118 , 1-val_avg_o_loss:0.9138 , 1-val_avg_c_loss:0.9084 , 1-val_avg_e_loss:0.9112 , 1-val_avg_a_loss:0.9117 , 1-val_avg_n_loss:0.9139\n",
      "100%|██████████| 1269/1269 [05:04<00:00,  4.17it/s]\n",
      "100%|██████████| 425/425 [00:36<00:00, 11.55it/s]\n",
      "[2024-04-12 19:47:45,734]::2239881090::DEBUG::Epoch: 22 , 1-MAE: 0.9124 , 1-val_avg_o_loss:0.9137 , 1-val_avg_c_loss:0.9085 , 1-val_avg_e_loss:0.9124 , 1-val_avg_a_loss:0.9153 , 1-val_avg_n_loss:0.9121\n",
      "100%|██████████| 1269/1269 [05:04<00:00,  4.17it/s]\n",
      "100%|██████████| 425/425 [00:36<00:00, 11.58it/s]\n",
      "[2024-04-12 19:53:28,610]::2239881090::DEBUG::Epoch: 23 , 1-MAE: 0.9112 , 1-val_avg_o_loss:0.9136 , 1-val_avg_c_loss:0.9077 , 1-val_avg_e_loss:0.9107 , 1-val_avg_a_loss:0.9142 , 1-val_avg_n_loss:0.9099\n",
      "100%|██████████| 1269/1269 [05:04<00:00,  4.16it/s]\n",
      "100%|██████████| 425/425 [00:36<00:00, 11.57it/s]\n",
      "[2024-04-12 19:59:11,738]::2239881090::DEBUG::Epoch: 24 , 1-MAE: 0.9100 , 1-val_avg_o_loss:0.9119 , 1-val_avg_c_loss:0.9053 , 1-val_avg_e_loss:0.9091 , 1-val_avg_a_loss:0.9110 , 1-val_avg_n_loss:0.9129\n",
      "100%|██████████| 1269/1269 [05:05<00:00,  4.16it/s]\n",
      "100%|██████████| 425/425 [00:37<00:00, 11.48it/s]\n",
      "[2024-04-12 20:04:57,662]::2239881090::DEBUG::Epoch: 25 , 1-MAE: 0.9115 , 1-val_avg_o_loss:0.9135 , 1-val_avg_c_loss:0.9062 , 1-val_avg_e_loss:0.9096 , 1-val_avg_a_loss:0.9151 , 1-val_avg_n_loss:0.9133\n",
      "100%|██████████| 1269/1269 [05:04<00:00,  4.16it/s]\n",
      "100%|██████████| 425/425 [00:36<00:00, 11.56it/s]\n",
      "[2024-04-12 20:10:40,709]::2239881090::DEBUG::Epoch: 26 , 1-MAE: 0.9120 , 1-val_avg_o_loss:0.9142 , 1-val_avg_c_loss:0.9035 , 1-val_avg_e_loss:0.9120 , 1-val_avg_a_loss:0.9157 , 1-val_avg_n_loss:0.9143\n",
      "100%|██████████| 1269/1269 [05:04<00:00,  4.17it/s]\n",
      "100%|██████████| 425/425 [00:36<00:00, 11.60it/s]\n",
      "[2024-04-12 20:16:23,452]::2239881090::DEBUG::Epoch: 27 , 1-MAE: 0.9117 , 1-val_avg_o_loss:0.9113 , 1-val_avg_c_loss:0.9081 , 1-val_avg_e_loss:0.9111 , 1-val_avg_a_loss:0.9148 , 1-val_avg_n_loss:0.9134\n",
      "100%|██████████| 1269/1269 [05:04<00:00,  4.16it/s]\n",
      "100%|██████████| 425/425 [00:36<00:00, 11.58it/s]\n",
      "[2024-04-12 20:22:06,389]::2239881090::DEBUG::Epoch: 28 , 1-MAE: 0.9103 , 1-val_avg_o_loss:0.9056 , 1-val_avg_c_loss:0.9078 , 1-val_avg_e_loss:0.9104 , 1-val_avg_a_loss:0.9159 , 1-val_avg_n_loss:0.9117\n",
      "100%|██████████| 1269/1269 [05:05<00:00,  4.16it/s]\n",
      "100%|██████████| 425/425 [00:36<00:00, 11.52it/s]\n",
      "[2024-04-12 20:27:49,763]::2239881090::DEBUG::Epoch: 29 , 1-MAE: 0.9121 , 1-val_avg_o_loss:0.9127 , 1-val_avg_c_loss:0.9068 , 1-val_avg_e_loss:0.9137 , 1-val_avg_a_loss:0.9146 , 1-val_avg_n_loss:0.9124\n",
      "100%|██████████| 1269/1269 [05:04<00:00,  4.17it/s]\n",
      "100%|██████████| 425/425 [00:37<00:00, 11.47it/s]\n",
      "[2024-04-12 20:33:35,088]::2239881090::DEBUG::Epoch: 30 , 1-MAE: 0.9112 , 1-val_avg_o_loss:0.9131 , 1-val_avg_c_loss:0.9051 , 1-val_avg_e_loss:0.9122 , 1-val_avg_a_loss:0.9128 , 1-val_avg_n_loss:0.9130\n",
      "100%|██████████| 1269/1269 [05:04<00:00,  4.16it/s]\n",
      "100%|██████████| 425/425 [00:36<00:00, 11.53it/s]\n",
      "[2024-04-12 20:39:18,242]::2239881090::DEBUG::Epoch: 31 , 1-MAE: 0.9109 , 1-val_avg_o_loss:0.9105 , 1-val_avg_c_loss:0.9061 , 1-val_avg_e_loss:0.9105 , 1-val_avg_a_loss:0.9143 , 1-val_avg_n_loss:0.9131\n",
      "100%|██████████| 1269/1269 [05:04<00:00,  4.16it/s]\n",
      "100%|██████████| 425/425 [00:36<00:00, 11.57it/s]\n",
      "[2024-04-12 20:45:01,141]::2239881090::DEBUG::Epoch: 32 , 1-MAE: 0.9120 , 1-val_avg_o_loss:0.9141 , 1-val_avg_c_loss:0.9086 , 1-val_avg_e_loss:0.9112 , 1-val_avg_a_loss:0.9119 , 1-val_avg_n_loss:0.9143\n",
      "100%|██████████| 1269/1269 [05:04<00:00,  4.16it/s]\n",
      "100%|██████████| 425/425 [00:37<00:00, 11.49it/s]\n",
      "[2024-04-12 20:50:44,434]::2239881090::DEBUG::Epoch: 33 , 1-MAE: 0.9112 , 1-val_avg_o_loss:0.9090 , 1-val_avg_c_loss:0.9075 , 1-val_avg_e_loss:0.9118 , 1-val_avg_a_loss:0.9144 , 1-val_avg_n_loss:0.9135\n",
      "100%|██████████| 1269/1269 [05:05<00:00,  4.16it/s]\n",
      "100%|██████████| 425/425 [00:36<00:00, 11.59it/s]\n",
      "[2024-04-12 20:56:27,684]::2239881090::DEBUG::Epoch: 34 , 1-MAE: 0.9116 , 1-val_avg_o_loss:0.9138 , 1-val_avg_c_loss:0.9071 , 1-val_avg_e_loss:0.9100 , 1-val_avg_a_loss:0.9132 , 1-val_avg_n_loss:0.9142\n",
      "100%|██████████| 1269/1269 [05:04<00:00,  4.16it/s]\n",
      "100%|██████████| 425/425 [00:36<00:00, 11.54it/s]\n",
      "[2024-04-12 21:02:13,256]::2239881090::DEBUG::Epoch: 35 , 1-MAE: 0.9125 , 1-val_avg_o_loss:0.9116 , 1-val_avg_c_loss:0.9095 , 1-val_avg_e_loss:0.9121 , 1-val_avg_a_loss:0.9154 , 1-val_avg_n_loss:0.9141\n",
      "100%|██████████| 1269/1269 [05:05<00:00,  4.16it/s]\n",
      "100%|██████████| 425/425 [00:36<00:00, 11.56it/s]\n",
      "[2024-04-12 21:07:56,513]::2239881090::DEBUG::Epoch: 36 , 1-MAE: 0.9136 , 1-val_avg_o_loss:0.9160 , 1-val_avg_c_loss:0.9093 , 1-val_avg_e_loss:0.9124 , 1-val_avg_a_loss:0.9154 , 1-val_avg_n_loss:0.9148\n",
      "100%|██████████| 1269/1269 [05:05<00:00,  4.16it/s]\n",
      "100%|██████████| 425/425 [00:36<00:00, 11.56it/s]\n",
      "[2024-04-12 21:13:39,871]::2239881090::DEBUG::Epoch: 37 , 1-MAE: 0.9126 , 1-val_avg_o_loss:0.9124 , 1-val_avg_c_loss:0.9088 , 1-val_avg_e_loss:0.9117 , 1-val_avg_a_loss:0.9148 , 1-val_avg_n_loss:0.9153\n",
      "100%|██████████| 1269/1269 [05:04<00:00,  4.16it/s]\n",
      "100%|██████████| 425/425 [00:36<00:00, 11.58it/s]\n",
      "[2024-04-12 21:19:23,068]::2239881090::DEBUG::Epoch: 38 , 1-MAE: 0.9121 , 1-val_avg_o_loss:0.9135 , 1-val_avg_c_loss:0.9074 , 1-val_avg_e_loss:0.9111 , 1-val_avg_a_loss:0.9151 , 1-val_avg_n_loss:0.9133\n",
      "100%|██████████| 1269/1269 [05:04<00:00,  4.17it/s]\n",
      "100%|██████████| 425/425 [00:36<00:00, 11.57it/s]\n",
      "[2024-04-12 21:25:05,829]::2239881090::DEBUG::Epoch: 39 , 1-MAE: 0.9111 , 1-val_avg_o_loss:0.9134 , 1-val_avg_c_loss:0.9075 , 1-val_avg_e_loss:0.9103 , 1-val_avg_a_loss:0.9143 , 1-val_avg_n_loss:0.9099\n",
      "100%|██████████| 1269/1269 [05:04<00:00,  4.17it/s]\n",
      "100%|██████████| 425/425 [00:36<00:00, 11.58it/s]\n",
      "[2024-04-12 21:30:51,059]::2239881090::DEBUG::Epoch: 40 , 1-MAE: 0.9118 , 1-val_avg_o_loss:0.9129 , 1-val_avg_c_loss:0.9078 , 1-val_avg_e_loss:0.9123 , 1-val_avg_a_loss:0.9140 , 1-val_avg_n_loss:0.9120\n",
      "100%|██████████| 1269/1269 [05:04<00:00,  4.17it/s]\n",
      "100%|██████████| 425/425 [00:36<00:00, 11.50it/s]\n",
      "[2024-04-12 21:36:34,114]::2239881090::DEBUG::Epoch: 41 , 1-MAE: 0.9115 , 1-val_avg_o_loss:0.9117 , 1-val_avg_c_loss:0.9075 , 1-val_avg_e_loss:0.9091 , 1-val_avg_a_loss:0.9154 , 1-val_avg_n_loss:0.9136\n",
      "100%|██████████| 1269/1269 [05:04<00:00,  4.16it/s]\n",
      "100%|██████████| 425/425 [00:36<00:00, 11.60it/s]\n",
      "[2024-04-12 21:42:17,045]::2239881090::DEBUG::Epoch: 42 , 1-MAE: 0.9134 , 1-val_avg_o_loss:0.9144 , 1-val_avg_c_loss:0.9080 , 1-val_avg_e_loss:0.9137 , 1-val_avg_a_loss:0.9173 , 1-val_avg_n_loss:0.9137\n",
      "100%|██████████| 1269/1269 [05:04<00:00,  4.17it/s]\n",
      "100%|██████████| 425/425 [00:36<00:00, 11.55it/s]\n",
      "[2024-04-12 21:47:59,906]::2239881090::DEBUG::Epoch: 43 , 1-MAE: 0.9132 , 1-val_avg_o_loss:0.9147 , 1-val_avg_c_loss:0.9084 , 1-val_avg_e_loss:0.9122 , 1-val_avg_a_loss:0.9154 , 1-val_avg_n_loss:0.9154\n",
      "100%|██████████| 1269/1269 [05:05<00:00,  4.16it/s]\n",
      "100%|██████████| 425/425 [00:36<00:00, 11.57it/s]\n",
      "[2024-04-12 21:53:43,269]::2239881090::DEBUG::Epoch: 44 , 1-MAE: 0.9125 , 1-val_avg_o_loss:0.9141 , 1-val_avg_c_loss:0.9077 , 1-val_avg_e_loss:0.9107 , 1-val_avg_a_loss:0.9161 , 1-val_avg_n_loss:0.9139\n",
      "100%|██████████| 1269/1269 [05:04<00:00,  4.17it/s]\n",
      "100%|██████████| 425/425 [00:36<00:00, 11.59it/s]\n",
      "[2024-04-12 21:59:28,406]::2239881090::DEBUG::Epoch: 45 , 1-MAE: 0.9114 , 1-val_avg_o_loss:0.9134 , 1-val_avg_c_loss:0.9063 , 1-val_avg_e_loss:0.9096 , 1-val_avg_a_loss:0.9159 , 1-val_avg_n_loss:0.9117\n",
      "100%|██████████| 1269/1269 [05:04<00:00,  4.17it/s]\n",
      "100%|██████████| 425/425 [00:36<00:00, 11.60it/s]\n",
      "[2024-04-12 22:05:11,172]::2239881090::DEBUG::Epoch: 46 , 1-MAE: 0.9121 , 1-val_avg_o_loss:0.9109 , 1-val_avg_c_loss:0.9082 , 1-val_avg_e_loss:0.9120 , 1-val_avg_a_loss:0.9165 , 1-val_avg_n_loss:0.9128\n",
      "100%|██████████| 1269/1269 [05:04<00:00,  4.17it/s]\n",
      "100%|██████████| 425/425 [00:36<00:00, 11.50it/s]\n",
      "[2024-04-12 22:10:54,132]::2239881090::DEBUG::Epoch: 47 , 1-MAE: 0.9115 , 1-val_avg_o_loss:0.9128 , 1-val_avg_c_loss:0.9076 , 1-val_avg_e_loss:0.9110 , 1-val_avg_a_loss:0.9145 , 1-val_avg_n_loss:0.9117\n",
      "100%|██████████| 1269/1269 [05:05<00:00,  4.16it/s]\n",
      "100%|██████████| 425/425 [00:36<00:00, 11.57it/s]\n",
      "[2024-04-12 22:16:37,406]::2239881090::DEBUG::Epoch: 48 , 1-MAE: 0.9132 , 1-val_avg_o_loss:0.9156 , 1-val_avg_c_loss:0.9077 , 1-val_avg_e_loss:0.9125 , 1-val_avg_a_loss:0.9167 , 1-val_avg_n_loss:0.9134\n",
      "100%|██████████| 1269/1269 [05:04<00:00,  4.16it/s]\n",
      "100%|██████████| 425/425 [00:36<00:00, 11.56it/s]\n",
      "[2024-04-12 22:22:20,501]::2239881090::DEBUG::Epoch: 49 , 1-MAE: 0.9116 , 1-val_avg_o_loss:0.9115 , 1-val_avg_c_loss:0.9066 , 1-val_avg_e_loss:0.9122 , 1-val_avg_a_loss:0.9163 , 1-val_avg_n_loss:0.9113\n",
      "100%|██████████| 1269/1269 [05:04<00:00,  4.16it/s]\n",
      "100%|██████████| 425/425 [00:36<00:00, 11.56it/s]\n",
      "[2024-04-12 22:28:06,249]::2239881090::DEBUG::Epoch: 50 , 1-MAE: 0.9113 , 1-val_avg_o_loss:0.9129 , 1-val_avg_c_loss:0.9064 , 1-val_avg_e_loss:0.9109 , 1-val_avg_a_loss:0.9160 , 1-val_avg_n_loss:0.9104\n",
      "100%|██████████| 1269/1269 [05:04<00:00,  4.17it/s]\n",
      "100%|██████████| 425/425 [00:36<00:00, 11.54it/s]\n",
      "[2024-04-12 22:33:49,066]::2239881090::DEBUG::Epoch: 51 , 1-MAE: 0.9116 , 1-val_avg_o_loss:0.9134 , 1-val_avg_c_loss:0.9077 , 1-val_avg_e_loss:0.9114 , 1-val_avg_a_loss:0.9140 , 1-val_avg_n_loss:0.9116\n",
      "100%|██████████| 1269/1269 [05:04<00:00,  4.16it/s]\n",
      "100%|██████████| 425/425 [00:37<00:00, 11.47it/s]\n",
      "[2024-04-12 22:39:32,369]::2239881090::DEBUG::Epoch: 52 , 1-MAE: 0.9122 , 1-val_avg_o_loss:0.9124 , 1-val_avg_c_loss:0.9076 , 1-val_avg_e_loss:0.9120 , 1-val_avg_a_loss:0.9163 , 1-val_avg_n_loss:0.9125\n",
      "100%|██████████| 1269/1269 [05:04<00:00,  4.16it/s]\n",
      "100%|██████████| 425/425 [00:36<00:00, 11.58it/s]\n",
      "[2024-04-12 22:45:15,617]::2239881090::DEBUG::Epoch: 53 , 1-MAE: 0.9123 , 1-val_avg_o_loss:0.9151 , 1-val_avg_c_loss:0.9067 , 1-val_avg_e_loss:0.9131 , 1-val_avg_a_loss:0.9149 , 1-val_avg_n_loss:0.9119\n",
      "100%|██████████| 1269/1269 [05:04<00:00,  4.16it/s]\n",
      "100%|██████████| 425/425 [00:36<00:00, 11.55it/s]\n",
      "[2024-04-12 22:50:58,582]::2239881090::DEBUG::Epoch: 54 , 1-MAE: 0.9121 , 1-val_avg_o_loss:0.9136 , 1-val_avg_c_loss:0.9083 , 1-val_avg_e_loss:0.9122 , 1-val_avg_a_loss:0.9155 , 1-val_avg_n_loss:0.9112\n",
      "100%|██████████| 1269/1269 [05:05<00:00,  4.16it/s]\n",
      "100%|██████████| 425/425 [00:36<00:00, 11.54it/s]\n",
      "[2024-04-12 22:56:44,435]::2239881090::DEBUG::Epoch: 55 , 1-MAE: 0.9125 , 1-val_avg_o_loss:0.9145 , 1-val_avg_c_loss:0.9076 , 1-val_avg_e_loss:0.9119 , 1-val_avg_a_loss:0.9160 , 1-val_avg_n_loss:0.9123\n",
      "100%|██████████| 1269/1269 [05:04<00:00,  4.16it/s]\n",
      "100%|██████████| 425/425 [00:36<00:00, 11.49it/s]\n",
      "[2024-04-12 23:02:27,702]::2239881090::DEBUG::Epoch: 56 , 1-MAE: 0.9121 , 1-val_avg_o_loss:0.9149 , 1-val_avg_c_loss:0.9081 , 1-val_avg_e_loss:0.9119 , 1-val_avg_a_loss:0.9153 , 1-val_avg_n_loss:0.9104\n",
      "100%|██████████| 1269/1269 [05:04<00:00,  4.16it/s]\n",
      "100%|██████████| 425/425 [00:36<00:00, 11.53it/s]\n",
      "[2024-04-12 23:08:10,802]::2239881090::DEBUG::Epoch: 57 , 1-MAE: 0.9135 , 1-val_avg_o_loss:0.9152 , 1-val_avg_c_loss:0.9087 , 1-val_avg_e_loss:0.9128 , 1-val_avg_a_loss:0.9175 , 1-val_avg_n_loss:0.9131\n",
      "100%|██████████| 1269/1269 [05:05<00:00,  4.16it/s]\n",
      "100%|██████████| 425/425 [00:37<00:00, 11.48it/s]\n",
      "[2024-04-12 23:13:54,458]::2239881090::DEBUG::Epoch: 58 , 1-MAE: 0.9122 , 1-val_avg_o_loss:0.9144 , 1-val_avg_c_loss:0.9072 , 1-val_avg_e_loss:0.9129 , 1-val_avg_a_loss:0.9154 , 1-val_avg_n_loss:0.9111\n",
      "100%|██████████| 1269/1269 [05:04<00:00,  4.16it/s]\n",
      "100%|██████████| 425/425 [00:36<00:00, 11.50it/s]\n",
      "[2024-04-12 23:19:37,781]::2239881090::DEBUG::Epoch: 59 , 1-MAE: 0.9123 , 1-val_avg_o_loss:0.9143 , 1-val_avg_c_loss:0.9074 , 1-val_avg_e_loss:0.9128 , 1-val_avg_a_loss:0.9163 , 1-val_avg_n_loss:0.9110\n",
      "100%|██████████| 1269/1269 [05:04<00:00,  4.16it/s]\n",
      "100%|██████████| 425/425 [00:36<00:00, 11.55it/s]\n",
      "[2024-04-12 23:25:23,252]::2239881090::DEBUG::Epoch: 60 , 1-MAE: 0.9125 , 1-val_avg_o_loss:0.9146 , 1-val_avg_c_loss:0.9081 , 1-val_avg_e_loss:0.9121 , 1-val_avg_a_loss:0.9153 , 1-val_avg_n_loss:0.9122\n",
      "100%|██████████| 1269/1269 [05:05<00:00,  4.16it/s]\n",
      "100%|██████████| 425/425 [00:36<00:00, 11.54it/s]\n",
      "[2024-04-12 23:31:06,534]::2239881090::DEBUG::Epoch: 61 , 1-MAE: 0.9122 , 1-val_avg_o_loss:0.9141 , 1-val_avg_c_loss:0.9080 , 1-val_avg_e_loss:0.9120 , 1-val_avg_a_loss:0.9153 , 1-val_avg_n_loss:0.9117\n",
      "100%|██████████| 1269/1269 [05:04<00:00,  4.16it/s]\n",
      "100%|██████████| 425/425 [00:37<00:00, 11.48it/s]\n",
      "[2024-04-12 23:36:49,948]::2239881090::DEBUG::Epoch: 62 , 1-MAE: 0.9124 , 1-val_avg_o_loss:0.9131 , 1-val_avg_c_loss:0.9067 , 1-val_avg_e_loss:0.9126 , 1-val_avg_a_loss:0.9162 , 1-val_avg_n_loss:0.9133\n",
      "100%|██████████| 1269/1269 [05:04<00:00,  4.16it/s]\n",
      "100%|██████████| 425/425 [00:36<00:00, 11.60it/s]\n",
      "[2024-04-12 23:42:32,756]::2239881090::DEBUG::Epoch: 63 , 1-MAE: 0.9116 , 1-val_avg_o_loss:0.9138 , 1-val_avg_c_loss:0.9038 , 1-val_avg_e_loss:0.9119 , 1-val_avg_a_loss:0.9163 , 1-val_avg_n_loss:0.9121\n",
      "100%|██████████| 1269/1269 [05:04<00:00,  4.16it/s]\n",
      "100%|██████████| 425/425 [00:36<00:00, 11.54it/s]\n",
      "[2024-04-12 23:48:15,774]::2239881090::DEBUG::Epoch: 64 , 1-MAE: 0.9124 , 1-val_avg_o_loss:0.9144 , 1-val_avg_c_loss:0.9081 , 1-val_avg_e_loss:0.9132 , 1-val_avg_a_loss:0.9155 , 1-val_avg_n_loss:0.9110\n",
      "100%|██████████| 1269/1269 [05:04<00:00,  4.17it/s]\n",
      "100%|██████████| 425/425 [00:36<00:00, 11.66it/s]\n",
      "[2024-04-12 23:54:00,501]::2239881090::DEBUG::Epoch: 65 , 1-MAE: 0.9120 , 1-val_avg_o_loss:0.9143 , 1-val_avg_c_loss:0.9073 , 1-val_avg_e_loss:0.9112 , 1-val_avg_a_loss:0.9158 , 1-val_avg_n_loss:0.9114\n",
      "100%|██████████| 1269/1269 [05:04<00:00,  4.16it/s]\n",
      "100%|██████████| 425/425 [00:36<00:00, 11.67it/s]\n",
      "[2024-04-12 23:59:43,133]::2239881090::DEBUG::Epoch: 66 , 1-MAE: 0.9127 , 1-val_avg_o_loss:0.9147 , 1-val_avg_c_loss:0.9072 , 1-val_avg_e_loss:0.9123 , 1-val_avg_a_loss:0.9156 , 1-val_avg_n_loss:0.9139\n",
      "100%|██████████| 1269/1269 [05:04<00:00,  4.16it/s]\n",
      "100%|██████████| 425/425 [00:36<00:00, 11.60it/s]\n",
      "[2024-04-13 00:05:26,069]::2239881090::DEBUG::Epoch: 67 , 1-MAE: 0.9125 , 1-val_avg_o_loss:0.9135 , 1-val_avg_c_loss:0.9086 , 1-val_avg_e_loss:0.9124 , 1-val_avg_a_loss:0.9158 , 1-val_avg_n_loss:0.9124\n",
      "100%|██████████| 1269/1269 [05:04<00:00,  4.17it/s]\n",
      "100%|██████████| 425/425 [00:36<00:00, 11.58it/s]\n",
      "[2024-04-13 00:11:08,862]::2239881090::DEBUG::Epoch: 68 , 1-MAE: 0.9123 , 1-val_avg_o_loss:0.9147 , 1-val_avg_c_loss:0.9068 , 1-val_avg_e_loss:0.9125 , 1-val_avg_a_loss:0.9159 , 1-val_avg_n_loss:0.9117\n",
      "100%|██████████| 1269/1269 [05:04<00:00,  4.17it/s]\n",
      "100%|██████████| 425/425 [00:36<00:00, 11.63it/s]\n",
      "[2024-04-13 00:16:51,375]::2239881090::DEBUG::Epoch: 69 , 1-MAE: 0.9129 , 1-val_avg_o_loss:0.9149 , 1-val_avg_c_loss:0.9079 , 1-val_avg_e_loss:0.9135 , 1-val_avg_a_loss:0.9153 , 1-val_avg_n_loss:0.9131\n",
      "100%|██████████| 1269/1269 [05:04<00:00,  4.16it/s]\n",
      "100%|██████████| 425/425 [00:36<00:00, 11.55it/s]\n",
      "[2024-04-13 00:22:37,161]::2239881090::DEBUG::Epoch: 70 , 1-MAE: 0.9118 , 1-val_avg_o_loss:0.9140 , 1-val_avg_c_loss:0.9073 , 1-val_avg_e_loss:0.9123 , 1-val_avg_a_loss:0.9133 , 1-val_avg_n_loss:0.9120\n",
      "100%|██████████| 1269/1269 [05:04<00:00,  4.17it/s]\n",
      "100%|██████████| 425/425 [00:36<00:00, 11.62it/s]\n",
      "[2024-04-13 00:28:19,540]::2239881090::DEBUG::Epoch: 71 , 1-MAE: 0.9124 , 1-val_avg_o_loss:0.9138 , 1-val_avg_c_loss:0.9087 , 1-val_avg_e_loss:0.9120 , 1-val_avg_a_loss:0.9164 , 1-val_avg_n_loss:0.9111\n",
      "100%|██████████| 1269/1269 [05:04<00:00,  4.16it/s]\n",
      "100%|██████████| 425/425 [00:36<00:00, 11.54it/s]\n",
      "[2024-04-13 00:34:02,567]::2239881090::DEBUG::Epoch: 72 , 1-MAE: 0.9111 , 1-val_avg_o_loss:0.9135 , 1-val_avg_c_loss:0.9047 , 1-val_avg_e_loss:0.9113 , 1-val_avg_a_loss:0.9156 , 1-val_avg_n_loss:0.9104\n",
      "100%|██████████| 1269/1269 [05:04<00:00,  4.16it/s]\n",
      "100%|██████████| 425/425 [00:36<00:00, 11.60it/s]\n",
      "[2024-04-13 00:39:45,727]::2239881090::DEBUG::Epoch: 73 , 1-MAE: 0.9120 , 1-val_avg_o_loss:0.9132 , 1-val_avg_c_loss:0.9080 , 1-val_avg_e_loss:0.9121 , 1-val_avg_a_loss:0.9148 , 1-val_avg_n_loss:0.9119\n",
      "100%|██████████| 1269/1269 [05:05<00:00,  4.16it/s]\n",
      "100%|██████████| 425/425 [00:36<00:00, 11.61it/s]\n",
      "[2024-04-13 00:45:28,920]::2239881090::DEBUG::Epoch: 74 , 1-MAE: 0.9124 , 1-val_avg_o_loss:0.9131 , 1-val_avg_c_loss:0.9082 , 1-val_avg_e_loss:0.9122 , 1-val_avg_a_loss:0.9164 , 1-val_avg_n_loss:0.9121\n",
      "100%|██████████| 1269/1269 [05:03<00:00,  4.18it/s]\n",
      "100%|██████████| 425/425 [00:36<00:00, 11.62it/s]\n",
      "[2024-04-13 00:51:13,422]::2239881090::DEBUG::Epoch: 75 , 1-MAE: 0.9125 , 1-val_avg_o_loss:0.9151 , 1-val_avg_c_loss:0.9075 , 1-val_avg_e_loss:0.9113 , 1-val_avg_a_loss:0.9166 , 1-val_avg_n_loss:0.9118\n",
      "100%|██████████| 1269/1269 [05:04<00:00,  4.16it/s]\n",
      "100%|██████████| 425/425 [00:36<00:00, 11.59it/s]\n",
      "[2024-04-13 00:56:56,433]::2239881090::DEBUG::Epoch: 76 , 1-MAE: 0.9127 , 1-val_avg_o_loss:0.9158 , 1-val_avg_c_loss:0.9074 , 1-val_avg_e_loss:0.9126 , 1-val_avg_a_loss:0.9163 , 1-val_avg_n_loss:0.9112\n",
      "100%|██████████| 1269/1269 [05:04<00:00,  4.16it/s]\n",
      "100%|██████████| 425/425 [00:36<00:00, 11.57it/s]\n",
      "[2024-04-13 01:02:39,488]::2239881090::DEBUG::Epoch: 77 , 1-MAE: 0.9120 , 1-val_avg_o_loss:0.9143 , 1-val_avg_c_loss:0.9067 , 1-val_avg_e_loss:0.9113 , 1-val_avg_a_loss:0.9160 , 1-val_avg_n_loss:0.9119\n",
      "100%|██████████| 1269/1269 [05:04<00:00,  4.16it/s]\n",
      "100%|██████████| 425/425 [00:36<00:00, 11.60it/s]\n",
      "[2024-04-13 01:08:22,617]::2239881090::DEBUG::Epoch: 78 , 1-MAE: 0.9130 , 1-val_avg_o_loss:0.9150 , 1-val_avg_c_loss:0.9089 , 1-val_avg_e_loss:0.9127 , 1-val_avg_a_loss:0.9169 , 1-val_avg_n_loss:0.9116\n",
      "100%|██████████| 1269/1269 [05:04<00:00,  4.17it/s]\n",
      "100%|██████████| 425/425 [00:36<00:00, 11.57it/s]\n",
      "[2024-04-13 01:14:05,445]::2239881090::DEBUG::Epoch: 79 , 1-MAE: 0.9135 , 1-val_avg_o_loss:0.9160 , 1-val_avg_c_loss:0.9090 , 1-val_avg_e_loss:0.9130 , 1-val_avg_a_loss:0.9165 , 1-val_avg_n_loss:0.9131\n",
      "100%|██████████| 1269/1269 [05:04<00:00,  4.16it/s]\n",
      "100%|██████████| 425/425 [00:36<00:00, 11.56it/s]\n",
      "[2024-04-13 01:19:51,188]::2239881090::DEBUG::Epoch: 80 , 1-MAE: 0.9119 , 1-val_avg_o_loss:0.9137 , 1-val_avg_c_loss:0.9074 , 1-val_avg_e_loss:0.9123 , 1-val_avg_a_loss:0.9150 , 1-val_avg_n_loss:0.9113\n",
      "100%|██████████| 1269/1269 [05:04<00:00,  4.17it/s]\n",
      "100%|██████████| 425/425 [00:36<00:00, 11.54it/s]\n",
      "[2024-04-13 01:25:34,230]::2239881090::DEBUG::Epoch: 81 , 1-MAE: 0.9115 , 1-val_avg_o_loss:0.9109 , 1-val_avg_c_loss:0.9081 , 1-val_avg_e_loss:0.9114 , 1-val_avg_a_loss:0.9154 , 1-val_avg_n_loss:0.9117\n",
      "100%|██████████| 1269/1269 [05:04<00:00,  4.16it/s]\n",
      "100%|██████████| 425/425 [00:36<00:00, 11.59it/s]\n",
      "[2024-04-13 01:31:17,282]::2239881090::DEBUG::Epoch: 82 , 1-MAE: 0.9114 , 1-val_avg_o_loss:0.9138 , 1-val_avg_c_loss:0.9055 , 1-val_avg_e_loss:0.9107 , 1-val_avg_a_loss:0.9164 , 1-val_avg_n_loss:0.9104\n",
      "100%|██████████| 1269/1269 [05:04<00:00,  4.16it/s]\n",
      "100%|██████████| 425/425 [00:36<00:00, 11.54it/s]\n",
      "[2024-04-13 01:37:00,240]::2239881090::DEBUG::Epoch: 83 , 1-MAE: 0.9123 , 1-val_avg_o_loss:0.9157 , 1-val_avg_c_loss:0.9077 , 1-val_avg_e_loss:0.9121 , 1-val_avg_a_loss:0.9135 , 1-val_avg_n_loss:0.9123\n",
      "100%|██████████| 1269/1269 [05:04<00:00,  4.17it/s]\n",
      "100%|██████████| 425/425 [00:36<00:00, 11.50it/s]\n",
      "[2024-04-13 01:42:43,296]::2239881090::DEBUG::Epoch: 84 , 1-MAE: 0.9123 , 1-val_avg_o_loss:0.9140 , 1-val_avg_c_loss:0.9084 , 1-val_avg_e_loss:0.9112 , 1-val_avg_a_loss:0.9159 , 1-val_avg_n_loss:0.9121\n",
      "100%|██████████| 1269/1269 [05:04<00:00,  4.17it/s]\n",
      "100%|██████████| 425/425 [00:36<00:00, 11.52it/s]\n",
      "[2024-04-13 01:48:28,949]::2239881090::DEBUG::Epoch: 85 , 1-MAE: 0.9122 , 1-val_avg_o_loss:0.9143 , 1-val_avg_c_loss:0.9077 , 1-val_avg_e_loss:0.9123 , 1-val_avg_a_loss:0.9154 , 1-val_avg_n_loss:0.9115\n",
      "100%|██████████| 1269/1269 [05:04<00:00,  4.16it/s]\n",
      "100%|██████████| 425/425 [00:36<00:00, 11.57it/s]\n",
      "[2024-04-13 01:54:12,015]::2239881090::DEBUG::Epoch: 86 , 1-MAE: 0.9130 , 1-val_avg_o_loss:0.9153 , 1-val_avg_c_loss:0.9084 , 1-val_avg_e_loss:0.9127 , 1-val_avg_a_loss:0.9166 , 1-val_avg_n_loss:0.9122\n",
      "100%|██████████| 1269/1269 [05:04<00:00,  4.16it/s]\n",
      "100%|██████████| 425/425 [00:36<00:00, 11.54it/s]\n",
      "[2024-04-13 01:59:54,994]::2239881090::DEBUG::Epoch: 87 , 1-MAE: 0.9129 , 1-val_avg_o_loss:0.9148 , 1-val_avg_c_loss:0.9082 , 1-val_avg_e_loss:0.9126 , 1-val_avg_a_loss:0.9162 , 1-val_avg_n_loss:0.9125\n",
      "100%|██████████| 1269/1269 [05:04<00:00,  4.17it/s]\n",
      "100%|██████████| 425/425 [00:36<00:00, 11.63it/s]\n",
      "[2024-04-13 02:05:37,333]::2239881090::DEBUG::Epoch: 88 , 1-MAE: 0.9112 , 1-val_avg_o_loss:0.9122 , 1-val_avg_c_loss:0.9072 , 1-val_avg_e_loss:0.9106 , 1-val_avg_a_loss:0.9154 , 1-val_avg_n_loss:0.9108\n",
      "100%|██████████| 1269/1269 [05:04<00:00,  4.16it/s]\n",
      "100%|██████████| 425/425 [00:36<00:00, 11.58it/s]\n",
      "[2024-04-13 02:11:20,394]::2239881090::DEBUG::Epoch: 89 , 1-MAE: 0.9114 , 1-val_avg_o_loss:0.9123 , 1-val_avg_c_loss:0.9074 , 1-val_avg_e_loss:0.9113 , 1-val_avg_a_loss:0.9148 , 1-val_avg_n_loss:0.9111\n",
      "100%|██████████| 1269/1269 [05:04<00:00,  4.16it/s]\n",
      "100%|██████████| 425/425 [00:36<00:00, 11.55it/s]\n",
      "[2024-04-13 02:17:05,955]::2239881090::DEBUG::Epoch: 90 , 1-MAE: 0.9131 , 1-val_avg_o_loss:0.9148 , 1-val_avg_c_loss:0.9081 , 1-val_avg_e_loss:0.9138 , 1-val_avg_a_loss:0.9163 , 1-val_avg_n_loss:0.9123\n",
      "100%|██████████| 1269/1269 [05:04<00:00,  4.17it/s]\n",
      "100%|██████████| 425/425 [00:36<00:00, 11.60it/s]\n",
      "[2024-04-13 02:22:48,534]::2239881090::DEBUG::Epoch: 91 , 1-MAE: 0.9130 , 1-val_avg_o_loss:0.9158 , 1-val_avg_c_loss:0.9084 , 1-val_avg_e_loss:0.9126 , 1-val_avg_a_loss:0.9156 , 1-val_avg_n_loss:0.9126\n",
      "100%|██████████| 1269/1269 [05:04<00:00,  4.16it/s]\n",
      "100%|██████████| 425/425 [00:36<00:00, 11.56it/s]\n",
      "[2024-04-13 02:28:31,607]::2239881090::DEBUG::Epoch: 92 , 1-MAE: 0.9114 , 1-val_avg_o_loss:0.9134 , 1-val_avg_c_loss:0.9073 , 1-val_avg_e_loss:0.9117 , 1-val_avg_a_loss:0.9153 , 1-val_avg_n_loss:0.9095\n",
      "100%|██████████| 1269/1269 [05:04<00:00,  4.16it/s]\n",
      "100%|██████████| 425/425 [00:36<00:00, 11.50it/s]\n",
      "[2024-04-13 02:34:14,799]::2239881090::DEBUG::Epoch: 93 , 1-MAE: 0.9126 , 1-val_avg_o_loss:0.9149 , 1-val_avg_c_loss:0.9078 , 1-val_avg_e_loss:0.9121 , 1-val_avg_a_loss:0.9159 , 1-val_avg_n_loss:0.9124\n",
      "100%|██████████| 1269/1269 [05:05<00:00,  4.16it/s]\n",
      "100%|██████████| 425/425 [00:36<00:00, 11.64it/s]\n",
      "[2024-04-13 02:39:57,967]::2239881090::DEBUG::Epoch: 94 , 1-MAE: 0.9119 , 1-val_avg_o_loss:0.9138 , 1-val_avg_c_loss:0.9054 , 1-val_avg_e_loss:0.9121 , 1-val_avg_a_loss:0.9161 , 1-val_avg_n_loss:0.9123\n",
      "100%|██████████| 1269/1269 [05:04<00:00,  4.16it/s]\n",
      "100%|██████████| 425/425 [00:36<00:00, 11.55it/s]\n",
      "[2024-04-13 02:45:43,381]::2239881090::DEBUG::Epoch: 95 , 1-MAE: 0.9130 , 1-val_avg_o_loss:0.9144 , 1-val_avg_c_loss:0.9076 , 1-val_avg_e_loss:0.9138 , 1-val_avg_a_loss:0.9170 , 1-val_avg_n_loss:0.9123\n",
      "100%|██████████| 1269/1269 [05:04<00:00,  4.16it/s]\n",
      "100%|██████████| 425/425 [00:36<00:00, 11.64it/s]\n",
      "[2024-04-13 02:51:26,287]::2239881090::DEBUG::Epoch: 96 , 1-MAE: 0.9122 , 1-val_avg_o_loss:0.9148 , 1-val_avg_c_loss:0.9081 , 1-val_avg_e_loss:0.9112 , 1-val_avg_a_loss:0.9156 , 1-val_avg_n_loss:0.9113\n",
      "100%|██████████| 1269/1269 [05:04<00:00,  4.16it/s]\n",
      "100%|██████████| 425/425 [00:36<00:00, 11.58it/s]\n",
      "[2024-04-13 02:57:09,256]::2239881090::DEBUG::Epoch: 97 , 1-MAE: 0.9121 , 1-val_avg_o_loss:0.9124 , 1-val_avg_c_loss:0.9081 , 1-val_avg_e_loss:0.9112 , 1-val_avg_a_loss:0.9166 , 1-val_avg_n_loss:0.9122\n",
      "100%|██████████| 1269/1269 [05:04<00:00,  4.16it/s]\n",
      "100%|██████████| 425/425 [00:36<00:00, 11.56it/s]\n",
      "[2024-04-13 03:02:52,255]::2239881090::DEBUG::Epoch: 98 , 1-MAE: 0.9121 , 1-val_avg_o_loss:0.9127 , 1-val_avg_c_loss:0.9085 , 1-val_avg_e_loss:0.9132 , 1-val_avg_a_loss:0.9148 , 1-val_avg_n_loss:0.9112\n",
      "100%|██████████| 1269/1269 [05:04<00:00,  4.17it/s]\n",
      "100%|██████████| 425/425 [00:36<00:00, 11.53it/s]\n",
      "[2024-04-13 03:08:35,188]::2239881090::DEBUG::Epoch: 99 , 1-MAE: 0.9125 , 1-val_avg_o_loss:0.9145 , 1-val_avg_c_loss:0.9071 , 1-val_avg_e_loss:0.9135 , 1-val_avg_a_loss:0.9154 , 1-val_avg_n_loss:0.9118\n",
      "100%|██████████| 1269/1269 [05:04<00:00,  4.16it/s]\n",
      "100%|██████████| 425/425 [00:36<00:00, 11.50it/s]\n",
      "[2024-04-13 03:14:20,968]::2239881090::DEBUG::Epoch: 100 , 1-MAE: 0.9121 , 1-val_avg_o_loss:0.9137 , 1-val_avg_c_loss:0.9060 , 1-val_avg_e_loss:0.9113 , 1-val_avg_a_loss:0.9164 , 1-val_avg_n_loss:0.9128\n",
      "100%|██████████| 1269/1269 [05:05<00:00,  4.16it/s]\n",
      "100%|██████████| 425/425 [00:36<00:00, 11.62it/s]\n",
      "[2024-04-13 03:20:04,225]::2239881090::DEBUG::Epoch: 101 , 1-MAE: 0.9129 , 1-val_avg_o_loss:0.9139 , 1-val_avg_c_loss:0.9084 , 1-val_avg_e_loss:0.9130 , 1-val_avg_a_loss:0.9166 , 1-val_avg_n_loss:0.9126\n",
      "100%|██████████| 1269/1269 [05:04<00:00,  4.16it/s]\n",
      "100%|██████████| 425/425 [00:36<00:00, 11.50it/s]\n",
      "[2024-04-13 03:25:47,471]::2239881090::DEBUG::Epoch: 102 , 1-MAE: 0.9123 , 1-val_avg_o_loss:0.9133 , 1-val_avg_c_loss:0.9069 , 1-val_avg_e_loss:0.9123 , 1-val_avg_a_loss:0.9166 , 1-val_avg_n_loss:0.9124\n",
      "100%|██████████| 1269/1269 [05:04<00:00,  4.16it/s]\n",
      "100%|██████████| 425/425 [00:36<00:00, 11.56it/s]\n",
      "[2024-04-13 03:31:30,473]::2239881090::DEBUG::Epoch: 103 , 1-MAE: 0.9117 , 1-val_avg_o_loss:0.9141 , 1-val_avg_c_loss:0.9053 , 1-val_avg_e_loss:0.9117 , 1-val_avg_a_loss:0.9161 , 1-val_avg_n_loss:0.9111\n",
      "100%|██████████| 1269/1269 [05:04<00:00,  4.17it/s]\n",
      "100%|██████████| 425/425 [00:36<00:00, 11.54it/s]\n",
      "[2024-04-13 03:37:13,260]::2239881090::DEBUG::Epoch: 104 , 1-MAE: 0.9118 , 1-val_avg_o_loss:0.9134 , 1-val_avg_c_loss:0.9057 , 1-val_avg_e_loss:0.9118 , 1-val_avg_a_loss:0.9159 , 1-val_avg_n_loss:0.9121\n",
      "100%|██████████| 1269/1269 [05:04<00:00,  4.17it/s]\n",
      "100%|██████████| 425/425 [00:36<00:00, 11.57it/s]\n",
      "[2024-04-13 03:42:58,537]::2239881090::DEBUG::Epoch: 105 , 1-MAE: 0.9116 , 1-val_avg_o_loss:0.9144 , 1-val_avg_c_loss:0.9049 , 1-val_avg_e_loss:0.9120 , 1-val_avg_a_loss:0.9157 , 1-val_avg_n_loss:0.9110\n",
      "100%|██████████| 1269/1269 [05:04<00:00,  4.16it/s]\n",
      "100%|██████████| 425/425 [00:36<00:00, 11.61it/s]\n",
      "[2024-04-13 03:48:41,522]::2239881090::DEBUG::Epoch: 106 , 1-MAE: 0.9118 , 1-val_avg_o_loss:0.9143 , 1-val_avg_c_loss:0.9054 , 1-val_avg_e_loss:0.9116 , 1-val_avg_a_loss:0.9164 , 1-val_avg_n_loss:0.9112\n",
      "100%|██████████| 1269/1269 [05:04<00:00,  4.17it/s]\n",
      "100%|██████████| 425/425 [00:37<00:00, 11.47it/s]\n",
      "[2024-04-13 03:54:24,546]::2239881090::DEBUG::Epoch: 107 , 1-MAE: 0.9121 , 1-val_avg_o_loss:0.9145 , 1-val_avg_c_loss:0.9062 , 1-val_avg_e_loss:0.9126 , 1-val_avg_a_loss:0.9156 , 1-val_avg_n_loss:0.9114\n",
      "100%|██████████| 1269/1269 [05:04<00:00,  4.16it/s]\n",
      "100%|██████████| 425/425 [00:36<00:00, 11.58it/s]\n",
      "[2024-04-13 04:00:07,501]::2239881090::DEBUG::Epoch: 108 , 1-MAE: 0.9119 , 1-val_avg_o_loss:0.9138 , 1-val_avg_c_loss:0.9064 , 1-val_avg_e_loss:0.9125 , 1-val_avg_a_loss:0.9158 , 1-val_avg_n_loss:0.9109\n",
      "100%|██████████| 1269/1269 [05:04<00:00,  4.16it/s]\n",
      "100%|██████████| 425/425 [00:36<00:00, 11.52it/s]\n",
      "[2024-04-13 04:05:50,731]::2239881090::DEBUG::Epoch: 109 , 1-MAE: 0.9114 , 1-val_avg_o_loss:0.9139 , 1-val_avg_c_loss:0.9055 , 1-val_avg_e_loss:0.9117 , 1-val_avg_a_loss:0.9156 , 1-val_avg_n_loss:0.9106\n",
      "100%|██████████| 1269/1269 [05:04<00:00,  4.17it/s]\n",
      "100%|██████████| 425/425 [00:37<00:00, 11.47it/s]\n",
      "[2024-04-13 04:11:36,420]::2239881090::DEBUG::Epoch: 110 , 1-MAE: 0.9124 , 1-val_avg_o_loss:0.9146 , 1-val_avg_c_loss:0.9055 , 1-val_avg_e_loss:0.9126 , 1-val_avg_a_loss:0.9170 , 1-val_avg_n_loss:0.9121\n",
      "100%|██████████| 1269/1269 [05:04<00:00,  4.16it/s]\n",
      "100%|██████████| 425/425 [00:36<00:00, 11.57it/s]\n",
      "[2024-04-13 04:17:19,517]::2239881090::DEBUG::Epoch: 111 , 1-MAE: 0.9125 , 1-val_avg_o_loss:0.9151 , 1-val_avg_c_loss:0.9062 , 1-val_avg_e_loss:0.9126 , 1-val_avg_a_loss:0.9174 , 1-val_avg_n_loss:0.9113\n",
      "100%|██████████| 1269/1269 [05:04<00:00,  4.16it/s]\n",
      "100%|██████████| 425/425 [00:36<00:00, 11.51it/s]\n",
      "[2024-04-13 04:23:02,597]::2239881090::DEBUG::Epoch: 112 , 1-MAE: 0.9128 , 1-val_avg_o_loss:0.9145 , 1-val_avg_c_loss:0.9062 , 1-val_avg_e_loss:0.9133 , 1-val_avg_a_loss:0.9175 , 1-val_avg_n_loss:0.9124\n",
      "100%|██████████| 1269/1269 [05:04<00:00,  4.17it/s]\n",
      "100%|██████████| 425/425 [00:36<00:00, 11.59it/s]\n",
      "[2024-04-13 04:28:45,395]::2239881090::DEBUG::Epoch: 113 , 1-MAE: 0.9122 , 1-val_avg_o_loss:0.9137 , 1-val_avg_c_loss:0.9067 , 1-val_avg_e_loss:0.9121 , 1-val_avg_a_loss:0.9172 , 1-val_avg_n_loss:0.9115\n",
      "100%|██████████| 1269/1269 [05:04<00:00,  4.16it/s]\n",
      "100%|██████████| 425/425 [00:36<00:00, 11.58it/s]\n",
      "[2024-04-13 04:34:28,304]::2239881090::DEBUG::Epoch: 114 , 1-MAE: 0.9124 , 1-val_avg_o_loss:0.9149 , 1-val_avg_c_loss:0.9077 , 1-val_avg_e_loss:0.9116 , 1-val_avg_a_loss:0.9157 , 1-val_avg_n_loss:0.9119\n",
      "100%|██████████| 1269/1269 [05:04<00:00,  4.17it/s]\n",
      "100%|██████████| 425/425 [00:36<00:00, 11.52it/s]\n",
      "[2024-04-13 04:40:13,819]::2239881090::DEBUG::Epoch: 115 , 1-MAE: 0.9114 , 1-val_avg_o_loss:0.9132 , 1-val_avg_c_loss:0.9048 , 1-val_avg_e_loss:0.9114 , 1-val_avg_a_loss:0.9164 , 1-val_avg_n_loss:0.9115\n",
      "100%|██████████| 1269/1269 [05:04<00:00,  4.16it/s]\n",
      "100%|██████████| 425/425 [00:36<00:00, 11.58it/s]\n",
      "[2024-04-13 04:45:56,787]::2239881090::DEBUG::Epoch: 116 , 1-MAE: 0.9120 , 1-val_avg_o_loss:0.9136 , 1-val_avg_c_loss:0.9060 , 1-val_avg_e_loss:0.9130 , 1-val_avg_a_loss:0.9161 , 1-val_avg_n_loss:0.9110\n",
      "100%|██████████| 1269/1269 [05:04<00:00,  4.17it/s]\n",
      "100%|██████████| 425/425 [00:36<00:00, 11.56it/s]\n",
      "[2024-04-13 04:51:39,258]::2239881090::DEBUG::Epoch: 117 , 1-MAE: 0.9120 , 1-val_avg_o_loss:0.9141 , 1-val_avg_c_loss:0.9065 , 1-val_avg_e_loss:0.9121 , 1-val_avg_a_loss:0.9159 , 1-val_avg_n_loss:0.9112\n",
      "100%|██████████| 1269/1269 [05:05<00:00,  4.16it/s]\n",
      "100%|██████████| 425/425 [00:36<00:00, 11.65it/s]\n",
      "[2024-04-13 04:57:22,315]::2239881090::DEBUG::Epoch: 118 , 1-MAE: 0.9121 , 1-val_avg_o_loss:0.9137 , 1-val_avg_c_loss:0.9068 , 1-val_avg_e_loss:0.9118 , 1-val_avg_a_loss:0.9165 , 1-val_avg_n_loss:0.9116\n",
      "100%|██████████| 1269/1269 [05:04<00:00,  4.16it/s]\n",
      "100%|██████████| 425/425 [00:36<00:00, 11.60it/s]\n",
      "[2024-04-13 05:03:05,145]::2239881090::DEBUG::Epoch: 119 , 1-MAE: 0.9116 , 1-val_avg_o_loss:0.9134 , 1-val_avg_c_loss:0.9066 , 1-val_avg_e_loss:0.9114 , 1-val_avg_a_loss:0.9152 , 1-val_avg_n_loss:0.9111\n",
      "100%|██████████| 1269/1269 [05:05<00:00,  4.16it/s]\n",
      "100%|██████████| 425/425 [00:36<00:00, 11.59it/s]\n",
      "[2024-04-13 05:08:51,133]::2239881090::DEBUG::Epoch: 120 , 1-MAE: 0.9123 , 1-val_avg_o_loss:0.9150 , 1-val_avg_c_loss:0.9078 , 1-val_avg_e_loss:0.9113 , 1-val_avg_a_loss:0.9159 , 1-val_avg_n_loss:0.9116\n"
     ]
    }
   ],
   "source": [
    "with torch.cuda.device(1):\n",
    "    for i in range(start_epoch, epochs):\n",
    "        train_avg_loss = 0\n",
    "        val_avg_loss = 0\n",
    "        train_avg_o_loss = 0\n",
    "        train_avg_c_loss = 0\n",
    "        train_avg_e_loss = 0\n",
    "        train_avg_a_loss = 0\n",
    "        train_avg_n_loss = 0\n",
    "        val_avg_o_loss = 0\n",
    "        val_avg_c_loss = 0\n",
    "        val_avg_e_loss = 0\n",
    "        val_avg_a_loss = 0\n",
    "        val_avg_n_loss = 0\n",
    "        for audiodata,fullshot,big_five_data in tqdm(train_dataloader):\n",
    "            big_five_data=big_five_data.permute(0,2,1)\n",
    "            big_five_data=big_five_data.squeeze()\n",
    "            audiodata = audiodata.to(device)\n",
    "            fullshot = fullshot.to(device)\n",
    "            big_five_data = big_five_data.to(device)\n",
    "            optimizer.zero_grad()  # 기울기가 0이 됩니다.\n",
    "            hypothesis = model(fullshot,audiodata)  # 모델의 예측 결과를 저장합니다.\n",
    "            loss = criterion(hypothesis, big_five_data)  # 예측된 결과와 실제 태그 사이의 손실 값을 저장합니다.\n",
    "            loss.backward()  # 역방향 전파입니다. \n",
    "            optimizer.step()  \n",
    "            train_avg_loss += loss  \n",
    "        train_avg_loss=train_avg_loss/len(train_dataloader)\n",
    "        with torch.no_grad():#validate\n",
    "            for audiodata,fullshot,big_five_data in tqdm(val_dataloader):\n",
    "                big_five_data=big_five_data.permute(0,2,1)\n",
    "                big_five_data=big_five_data.squeeze()\n",
    "                audiodata = audiodata.to(device)\n",
    "                fullshot = fullshot.to(device)\n",
    "                big_five_data = big_five_data.to(device)\n",
    "                hypothesis = model(fullshot,audiodata)\n",
    "                val_loss = criterion(hypothesis, big_five_data)\n",
    "                hypothesiso,hypothesisc,hypothesise,hypothesisa,hypothesisn=extract_ocean(hypothesis,batchsz)\n",
    "                big_five_datao,big_five_datac,big_five_datae,big_five_dataa,big_five_datan=extract_ocean(big_five_data,batchsz)\n",
    "                val_o_loss = criterion(hypothesiso, big_five_datao) \n",
    "                val_c_loss = criterion(hypothesisc, big_five_datac) \n",
    "                val_e_loss = criterion(hypothesise, big_five_datae) \n",
    "                val_a_loss = criterion(hypothesisa, big_five_dataa) \n",
    "                val_n_loss = criterion(hypothesisn, big_five_datan)  \n",
    "                val_avg_loss += val_loss\n",
    "                val_avg_o_loss += val_o_loss\n",
    "                val_avg_c_loss += val_c_loss\n",
    "                val_avg_e_loss += val_e_loss\n",
    "                val_avg_a_loss += val_a_loss\n",
    "                val_avg_n_loss += val_n_loss\n",
    "            val_avg_loss=val_avg_loss/len(val_dataloader)\n",
    "            val_avg_o_loss=val_avg_o_loss/len(val_dataloader)\n",
    "            val_avg_c_loss=val_avg_c_loss/len(val_dataloader)\n",
    "            val_avg_e_loss=val_avg_e_loss/len(val_dataloader)\n",
    "            val_avg_a_loss=val_avg_a_loss/len(val_dataloader)\n",
    "            val_avg_n_loss=val_avg_n_loss/len(val_dataloader)\n",
    "        torch.cuda.empty_cache()\n",
    "        # if (1-val_avg_loss)>=(1-max_value):\n",
    "        max_value=val_avg_loss\n",
    "        start_epoch+=1\n",
    "        if (i + 1) % 5 == 0:\n",
    "            torch.save({\n",
    "                    'epoch': i+1,\n",
    "                    'model': model.state_dict(),\n",
    "                    'optimizer': optimizer.state_dict(),\n",
    "                    'loss': val_avg_loss,\n",
    "                }, save_model_file_path.format('model',start_epoch,'pth'))\n",
    "        logger.debug('Epoch: {} , 1-MAE: {:.4f} , 1-val_avg_o_loss:{:.4f} , 1-val_avg_c_loss:{:.4f} , 1-val_avg_e_loss:{:.4f} , 1-val_avg_a_loss:{:.4f} , 1-val_avg_n_loss:{:.4f}'.format(i+1, 1-val_avg_loss, 1-val_avg_o_loss, 1-val_avg_c_loss, 1-val_avg_e_loss, 1-val_avg_a_loss,1-val_avg_n_loss))\n",
    "    "
   ]
  },
  {
   "cell_type": "code",
   "execution_count": 20,
   "metadata": {},
   "outputs": [],
   "source": [
    "# from torchinfo import summary\n",
    "\n",
    "# summary(model, input_size = (4,15,4,3,224,224))"
   ]
  },
  {
   "cell_type": "code",
   "execution_count": null,
   "metadata": {},
   "outputs": [],
   "source": []
  }
 ],
 "metadata": {
  "kernelspec": {
   "display_name": "Python 3",
   "language": "python",
   "name": "python3"
  },
  "language_info": {
   "codemirror_mode": {
    "name": "ipython",
    "version": 3
   },
   "file_extension": ".py",
   "mimetype": "text/x-python",
   "name": "python",
   "nbconvert_exporter": "python",
   "pygments_lexer": "ipython3",
   "version": "3.10.11"
  }
 },
 "nbformat": 4,
 "nbformat_minor": 4
}
