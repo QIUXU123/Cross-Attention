{
 "cells": [
  {
   "cell_type": "code",
   "execution_count": 1,
   "metadata": {},
   "outputs": [],
   "source": [
    "import librosa\n",
    "import librosa.display\n",
    "import numpy as np\n",
    "import pandas as pd\n",
    "import os\n",
    "from typing import List, Tuple, Dict\n",
    "import matplotlib.pyplot as plt\n",
    "import random\n",
    "import cv2\n",
    "# from vgg16 import VGG16_LSTM\n",
    "import pickle\n",
    "import torch.nn as nn\n",
    "import torch\n",
    "import datetime\n",
    "import torch.nn.functional as F\n",
    "import torchvision.models as models\n",
    "from torchvision import transforms, utils, models\n",
    "from torch.utils.data import Dataset, DataLoader\n",
    "from facenet_pytorch import MTCNN\n",
    "import logging\n",
    "import torch\n",
    "import torch.nn as nn\n",
    "from qx_noface_no2d_video_swin_transformer01 import SwinTransformer3D\n",
    "import gc\n",
    "from einops import rearrange\n",
    "from tqdm import tqdm\n",
    "# from kw_r2plus1d_video_swin_transformer import SwinTransformer3D\n",
    "batchsz = 4\n",
    "frame_nums=15\n",
    "start_epoch = 0\n",
    "test_flage=False\n",
    "model_name =\"fullshot and ast\"\n",
    "logger = logging.getLogger(__name__)\n",
    "logger.setLevel(logging.DEBUG)\n",
    "formatter = logging.Formatter('[%(asctime)s]::%(module)s::%(levelname)s::%(message)s')\n",
    "streamHandler = logging.StreamHandler()\n",
    "streamHandler.setFormatter(formatter)\n",
    "fileHandler = logging.FileHandler('./LOG/personalityLog.log')\n",
    "fileHandler.setFormatter(formatter)\n",
    "logger.addHandler(streamHandler)\n",
    "logger.addHandler(fileHandler)\n",
    "USE_CUDA = torch.cuda.is_available()\n",
    "# device = torch.device('cuda:1' if USE_CUDA else 'cpu')"
   ]
  },
  {
   "cell_type": "code",
   "execution_count": 2,
   "metadata": {},
   "outputs": [
    {
     "name": "stderr",
     "output_type": "stream",
     "text": [
      "[2024-03-25 18:12:06,318]::3435124833::DEBUG::=============fullshot and ast+Video swin transformerTrain Strat!=============\n"
     ]
    },
    {
     "name": "stdout",
     "output_type": "stream",
     "text": [
      "True\n",
      "학습을 진행하는 기기: cuda:0\n"
     ]
    }
   ],
   "source": [
    "logger.debug('============={}+Video swin transformerTrain Strat!============='.format(model_name))\n",
    "USE_CUDA = torch.cuda.is_available()\n",
    "print(USE_CUDA)\n",
    "\n",
    "device = torch.device('cuda:0' if USE_CUDA else 'cpu')\n",
    "print('학습을 진행하는 기기:', device)"
   ]
  },
  {
   "cell_type": "code",
   "execution_count": 3,
   "metadata": {},
   "outputs": [
    {
     "name": "stdout",
     "output_type": "stream",
     "text": [
      "1\n"
     ]
    }
   ],
   "source": [
    "def select_frame_data(datas,frame_num):\n",
    "    data_set=[]\n",
    "    begin_num=0\n",
    "    x=128/frame_num\n",
    "    indexes=[None] * frame_num\n",
    "    for i in range(frame_num):\n",
    "        indexes[i]=int(begin_num)\n",
    "        begin_num+=x\n",
    "    for data in datas:\n",
    "        video_frames = [None] * 2\n",
    "        video_frames[0]=[]\n",
    "        video_frames[1]=[]\n",
    "        for index in indexes:\n",
    "            video_frames[0].append(data[0][index])\n",
    "        video_frames[1].append(data[1])\n",
    "        data_set.append(video_frames)\n",
    "        del video_frames\n",
    "        del data \n",
    "        gc.collect()\n",
    "    del datas\n",
    "    gc.collect()\n",
    "    return data_set\n",
    "print(1)"
   ]
  },
  {
   "cell_type": "code",
   "execution_count": 4,
   "metadata": {},
   "outputs": [
    {
     "name": "stdout",
     "output_type": "stream",
     "text": [
      "1\n"
     ]
    }
   ],
   "source": [
    "def getdata(pathname,datatype):\n",
    "    if datatype==\"train\":\n",
    "        final_data_set=[]\n",
    "        output_file=open(pathname, \"rb\")\n",
    "        for i in range(1):\n",
    "            # train_data_set.extend(pickle.load(output_file))\n",
    "            final_data_set.extend(pickle.load(output_file))\n",
    "            # print(i)\n",
    "        return final_data_set\n",
    "    elif datatype==\"valid\":\n",
    "        final_data_set=[]\n",
    "        output_file=open(pathname, \"rb\")\n",
    "        for i in range(1):\n",
    "            valid_data_set=[]\n",
    "            final_data_set.extend(pickle.load(output_file))\n",
    "            del valid_data_set\n",
    "        return final_data_set\n",
    "print(1)"
   ]
  },
  {
   "cell_type": "code",
   "execution_count": 5,
   "metadata": {},
   "outputs": [
    {
     "name": "stdout",
     "output_type": "stream",
     "text": [
      "1\n"
     ]
    }
   ],
   "source": [
    "def datasize(type,batchsz):\n",
    "    if type=='train':\n",
    "        i=5076#5967\n",
    "        while True:\n",
    "            if i%batchsz==0:\n",
    "                return i\n",
    "            else:\n",
    "                i-=1\n",
    "    else:\n",
    "        i=1700#1986\n",
    "        while True:\n",
    "            if i%batchsz==0:\n",
    "                return i\n",
    "            else:\n",
    "                i-=1\n",
    "print(1)"
   ]
  },
  {
   "cell_type": "code",
   "execution_count": 6,
   "metadata": {},
   "outputs": [
    {
     "name": "stdout",
     "output_type": "stream",
     "text": [
      "1\n"
     ]
    }
   ],
   "source": [
    "\n",
    "save_model_file_path = './save_swintransformer_folder/{}_{}.{}'\n",
    "mtcnn= MTCNN(image_size=224, margin=0, min_face_size= 20, thresholds=[0.6, 0.7, 0.7], post_process=True)\n",
    "# test_set_data=getdata(\"/home/ssrlab/qx/code/test/video-swin-transformer-pytorch/data/15Frames/test_set.dat\",\"test\")\n",
    "# test_set_data=test_set_data[:datasize(\"test\",batchsz)]\n",
    "print(1)"
   ]
  },
  {
   "cell_type": "code",
   "execution_count": 7,
   "metadata": {},
   "outputs": [
    {
     "name": "stdout",
     "output_type": "stream",
     "text": [
      "1\n"
     ]
    }
   ],
   "source": [
    "def reshape_to_expected_traininput(dataset: List[Tuple[ np.ndarray, np.ndarray]]) -> Tuple[\n",
    "     np.ndarray, np.ndarray]:\n",
    "    result=[]\n",
    "    for i in range(0, len(dataset[0])):\n",
    "        result.append((dataset[0][i],dataset[1][i],dataset[2][i],dataset[3][i],dataset[4][i],dataset[5][i]))\n",
    "    result = result[:datasize(\"train\",batchsz)]\n",
    "    x0_list = []\n",
    "    x1_list = []\n",
    "    x2_list = []\n",
    "    x3_list = []\n",
    "    x4_list = []\n",
    "    x5_list = []\n",
    "    for i in range(0, len(result)):\n",
    "        x0_list.append(result[i][0])\n",
    "        x1_list.append(result[i][1])\n",
    "        x2_list.append(result[i][2])\n",
    "        x3_list.append(result[i][3])\n",
    "        x4_list.append(result[i][4])\n",
    "        x5_list.append(result[i][5])\n",
    "    return (np.stack(x0_list), np.stack(x1_list), np.stack(x2_list),np.stack(x3_list), np.stack(x4_list), np.stack(x5_list))\n",
    "print(1)"
   ]
  },
  {
   "cell_type": "code",
   "execution_count": 8,
   "metadata": {},
   "outputs": [
    {
     "name": "stdout",
     "output_type": "stream",
     "text": [
      "1\n"
     ]
    }
   ],
   "source": [
    "def reshape_to_expected_validinput(dataset: List[Tuple[ np.ndarray, np.ndarray]]) -> Tuple[\n",
    "     np.ndarray, np.ndarray]:\n",
    "    result=[]\n",
    "    for i in range(0, len(dataset[0])):\n",
    "        result.append((dataset[0][i],dataset[1][i],dataset[2][i],dataset[3][i],dataset[4][i],dataset[5][i]))\n",
    "    result = result[:datasize(\"valid\",batchsz)]\n",
    "    x0_list = []\n",
    "    x1_list = []\n",
    "    x2_list = []\n",
    "    x3_list = []\n",
    "    x4_list = []\n",
    "    x5_list = []\n",
    "    for i in range(0, len(result)):\n",
    "        x0_list.append(result[i][0])\n",
    "        x1_list.append(result[i][1])\n",
    "        x2_list.append(result[i][2])\n",
    "        x3_list.append(result[i][3])\n",
    "        x4_list.append(result[i][4])\n",
    "        x5_list.append(result[i][5])\n",
    "    return (np.stack(x0_list), np.stack(x1_list), np.stack(x2_list),np.stack(x3_list), np.stack(x4_list), np.stack(x5_list))\n",
    "print(1)"
   ]
  },
  {
   "cell_type": "code",
   "execution_count": 9,
   "metadata": {},
   "outputs": [
    {
     "name": "stdout",
     "output_type": "stream",
     "text": [
      "1\n"
     ]
    }
   ],
   "source": [
    "train_set_data=getdata(\"/home/ssrlab/qx/code/test/video-swin-transformer-pytorch/data/15Frames/multidata/5076train_set.dat\",\"train\")\n",
    "train_set_data=reshape_to_expected_traininput(train_set_data)\n",
    "print(1)"
   ]
  },
  {
   "cell_type": "code",
   "execution_count": 10,
   "metadata": {},
   "outputs": [
    {
     "name": "stdout",
     "output_type": "stream",
     "text": [
      "1\n"
     ]
    }
   ],
   "source": [
    "validation_set_data=getdata(\"/home/ssrlab/qx/code/test/video-swin-transformer-pytorch/data/15Frames/multidata/1700valid_set.dat\",\"valid\")\n",
    "validation_set_data=reshape_to_expected_validinput(validation_set_data)\n",
    "print(1)"
   ]
  },
  {
   "cell_type": "code",
   "execution_count": 11,
   "metadata": {},
   "outputs": [
    {
     "name": "stdout",
     "output_type": "stream",
     "text": [
      "1\n"
     ]
    }
   ],
   "source": [
    "def imagecrop(imagedata,batchsz):\n",
    "    # convert_tensor= transforms.ToTensor()\n",
    "    output=[]\n",
    "    for j in range(batchsz):#비디오 데이터 batchsz(9) 개 있다\n",
    "        firstoutput=[]\n",
    "        for i in range(len(imagedata[j])):#imagedata에 15개의 프레임이 있다\n",
    "            # temp = convert_tensor(imagedata[i])\n",
    "            #이미지를 나누\n",
    "            temp = imagedata[j][i].unfold(1,112,112).unfold(2,112,112)\n",
    "            temp = rearrange(temp, 'c h1 w1 h w -> (h1 w1) c h w')\n",
    "            firstoutput.append(temp)\n",
    "        firstoutput = torch.stack(firstoutput,0)\n",
    "        output.append(firstoutput)\n",
    "    output = torch.stack(output,0)\n",
    "    return output\n",
    "print(1)"
   ]
  },
  {
   "cell_type": "code",
   "execution_count": 12,
   "metadata": {},
   "outputs": [
    {
     "name": "stdout",
     "output_type": "stream",
     "text": [
      "1\n"
     ]
    }
   ],
   "source": [
    "transform = transforms.Compose([\n",
    "    transforms.ToPILImage(),\n",
    "    transforms.ToTensor(),\n",
    "])\n",
    "print(1)"
   ]
  },
  {
   "cell_type": "code",
   "execution_count": 13,
   "metadata": {},
   "outputs": [
    {
     "name": "stdout",
     "output_type": "stream",
     "text": [
      "1\n"
     ]
    }
   ],
   "source": [
    "class ChalearnDataset(Dataset):\n",
    "    def __init__(self,fullshot,facedata,tagdata,transform=None):\n",
    "        self.facedata=facedata\n",
    "        self.fullshot=fullshot\n",
    "        self.tagdata=tagdata\n",
    "        self.transform = transform  # 표준화 여부\n",
    "    def __len__(self):\n",
    "        return len(self.fullshot)\n",
    "\n",
    "    def __getitem__(self, idx):\n",
    "        if torch.is_tensor(idx):\n",
    "            idx = idx.tolist()#텐서의 경우 목록으로 돌아가기\n",
    "        facedata = self.facedata[idx]\n",
    "        facedata = torch.FloatTensor(facedata)\n",
    "        fullshot=self.fullshot[idx]\n",
    "        fullshot=torch.FloatTensor(fullshot)\n",
    "        # image_data=image_data.reshape(15,3,224,224)\n",
    "        big_five_sorces=self.tagdata[idx]\n",
    "        big_five_sorces = torch.FloatTensor(big_five_sorces)\n",
    "        return fullshot,facedata,big_five_sorces\n",
    "print(1)"
   ]
  },
  {
   "cell_type": "code",
   "execution_count": 14,
   "metadata": {},
   "outputs": [
    {
     "name": "stdout",
     "output_type": "stream",
     "text": [
      "1\n"
     ]
    }
   ],
   "source": [
    "num_workerssz = 20\n",
    "lr = 3e-05\n",
    "epochs = 120\n",
    "#device = torch.device('cuda')\n",
    "# train_set_data = reshape_to_expected_input(train_set_data)\n",
    "# val_set_data = reshape_to_expected_input(validation_set_data)\n",
    "print(1)"
   ]
  },
  {
   "cell_type": "markdown",
   "metadata": {},
   "source": []
  },
  {
   "cell_type": "code",
   "execution_count": 15,
   "metadata": {},
   "outputs": [
    {
     "name": "stdout",
     "output_type": "stream",
     "text": [
      "1\n"
     ]
    }
   ],
   "source": [
    "train_set_data = ChalearnDataset(fullshot = train_set_data[1],facedata=train_set_data[2],tagdata=train_set_data[5],transform=transform)\n",
    "val_set_data = ChalearnDataset(fullshot = validation_set_data[1],facedata=validation_set_data[2],tagdata=validation_set_data[5],transform=transform)\n",
    "train_dataloader = DataLoader(dataset=train_set_data, batch_size=batchsz, shuffle=True, num_workers=num_workerssz)\n",
    "val_dataloader = DataLoader(dataset=val_set_data, batch_size=batchsz, shuffle=True, num_workers=num_workerssz)\n",
    "max_value=0\n",
    "print(1)"
   ]
  },
  {
   "cell_type": "code",
   "execution_count": 16,
   "metadata": {},
   "outputs": [
    {
     "name": "stderr",
     "output_type": "stream",
     "text": [
      "Some weights of AlbertModel were not initialized from the model checkpoint at text_model/ and are newly initialized: ['albert.pooler.weight', 'albert.pooler.bias']\n",
      "You should probably TRAIN this model on a down-stream task to be able to use it for predictions and inference.\n"
     ]
    },
    {
     "name": "stdout",
     "output_type": "stream",
     "text": [
      "---------------AST Model Summary---------------\n",
      "ImageNet pretraining: True, AudioSet pretraining: True\n",
      "frequncey stride=10, time stride=10\n",
      "number of patches=131\n"
     ]
    },
    {
     "name": "stderr",
     "output_type": "stream",
     "text": [
      "/home/ssrlab/anaconda3/envs/qx/lib/python3.10/site-packages/torch/functional.py:504: UserWarning: torch.meshgrid: in an upcoming release, it will be required to pass the indexing argument. (Triggered internally at ../aten/src/ATen/native/TensorShape.cpp:3483.)\n",
      "  return _VF.meshgrid(tensors, **kwargs)  # type: ignore[attr-defined]\n"
     ]
    },
    {
     "name": "stdout",
     "output_type": "stream",
     "text": [
      "1\n"
     ]
    }
   ],
   "source": [
    "model=SwinTransformer3D()#num_frames=frame_nums,batchsz = batchsz\n",
    "model.to(device)\n",
    "criterion = torch.nn.L1Loss().to(device)  # 손실함수\n",
    "optimizer = torch.optim.AdamW(model.parameters(), lr=lr) # 옵티마이저\n",
    "\n",
    "if test_flage==True:\n",
    "    checkpoint=torch.load(save_model_file_path.format('model',start_epoch,'pth'), map_location=device)\n",
    "    model.load_state_dict(checkpoint[\"model\"])\n",
    "    optimizer.load_state_dict(checkpoint[\"optimizer\"])\n",
    "    # criterion.load_state_dict(checkpoint[\"loss\"])\n",
    "train_avg_loss0=[]\n",
    "val_avg_loss0=[]\n",
    "print(1)"
   ]
  },
  {
   "cell_type": "code",
   "execution_count": 17,
   "metadata": {},
   "outputs": [],
   "source": [
    "# from torchinfo import summary\n",
    "\n",
    "# summary(model, input_size = ((8,15,224,224,3),(8,24,1319,1)), col_names = ['input_size','output_size','num_params'])"
   ]
  },
  {
   "cell_type": "code",
   "execution_count": 18,
   "metadata": {},
   "outputs": [],
   "source": [
    "def extract_ocean(data,batch_size):\n",
    "    o=[]\n",
    "    c=[]\n",
    "    e=[]\n",
    "    a=[]\n",
    "    n=[]\n",
    "    for i in range(batch_size):\n",
    "        o.append(data[i][0].item())\n",
    "        c.append(data[i][1].item())\n",
    "        e.append(data[i][2].item())\n",
    "        a.append(data[i][3].item())\n",
    "        n.append(data[i][4].item())\n",
    "    o = torch.tensor(o) \n",
    "    c = torch.tensor(c) \n",
    "    e = torch.tensor(e) \n",
    "    a = torch.tensor(a) \n",
    "    n = torch.tensor(n) \n",
    "    return o,c,e,a,n"
   ]
  },
  {
   "cell_type": "code",
   "execution_count": 19,
   "metadata": {},
   "outputs": [
    {
     "name": "stderr",
     "output_type": "stream",
     "text": [
      "100%|██████████| 1269/1269 [08:34<00:00,  2.47it/s]\n",
      "100%|██████████| 425/425 [01:01<00:00,  6.91it/s]\n",
      "[2024-03-25 18:23:07,165]::3857697113::DEBUG::Epoch: 1 , 1-MAE: 0.8771 , 1-val_avg_o_loss:0.8798 , 1-val_avg_c_loss:0.8798 , 1-val_avg_e_loss:0.8881 , 1-val_avg_a_loss:0.8742 , 1-val_avg_n_loss:0.8634\n",
      "100%|██████████| 1269/1269 [08:34<00:00,  2.47it/s]\n",
      "100%|██████████| 425/425 [01:01<00:00,  6.91it/s]\n",
      "[2024-03-25 18:32:44,497]::3857697113::DEBUG::Epoch: 2 , 1-MAE: 0.8919 , 1-val_avg_o_loss:0.8898 , 1-val_avg_c_loss:0.8886 , 1-val_avg_e_loss:0.9002 , 1-val_avg_a_loss:0.8842 , 1-val_avg_n_loss:0.8968\n",
      "100%|██████████| 1269/1269 [08:33<00:00,  2.47it/s]\n",
      "100%|██████████| 425/425 [01:01<00:00,  6.92it/s]\n",
      "[2024-03-25 18:42:21,351]::3857697113::DEBUG::Epoch: 3 , 1-MAE: 0.8944 , 1-val_avg_o_loss:0.8924 , 1-val_avg_c_loss:0.8911 , 1-val_avg_e_loss:0.9034 , 1-val_avg_a_loss:0.8882 , 1-val_avg_n_loss:0.8967\n",
      "100%|██████████| 1269/1269 [08:33<00:00,  2.47it/s]\n",
      "100%|██████████| 425/425 [01:01<00:00,  6.92it/s]\n",
      "[2024-03-25 18:51:58,873]::3857697113::DEBUG::Epoch: 4 , 1-MAE: 0.8976 , 1-val_avg_o_loss:0.9027 , 1-val_avg_c_loss:0.8923 , 1-val_avg_e_loss:0.8994 , 1-val_avg_a_loss:0.8888 , 1-val_avg_n_loss:0.9050\n",
      "100%|██████████| 1269/1269 [08:34<00:00,  2.47it/s]\n",
      "100%|██████████| 425/425 [01:01<00:00,  6.93it/s]\n",
      "[2024-03-25 19:01:37,903]::3857697113::DEBUG::Epoch: 5 , 1-MAE: 0.8926 , 1-val_avg_o_loss:0.9019 , 1-val_avg_c_loss:0.8920 , 1-val_avg_e_loss:0.9008 , 1-val_avg_a_loss:0.8887 , 1-val_avg_n_loss:0.8795\n",
      "100%|██████████| 1269/1269 [08:34<00:00,  2.47it/s]\n",
      "100%|██████████| 425/425 [01:01<00:00,  6.93it/s]\n",
      "[2024-03-25 19:11:15,255]::3857697113::DEBUG::Epoch: 6 , 1-MAE: 0.9010 , 1-val_avg_o_loss:0.8924 , 1-val_avg_c_loss:0.9025 , 1-val_avg_e_loss:0.9124 , 1-val_avg_a_loss:0.8914 , 1-val_avg_n_loss:0.9064\n",
      "100%|██████████| 1269/1269 [08:34<00:00,  2.47it/s]\n",
      "100%|██████████| 425/425 [01:01<00:00,  6.96it/s]\n",
      "[2024-03-25 19:20:52,726]::3857697113::DEBUG::Epoch: 7 , 1-MAE: 0.8947 , 1-val_avg_o_loss:0.9059 , 1-val_avg_c_loss:0.8900 , 1-val_avg_e_loss:0.9093 , 1-val_avg_a_loss:0.8600 , 1-val_avg_n_loss:0.9084\n",
      "100%|██████████| 1269/1269 [08:34<00:00,  2.47it/s]\n",
      "100%|██████████| 425/425 [01:00<00:00,  7.00it/s]\n",
      "[2024-03-25 19:30:29,806]::3857697113::DEBUG::Epoch: 8 , 1-MAE: 0.9060 , 1-val_avg_o_loss:0.9062 , 1-val_avg_c_loss:0.9043 , 1-val_avg_e_loss:0.9102 , 1-val_avg_a_loss:0.9007 , 1-val_avg_n_loss:0.9087\n",
      "100%|██████████| 1269/1269 [08:34<00:00,  2.46it/s]\n",
      "100%|██████████| 425/425 [01:00<00:00,  7.00it/s]\n",
      "[2024-03-25 19:40:07,747]::3857697113::DEBUG::Epoch: 9 , 1-MAE: 0.9026 , 1-val_avg_o_loss:0.9034 , 1-val_avg_c_loss:0.9016 , 1-val_avg_e_loss:0.9061 , 1-val_avg_a_loss:0.8997 , 1-val_avg_n_loss:0.9023\n",
      "100%|██████████| 1269/1269 [08:34<00:00,  2.47it/s]\n",
      "100%|██████████| 425/425 [01:01<00:00,  6.96it/s]\n",
      "[2024-03-25 19:49:46,063]::3857697113::DEBUG::Epoch: 10 , 1-MAE: 0.9064 , 1-val_avg_o_loss:0.9093 , 1-val_avg_c_loss:0.9018 , 1-val_avg_e_loss:0.9125 , 1-val_avg_a_loss:0.9009 , 1-val_avg_n_loss:0.9075\n",
      "100%|██████████| 1269/1269 [08:34<00:00,  2.47it/s]\n",
      "100%|██████████| 425/425 [01:00<00:00,  6.99it/s]\n",
      "[2024-03-25 19:59:23,000]::3857697113::DEBUG::Epoch: 11 , 1-MAE: 0.9063 , 1-val_avg_o_loss:0.9026 , 1-val_avg_c_loss:0.9052 , 1-val_avg_e_loss:0.9079 , 1-val_avg_a_loss:0.9048 , 1-val_avg_n_loss:0.9108\n",
      "100%|██████████| 1269/1269 [08:34<00:00,  2.47it/s]\n",
      "100%|██████████| 425/425 [01:00<00:00,  6.97it/s]\n",
      "[2024-03-25 20:09:00,371]::3857697113::DEBUG::Epoch: 12 , 1-MAE: 0.9055 , 1-val_avg_o_loss:0.9071 , 1-val_avg_c_loss:0.9039 , 1-val_avg_e_loss:0.9031 , 1-val_avg_a_loss:0.9038 , 1-val_avg_n_loss:0.9097\n",
      "100%|██████████| 1269/1269 [08:34<00:00,  2.47it/s]\n",
      "100%|██████████| 425/425 [01:00<00:00,  6.98it/s]\n",
      "[2024-03-25 20:18:37,689]::3857697113::DEBUG::Epoch: 13 , 1-MAE: 0.9076 , 1-val_avg_o_loss:0.9103 , 1-val_avg_c_loss:0.9044 , 1-val_avg_e_loss:0.9070 , 1-val_avg_a_loss:0.9075 , 1-val_avg_n_loss:0.9089\n",
      "100%|██████████| 1269/1269 [08:34<00:00,  2.46it/s]\n",
      "100%|██████████| 425/425 [01:00<00:00,  6.99it/s]\n",
      "[2024-03-25 20:28:15,191]::3857697113::DEBUG::Epoch: 14 , 1-MAE: 0.9047 , 1-val_avg_o_loss:0.9057 , 1-val_avg_c_loss:0.9043 , 1-val_avg_e_loss:0.9085 , 1-val_avg_a_loss:0.8997 , 1-val_avg_n_loss:0.9051\n",
      "100%|██████████| 1269/1269 [08:34<00:00,  2.47it/s]\n",
      "100%|██████████| 425/425 [01:01<00:00,  6.96it/s]\n",
      "[2024-03-25 20:37:54,120]::3857697113::DEBUG::Epoch: 15 , 1-MAE: 0.9076 , 1-val_avg_o_loss:0.9064 , 1-val_avg_c_loss:0.9058 , 1-val_avg_e_loss:0.9115 , 1-val_avg_a_loss:0.9069 , 1-val_avg_n_loss:0.9074\n",
      "100%|██████████| 1269/1269 [08:34<00:00,  2.47it/s]\n",
      "100%|██████████| 425/425 [01:00<00:00,  7.00it/s]\n",
      "[2024-03-25 20:47:31,211]::3857697113::DEBUG::Epoch: 16 , 1-MAE: 0.9083 , 1-val_avg_o_loss:0.9065 , 1-val_avg_c_loss:0.9041 , 1-val_avg_e_loss:0.9124 , 1-val_avg_a_loss:0.9080 , 1-val_avg_n_loss:0.9104\n",
      "100%|██████████| 1269/1269 [08:35<00:00,  2.46it/s]\n",
      "100%|██████████| 425/425 [01:00<00:00,  7.01it/s]\n",
      "[2024-03-25 20:57:08,716]::3857697113::DEBUG::Epoch: 17 , 1-MAE: 0.9055 , 1-val_avg_o_loss:0.9081 , 1-val_avg_c_loss:0.9033 , 1-val_avg_e_loss:0.9079 , 1-val_avg_a_loss:0.9029 , 1-val_avg_n_loss:0.9054\n",
      "100%|██████████| 1269/1269 [08:34<00:00,  2.47it/s]\n",
      "100%|██████████| 425/425 [01:00<00:00,  7.00it/s]\n",
      "[2024-03-25 21:06:45,918]::3857697113::DEBUG::Epoch: 18 , 1-MAE: 0.9083 , 1-val_avg_o_loss:0.9076 , 1-val_avg_c_loss:0.9053 , 1-val_avg_e_loss:0.9109 , 1-val_avg_a_loss:0.9086 , 1-val_avg_n_loss:0.9091\n",
      "100%|██████████| 1269/1269 [08:34<00:00,  2.46it/s]\n",
      "100%|██████████| 425/425 [01:00<00:00,  7.01it/s]\n",
      "[2024-03-25 21:16:23,123]::3857697113::DEBUG::Epoch: 19 , 1-MAE: 0.9077 , 1-val_avg_o_loss:0.9085 , 1-val_avg_c_loss:0.9029 , 1-val_avg_e_loss:0.9121 , 1-val_avg_a_loss:0.9065 , 1-val_avg_n_loss:0.9084\n",
      "100%|██████████| 1269/1269 [08:34<00:00,  2.47it/s]\n",
      "100%|██████████| 425/425 [01:00<00:00,  6.99it/s]\n",
      "[2024-03-25 21:26:01,673]::3857697113::DEBUG::Epoch: 20 , 1-MAE: 0.9072 , 1-val_avg_o_loss:0.9033 , 1-val_avg_c_loss:0.9067 , 1-val_avg_e_loss:0.9104 , 1-val_avg_a_loss:0.9060 , 1-val_avg_n_loss:0.9096\n",
      "100%|██████████| 1269/1269 [08:34<00:00,  2.47it/s]\n",
      "100%|██████████| 425/425 [01:00<00:00,  7.00it/s]\n",
      "[2024-03-25 21:35:38,472]::3857697113::DEBUG::Epoch: 21 , 1-MAE: 0.9088 , 1-val_avg_o_loss:0.9095 , 1-val_avg_c_loss:0.9055 , 1-val_avg_e_loss:0.9119 , 1-val_avg_a_loss:0.9068 , 1-val_avg_n_loss:0.9103\n",
      "100%|██████████| 1269/1269 [08:34<00:00,  2.47it/s]\n",
      "100%|██████████| 425/425 [01:00<00:00,  7.02it/s]\n",
      "[2024-03-25 21:45:15,434]::3857697113::DEBUG::Epoch: 22 , 1-MAE: 0.9058 , 1-val_avg_o_loss:0.9051 , 1-val_avg_c_loss:0.9039 , 1-val_avg_e_loss:0.9080 , 1-val_avg_a_loss:0.9058 , 1-val_avg_n_loss:0.9063\n",
      "100%|██████████| 1269/1269 [08:35<00:00,  2.46it/s]\n",
      "100%|██████████| 425/425 [01:01<00:00,  6.92it/s]\n",
      "[2024-03-25 21:54:53,681]::3857697113::DEBUG::Epoch: 23 , 1-MAE: 0.9071 , 1-val_avg_o_loss:0.9071 , 1-val_avg_c_loss:0.9060 , 1-val_avg_e_loss:0.9097 , 1-val_avg_a_loss:0.9093 , 1-val_avg_n_loss:0.9036\n",
      "100%|██████████| 1269/1269 [08:35<00:00,  2.46it/s]\n",
      "100%|██████████| 425/425 [01:01<00:00,  6.94it/s]\n",
      "[2024-03-25 22:04:31,783]::3857697113::DEBUG::Epoch: 24 , 1-MAE: 0.9092 , 1-val_avg_o_loss:0.9096 , 1-val_avg_c_loss:0.9054 , 1-val_avg_e_loss:0.9128 , 1-val_avg_a_loss:0.9098 , 1-val_avg_n_loss:0.9083\n",
      "100%|██████████| 1269/1269 [08:34<00:00,  2.46it/s]\n",
      "100%|██████████| 425/425 [01:01<00:00,  6.95it/s]\n",
      "[2024-03-25 22:14:11,037]::3857697113::DEBUG::Epoch: 25 , 1-MAE: 0.9072 , 1-val_avg_o_loss:0.9077 , 1-val_avg_c_loss:0.9052 , 1-val_avg_e_loss:0.9096 , 1-val_avg_a_loss:0.9081 , 1-val_avg_n_loss:0.9055\n",
      "100%|██████████| 1269/1269 [08:34<00:00,  2.47it/s]\n",
      "100%|██████████| 425/425 [01:01<00:00,  6.96it/s]\n",
      "[2024-03-25 22:23:48,523]::3857697113::DEBUG::Epoch: 26 , 1-MAE: 0.9079 , 1-val_avg_o_loss:0.9099 , 1-val_avg_c_loss:0.9050 , 1-val_avg_e_loss:0.9096 , 1-val_avg_a_loss:0.9085 , 1-val_avg_n_loss:0.9067\n",
      "100%|██████████| 1269/1269 [08:34<00:00,  2.46it/s]\n",
      "100%|██████████| 425/425 [01:00<00:00,  6.98it/s]\n",
      "[2024-03-25 22:33:26,161]::3857697113::DEBUG::Epoch: 27 , 1-MAE: 0.9097 , 1-val_avg_o_loss:0.9107 , 1-val_avg_c_loss:0.9053 , 1-val_avg_e_loss:0.9127 , 1-val_avg_a_loss:0.9090 , 1-val_avg_n_loss:0.9109\n",
      "100%|██████████| 1269/1269 [08:35<00:00,  2.46it/s]\n",
      "100%|██████████| 425/425 [01:01<00:00,  6.96it/s]\n",
      "[2024-03-25 22:43:04,035]::3857697113::DEBUG::Epoch: 28 , 1-MAE: 0.9073 , 1-val_avg_o_loss:0.9061 , 1-val_avg_c_loss:0.9056 , 1-val_avg_e_loss:0.9065 , 1-val_avg_a_loss:0.9085 , 1-val_avg_n_loss:0.9096\n",
      "100%|██████████| 1269/1269 [08:34<00:00,  2.47it/s]\n",
      "100%|██████████| 425/425 [01:01<00:00,  6.96it/s]\n",
      "[2024-03-25 22:52:41,708]::3857697113::DEBUG::Epoch: 29 , 1-MAE: 0.9085 , 1-val_avg_o_loss:0.9096 , 1-val_avg_c_loss:0.9057 , 1-val_avg_e_loss:0.9091 , 1-val_avg_a_loss:0.9090 , 1-val_avg_n_loss:0.9091\n",
      "100%|██████████| 1269/1269 [08:34<00:00,  2.47it/s]\n",
      "100%|██████████| 425/425 [01:00<00:00,  6.98it/s]\n",
      "[2024-03-25 23:02:20,519]::3857697113::DEBUG::Epoch: 30 , 1-MAE: 0.9082 , 1-val_avg_o_loss:0.9106 , 1-val_avg_c_loss:0.9034 , 1-val_avg_e_loss:0.9090 , 1-val_avg_a_loss:0.9095 , 1-val_avg_n_loss:0.9087\n",
      "100%|██████████| 1269/1269 [08:34<00:00,  2.47it/s]\n",
      "100%|██████████| 425/425 [01:01<00:00,  6.93it/s]\n",
      "[2024-03-25 23:11:58,355]::3857697113::DEBUG::Epoch: 31 , 1-MAE: 0.9085 , 1-val_avg_o_loss:0.9074 , 1-val_avg_c_loss:0.9024 , 1-val_avg_e_loss:0.9119 , 1-val_avg_a_loss:0.9095 , 1-val_avg_n_loss:0.9112\n",
      "100%|██████████| 1269/1269 [08:35<00:00,  2.46it/s]\n",
      "100%|██████████| 425/425 [01:01<00:00,  6.93it/s]\n",
      "[2024-03-25 23:21:36,529]::3857697113::DEBUG::Epoch: 32 , 1-MAE: 0.9090 , 1-val_avg_o_loss:0.9098 , 1-val_avg_c_loss:0.9063 , 1-val_avg_e_loss:0.9109 , 1-val_avg_a_loss:0.9084 , 1-val_avg_n_loss:0.9094\n",
      "100%|██████████| 1269/1269 [08:34<00:00,  2.47it/s]\n",
      "100%|██████████| 425/425 [01:00<00:00,  6.97it/s]\n",
      "[2024-03-25 23:31:14,010]::3857697113::DEBUG::Epoch: 33 , 1-MAE: 0.9096 , 1-val_avg_o_loss:0.9095 , 1-val_avg_c_loss:0.9058 , 1-val_avg_e_loss:0.9127 , 1-val_avg_a_loss:0.9101 , 1-val_avg_n_loss:0.9098\n",
      "100%|██████████| 1269/1269 [08:35<00:00,  2.46it/s]\n",
      "100%|██████████| 425/425 [01:01<00:00,  6.95it/s]\n",
      "[2024-03-25 23:40:52,107]::3857697113::DEBUG::Epoch: 34 , 1-MAE: 0.9089 , 1-val_avg_o_loss:0.9090 , 1-val_avg_c_loss:0.9053 , 1-val_avg_e_loss:0.9126 , 1-val_avg_a_loss:0.9096 , 1-val_avg_n_loss:0.9083\n",
      "100%|██████████| 1269/1269 [08:35<00:00,  2.46it/s]\n",
      "100%|██████████| 425/425 [01:00<00:00,  6.99it/s]\n",
      "[2024-03-25 23:50:30,984]::3857697113::DEBUG::Epoch: 35 , 1-MAE: 0.9086 , 1-val_avg_o_loss:0.9087 , 1-val_avg_c_loss:0.9055 , 1-val_avg_e_loss:0.9108 , 1-val_avg_a_loss:0.9089 , 1-val_avg_n_loss:0.9091\n",
      "100%|██████████| 1269/1269 [08:34<00:00,  2.47it/s]\n",
      "100%|██████████| 425/425 [01:00<00:00,  6.98it/s]\n",
      "[2024-03-26 00:00:08,412]::3857697113::DEBUG::Epoch: 36 , 1-MAE: 0.9087 , 1-val_avg_o_loss:0.9106 , 1-val_avg_c_loss:0.9044 , 1-val_avg_e_loss:0.9113 , 1-val_avg_a_loss:0.9078 , 1-val_avg_n_loss:0.9095\n",
      "100%|██████████| 1269/1269 [08:34<00:00,  2.46it/s]\n",
      "100%|██████████| 425/425 [01:01<00:00,  6.93it/s]\n",
      "[2024-03-26 00:09:46,420]::3857697113::DEBUG::Epoch: 37 , 1-MAE: 0.9100 , 1-val_avg_o_loss:0.9106 , 1-val_avg_c_loss:0.9073 , 1-val_avg_e_loss:0.9108 , 1-val_avg_a_loss:0.9112 , 1-val_avg_n_loss:0.9100\n",
      "100%|██████████| 1269/1269 [08:34<00:00,  2.46it/s]\n",
      "100%|██████████| 425/425 [01:01<00:00,  6.97it/s]\n",
      "[2024-03-26 00:19:24,100]::3857697113::DEBUG::Epoch: 38 , 1-MAE: 0.9092 , 1-val_avg_o_loss:0.9101 , 1-val_avg_c_loss:0.9052 , 1-val_avg_e_loss:0.9116 , 1-val_avg_a_loss:0.9089 , 1-val_avg_n_loss:0.9104\n",
      "100%|██████████| 1269/1269 [08:34<00:00,  2.46it/s]\n",
      "100%|██████████| 425/425 [01:01<00:00,  6.95it/s]\n",
      "[2024-03-26 00:29:01,909]::3857697113::DEBUG::Epoch: 39 , 1-MAE: 0.9082 , 1-val_avg_o_loss:0.9079 , 1-val_avg_c_loss:0.9065 , 1-val_avg_e_loss:0.9105 , 1-val_avg_a_loss:0.9079 , 1-val_avg_n_loss:0.9084\n",
      "100%|██████████| 1269/1269 [08:34<00:00,  2.47it/s]\n",
      "100%|██████████| 425/425 [01:00<00:00,  6.98it/s]\n",
      "[2024-03-26 00:38:40,800]::3857697113::DEBUG::Epoch: 40 , 1-MAE: 0.9077 , 1-val_avg_o_loss:0.9066 , 1-val_avg_c_loss:0.9040 , 1-val_avg_e_loss:0.9101 , 1-val_avg_a_loss:0.9106 , 1-val_avg_n_loss:0.9073\n",
      "100%|██████████| 1269/1269 [08:34<00:00,  2.47it/s]\n",
      "100%|██████████| 425/425 [01:01<00:00,  6.95it/s]\n",
      "[2024-03-26 00:48:18,314]::3857697113::DEBUG::Epoch: 41 , 1-MAE: 0.9096 , 1-val_avg_o_loss:0.9112 , 1-val_avg_c_loss:0.9057 , 1-val_avg_e_loss:0.9114 , 1-val_avg_a_loss:0.9095 , 1-val_avg_n_loss:0.9104\n",
      "100%|██████████| 1269/1269 [08:35<00:00,  2.46it/s]\n",
      "100%|██████████| 425/425 [01:01<00:00,  6.93it/s]\n",
      "[2024-03-26 00:57:56,501]::3857697113::DEBUG::Epoch: 42 , 1-MAE: 0.9091 , 1-val_avg_o_loss:0.9104 , 1-val_avg_c_loss:0.9064 , 1-val_avg_e_loss:0.9100 , 1-val_avg_a_loss:0.9096 , 1-val_avg_n_loss:0.9089\n",
      "100%|██████████| 1269/1269 [08:34<00:00,  2.46it/s]\n",
      "100%|██████████| 425/425 [01:01<00:00,  6.94it/s]\n",
      "[2024-03-26 01:07:34,380]::3857697113::DEBUG::Epoch: 43 , 1-MAE: 0.9091 , 1-val_avg_o_loss:0.9102 , 1-val_avg_c_loss:0.9058 , 1-val_avg_e_loss:0.9107 , 1-val_avg_a_loss:0.9096 , 1-val_avg_n_loss:0.9090\n",
      "100%|██████████| 1269/1269 [08:34<00:00,  2.46it/s]\n",
      "100%|██████████| 425/425 [01:00<00:00,  6.99it/s]\n",
      "[2024-03-26 01:17:11,773]::3857697113::DEBUG::Epoch: 44 , 1-MAE: 0.9096 , 1-val_avg_o_loss:0.9115 , 1-val_avg_c_loss:0.9042 , 1-val_avg_e_loss:0.9120 , 1-val_avg_a_loss:0.9099 , 1-val_avg_n_loss:0.9101\n",
      "100%|██████████| 1269/1269 [08:35<00:00,  2.46it/s]\n",
      "100%|██████████| 425/425 [01:00<00:00,  6.98it/s]\n",
      "[2024-03-26 01:26:50,746]::3857697113::DEBUG::Epoch: 45 , 1-MAE: 0.9093 , 1-val_avg_o_loss:0.9101 , 1-val_avg_c_loss:0.9051 , 1-val_avg_e_loss:0.9115 , 1-val_avg_a_loss:0.9113 , 1-val_avg_n_loss:0.9083\n",
      "100%|██████████| 1269/1269 [08:34<00:00,  2.47it/s]\n",
      "100%|██████████| 425/425 [01:01<00:00,  6.94it/s]\n",
      "[2024-03-26 01:36:28,231]::3857697113::DEBUG::Epoch: 46 , 1-MAE: 0.9084 , 1-val_avg_o_loss:0.9098 , 1-val_avg_c_loss:0.9051 , 1-val_avg_e_loss:0.9100 , 1-val_avg_a_loss:0.9096 , 1-val_avg_n_loss:0.9078\n",
      "100%|██████████| 1269/1269 [08:34<00:00,  2.47it/s]\n",
      "100%|██████████| 425/425 [01:02<00:00,  6.85it/s]\n",
      "[2024-03-26 01:46:06,666]::3857697113::DEBUG::Epoch: 47 , 1-MAE: 0.9095 , 1-val_avg_o_loss:0.9097 , 1-val_avg_c_loss:0.9070 , 1-val_avg_e_loss:0.9099 , 1-val_avg_a_loss:0.9100 , 1-val_avg_n_loss:0.9107\n",
      "100%|██████████| 1269/1269 [08:34<00:00,  2.47it/s]\n",
      "100%|██████████| 425/425 [01:02<00:00,  6.85it/s]\n",
      "[2024-03-26 01:55:45,173]::3857697113::DEBUG::Epoch: 48 , 1-MAE: 0.9100 , 1-val_avg_o_loss:0.9102 , 1-val_avg_c_loss:0.9065 , 1-val_avg_e_loss:0.9118 , 1-val_avg_a_loss:0.9114 , 1-val_avg_n_loss:0.9103\n",
      "100%|██████████| 1269/1269 [08:34<00:00,  2.47it/s]\n",
      "100%|██████████| 425/425 [01:01<00:00,  6.86it/s]\n",
      "[2024-03-26 02:05:23,328]::3857697113::DEBUG::Epoch: 49 , 1-MAE: 0.9099 , 1-val_avg_o_loss:0.9109 , 1-val_avg_c_loss:0.9062 , 1-val_avg_e_loss:0.9128 , 1-val_avg_a_loss:0.9097 , 1-val_avg_n_loss:0.9100\n",
      "100%|██████████| 1269/1269 [08:34<00:00,  2.47it/s]\n",
      "100%|██████████| 425/425 [01:02<00:00,  6.85it/s]\n",
      "[2024-03-26 02:15:03,012]::3857697113::DEBUG::Epoch: 50 , 1-MAE: 0.9091 , 1-val_avg_o_loss:0.9104 , 1-val_avg_c_loss:0.9062 , 1-val_avg_e_loss:0.9099 , 1-val_avg_a_loss:0.9099 , 1-val_avg_n_loss:0.9091\n",
      "100%|██████████| 1269/1269 [08:34<00:00,  2.47it/s]\n",
      "100%|██████████| 425/425 [01:01<00:00,  6.91it/s]\n",
      "[2024-03-26 02:24:40,921]::3857697113::DEBUG::Epoch: 51 , 1-MAE: 0.9092 , 1-val_avg_o_loss:0.9101 , 1-val_avg_c_loss:0.9051 , 1-val_avg_e_loss:0.9116 , 1-val_avg_a_loss:0.9100 , 1-val_avg_n_loss:0.9093\n",
      "100%|██████████| 1269/1269 [08:35<00:00,  2.46it/s]\n",
      "100%|██████████| 425/425 [01:01<00:00,  6.94it/s]\n",
      "[2024-03-26 02:34:19,018]::3857697113::DEBUG::Epoch: 52 , 1-MAE: 0.9101 , 1-val_avg_o_loss:0.9106 , 1-val_avg_c_loss:0.9063 , 1-val_avg_e_loss:0.9129 , 1-val_avg_a_loss:0.9101 , 1-val_avg_n_loss:0.9104\n",
      "100%|██████████| 1269/1269 [08:35<00:00,  2.46it/s]\n",
      "100%|██████████| 425/425 [01:01<00:00,  6.96it/s]\n",
      "[2024-03-26 02:43:56,968]::3857697113::DEBUG::Epoch: 53 , 1-MAE: 0.9092 , 1-val_avg_o_loss:0.9094 , 1-val_avg_c_loss:0.9050 , 1-val_avg_e_loss:0.9119 , 1-val_avg_a_loss:0.9098 , 1-val_avg_n_loss:0.9099\n",
      "100%|██████████| 1269/1269 [08:34<00:00,  2.46it/s]\n",
      "100%|██████████| 425/425 [01:00<00:00,  6.97it/s]\n",
      "[2024-03-26 02:53:34,630]::3857697113::DEBUG::Epoch: 54 , 1-MAE: 0.9086 , 1-val_avg_o_loss:0.9095 , 1-val_avg_c_loss:0.9048 , 1-val_avg_e_loss:0.9084 , 1-val_avg_a_loss:0.9109 , 1-val_avg_n_loss:0.9092\n",
      "100%|██████████| 1269/1269 [08:34<00:00,  2.46it/s]\n",
      "100%|██████████| 425/425 [01:00<00:00,  7.01it/s]\n",
      "[2024-03-26 03:03:13,451]::3857697113::DEBUG::Epoch: 55 , 1-MAE: 0.9102 , 1-val_avg_o_loss:0.9105 , 1-val_avg_c_loss:0.9065 , 1-val_avg_e_loss:0.9123 , 1-val_avg_a_loss:0.9111 , 1-val_avg_n_loss:0.9104\n",
      "100%|██████████| 1269/1269 [08:34<00:00,  2.46it/s]\n",
      "100%|██████████| 425/425 [01:01<00:00,  6.92it/s]\n",
      "[2024-03-26 03:12:51,972]::3857697113::DEBUG::Epoch: 56 , 1-MAE: 0.9096 , 1-val_avg_o_loss:0.9102 , 1-val_avg_c_loss:0.9049 , 1-val_avg_e_loss:0.9120 , 1-val_avg_a_loss:0.9110 , 1-val_avg_n_loss:0.9097\n",
      "100%|██████████| 1269/1269 [08:35<00:00,  2.46it/s]\n",
      "100%|██████████| 425/425 [01:01<00:00,  6.92it/s]\n",
      "[2024-03-26 03:22:30,218]::3857697113::DEBUG::Epoch: 57 , 1-MAE: 0.9095 , 1-val_avg_o_loss:0.9093 , 1-val_avg_c_loss:0.9055 , 1-val_avg_e_loss:0.9112 , 1-val_avg_a_loss:0.9111 , 1-val_avg_n_loss:0.9102\n",
      "100%|██████████| 1269/1269 [08:35<00:00,  2.46it/s]\n",
      "100%|██████████| 425/425 [01:01<00:00,  6.96it/s]\n",
      "[2024-03-26 03:32:08,282]::3857697113::DEBUG::Epoch: 58 , 1-MAE: 0.9093 , 1-val_avg_o_loss:0.9083 , 1-val_avg_c_loss:0.9065 , 1-val_avg_e_loss:0.9113 , 1-val_avg_a_loss:0.9107 , 1-val_avg_n_loss:0.9099\n",
      "100%|██████████| 1269/1269 [08:35<00:00,  2.46it/s]\n",
      "100%|██████████| 425/425 [01:00<00:00,  7.00it/s]\n",
      "[2024-03-26 03:41:45,985]::3857697113::DEBUG::Epoch: 59 , 1-MAE: 0.9099 , 1-val_avg_o_loss:0.9102 , 1-val_avg_c_loss:0.9056 , 1-val_avg_e_loss:0.9130 , 1-val_avg_a_loss:0.9106 , 1-val_avg_n_loss:0.9101\n",
      "100%|██████████| 1269/1269 [08:34<00:00,  2.47it/s]\n",
      "100%|██████████| 425/425 [01:01<00:00,  6.96it/s]\n",
      "[2024-03-26 03:51:25,032]::3857697113::DEBUG::Epoch: 60 , 1-MAE: 0.9103 , 1-val_avg_o_loss:0.9111 , 1-val_avg_c_loss:0.9056 , 1-val_avg_e_loss:0.9120 , 1-val_avg_a_loss:0.9124 , 1-val_avg_n_loss:0.9104\n",
      "100%|██████████| 1269/1269 [08:35<00:00,  2.46it/s]\n",
      "100%|██████████| 425/425 [01:01<00:00,  6.97it/s]\n",
      "[2024-03-26 04:01:02,897]::3857697113::DEBUG::Epoch: 61 , 1-MAE: 0.9097 , 1-val_avg_o_loss:0.9103 , 1-val_avg_c_loss:0.9059 , 1-val_avg_e_loss:0.9115 , 1-val_avg_a_loss:0.9110 , 1-val_avg_n_loss:0.9097\n",
      "100%|██████████| 1269/1269 [08:35<00:00,  2.46it/s]\n",
      "100%|██████████| 425/425 [01:01<00:00,  6.95it/s]\n",
      "[2024-03-26 04:10:40,842]::3857697113::DEBUG::Epoch: 62 , 1-MAE: 0.9091 , 1-val_avg_o_loss:0.9099 , 1-val_avg_c_loss:0.9057 , 1-val_avg_e_loss:0.9112 , 1-val_avg_a_loss:0.9099 , 1-val_avg_n_loss:0.9091\n",
      "100%|██████████| 1269/1269 [08:34<00:00,  2.47it/s]\n",
      "100%|██████████| 425/425 [01:01<00:00,  6.95it/s]\n",
      "[2024-03-26 04:20:18,555]::3857697113::DEBUG::Epoch: 63 , 1-MAE: 0.9073 , 1-val_avg_o_loss:0.9071 , 1-val_avg_c_loss:0.9027 , 1-val_avg_e_loss:0.9105 , 1-val_avg_a_loss:0.9069 , 1-val_avg_n_loss:0.9093\n",
      "100%|██████████| 1269/1269 [08:34<00:00,  2.46it/s]\n",
      "100%|██████████| 425/425 [01:01<00:00,  6.96it/s]\n",
      "[2024-03-26 04:29:56,425]::3857697113::DEBUG::Epoch: 64 , 1-MAE: 0.9101 , 1-val_avg_o_loss:0.9108 , 1-val_avg_c_loss:0.9062 , 1-val_avg_e_loss:0.9119 , 1-val_avg_a_loss:0.9107 , 1-val_avg_n_loss:0.9109\n",
      "100%|██████████| 1269/1269 [08:34<00:00,  2.47it/s]\n",
      "100%|██████████| 425/425 [01:01<00:00,  6.93it/s]\n",
      "[2024-03-26 04:39:35,662]::3857697113::DEBUG::Epoch: 65 , 1-MAE: 0.9094 , 1-val_avg_o_loss:0.9098 , 1-val_avg_c_loss:0.9056 , 1-val_avg_e_loss:0.9120 , 1-val_avg_a_loss:0.9099 , 1-val_avg_n_loss:0.9098\n",
      "100%|██████████| 1269/1269 [08:34<00:00,  2.47it/s]\n",
      "100%|██████████| 425/425 [01:00<00:00,  7.00it/s]\n",
      "[2024-03-26 04:49:12,906]::3857697113::DEBUG::Epoch: 66 , 1-MAE: 0.9098 , 1-val_avg_o_loss:0.9099 , 1-val_avg_c_loss:0.9064 , 1-val_avg_e_loss:0.9122 , 1-val_avg_a_loss:0.9110 , 1-val_avg_n_loss:0.9096\n",
      "100%|██████████| 1269/1269 [08:34<00:00,  2.46it/s]\n",
      "100%|██████████| 425/425 [01:01<00:00,  6.92it/s]\n",
      "[2024-03-26 04:58:51,010]::3857697113::DEBUG::Epoch: 67 , 1-MAE: 0.9098 , 1-val_avg_o_loss:0.9112 , 1-val_avg_c_loss:0.9058 , 1-val_avg_e_loss:0.9125 , 1-val_avg_a_loss:0.9091 , 1-val_avg_n_loss:0.9104\n",
      "100%|██████████| 1269/1269 [08:35<00:00,  2.46it/s]\n",
      "100%|██████████| 425/425 [01:01<00:00,  6.95it/s]\n",
      "[2024-03-26 05:08:29,028]::3857697113::DEBUG::Epoch: 68 , 1-MAE: 0.9102 , 1-val_avg_o_loss:0.9111 , 1-val_avg_c_loss:0.9059 , 1-val_avg_e_loss:0.9122 , 1-val_avg_a_loss:0.9104 , 1-val_avg_n_loss:0.9116\n",
      "100%|██████████| 1269/1269 [08:34<00:00,  2.46it/s]\n",
      "100%|██████████| 425/425 [01:01<00:00,  6.92it/s]\n",
      "[2024-03-26 05:18:07,153]::3857697113::DEBUG::Epoch: 69 , 1-MAE: 0.9101 , 1-val_avg_o_loss:0.9111 , 1-val_avg_c_loss:0.9057 , 1-val_avg_e_loss:0.9126 , 1-val_avg_a_loss:0.9102 , 1-val_avg_n_loss:0.9112\n",
      "100%|██████████| 1269/1269 [08:35<00:00,  2.46it/s]\n",
      "100%|██████████| 425/425 [01:01<00:00,  6.91it/s]\n",
      "[2024-03-26 05:27:46,680]::3857697113::DEBUG::Epoch: 70 , 1-MAE: 0.9104 , 1-val_avg_o_loss:0.9107 , 1-val_avg_c_loss:0.9065 , 1-val_avg_e_loss:0.9124 , 1-val_avg_a_loss:0.9114 , 1-val_avg_n_loss:0.9113\n",
      "100%|██████████| 1269/1269 [08:34<00:00,  2.46it/s]\n",
      "100%|██████████| 425/425 [01:01<00:00,  6.92it/s]\n",
      "[2024-03-26 05:37:24,989]::3857697113::DEBUG::Epoch: 71 , 1-MAE: 0.9103 , 1-val_avg_o_loss:0.9117 , 1-val_avg_c_loss:0.9066 , 1-val_avg_e_loss:0.9125 , 1-val_avg_a_loss:0.9104 , 1-val_avg_n_loss:0.9102\n",
      "100%|██████████| 1269/1269 [08:35<00:00,  2.46it/s]\n",
      "100%|██████████| 425/425 [01:01<00:00,  6.93it/s]\n",
      "[2024-03-26 05:47:03,175]::3857697113::DEBUG::Epoch: 72 , 1-MAE: 0.9104 , 1-val_avg_o_loss:0.9109 , 1-val_avg_c_loss:0.9061 , 1-val_avg_e_loss:0.9131 , 1-val_avg_a_loss:0.9113 , 1-val_avg_n_loss:0.9106\n",
      "100%|██████████| 1269/1269 [08:34<00:00,  2.46it/s]\n",
      "100%|██████████| 425/425 [01:01<00:00,  6.91it/s]\n",
      "[2024-03-26 05:56:41,350]::3857697113::DEBUG::Epoch: 73 , 1-MAE: 0.9102 , 1-val_avg_o_loss:0.9108 , 1-val_avg_c_loss:0.9054 , 1-val_avg_e_loss:0.9127 , 1-val_avg_a_loss:0.9115 , 1-val_avg_n_loss:0.9106\n",
      "100%|██████████| 1269/1269 [08:35<00:00,  2.46it/s]\n",
      "100%|██████████| 425/425 [01:01<00:00,  6.91it/s]\n",
      "[2024-03-26 06:06:19,714]::3857697113::DEBUG::Epoch: 74 , 1-MAE: 0.9097 , 1-val_avg_o_loss:0.9106 , 1-val_avg_c_loss:0.9056 , 1-val_avg_e_loss:0.9120 , 1-val_avg_a_loss:0.9104 , 1-val_avg_n_loss:0.9102\n",
      "100%|██████████| 1269/1269 [08:35<00:00,  2.46it/s]\n",
      "100%|██████████| 425/425 [01:01<00:00,  6.94it/s]\n",
      "[2024-03-26 06:15:59,299]::3857697113::DEBUG::Epoch: 75 , 1-MAE: 0.9101 , 1-val_avg_o_loss:0.9102 , 1-val_avg_c_loss:0.9054 , 1-val_avg_e_loss:0.9133 , 1-val_avg_a_loss:0.9109 , 1-val_avg_n_loss:0.9106\n",
      "100%|██████████| 1269/1269 [08:34<00:00,  2.46it/s]\n",
      "100%|██████████| 425/425 [01:01<00:00,  6.92it/s]\n",
      "[2024-03-26 06:25:37,482]::3857697113::DEBUG::Epoch: 76 , 1-MAE: 0.9096 , 1-val_avg_o_loss:0.9100 , 1-val_avg_c_loss:0.9054 , 1-val_avg_e_loss:0.9126 , 1-val_avg_a_loss:0.9100 , 1-val_avg_n_loss:0.9102\n",
      "100%|██████████| 1269/1269 [08:35<00:00,  2.46it/s]\n",
      "100%|██████████| 425/425 [01:01<00:00,  6.93it/s]\n",
      "[2024-03-26 06:35:15,422]::3857697113::DEBUG::Epoch: 77 , 1-MAE: 0.9101 , 1-val_avg_o_loss:0.9111 , 1-val_avg_c_loss:0.9060 , 1-val_avg_e_loss:0.9131 , 1-val_avg_a_loss:0.9103 , 1-val_avg_n_loss:0.9099\n",
      "100%|██████████| 1269/1269 [08:35<00:00,  2.46it/s]\n",
      "100%|██████████| 425/425 [01:01<00:00,  6.92it/s]\n",
      "[2024-03-26 06:44:53,808]::3857697113::DEBUG::Epoch: 78 , 1-MAE: 0.9096 , 1-val_avg_o_loss:0.9107 , 1-val_avg_c_loss:0.9048 , 1-val_avg_e_loss:0.9123 , 1-val_avg_a_loss:0.9103 , 1-val_avg_n_loss:0.9099\n",
      "100%|██████████| 1269/1269 [08:35<00:00,  2.46it/s]\n",
      "100%|██████████| 425/425 [01:01<00:00,  6.91it/s]\n",
      "[2024-03-26 06:54:32,286]::3857697113::DEBUG::Epoch: 79 , 1-MAE: 0.9099 , 1-val_avg_o_loss:0.9083 , 1-val_avg_c_loss:0.9061 , 1-val_avg_e_loss:0.9135 , 1-val_avg_a_loss:0.9106 , 1-val_avg_n_loss:0.9107\n",
      "100%|██████████| 1269/1269 [08:35<00:00,  2.46it/s]\n",
      "100%|██████████| 425/425 [01:01<00:00,  6.93it/s]\n",
      "[2024-03-26 07:04:11,837]::3857697113::DEBUG::Epoch: 80 , 1-MAE: 0.9100 , 1-val_avg_o_loss:0.9104 , 1-val_avg_c_loss:0.9058 , 1-val_avg_e_loss:0.9132 , 1-val_avg_a_loss:0.9107 , 1-val_avg_n_loss:0.9097\n",
      "100%|██████████| 1269/1269 [08:35<00:00,  2.46it/s]\n",
      "100%|██████████| 425/425 [01:01<00:00,  6.91it/s]\n",
      "[2024-03-26 07:13:50,229]::3857697113::DEBUG::Epoch: 81 , 1-MAE: 0.9100 , 1-val_avg_o_loss:0.9104 , 1-val_avg_c_loss:0.9060 , 1-val_avg_e_loss:0.9130 , 1-val_avg_a_loss:0.9104 , 1-val_avg_n_loss:0.9102\n",
      "100%|██████████| 1269/1269 [08:35<00:00,  2.46it/s]\n",
      "100%|██████████| 425/425 [01:01<00:00,  6.92it/s]\n",
      "[2024-03-26 07:23:28,429]::3857697113::DEBUG::Epoch: 82 , 1-MAE: 0.9104 , 1-val_avg_o_loss:0.9115 , 1-val_avg_c_loss:0.9066 , 1-val_avg_e_loss:0.9131 , 1-val_avg_a_loss:0.9099 , 1-val_avg_n_loss:0.9110\n",
      "100%|██████████| 1269/1269 [08:34<00:00,  2.46it/s]\n",
      "100%|██████████| 425/425 [01:01<00:00,  6.92it/s]\n",
      "[2024-03-26 07:33:06,482]::3857697113::DEBUG::Epoch: 83 , 1-MAE: 0.9095 , 1-val_avg_o_loss:0.9101 , 1-val_avg_c_loss:0.9053 , 1-val_avg_e_loss:0.9127 , 1-val_avg_a_loss:0.9097 , 1-val_avg_n_loss:0.9098\n",
      "100%|██████████| 1269/1269 [08:34<00:00,  2.46it/s]\n",
      "100%|██████████| 425/425 [01:01<00:00,  6.88it/s]\n",
      "[2024-03-26 07:42:45,052]::3857697113::DEBUG::Epoch: 84 , 1-MAE: 0.9100 , 1-val_avg_o_loss:0.9110 , 1-val_avg_c_loss:0.9056 , 1-val_avg_e_loss:0.9125 , 1-val_avg_a_loss:0.9105 , 1-val_avg_n_loss:0.9104\n",
      "100%|██████████| 1269/1269 [08:35<00:00,  2.46it/s]\n",
      "100%|██████████| 425/425 [01:01<00:00,  6.90it/s]\n",
      "[2024-03-26 07:52:25,124]::3857697113::DEBUG::Epoch: 85 , 1-MAE: 0.9101 , 1-val_avg_o_loss:0.9107 , 1-val_avg_c_loss:0.9064 , 1-val_avg_e_loss:0.9130 , 1-val_avg_a_loss:0.9098 , 1-val_avg_n_loss:0.9105\n",
      "100%|██████████| 1269/1269 [08:35<00:00,  2.46it/s]\n",
      "100%|██████████| 425/425 [01:01<00:00,  6.96it/s]\n",
      "[2024-03-26 08:02:03,050]::3857697113::DEBUG::Epoch: 86 , 1-MAE: 0.9102 , 1-val_avg_o_loss:0.9114 , 1-val_avg_c_loss:0.9062 , 1-val_avg_e_loss:0.9124 , 1-val_avg_a_loss:0.9110 , 1-val_avg_n_loss:0.9101\n",
      "100%|██████████| 1269/1269 [08:34<00:00,  2.46it/s]\n",
      "100%|██████████| 425/425 [01:01<00:00,  6.94it/s]\n",
      "[2024-03-26 08:11:40,968]::3857697113::DEBUG::Epoch: 87 , 1-MAE: 0.9091 , 1-val_avg_o_loss:0.9097 , 1-val_avg_c_loss:0.9049 , 1-val_avg_e_loss:0.9116 , 1-val_avg_a_loss:0.9101 , 1-val_avg_n_loss:0.9090\n",
      "100%|██████████| 1269/1269 [08:34<00:00,  2.46it/s]\n",
      "100%|██████████| 425/425 [01:01<00:00,  6.92it/s]\n",
      "[2024-03-26 08:21:19,030]::3857697113::DEBUG::Epoch: 88 , 1-MAE: 0.9102 , 1-val_avg_o_loss:0.9111 , 1-val_avg_c_loss:0.9056 , 1-val_avg_e_loss:0.9129 , 1-val_avg_a_loss:0.9113 , 1-val_avg_n_loss:0.9099\n",
      "100%|██████████| 1269/1269 [08:35<00:00,  2.46it/s]\n",
      "100%|██████████| 425/425 [01:01<00:00,  6.94it/s]\n",
      "[2024-03-26 08:30:57,041]::3857697113::DEBUG::Epoch: 89 , 1-MAE: 0.9099 , 1-val_avg_o_loss:0.9110 , 1-val_avg_c_loss:0.9061 , 1-val_avg_e_loss:0.9124 , 1-val_avg_a_loss:0.9103 , 1-val_avg_n_loss:0.9098\n",
      "100%|██████████| 1269/1269 [08:34<00:00,  2.47it/s]\n",
      "100%|██████████| 425/425 [01:01<00:00,  6.94it/s]\n",
      "[2024-03-26 08:40:36,076]::3857697113::DEBUG::Epoch: 90 , 1-MAE: 0.9101 , 1-val_avg_o_loss:0.9113 , 1-val_avg_c_loss:0.9056 , 1-val_avg_e_loss:0.9125 , 1-val_avg_a_loss:0.9112 , 1-val_avg_n_loss:0.9101\n",
      "100%|██████████| 1269/1269 [08:34<00:00,  2.46it/s]\n",
      "100%|██████████| 425/425 [01:01<00:00,  6.96it/s]\n",
      "[2024-03-26 08:50:13,741]::3857697113::DEBUG::Epoch: 91 , 1-MAE: 0.9096 , 1-val_avg_o_loss:0.9092 , 1-val_avg_c_loss:0.9062 , 1-val_avg_e_loss:0.9124 , 1-val_avg_a_loss:0.9104 , 1-val_avg_n_loss:0.9096\n",
      "100%|██████████| 1269/1269 [08:35<00:00,  2.46it/s]\n",
      "100%|██████████| 425/425 [01:01<00:00,  6.92it/s]\n",
      "[2024-03-26 08:59:51,948]::3857697113::DEBUG::Epoch: 92 , 1-MAE: 0.9102 , 1-val_avg_o_loss:0.9108 , 1-val_avg_c_loss:0.9063 , 1-val_avg_e_loss:0.9133 , 1-val_avg_a_loss:0.9097 , 1-val_avg_n_loss:0.9108\n",
      "100%|██████████| 1269/1269 [08:34<00:00,  2.47it/s]\n",
      "100%|██████████| 425/425 [01:01<00:00,  6.88it/s]\n",
      "[2024-03-26 09:09:30,095]::3857697113::DEBUG::Epoch: 93 , 1-MAE: 0.9094 , 1-val_avg_o_loss:0.9103 , 1-val_avg_c_loss:0.9054 , 1-val_avg_e_loss:0.9119 , 1-val_avg_a_loss:0.9095 , 1-val_avg_n_loss:0.9099\n",
      "100%|██████████| 1269/1269 [08:34<00:00,  2.47it/s]\n",
      "100%|██████████| 425/425 [01:01<00:00,  6.89it/s]\n",
      "[2024-03-26 09:19:07,917]::3857697113::DEBUG::Epoch: 94 , 1-MAE: 0.9096 , 1-val_avg_o_loss:0.9101 , 1-val_avg_c_loss:0.9050 , 1-val_avg_e_loss:0.9124 , 1-val_avg_a_loss:0.9103 , 1-val_avg_n_loss:0.9105\n",
      "100%|██████████| 1269/1269 [08:34<00:00,  2.47it/s]\n",
      "100%|██████████| 425/425 [01:01<00:00,  6.87it/s]\n",
      "[2024-03-26 09:28:47,351]::3857697113::DEBUG::Epoch: 95 , 1-MAE: 0.9097 , 1-val_avg_o_loss:0.9096 , 1-val_avg_c_loss:0.9065 , 1-val_avg_e_loss:0.9123 , 1-val_avg_a_loss:0.9106 , 1-val_avg_n_loss:0.9093\n",
      "100%|██████████| 1269/1269 [08:34<00:00,  2.47it/s]\n",
      "100%|██████████| 425/425 [01:01<00:00,  6.89it/s]\n",
      "[2024-03-26 09:38:25,291]::3857697113::DEBUG::Epoch: 96 , 1-MAE: 0.9098 , 1-val_avg_o_loss:0.9095 , 1-val_avg_c_loss:0.9059 , 1-val_avg_e_loss:0.9124 , 1-val_avg_a_loss:0.9105 , 1-val_avg_n_loss:0.9105\n",
      "100%|██████████| 1269/1269 [08:34<00:00,  2.47it/s]\n",
      "100%|██████████| 425/425 [01:02<00:00,  6.84it/s]\n",
      "[2024-03-26 09:48:03,909]::3857697113::DEBUG::Epoch: 97 , 1-MAE: 0.9096 , 1-val_avg_o_loss:0.9096 , 1-val_avg_c_loss:0.9060 , 1-val_avg_e_loss:0.9115 , 1-val_avg_a_loss:0.9106 , 1-val_avg_n_loss:0.9102\n",
      "100%|██████████| 1269/1269 [08:34<00:00,  2.47it/s]\n",
      "100%|██████████| 425/425 [01:02<00:00,  6.85it/s]\n",
      "[2024-03-26 09:57:42,407]::3857697113::DEBUG::Epoch: 98 , 1-MAE: 0.9098 , 1-val_avg_o_loss:0.9101 , 1-val_avg_c_loss:0.9056 , 1-val_avg_e_loss:0.9125 , 1-val_avg_a_loss:0.9099 , 1-val_avg_n_loss:0.9107\n",
      "100%|██████████| 1269/1269 [08:34<00:00,  2.47it/s]\n",
      "100%|██████████| 425/425 [01:01<00:00,  6.89it/s]\n",
      "[2024-03-26 10:07:20,499]::3857697113::DEBUG::Epoch: 99 , 1-MAE: 0.9092 , 1-val_avg_o_loss:0.9100 , 1-val_avg_c_loss:0.9052 , 1-val_avg_e_loss:0.9120 , 1-val_avg_a_loss:0.9096 , 1-val_avg_n_loss:0.9092\n",
      "100%|██████████| 1269/1269 [08:34<00:00,  2.46it/s]\n",
      "100%|██████████| 425/425 [01:01<00:00,  6.91it/s]\n",
      "[2024-03-26 10:17:00,127]::3857697113::DEBUG::Epoch: 100 , 1-MAE: 0.9094 , 1-val_avg_o_loss:0.9096 , 1-val_avg_c_loss:0.9053 , 1-val_avg_e_loss:0.9117 , 1-val_avg_a_loss:0.9103 , 1-val_avg_n_loss:0.9098\n",
      "100%|██████████| 1269/1269 [08:34<00:00,  2.47it/s]\n",
      "100%|██████████| 425/425 [01:01<00:00,  6.87it/s]\n",
      "[2024-03-26 10:26:38,623]::3857697113::DEBUG::Epoch: 101 , 1-MAE: 0.9103 , 1-val_avg_o_loss:0.9111 , 1-val_avg_c_loss:0.9068 , 1-val_avg_e_loss:0.9123 , 1-val_avg_a_loss:0.9111 , 1-val_avg_n_loss:0.9104\n",
      "100%|██████████| 1269/1269 [08:35<00:00,  2.46it/s]\n",
      "100%|██████████| 425/425 [01:01<00:00,  6.87it/s]\n",
      "[2024-03-26 10:36:17,413]::3857697113::DEBUG::Epoch: 102 , 1-MAE: 0.9095 , 1-val_avg_o_loss:0.9101 , 1-val_avg_c_loss:0.9049 , 1-val_avg_e_loss:0.9116 , 1-val_avg_a_loss:0.9109 , 1-val_avg_n_loss:0.9099\n",
      "100%|██████████| 1269/1269 [08:35<00:00,  2.46it/s]\n",
      "100%|██████████| 425/425 [01:00<00:00,  6.97it/s]\n",
      "[2024-03-26 10:45:55,604]::3857697113::DEBUG::Epoch: 103 , 1-MAE: 0.9096 , 1-val_avg_o_loss:0.9102 , 1-val_avg_c_loss:0.9056 , 1-val_avg_e_loss:0.9114 , 1-val_avg_a_loss:0.9107 , 1-val_avg_n_loss:0.9102\n",
      "100%|██████████| 1269/1269 [08:34<00:00,  2.46it/s]\n",
      "100%|██████████| 425/425 [01:01<00:00,  6.91it/s]\n",
      "[2024-03-26 10:55:33,891]::3857697113::DEBUG::Epoch: 104 , 1-MAE: 0.9101 , 1-val_avg_o_loss:0.9104 , 1-val_avg_c_loss:0.9057 , 1-val_avg_e_loss:0.9129 , 1-val_avg_a_loss:0.9109 , 1-val_avg_n_loss:0.9108\n",
      "100%|██████████| 1269/1269 [08:34<00:00,  2.46it/s]\n",
      "100%|██████████| 425/425 [01:01<00:00,  6.94it/s]\n",
      "[2024-03-26 11:05:13,090]::3857697113::DEBUG::Epoch: 105 , 1-MAE: 0.9098 , 1-val_avg_o_loss:0.9095 , 1-val_avg_c_loss:0.9059 , 1-val_avg_e_loss:0.9126 , 1-val_avg_a_loss:0.9107 , 1-val_avg_n_loss:0.9101\n",
      "100%|██████████| 1269/1269 [08:34<00:00,  2.47it/s]\n",
      "100%|██████████| 425/425 [01:01<00:00,  6.94it/s]\n",
      "[2024-03-26 11:14:50,761]::3857697113::DEBUG::Epoch: 106 , 1-MAE: 0.9099 , 1-val_avg_o_loss:0.9093 , 1-val_avg_c_loss:0.9066 , 1-val_avg_e_loss:0.9124 , 1-val_avg_a_loss:0.9110 , 1-val_avg_n_loss:0.9102\n",
      "100%|██████████| 1269/1269 [08:35<00:00,  2.46it/s]\n",
      "100%|██████████| 425/425 [01:01<00:00,  6.93it/s]\n",
      "[2024-03-26 11:24:29,007]::3857697113::DEBUG::Epoch: 107 , 1-MAE: 0.9100 , 1-val_avg_o_loss:0.9106 , 1-val_avg_c_loss:0.9057 , 1-val_avg_e_loss:0.9126 , 1-val_avg_a_loss:0.9106 , 1-val_avg_n_loss:0.9105\n",
      "100%|██████████| 1269/1269 [08:34<00:00,  2.46it/s]\n",
      "100%|██████████| 425/425 [01:01<00:00,  6.92it/s]\n",
      "[2024-03-26 11:34:07,188]::3857697113::DEBUG::Epoch: 108 , 1-MAE: 0.9100 , 1-val_avg_o_loss:0.9113 , 1-val_avg_c_loss:0.9061 , 1-val_avg_e_loss:0.9123 , 1-val_avg_a_loss:0.9101 , 1-val_avg_n_loss:0.9103\n",
      "100%|██████████| 1269/1269 [08:35<00:00,  2.46it/s]\n",
      "100%|██████████| 425/425 [01:00<00:00,  7.00it/s]\n",
      "[2024-03-26 11:43:44,795]::3857697113::DEBUG::Epoch: 109 , 1-MAE: 0.9100 , 1-val_avg_o_loss:0.9107 , 1-val_avg_c_loss:0.9055 , 1-val_avg_e_loss:0.9126 , 1-val_avg_a_loss:0.9107 , 1-val_avg_n_loss:0.9105\n",
      "100%|██████████| 1269/1269 [08:34<00:00,  2.47it/s]\n",
      "100%|██████████| 425/425 [01:00<00:00,  6.99it/s]\n",
      "[2024-03-26 11:53:23,462]::3857697113::DEBUG::Epoch: 110 , 1-MAE: 0.9096 , 1-val_avg_o_loss:0.9100 , 1-val_avg_c_loss:0.9054 , 1-val_avg_e_loss:0.9117 , 1-val_avg_a_loss:0.9104 , 1-val_avg_n_loss:0.9102\n",
      "100%|██████████| 1269/1269 [08:34<00:00,  2.47it/s]\n",
      "100%|██████████| 425/425 [01:01<00:00,  6.93it/s]\n",
      "[2024-03-26 12:03:01,233]::3857697113::DEBUG::Epoch: 111 , 1-MAE: 0.9097 , 1-val_avg_o_loss:0.9108 , 1-val_avg_c_loss:0.9054 , 1-val_avg_e_loss:0.9117 , 1-val_avg_a_loss:0.9103 , 1-val_avg_n_loss:0.9101\n",
      "100%|██████████| 1269/1269 [08:34<00:00,  2.46it/s]\n",
      "100%|██████████| 425/425 [01:01<00:00,  6.92it/s]\n",
      "[2024-03-26 12:12:39,364]::3857697113::DEBUG::Epoch: 112 , 1-MAE: 0.9097 , 1-val_avg_o_loss:0.9109 , 1-val_avg_c_loss:0.9055 , 1-val_avg_e_loss:0.9119 , 1-val_avg_a_loss:0.9102 , 1-val_avg_n_loss:0.9102\n",
      "100%|██████████| 1269/1269 [08:35<00:00,  2.46it/s]\n",
      "100%|██████████| 425/425 [01:01<00:00,  6.88it/s]\n",
      "[2024-03-26 12:22:18,206]::3857697113::DEBUG::Epoch: 113 , 1-MAE: 0.9097 , 1-val_avg_o_loss:0.9105 , 1-val_avg_c_loss:0.9051 , 1-val_avg_e_loss:0.9123 , 1-val_avg_a_loss:0.9101 , 1-val_avg_n_loss:0.9102\n",
      "100%|██████████| 1269/1269 [08:34<00:00,  2.46it/s]\n",
      "100%|██████████| 425/425 [01:01<00:00,  6.91it/s]\n",
      "[2024-03-26 12:31:56,492]::3857697113::DEBUG::Epoch: 114 , 1-MAE: 0.9097 , 1-val_avg_o_loss:0.9099 , 1-val_avg_c_loss:0.9059 , 1-val_avg_e_loss:0.9120 , 1-val_avg_a_loss:0.9106 , 1-val_avg_n_loss:0.9100\n",
      "100%|██████████| 1269/1269 [08:35<00:00,  2.46it/s]\n",
      "100%|██████████| 425/425 [01:01<00:00,  6.92it/s]\n",
      "[2024-03-26 12:41:36,161]::3857697113::DEBUG::Epoch: 115 , 1-MAE: 0.9098 , 1-val_avg_o_loss:0.9101 , 1-val_avg_c_loss:0.9055 , 1-val_avg_e_loss:0.9124 , 1-val_avg_a_loss:0.9108 , 1-val_avg_n_loss:0.9101\n",
      "100%|██████████| 1269/1269 [08:35<00:00,  2.46it/s]\n",
      "100%|██████████| 425/425 [01:01<00:00,  6.93it/s]\n",
      "[2024-03-26 12:51:14,396]::3857697113::DEBUG::Epoch: 116 , 1-MAE: 0.9096 , 1-val_avg_o_loss:0.9104 , 1-val_avg_c_loss:0.9058 , 1-val_avg_e_loss:0.9121 , 1-val_avg_a_loss:0.9096 , 1-val_avg_n_loss:0.9102\n",
      "100%|██████████| 1269/1269 [08:35<00:00,  2.46it/s]\n",
      "100%|██████████| 425/425 [01:01<00:00,  6.91it/s]\n",
      "[2024-03-26 13:00:52,737]::3857697113::DEBUG::Epoch: 117 , 1-MAE: 0.9096 , 1-val_avg_o_loss:0.9095 , 1-val_avg_c_loss:0.9052 , 1-val_avg_e_loss:0.9130 , 1-val_avg_a_loss:0.9108 , 1-val_avg_n_loss:0.9097\n",
      "100%|██████████| 1269/1269 [08:34<00:00,  2.46it/s]\n",
      "100%|██████████| 425/425 [01:01<00:00,  6.95it/s]\n",
      "[2024-03-26 13:10:30,645]::3857697113::DEBUG::Epoch: 118 , 1-MAE: 0.9098 , 1-val_avg_o_loss:0.9102 , 1-val_avg_c_loss:0.9060 , 1-val_avg_e_loss:0.9126 , 1-val_avg_a_loss:0.9092 , 1-val_avg_n_loss:0.9109\n",
      "100%|██████████| 1269/1269 [08:35<00:00,  2.46it/s]\n",
      "100%|██████████| 425/425 [01:01<00:00,  6.91it/s]\n",
      "[2024-03-26 13:20:08,976]::3857697113::DEBUG::Epoch: 119 , 1-MAE: 0.9095 , 1-val_avg_o_loss:0.9092 , 1-val_avg_c_loss:0.9052 , 1-val_avg_e_loss:0.9124 , 1-val_avg_a_loss:0.9112 , 1-val_avg_n_loss:0.9097\n",
      "100%|██████████| 1269/1269 [08:34<00:00,  2.46it/s]\n",
      "100%|██████████| 425/425 [01:01<00:00,  6.92it/s]\n",
      "[2024-03-26 13:29:48,757]::3857697113::DEBUG::Epoch: 120 , 1-MAE: 0.9100 , 1-val_avg_o_loss:0.9110 , 1-val_avg_c_loss:0.9052 , 1-val_avg_e_loss:0.9122 , 1-val_avg_a_loss:0.9110 , 1-val_avg_n_loss:0.9105\n"
     ]
    }
   ],
   "source": [
    "with torch.cuda.device(0):\n",
    "    for i in range(start_epoch, epochs):\n",
    "        train_avg_loss = 0\n",
    "        val_avg_loss = 0\n",
    "        train_avg_o_loss = 0\n",
    "        train_avg_c_loss = 0\n",
    "        train_avg_e_loss = 0\n",
    "        train_avg_a_loss = 0\n",
    "        train_avg_n_loss = 0\n",
    "        val_avg_o_loss = 0\n",
    "        val_avg_c_loss = 0\n",
    "        val_avg_e_loss = 0\n",
    "        val_avg_a_loss = 0\n",
    "        val_avg_n_loss = 0\n",
    "        for fullshot,facedata,big_five_data in tqdm(train_dataloader):\n",
    "            big_five_data=big_five_data.permute(0,2,1)\n",
    "            big_five_data=big_five_data.squeeze()\n",
    "            facedata = facedata.to(device)\n",
    "            fullshot = fullshot.to(device)\n",
    "            big_five_data = big_five_data.to(device)\n",
    "            optimizer.zero_grad()  # 기울기가 0이 됩니다.\n",
    "            hypothesis = model(fullshot,facedata)  # 모델의 예측 결과를 저장합니다.\n",
    "            loss = criterion(hypothesis, big_five_data)  # 예측된 결과와 실제 태그 사이의 손실 값을 저장합니다.\n",
    "            loss.backward()  # 역방향 전파입니다. \n",
    "            optimizer.step()  \n",
    "            train_avg_loss += loss  \n",
    "        train_avg_loss=train_avg_loss/len(train_dataloader)\n",
    "        with torch.no_grad():#validate\n",
    "            for fullshot,facedata,big_five_data in tqdm(val_dataloader):\n",
    "                big_five_data=big_five_data.permute(0,2,1)\n",
    "                big_five_data=big_five_data.squeeze()\n",
    "                facedata = facedata.to(device)\n",
    "                fullshot = fullshot.to(device)\n",
    "                big_five_data = big_five_data.to(device)\n",
    "                hypothesis = model(fullshot,facedata)\n",
    "                val_loss = criterion(hypothesis, big_five_data)\n",
    "                hypothesiso,hypothesisc,hypothesise,hypothesisa,hypothesisn=extract_ocean(hypothesis,batchsz)\n",
    "                big_five_datao,big_five_datac,big_five_datae,big_five_dataa,big_five_datan=extract_ocean(big_five_data,batchsz)\n",
    "                val_o_loss = criterion(hypothesiso, big_five_datao) \n",
    "                val_c_loss = criterion(hypothesisc, big_five_datac) \n",
    "                val_e_loss = criterion(hypothesise, big_five_datae) \n",
    "                val_a_loss = criterion(hypothesisa, big_five_dataa) \n",
    "                val_n_loss = criterion(hypothesisn, big_five_datan)  \n",
    "                val_avg_loss += val_loss\n",
    "                val_avg_o_loss += val_o_loss\n",
    "                val_avg_c_loss += val_c_loss\n",
    "                val_avg_e_loss += val_e_loss\n",
    "                val_avg_a_loss += val_a_loss\n",
    "                val_avg_n_loss += val_n_loss\n",
    "            val_avg_loss=val_avg_loss/len(val_dataloader)\n",
    "            val_avg_o_loss=val_avg_o_loss/len(val_dataloader)\n",
    "            val_avg_c_loss=val_avg_c_loss/len(val_dataloader)\n",
    "            val_avg_e_loss=val_avg_e_loss/len(val_dataloader)\n",
    "            val_avg_a_loss=val_avg_a_loss/len(val_dataloader)\n",
    "            val_avg_n_loss=val_avg_n_loss/len(val_dataloader)\n",
    "        torch.cuda.empty_cache()\n",
    "        # if (1-val_avg_loss)>=(1-max_value):\n",
    "        max_value=val_avg_loss\n",
    "        start_epoch+=1\n",
    "        if (i + 1) % 5 == 0:\n",
    "            torch.save({\n",
    "                    'epoch': i+1,\n",
    "                    'model': model.state_dict(),\n",
    "                    'optimizer': optimizer.state_dict(),\n",
    "                    'loss': val_avg_loss,\n",
    "                }, save_model_file_path.format('model',start_epoch,'pth'))\n",
    "        logger.debug('Epoch: {} , 1-MAE: {:.4f} , 1-val_avg_o_loss:{:.4f} , 1-val_avg_c_loss:{:.4f} , 1-val_avg_e_loss:{:.4f} , 1-val_avg_a_loss:{:.4f} , 1-val_avg_n_loss:{:.4f}'.format(i+1, 1-val_avg_loss, 1-val_avg_o_loss, 1-val_avg_c_loss, 1-val_avg_e_loss, 1-val_avg_a_loss,1-val_avg_n_loss))\n",
    "    "
   ]
  },
  {
   "cell_type": "code",
   "execution_count": 20,
   "metadata": {},
   "outputs": [],
   "source": [
    "# from torchinfo import summary\n",
    "\n",
    "# summary(model, input_size = (4,15,4,3,224,224))"
   ]
  },
  {
   "cell_type": "code",
   "execution_count": null,
   "metadata": {},
   "outputs": [],
   "source": []
  }
 ],
 "metadata": {
  "kernelspec": {
   "display_name": "Python 3",
   "language": "python",
   "name": "python3"
  },
  "language_info": {
   "codemirror_mode": {
    "name": "ipython",
    "version": 3
   },
   "file_extension": ".py",
   "mimetype": "text/x-python",
   "name": "python",
   "nbconvert_exporter": "python",
   "pygments_lexer": "ipython3",
   "version": "3.10.11"
  }
 },
 "nbformat": 4,
 "nbformat_minor": 4
}
