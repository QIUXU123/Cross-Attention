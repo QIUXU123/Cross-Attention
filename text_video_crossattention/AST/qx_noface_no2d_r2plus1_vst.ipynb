{
 "cells": [
  {
   "cell_type": "code",
   "execution_count": 1,
   "metadata": {},
   "outputs": [],
   "source": [
    "import librosa\n",
    "import librosa.display\n",
    "import numpy as np\n",
    "import pandas as pd\n",
    "import os\n",
    "from typing import List, Tuple, Dict\n",
    "import matplotlib.pyplot as plt\n",
    "import random\n",
    "import cv2\n",
    "# from vgg16 import VGG16_LSTM\n",
    "import pickle\n",
    "import torch.nn as nn\n",
    "import torch\n",
    "import datetime\n",
    "import torch.nn.functional as F\n",
    "import torchvision.models as models\n",
    "from torchvision import transforms, utils, models\n",
    "from torch.utils.data import Dataset, DataLoader\n",
    "from facenet_pytorch import MTCNN\n",
    "import logging\n",
    "import torch\n",
    "import torch.nn as nn\n",
    "from qx_noface_no2d_video_swin_transformer01 import SwinTransformer3D\n",
    "import gc\n",
    "from einops import rearrange\n",
    "from tqdm import tqdm\n",
    "# from kw_r2plus1d_video_swin_transformer import SwinTransformer3D\n",
    "batchsz = 4\n",
    "frame_nums=15\n",
    "start_epoch = 0\n",
    "test_flage=False\n",
    "model_name =\"fullshot and ast\"\n",
    "logger = logging.getLogger(__name__)\n",
    "logger.setLevel(logging.DEBUG)\n",
    "formatter = logging.Formatter('[%(asctime)s]::%(module)s::%(levelname)s::%(message)s')\n",
    "streamHandler = logging.StreamHandler()\n",
    "streamHandler.setFormatter(formatter)\n",
    "fileHandler = logging.FileHandler('./LOG/personalityLog.log')\n",
    "fileHandler.setFormatter(formatter)\n",
    "logger.addHandler(streamHandler)\n",
    "logger.addHandler(fileHandler)\n",
    "USE_CUDA = torch.cuda.is_available()\n",
    "# device = torch.device('cuda:1' if USE_CUDA else 'cpu')"
   ]
  },
  {
   "cell_type": "code",
   "execution_count": 2,
   "metadata": {},
   "outputs": [
    {
     "name": "stderr",
     "output_type": "stream",
     "text": [
      "[2024-03-21 21:41:24,980]::387438924::DEBUG::=============fullshot and ast+Video swin transformerTrain Strat!=============\n"
     ]
    },
    {
     "name": "stdout",
     "output_type": "stream",
     "text": [
      "True\n",
      "학습을 진행하는 기기: cuda:1\n"
     ]
    }
   ],
   "source": [
    "logger.debug('============={}+Video swin transformerTrain Strat!============='.format(model_name))\n",
    "USE_CUDA = torch.cuda.is_available()\n",
    "print(USE_CUDA)\n",
    "\n",
    "device = torch.device('cuda:1' if USE_CUDA else 'cpu')\n",
    "print('학습을 진행하는 기기:', device)"
   ]
  },
  {
   "cell_type": "code",
   "execution_count": 3,
   "metadata": {},
   "outputs": [
    {
     "name": "stdout",
     "output_type": "stream",
     "text": [
      "1\n"
     ]
    }
   ],
   "source": [
    "def select_frame_data(datas,frame_num):\n",
    "    data_set=[]\n",
    "    begin_num=0\n",
    "    x=128/frame_num\n",
    "    indexes=[None] * frame_num\n",
    "    for i in range(frame_num):\n",
    "        indexes[i]=int(begin_num)\n",
    "        begin_num+=x\n",
    "    for data in datas:\n",
    "        video_frames = [None] * 2\n",
    "        video_frames[0]=[]\n",
    "        video_frames[1]=[]\n",
    "        for index in indexes:\n",
    "            video_frames[0].append(data[0][index])\n",
    "        video_frames[1].append(data[1])\n",
    "        data_set.append(video_frames)\n",
    "        del video_frames\n",
    "        del data \n",
    "        gc.collect()\n",
    "    del datas\n",
    "    gc.collect()\n",
    "    return data_set\n",
    "print(1)"
   ]
  },
  {
   "cell_type": "code",
   "execution_count": 4,
   "metadata": {},
   "outputs": [
    {
     "name": "stdout",
     "output_type": "stream",
     "text": [
      "1\n"
     ]
    }
   ],
   "source": [
    "def getdata(pathname,datatype):\n",
    "    if datatype==\"train\":\n",
    "        final_data_set=[]\n",
    "        output_file=open(pathname, \"rb\")\n",
    "        for i in range(1):\n",
    "            # train_data_set.extend(pickle.load(output_file))\n",
    "            final_data_set.extend(pickle.load(output_file))\n",
    "            # print(i)\n",
    "        return final_data_set\n",
    "    elif datatype==\"valid\":\n",
    "        final_data_set=[]\n",
    "        output_file=open(pathname, \"rb\")\n",
    "        for i in range(1):\n",
    "            valid_data_set=[]\n",
    "            final_data_set.extend(pickle.load(output_file))\n",
    "            del valid_data_set\n",
    "        return final_data_set\n",
    "print(1)"
   ]
  },
  {
   "cell_type": "code",
   "execution_count": 5,
   "metadata": {},
   "outputs": [
    {
     "name": "stdout",
     "output_type": "stream",
     "text": [
      "1\n"
     ]
    }
   ],
   "source": [
    "def datasize(type,batchsz):\n",
    "    if type=='train':\n",
    "        i=5076#5967\n",
    "        while True:\n",
    "            if i%batchsz==0:\n",
    "                return i\n",
    "            else:\n",
    "                i-=1\n",
    "    else:\n",
    "        i=1700#1986\n",
    "        while True:\n",
    "            if i%batchsz==0:\n",
    "                return i\n",
    "            else:\n",
    "                i-=1\n",
    "print(1)"
   ]
  },
  {
   "cell_type": "code",
   "execution_count": 6,
   "metadata": {},
   "outputs": [
    {
     "name": "stdout",
     "output_type": "stream",
     "text": [
      "1\n"
     ]
    }
   ],
   "source": [
    "\n",
    "save_model_file_path = './save_swintransformer_folder/{}_{}.{}'\n",
    "print(1)"
   ]
  },
  {
   "cell_type": "code",
   "execution_count": 7,
   "metadata": {},
   "outputs": [
    {
     "name": "stdout",
     "output_type": "stream",
     "text": [
      "1\n"
     ]
    }
   ],
   "source": [
    "def reshape_to_expected_traininput(dataset: List[Tuple[ np.ndarray, np.ndarray]]) -> Tuple[\n",
    "     np.ndarray, np.ndarray]:\n",
    "    result=[]\n",
    "    for i in range(0, len(dataset[0])):\n",
    "        result.append((dataset[0][i],dataset[1][i],dataset[2][i],dataset[3][i],dataset[4][i],dataset[5][i]))\n",
    "    result = result[:datasize(\"train\",batchsz)]\n",
    "    x0_list = []\n",
    "    x1_list = []\n",
    "    x2_list = []\n",
    "    x3_list = []\n",
    "    x4_list = []\n",
    "    x5_list = []\n",
    "    for i in range(0, len(result)):\n",
    "        x0_list.append(result[i][0])\n",
    "        x1_list.append(result[i][1])\n",
    "        x2_list.append(result[i][2])\n",
    "        x3_list.append(result[i][3])\n",
    "        x4_list.append(result[i][4])\n",
    "        x5_list.append(result[i][5])\n",
    "    return (np.stack(x0_list), np.stack(x1_list), np.stack(x2_list),np.stack(x3_list), np.stack(x4_list), np.stack(x5_list))\n",
    "print(1)"
   ]
  },
  {
   "cell_type": "code",
   "execution_count": 8,
   "metadata": {},
   "outputs": [
    {
     "name": "stdout",
     "output_type": "stream",
     "text": [
      "1\n"
     ]
    }
   ],
   "source": [
    "def reshape_to_expected_validinput(dataset: List[Tuple[ np.ndarray, np.ndarray]]) -> Tuple[\n",
    "     np.ndarray, np.ndarray]:\n",
    "    result=[]\n",
    "    for i in range(0, len(dataset[0])):\n",
    "        result.append((dataset[0][i],dataset[1][i],dataset[2][i],dataset[3][i],dataset[4][i],dataset[5][i]))\n",
    "    result = result[:datasize(\"valid\",batchsz)]\n",
    "    x0_list = []\n",
    "    x1_list = []\n",
    "    x2_list = []\n",
    "    x3_list = []\n",
    "    x4_list = []\n",
    "    x5_list = []\n",
    "    for i in range(0, len(result)):\n",
    "        x0_list.append(result[i][0])\n",
    "        x1_list.append(result[i][1])\n",
    "        x2_list.append(result[i][2])\n",
    "        x3_list.append(result[i][3])\n",
    "        x4_list.append(result[i][4])\n",
    "        x5_list.append(result[i][5])\n",
    "    return (np.stack(x0_list), np.stack(x1_list), np.stack(x2_list),np.stack(x3_list), np.stack(x4_list), np.stack(x5_list))\n",
    "print(1)"
   ]
  },
  {
   "cell_type": "code",
   "execution_count": 9,
   "metadata": {},
   "outputs": [
    {
     "name": "stdout",
     "output_type": "stream",
     "text": [
      "1\n"
     ]
    }
   ],
   "source": [
    "validation_set_data=getdata(\"/home/ssrlab/qx/code/test/video-swin-transformer-pytorch/data/15Frames/multidata/1700valid_set.dat\",\"valid\")\n",
    "validation_set_data=reshape_to_expected_validinput(validation_set_data)\n",
    "print(1)"
   ]
  },
  {
   "cell_type": "code",
   "execution_count": 10,
   "metadata": {},
   "outputs": [
    {
     "name": "stdout",
     "output_type": "stream",
     "text": [
      "1\n"
     ]
    }
   ],
   "source": [
    "train_set_data=getdata(\"/home/ssrlab/qx/code/test/video-swin-transformer-pytorch/data/15Frames/multidata/5076train_set.dat\",\"train\")\n",
    "train_set_data=reshape_to_expected_traininput(train_set_data)\n",
    "print(1)"
   ]
  },
  {
   "cell_type": "code",
   "execution_count": 11,
   "metadata": {},
   "outputs": [
    {
     "name": "stdout",
     "output_type": "stream",
     "text": [
      "1\n"
     ]
    }
   ],
   "source": [
    "def imagecrop(imagedata,batchsz):\n",
    "    # convert_tensor= transforms.ToTensor()\n",
    "    output=[]\n",
    "    for j in range(batchsz):#비디오 데이터 batchsz(9) 개 있다\n",
    "        firstoutput=[]\n",
    "        for i in range(len(imagedata[j])):#imagedata에 15개의 프레임이 있다\n",
    "            # temp = convert_tensor(imagedata[i])\n",
    "            #이미지를 나누\n",
    "            temp = imagedata[j][i].unfold(1,112,112).unfold(2,112,112)\n",
    "            temp = rearrange(temp, 'c h1 w1 h w -> (h1 w1) c h w')\n",
    "            firstoutput.append(temp)\n",
    "        firstoutput = torch.stack(firstoutput,0)\n",
    "        output.append(firstoutput)\n",
    "    output = torch.stack(output,0)\n",
    "    return output\n",
    "print(1)"
   ]
  },
  {
   "cell_type": "code",
   "execution_count": 12,
   "metadata": {},
   "outputs": [
    {
     "name": "stdout",
     "output_type": "stream",
     "text": [
      "1\n"
     ]
    }
   ],
   "source": [
    "transform = transforms.Compose([\n",
    "    transforms.ToPILImage(),\n",
    "    transforms.ToTensor(),\n",
    "])\n",
    "print(1)"
   ]
  },
  {
   "cell_type": "code",
   "execution_count": 13,
   "metadata": {},
   "outputs": [
    {
     "name": "stdout",
     "output_type": "stream",
     "text": [
      "1\n"
     ]
    }
   ],
   "source": [
    "class ChalearnDataset(Dataset):\n",
    "    def __init__(self,audiodata,tagdata,transform=None):\n",
    "        self.audiodata=audiodata\n",
    "        self.tagdata=tagdata\n",
    "        self.transform = transform  # 표준화 여부\n",
    "    def __len__(self):\n",
    "        return len(self.audiodata)\n",
    "\n",
    "    def __getitem__(self, idx):\n",
    "        if torch.is_tensor(idx):\n",
    "            idx = idx.tolist()#텐서의 경우 목록으로 돌아가기\n",
    "        audiodata = self.audiodata[idx]\n",
    "        audiodata = torch.FloatTensor(audiodata)\n",
    "        big_five_sorces=self.tagdata[idx]\n",
    "        big_five_sorces = torch.FloatTensor(big_five_sorces)\n",
    "        return audiodata,big_five_sorces\n",
    "print(1)"
   ]
  },
  {
   "cell_type": "code",
   "execution_count": 14,
   "metadata": {},
   "outputs": [
    {
     "name": "stdout",
     "output_type": "stream",
     "text": [
      "1\n"
     ]
    }
   ],
   "source": [
    "num_workerssz = 20\n",
    "lr = 3e-05\n",
    "epochs = 120\n",
    "#device = torch.device('cuda')\n",
    "# train_set_data = reshape_to_expected_input(train_set_data)\n",
    "# val_set_data = reshape_to_expected_input(validation_set_data)\n",
    "print(1)"
   ]
  },
  {
   "cell_type": "markdown",
   "metadata": {},
   "source": []
  },
  {
   "cell_type": "code",
   "execution_count": 15,
   "metadata": {},
   "outputs": [
    {
     "name": "stdout",
     "output_type": "stream",
     "text": [
      "1\n"
     ]
    }
   ],
   "source": [
    "train_set_data = ChalearnDataset(audiodata=train_set_data[0],tagdata=train_set_data[5],transform=transform)\n",
    "val_set_data = ChalearnDataset(audiodata=validation_set_data[0], tagdata=validation_set_data[5],transform=transform)\n",
    "train_dataloader = DataLoader(dataset=train_set_data, batch_size=batchsz, shuffle=True, num_workers=num_workerssz)\n",
    "val_dataloader = DataLoader(dataset=val_set_data, batch_size=batchsz, shuffle=True, num_workers=num_workerssz)\n",
    "max_value=0\n",
    "print(1)"
   ]
  },
  {
   "cell_type": "code",
   "execution_count": 16,
   "metadata": {},
   "outputs": [
    {
     "name": "stderr",
     "output_type": "stream",
     "text": [
      "Some weights of AlbertModel were not initialized from the model checkpoint at text_model/ and are newly initialized: ['albert.pooler.bias', 'albert.pooler.weight']\n",
      "You should probably TRAIN this model on a down-stream task to be able to use it for predictions and inference.\n"
     ]
    },
    {
     "name": "stdout",
     "output_type": "stream",
     "text": [
      "---------------AST Model Summary---------------\n",
      "ImageNet pretraining: True, AudioSet pretraining: True\n",
      "frequncey stride=10, time stride=10\n",
      "number of patches=131\n"
     ]
    },
    {
     "name": "stderr",
     "output_type": "stream",
     "text": [
      "/home/ssrlab/anaconda3/envs/qx/lib/python3.10/site-packages/torch/functional.py:504: UserWarning: torch.meshgrid: in an upcoming release, it will be required to pass the indexing argument. (Triggered internally at ../aten/src/ATen/native/TensorShape.cpp:3483.)\n",
      "  return _VF.meshgrid(tensors, **kwargs)  # type: ignore[attr-defined]\n"
     ]
    },
    {
     "name": "stdout",
     "output_type": "stream",
     "text": [
      "1\n"
     ]
    }
   ],
   "source": [
    "model=SwinTransformer3D()#num_frames=frame_nums,batchsz = batchsz\n",
    "model.to(device)\n",
    "criterion = torch.nn.L1Loss().to(device)  # 손실함수\n",
    "optimizer = torch.optim.AdamW(model.parameters(), lr=lr) # 옵티마이저\n",
    "\n",
    "if test_flage==True:\n",
    "    checkpoint=torch.load(save_model_file_path.format('model',start_epoch,'pth'), map_location=device)\n",
    "    model.load_state_dict(checkpoint[\"model\"])\n",
    "    optimizer.load_state_dict(checkpoint[\"optimizer\"])\n",
    "    # criterion.load_state_dict(checkpoint[\"loss\"])\n",
    "train_avg_loss0=[]\n",
    "val_avg_loss0=[]\n",
    "print(1)"
   ]
  },
  {
   "cell_type": "code",
   "execution_count": 17,
   "metadata": {},
   "outputs": [],
   "source": [
    "# from torchinfo import summary\n",
    "\n",
    "# summary(model, input_size = ((8,15,224,224,3),(8,24,1319,1)), col_names = ['input_size','output_size','num_params'])"
   ]
  },
  {
   "cell_type": "code",
   "execution_count": 18,
   "metadata": {},
   "outputs": [],
   "source": [
    "def extract_ocean(data,batch_size):\n",
    "    o=[]\n",
    "    c=[]\n",
    "    e=[]\n",
    "    a=[]\n",
    "    n=[]\n",
    "    for i in range(batch_size):\n",
    "        o.append(data[i][0].item())\n",
    "        c.append(data[i][1].item())\n",
    "        e.append(data[i][2].item())\n",
    "        a.append(data[i][3].item())\n",
    "        n.append(data[i][4].item())\n",
    "    o = torch.tensor(o) \n",
    "    c = torch.tensor(c) \n",
    "    e = torch.tensor(e) \n",
    "    a = torch.tensor(a) \n",
    "    n = torch.tensor(n) \n",
    "    return o,c,e,a,n"
   ]
  },
  {
   "cell_type": "code",
   "execution_count": 19,
   "metadata": {},
   "outputs": [
    {
     "name": "stderr",
     "output_type": "stream",
     "text": [
      "100%|██████████| 1269/1269 [00:26<00:00, 47.46it/s]\n",
      "100%|██████████| 425/425 [00:03<00:00, 120.86it/s]\n",
      "[2024-03-21 21:43:12,147]::4015256608::DEBUG::Epoch: 1 , 1-MAE: 0.8799 , 1-val_avg_o_loss:0.8629 , 1-val_avg_c_loss:0.8915 , 1-val_avg_e_loss:0.8721 , 1-val_avg_a_loss:0.8759 , 1-val_avg_n_loss:0.8971\n",
      "100%|██████████| 1269/1269 [00:25<00:00, 49.87it/s]\n",
      "100%|██████████| 425/425 [00:03<00:00, 132.44it/s]\n",
      "[2024-03-21 21:43:41,160]::4015256608::DEBUG::Epoch: 2 , 1-MAE: 0.8851 , 1-val_avg_o_loss:0.8505 , 1-val_avg_c_loss:0.8883 , 1-val_avg_e_loss:0.9053 , 1-val_avg_a_loss:0.8819 , 1-val_avg_n_loss:0.8995\n",
      "100%|██████████| 1269/1269 [00:25<00:00, 49.15it/s]\n",
      "100%|██████████| 425/425 [00:03<00:00, 131.18it/s]\n",
      "[2024-03-21 21:44:10,696]::4015256608::DEBUG::Epoch: 3 , 1-MAE: 0.8943 , 1-val_avg_o_loss:0.8900 , 1-val_avg_c_loss:0.8959 , 1-val_avg_e_loss:0.9060 , 1-val_avg_a_loss:0.8858 , 1-val_avg_n_loss:0.8940\n",
      "100%|██████████| 1269/1269 [00:25<00:00, 49.08it/s]\n",
      "100%|██████████| 425/425 [00:03<00:00, 128.57it/s]\n",
      "[2024-03-21 21:44:40,368]::4015256608::DEBUG::Epoch: 4 , 1-MAE: 0.8883 , 1-val_avg_o_loss:0.8914 , 1-val_avg_c_loss:0.8907 , 1-val_avg_e_loss:0.9059 , 1-val_avg_a_loss:0.8573 , 1-val_avg_n_loss:0.8962\n",
      "100%|██████████| 1269/1269 [00:25<00:00, 49.81it/s]\n",
      "100%|██████████| 425/425 [00:03<00:00, 132.17it/s]\n",
      "[2024-03-21 21:45:11,434]::4015256608::DEBUG::Epoch: 5 , 1-MAE: 0.8957 , 1-val_avg_o_loss:0.8890 , 1-val_avg_c_loss:0.8940 , 1-val_avg_e_loss:0.9045 , 1-val_avg_a_loss:0.8897 , 1-val_avg_n_loss:0.9013\n",
      "100%|██████████| 1269/1269 [00:25<00:00, 49.62it/s]\n",
      "100%|██████████| 425/425 [00:03<00:00, 130.22it/s]\n",
      "[2024-03-21 21:45:40,752]::4015256608::DEBUG::Epoch: 6 , 1-MAE: 0.8895 , 1-val_avg_o_loss:0.8797 , 1-val_avg_c_loss:0.8956 , 1-val_avg_e_loss:0.9010 , 1-val_avg_a_loss:0.8867 , 1-val_avg_n_loss:0.8846\n",
      "100%|██████████| 1269/1269 [00:25<00:00, 49.64it/s]\n",
      "100%|██████████| 425/425 [00:03<00:00, 130.94it/s]\n",
      "[2024-03-21 21:46:10,049]::4015256608::DEBUG::Epoch: 7 , 1-MAE: 0.8929 , 1-val_avg_o_loss:0.8918 , 1-val_avg_c_loss:0.8973 , 1-val_avg_e_loss:0.8921 , 1-val_avg_a_loss:0.8839 , 1-val_avg_n_loss:0.8996\n",
      "100%|██████████| 1269/1269 [00:25<00:00, 49.10it/s]\n",
      "100%|██████████| 425/425 [00:03<00:00, 129.07it/s]\n",
      "[2024-03-21 21:46:39,699]::4015256608::DEBUG::Epoch: 8 , 1-MAE: 0.8908 , 1-val_avg_o_loss:0.8915 , 1-val_avg_c_loss:0.8939 , 1-val_avg_e_loss:0.8992 , 1-val_avg_a_loss:0.8757 , 1-val_avg_n_loss:0.8938\n",
      "100%|██████████| 1269/1269 [00:25<00:00, 49.67it/s]\n",
      "100%|██████████| 425/425 [00:03<00:00, 129.65it/s]\n",
      "[2024-03-21 21:47:09,000]::4015256608::DEBUG::Epoch: 9 , 1-MAE: 0.8926 , 1-val_avg_o_loss:0.8965 , 1-val_avg_c_loss:0.8912 , 1-val_avg_e_loss:0.9015 , 1-val_avg_a_loss:0.8845 , 1-val_avg_n_loss:0.8892\n",
      "100%|██████████| 1269/1269 [00:25<00:00, 49.20it/s]\n",
      "100%|██████████| 425/425 [00:03<00:00, 121.08it/s]\n",
      "[2024-03-21 21:47:40,795]::4015256608::DEBUG::Epoch: 10 , 1-MAE: 0.8931 , 1-val_avg_o_loss:0.8929 , 1-val_avg_c_loss:0.8944 , 1-val_avg_e_loss:0.9012 , 1-val_avg_a_loss:0.8772 , 1-val_avg_n_loss:0.8996\n",
      "100%|██████████| 1269/1269 [00:25<00:00, 49.60it/s]\n",
      "100%|██████████| 425/425 [00:03<00:00, 121.98it/s]\n",
      "[2024-03-21 21:48:10,394]::4015256608::DEBUG::Epoch: 11 , 1-MAE: 0.8888 , 1-val_avg_o_loss:0.8855 , 1-val_avg_c_loss:0.8842 , 1-val_avg_e_loss:0.8989 , 1-val_avg_a_loss:0.8803 , 1-val_avg_n_loss:0.8952\n",
      "100%|██████████| 1269/1269 [00:24<00:00, 50.90it/s]\n",
      "100%|██████████| 425/425 [00:03<00:00, 123.38it/s]\n",
      "[2024-03-21 21:48:39,233]::4015256608::DEBUG::Epoch: 12 , 1-MAE: 0.8966 , 1-val_avg_o_loss:0.8910 , 1-val_avg_c_loss:0.8963 , 1-val_avg_e_loss:0.9063 , 1-val_avg_a_loss:0.8917 , 1-val_avg_n_loss:0.8975\n",
      "100%|██████████| 1269/1269 [00:25<00:00, 49.89it/s]\n",
      "100%|██████████| 425/425 [00:03<00:00, 123.37it/s]\n",
      "[2024-03-21 21:49:08,600]::4015256608::DEBUG::Epoch: 13 , 1-MAE: 0.8949 , 1-val_avg_o_loss:0.8966 , 1-val_avg_c_loss:0.8960 , 1-val_avg_e_loss:0.9020 , 1-val_avg_a_loss:0.8895 , 1-val_avg_n_loss:0.8905\n",
      "100%|██████████| 1269/1269 [00:25<00:00, 50.21it/s]\n",
      "100%|██████████| 425/425 [00:03<00:00, 122.97it/s]\n",
      "[2024-03-21 21:49:37,824]::4015256608::DEBUG::Epoch: 14 , 1-MAE: 0.8917 , 1-val_avg_o_loss:0.8827 , 1-val_avg_c_loss:0.8838 , 1-val_avg_e_loss:0.9055 , 1-val_avg_a_loss:0.8917 , 1-val_avg_n_loss:0.8949\n",
      "100%|██████████| 1269/1269 [00:25<00:00, 50.39it/s]\n",
      "100%|██████████| 425/425 [00:03<00:00, 123.18it/s]\n",
      "[2024-03-21 21:50:08,844]::4015256608::DEBUG::Epoch: 15 , 1-MAE: 0.8951 , 1-val_avg_o_loss:0.8917 , 1-val_avg_c_loss:0.8934 , 1-val_avg_e_loss:0.9026 , 1-val_avg_a_loss:0.8892 , 1-val_avg_n_loss:0.8985\n",
      "100%|██████████| 1269/1269 [00:25<00:00, 49.19it/s]\n",
      "100%|██████████| 425/425 [00:03<00:00, 128.61it/s]\n",
      "[2024-03-21 21:50:38,461]::4015256608::DEBUG::Epoch: 16 , 1-MAE: 0.8916 , 1-val_avg_o_loss:0.8909 , 1-val_avg_c_loss:0.8927 , 1-val_avg_e_loss:0.9016 , 1-val_avg_a_loss:0.8789 , 1-val_avg_n_loss:0.8940\n",
      "100%|██████████| 1269/1269 [00:25<00:00, 49.54it/s]\n",
      "100%|██████████| 425/425 [00:03<00:00, 127.21it/s]\n",
      "[2024-03-21 21:51:07,901]::4015256608::DEBUG::Epoch: 17 , 1-MAE: 0.8971 , 1-val_avg_o_loss:0.8959 , 1-val_avg_c_loss:0.8963 , 1-val_avg_e_loss:0.9029 , 1-val_avg_a_loss:0.8901 , 1-val_avg_n_loss:0.9002\n",
      "100%|██████████| 1269/1269 [00:25<00:00, 49.80it/s]\n",
      "100%|██████████| 425/425 [00:03<00:00, 128.54it/s]\n",
      "[2024-03-21 21:51:37,180]::4015256608::DEBUG::Epoch: 18 , 1-MAE: 0.8964 , 1-val_avg_o_loss:0.8954 , 1-val_avg_c_loss:0.8948 , 1-val_avg_e_loss:0.9029 , 1-val_avg_a_loss:0.8897 , 1-val_avg_n_loss:0.8994\n",
      "100%|██████████| 1269/1269 [00:25<00:00, 49.59it/s]\n",
      "100%|██████████| 425/425 [00:03<00:00, 127.81it/s]\n",
      "[2024-03-21 21:52:06,568]::4015256608::DEBUG::Epoch: 19 , 1-MAE: 0.8964 , 1-val_avg_o_loss:0.8956 , 1-val_avg_c_loss:0.8915 , 1-val_avg_e_loss:0.9044 , 1-val_avg_a_loss:0.8910 , 1-val_avg_n_loss:0.8996\n",
      "100%|██████████| 1269/1269 [00:25<00:00, 48.81it/s]\n",
      "100%|██████████| 425/425 [00:03<00:00, 119.57it/s]\n",
      "[2024-03-21 21:52:38,482]::4015256608::DEBUG::Epoch: 20 , 1-MAE: 0.8965 , 1-val_avg_o_loss:0.8929 , 1-val_avg_c_loss:0.8959 , 1-val_avg_e_loss:0.9027 , 1-val_avg_a_loss:0.8910 , 1-val_avg_n_loss:0.8998\n",
      "100%|██████████| 1269/1269 [00:26<00:00, 48.47it/s]\n",
      "100%|██████████| 425/425 [00:03<00:00, 127.56it/s]\n",
      "[2024-03-21 21:53:08,501]::4015256608::DEBUG::Epoch: 21 , 1-MAE: 0.8957 , 1-val_avg_o_loss:0.8932 , 1-val_avg_c_loss:0.8970 , 1-val_avg_e_loss:0.9023 , 1-val_avg_a_loss:0.8892 , 1-val_avg_n_loss:0.8967\n",
      "100%|██████████| 1269/1269 [00:25<00:00, 49.23it/s]\n",
      "100%|██████████| 425/425 [00:03<00:00, 127.34it/s]\n",
      "[2024-03-21 21:53:38,112]::4015256608::DEBUG::Epoch: 22 , 1-MAE: 0.8941 , 1-val_avg_o_loss:0.8955 , 1-val_avg_c_loss:0.8899 , 1-val_avg_e_loss:0.9046 , 1-val_avg_a_loss:0.8824 , 1-val_avg_n_loss:0.8983\n",
      "100%|██████████| 1269/1269 [00:25<00:00, 49.59it/s]\n",
      "100%|██████████| 425/425 [00:03<00:00, 132.35it/s]\n",
      "[2024-03-21 21:54:07,393]::4015256608::DEBUG::Epoch: 23 , 1-MAE: 0.8972 , 1-val_avg_o_loss:0.8946 , 1-val_avg_c_loss:0.8955 , 1-val_avg_e_loss:0.9042 , 1-val_avg_a_loss:0.8921 , 1-val_avg_n_loss:0.8997\n",
      "100%|██████████| 1269/1269 [00:25<00:00, 49.50it/s]\n",
      "100%|██████████| 425/425 [00:03<00:00, 129.56it/s]\n",
      "[2024-03-21 21:54:36,792]::4015256608::DEBUG::Epoch: 24 , 1-MAE: 0.8941 , 1-val_avg_o_loss:0.8894 , 1-val_avg_c_loss:0.8957 , 1-val_avg_e_loss:0.8997 , 1-val_avg_a_loss:0.8889 , 1-val_avg_n_loss:0.8969\n",
      "100%|██████████| 1269/1269 [00:25<00:00, 48.90it/s]\n",
      "100%|██████████| 425/425 [00:03<00:00, 134.52it/s]\n",
      "[2024-03-21 21:55:08,269]::4015256608::DEBUG::Epoch: 25 , 1-MAE: 0.8972 , 1-val_avg_o_loss:0.8959 , 1-val_avg_c_loss:0.8960 , 1-val_avg_e_loss:0.9049 , 1-val_avg_a_loss:0.8902 , 1-val_avg_n_loss:0.8988\n",
      "100%|██████████| 1269/1269 [00:26<00:00, 48.72it/s]\n",
      "100%|██████████| 425/425 [00:03<00:00, 125.55it/s]\n",
      "[2024-03-21 21:55:38,213]::4015256608::DEBUG::Epoch: 26 , 1-MAE: 0.8947 , 1-val_avg_o_loss:0.8919 , 1-val_avg_c_loss:0.8950 , 1-val_avg_e_loss:0.9001 , 1-val_avg_a_loss:0.8887 , 1-val_avg_n_loss:0.8976\n",
      "100%|██████████| 1269/1269 [00:25<00:00, 50.08it/s]\n",
      "100%|██████████| 425/425 [00:03<00:00, 125.54it/s]\n",
      "[2024-03-21 21:56:07,451]::4015256608::DEBUG::Epoch: 27 , 1-MAE: 0.8950 , 1-val_avg_o_loss:0.8892 , 1-val_avg_c_loss:0.8948 , 1-val_avg_e_loss:0.9012 , 1-val_avg_a_loss:0.8923 , 1-val_avg_n_loss:0.8973\n",
      "100%|██████████| 1269/1269 [00:25<00:00, 50.23it/s]\n",
      "100%|██████████| 425/425 [00:03<00:00, 125.95it/s]\n",
      "[2024-03-21 21:56:36,588]::4015256608::DEBUG::Epoch: 28 , 1-MAE: 0.8943 , 1-val_avg_o_loss:0.8962 , 1-val_avg_c_loss:0.8915 , 1-val_avg_e_loss:0.9013 , 1-val_avg_a_loss:0.8901 , 1-val_avg_n_loss:0.8924\n",
      "100%|██████████| 1269/1269 [00:25<00:00, 49.69it/s]\n",
      "100%|██████████| 425/425 [00:03<00:00, 115.66it/s]\n",
      "[2024-03-21 21:57:06,307]::4015256608::DEBUG::Epoch: 29 , 1-MAE: 0.8969 , 1-val_avg_o_loss:0.8959 , 1-val_avg_c_loss:0.8951 , 1-val_avg_e_loss:0.9031 , 1-val_avg_a_loss:0.8915 , 1-val_avg_n_loss:0.8989\n",
      "100%|██████████| 1269/1269 [00:25<00:00, 48.92it/s]\n",
      "100%|██████████| 425/425 [00:03<00:00, 116.41it/s]\n",
      "[2024-03-21 21:57:38,293]::4015256608::DEBUG::Epoch: 30 , 1-MAE: 0.8958 , 1-val_avg_o_loss:0.8950 , 1-val_avg_c_loss:0.8938 , 1-val_avg_e_loss:0.9010 , 1-val_avg_a_loss:0.8918 , 1-val_avg_n_loss:0.8977\n",
      "100%|██████████| 1269/1269 [00:25<00:00, 49.68it/s]\n",
      "100%|██████████| 425/425 [00:03<00:00, 125.15it/s]\n",
      "[2024-03-21 21:58:07,703]::4015256608::DEBUG::Epoch: 31 , 1-MAE: 0.8957 , 1-val_avg_o_loss:0.8908 , 1-val_avg_c_loss:0.8960 , 1-val_avg_e_loss:0.9032 , 1-val_avg_a_loss:0.8922 , 1-val_avg_n_loss:0.8963\n",
      "100%|██████████| 1269/1269 [00:25<00:00, 49.97it/s]\n",
      "100%|██████████| 425/425 [00:03<00:00, 123.53it/s]\n",
      "[2024-03-21 21:58:37,047]::4015256608::DEBUG::Epoch: 32 , 1-MAE: 0.8961 , 1-val_avg_o_loss:0.8945 , 1-val_avg_c_loss:0.8902 , 1-val_avg_e_loss:0.9039 , 1-val_avg_a_loss:0.8924 , 1-val_avg_n_loss:0.8995\n",
      "100%|██████████| 1269/1269 [00:25<00:00, 50.01it/s]\n",
      "100%|██████████| 425/425 [00:03<00:00, 124.92it/s]\n",
      "[2024-03-21 21:59:06,324]::4015256608::DEBUG::Epoch: 33 , 1-MAE: 0.8978 , 1-val_avg_o_loss:0.8960 , 1-val_avg_c_loss:0.8973 , 1-val_avg_e_loss:0.9056 , 1-val_avg_a_loss:0.8921 , 1-val_avg_n_loss:0.8982\n",
      "100%|██████████| 1269/1269 [00:25<00:00, 50.33it/s]\n",
      "100%|██████████| 425/425 [00:03<00:00, 124.07it/s]\n",
      "[2024-03-21 21:59:35,470]::4015256608::DEBUG::Epoch: 34 , 1-MAE: 0.8962 , 1-val_avg_o_loss:0.8952 , 1-val_avg_c_loss:0.8954 , 1-val_avg_e_loss:0.9056 , 1-val_avg_a_loss:0.8887 , 1-val_avg_n_loss:0.8961\n",
      "100%|██████████| 1269/1269 [00:25<00:00, 50.11it/s]\n",
      "100%|██████████| 425/425 [00:03<00:00, 122.27it/s]\n",
      "[2024-03-21 22:00:06,658]::4015256608::DEBUG::Epoch: 35 , 1-MAE: 0.8963 , 1-val_avg_o_loss:0.8943 , 1-val_avg_c_loss:0.8967 , 1-val_avg_e_loss:0.9014 , 1-val_avg_a_loss:0.8921 , 1-val_avg_n_loss:0.8967\n",
      "100%|██████████| 1269/1269 [00:25<00:00, 49.32it/s]\n",
      "100%|██████████| 425/425 [00:03<00:00, 124.74it/s]\n",
      "[2024-03-21 22:00:36,235]::4015256608::DEBUG::Epoch: 36 , 1-MAE: 0.8964 , 1-val_avg_o_loss:0.8954 , 1-val_avg_c_loss:0.8964 , 1-val_avg_e_loss:0.9019 , 1-val_avg_a_loss:0.8907 , 1-val_avg_n_loss:0.8978\n",
      "100%|██████████| 1269/1269 [00:25<00:00, 49.26it/s]\n",
      "100%|██████████| 425/425 [00:03<00:00, 127.35it/s]\n",
      "[2024-03-21 22:01:05,835]::4015256608::DEBUG::Epoch: 37 , 1-MAE: 0.8969 , 1-val_avg_o_loss:0.8971 , 1-val_avg_c_loss:0.8964 , 1-val_avg_e_loss:0.9031 , 1-val_avg_a_loss:0.8907 , 1-val_avg_n_loss:0.8972\n",
      "100%|██████████| 1269/1269 [00:25<00:00, 49.55it/s]\n",
      "100%|██████████| 425/425 [00:03<00:00, 127.07it/s]\n",
      "[2024-03-21 22:01:35,280]::4015256608::DEBUG::Epoch: 38 , 1-MAE: 0.8968 , 1-val_avg_o_loss:0.8964 , 1-val_avg_c_loss:0.8955 , 1-val_avg_e_loss:0.9034 , 1-val_avg_a_loss:0.8920 , 1-val_avg_n_loss:0.8967\n",
      "100%|██████████| 1269/1269 [00:25<00:00, 49.09it/s]\n",
      "100%|██████████| 425/425 [00:03<00:00, 124.64it/s]\n",
      "[2024-03-21 22:02:05,025]::4015256608::DEBUG::Epoch: 39 , 1-MAE: 0.8979 , 1-val_avg_o_loss:0.8976 , 1-val_avg_c_loss:0.8971 , 1-val_avg_e_loss:0.9043 , 1-val_avg_a_loss:0.8926 , 1-val_avg_n_loss:0.8980\n",
      "100%|██████████| 1269/1269 [00:25<00:00, 49.59it/s]\n",
      "100%|██████████| 425/425 [00:03<00:00, 128.68it/s]\n",
      "[2024-03-21 22:02:36,330]::4015256608::DEBUG::Epoch: 40 , 1-MAE: 0.8970 , 1-val_avg_o_loss:0.8956 , 1-val_avg_c_loss:0.8956 , 1-val_avg_e_loss:0.9038 , 1-val_avg_a_loss:0.8924 , 1-val_avg_n_loss:0.8973\n",
      "100%|██████████| 1269/1269 [00:25<00:00, 49.63it/s]\n",
      "100%|██████████| 425/425 [00:03<00:00, 129.76it/s]\n",
      "[2024-03-21 22:03:05,666]::4015256608::DEBUG::Epoch: 41 , 1-MAE: 0.8974 , 1-val_avg_o_loss:0.8966 , 1-val_avg_c_loss:0.8958 , 1-val_avg_e_loss:0.9031 , 1-val_avg_a_loss:0.8924 , 1-val_avg_n_loss:0.8991\n",
      "100%|██████████| 1269/1269 [00:25<00:00, 50.04it/s]\n",
      "100%|██████████| 425/425 [00:03<00:00, 122.62it/s]\n",
      "[2024-03-21 22:03:34,972]::4015256608::DEBUG::Epoch: 42 , 1-MAE: 0.8971 , 1-val_avg_o_loss:0.8964 , 1-val_avg_c_loss:0.8956 , 1-val_avg_e_loss:0.9038 , 1-val_avg_a_loss:0.8922 , 1-val_avg_n_loss:0.8974\n",
      "100%|██████████| 1269/1269 [00:25<00:00, 49.35it/s]\n",
      "100%|██████████| 425/425 [00:03<00:00, 133.81it/s]\n",
      "[2024-03-21 22:04:04,354]::4015256608::DEBUG::Epoch: 43 , 1-MAE: 0.8968 , 1-val_avg_o_loss:0.8951 , 1-val_avg_c_loss:0.8956 , 1-val_avg_e_loss:0.9051 , 1-val_avg_a_loss:0.8908 , 1-val_avg_n_loss:0.8972\n",
      "100%|██████████| 1269/1269 [00:25<00:00, 49.35it/s]\n",
      "100%|██████████| 425/425 [00:03<00:00, 130.58it/s]\n",
      "[2024-03-21 22:04:33,831]::4015256608::DEBUG::Epoch: 44 , 1-MAE: 0.8973 , 1-val_avg_o_loss:0.8968 , 1-val_avg_c_loss:0.8980 , 1-val_avg_e_loss:0.9032 , 1-val_avg_a_loss:0.8925 , 1-val_avg_n_loss:0.8960\n",
      "100%|██████████| 1269/1269 [00:25<00:00, 49.76it/s]\n",
      "100%|██████████| 425/425 [00:03<00:00, 131.14it/s]\n",
      "[2024-03-21 22:05:04,943]::4015256608::DEBUG::Epoch: 45 , 1-MAE: 0.8976 , 1-val_avg_o_loss:0.8965 , 1-val_avg_c_loss:0.8971 , 1-val_avg_e_loss:0.9044 , 1-val_avg_a_loss:0.8919 , 1-val_avg_n_loss:0.8984\n",
      "100%|██████████| 1269/1269 [00:25<00:00, 49.92it/s]\n",
      "100%|██████████| 425/425 [00:03<00:00, 132.48it/s]\n",
      "[2024-03-21 22:05:34,059]::4015256608::DEBUG::Epoch: 46 , 1-MAE: 0.8982 , 1-val_avg_o_loss:0.8962 , 1-val_avg_c_loss:0.8977 , 1-val_avg_e_loss:0.9057 , 1-val_avg_a_loss:0.8932 , 1-val_avg_n_loss:0.8980\n",
      "100%|██████████| 1269/1269 [00:25<00:00, 49.28it/s]\n",
      "100%|██████████| 425/425 [00:03<00:00, 122.03it/s]\n",
      "[2024-03-21 22:06:03,791]::4015256608::DEBUG::Epoch: 47 , 1-MAE: 0.8978 , 1-val_avg_o_loss:0.8977 , 1-val_avg_c_loss:0.8964 , 1-val_avg_e_loss:0.9044 , 1-val_avg_a_loss:0.8919 , 1-val_avg_n_loss:0.8985\n",
      "100%|██████████| 1269/1269 [00:26<00:00, 48.78it/s]\n",
      "100%|██████████| 425/425 [00:03<00:00, 128.26it/s]\n",
      "[2024-03-21 22:06:33,631]::4015256608::DEBUG::Epoch: 48 , 1-MAE: 0.8991 , 1-val_avg_o_loss:0.8962 , 1-val_avg_c_loss:0.8987 , 1-val_avg_e_loss:0.9069 , 1-val_avg_a_loss:0.8935 , 1-val_avg_n_loss:0.9002\n",
      "100%|██████████| 1269/1269 [00:26<00:00, 47.92it/s]\n",
      "100%|██████████| 425/425 [00:03<00:00, 119.77it/s]\n",
      "[2024-03-21 22:07:04,143]::4015256608::DEBUG::Epoch: 49 , 1-MAE: 0.8984 , 1-val_avg_o_loss:0.8975 , 1-val_avg_c_loss:0.8973 , 1-val_avg_e_loss:0.9039 , 1-val_avg_a_loss:0.8942 , 1-val_avg_n_loss:0.8993\n",
      "100%|██████████| 1269/1269 [00:25<00:00, 49.40it/s]\n",
      "100%|██████████| 425/425 [00:03<00:00, 124.77it/s]\n",
      "[2024-03-21 22:07:35,606]::4015256608::DEBUG::Epoch: 50 , 1-MAE: 0.8955 , 1-val_avg_o_loss:0.8964 , 1-val_avg_c_loss:0.8931 , 1-val_avg_e_loss:0.8991 , 1-val_avg_a_loss:0.8903 , 1-val_avg_n_loss:0.8984\n",
      "100%|██████████| 1269/1269 [00:25<00:00, 50.67it/s]\n",
      "100%|██████████| 425/425 [00:03<00:00, 124.03it/s]\n",
      "[2024-03-21 22:08:04,549]::4015256608::DEBUG::Epoch: 51 , 1-MAE: 0.8988 , 1-val_avg_o_loss:0.8983 , 1-val_avg_c_loss:0.8966 , 1-val_avg_e_loss:0.9061 , 1-val_avg_a_loss:0.8937 , 1-val_avg_n_loss:0.8992\n",
      "100%|██████████| 1269/1269 [00:25<00:00, 50.22it/s]\n",
      "100%|██████████| 425/425 [00:03<00:00, 124.84it/s]\n",
      "[2024-03-21 22:08:33,729]::4015256608::DEBUG::Epoch: 52 , 1-MAE: 0.8985 , 1-val_avg_o_loss:0.8972 , 1-val_avg_c_loss:0.8975 , 1-val_avg_e_loss:0.9053 , 1-val_avg_a_loss:0.8942 , 1-val_avg_n_loss:0.8985\n",
      "100%|██████████| 1269/1269 [00:25<00:00, 50.26it/s]\n",
      "100%|██████████| 425/425 [00:03<00:00, 124.83it/s]\n",
      "[2024-03-21 22:09:02,894]::4015256608::DEBUG::Epoch: 53 , 1-MAE: 0.8984 , 1-val_avg_o_loss:0.8974 , 1-val_avg_c_loss:0.8975 , 1-val_avg_e_loss:0.9051 , 1-val_avg_a_loss:0.8925 , 1-val_avg_n_loss:0.8997\n",
      "100%|██████████| 1269/1269 [00:25<00:00, 50.37it/s]\n",
      "100%|██████████| 425/425 [00:03<00:00, 125.04it/s]\n",
      "[2024-03-21 22:09:31,986]::4015256608::DEBUG::Epoch: 54 , 1-MAE: 0.8981 , 1-val_avg_o_loss:0.8979 , 1-val_avg_c_loss:0.8962 , 1-val_avg_e_loss:0.9049 , 1-val_avg_a_loss:0.8925 , 1-val_avg_n_loss:0.8992\n",
      "100%|██████████| 1269/1269 [00:25<00:00, 50.37it/s]\n",
      "100%|██████████| 425/425 [00:03<00:00, 124.77it/s]\n",
      "[2024-03-21 22:10:02,931]::4015256608::DEBUG::Epoch: 55 , 1-MAE: 0.8972 , 1-val_avg_o_loss:0.8974 , 1-val_avg_c_loss:0.8958 , 1-val_avg_e_loss:0.9048 , 1-val_avg_a_loss:0.8915 , 1-val_avg_n_loss:0.8965\n",
      "100%|██████████| 1269/1269 [00:26<00:00, 48.76it/s]\n",
      "100%|██████████| 425/425 [00:03<00:00, 125.31it/s]\n",
      "[2024-03-21 22:10:32,823]::4015256608::DEBUG::Epoch: 56 , 1-MAE: 0.8978 , 1-val_avg_o_loss:0.8978 , 1-val_avg_c_loss:0.8977 , 1-val_avg_e_loss:0.9051 , 1-val_avg_a_loss:0.8918 , 1-val_avg_n_loss:0.8964\n",
      "100%|██████████| 1269/1269 [00:25<00:00, 49.30it/s]\n",
      "100%|██████████| 425/425 [00:03<00:00, 125.46it/s]\n",
      "[2024-03-21 22:11:02,441]::4015256608::DEBUG::Epoch: 57 , 1-MAE: 0.8986 , 1-val_avg_o_loss:0.8964 , 1-val_avg_c_loss:0.8982 , 1-val_avg_e_loss:0.9053 , 1-val_avg_a_loss:0.8936 , 1-val_avg_n_loss:0.8993\n",
      "100%|██████████| 1269/1269 [00:25<00:00, 49.51it/s]\n",
      "100%|██████████| 425/425 [00:03<00:00, 119.79it/s]\n",
      "[2024-03-21 22:11:32,102]::4015256608::DEBUG::Epoch: 58 , 1-MAE: 0.8994 , 1-val_avg_o_loss:0.8985 , 1-val_avg_c_loss:0.8991 , 1-val_avg_e_loss:0.9066 , 1-val_avg_a_loss:0.8935 , 1-val_avg_n_loss:0.8992\n",
      "100%|██████████| 1269/1269 [00:26<00:00, 48.45it/s]\n",
      "100%|██████████| 425/425 [00:03<00:00, 124.15it/s]\n",
      "[2024-03-21 22:12:02,237]::4015256608::DEBUG::Epoch: 59 , 1-MAE: 0.8984 , 1-val_avg_o_loss:0.8984 , 1-val_avg_c_loss:0.8982 , 1-val_avg_e_loss:0.9039 , 1-val_avg_a_loss:0.8935 , 1-val_avg_n_loss:0.8982\n",
      "100%|██████████| 1269/1269 [00:25<00:00, 49.98it/s]\n",
      "100%|██████████| 425/425 [00:03<00:00, 126.41it/s]\n",
      "[2024-03-21 22:12:33,355]::4015256608::DEBUG::Epoch: 60 , 1-MAE: 0.8994 , 1-val_avg_o_loss:0.8995 , 1-val_avg_c_loss:0.8983 , 1-val_avg_e_loss:0.9058 , 1-val_avg_a_loss:0.8942 , 1-val_avg_n_loss:0.8994\n",
      "100%|██████████| 1269/1269 [00:25<00:00, 49.41it/s]\n",
      "100%|██████████| 425/425 [00:03<00:00, 124.74it/s]\n",
      "[2024-03-21 22:13:02,956]::4015256608::DEBUG::Epoch: 61 , 1-MAE: 0.8986 , 1-val_avg_o_loss:0.8983 , 1-val_avg_c_loss:0.8975 , 1-val_avg_e_loss:0.9058 , 1-val_avg_a_loss:0.8923 , 1-val_avg_n_loss:0.8990\n",
      "100%|██████████| 1269/1269 [00:25<00:00, 49.09it/s]\n",
      "100%|██████████| 425/425 [00:03<00:00, 129.45it/s]\n",
      "[2024-03-21 22:13:32,591]::4015256608::DEBUG::Epoch: 62 , 1-MAE: 0.8993 , 1-val_avg_o_loss:0.8988 , 1-val_avg_c_loss:0.8983 , 1-val_avg_e_loss:0.9061 , 1-val_avg_a_loss:0.8940 , 1-val_avg_n_loss:0.8993\n",
      "100%|██████████| 1269/1269 [00:25<00:00, 49.31it/s]\n",
      "100%|██████████| 425/425 [00:03<00:00, 128.08it/s]\n",
      "[2024-03-21 22:14:02,127]::4015256608::DEBUG::Epoch: 63 , 1-MAE: 0.8989 , 1-val_avg_o_loss:0.8985 , 1-val_avg_c_loss:0.8973 , 1-val_avg_e_loss:0.9059 , 1-val_avg_a_loss:0.8929 , 1-val_avg_n_loss:0.8996\n",
      "100%|██████████| 1269/1269 [00:25<00:00, 49.39it/s]\n",
      "100%|██████████| 425/425 [00:03<00:00, 127.31it/s]\n",
      "[2024-03-21 22:14:31,669]::4015256608::DEBUG::Epoch: 64 , 1-MAE: 0.8987 , 1-val_avg_o_loss:0.8980 , 1-val_avg_c_loss:0.8978 , 1-val_avg_e_loss:0.9064 , 1-val_avg_a_loss:0.8919 , 1-val_avg_n_loss:0.8995\n",
      "100%|██████████| 1269/1269 [00:25<00:00, 49.67it/s]\n",
      "100%|██████████| 425/425 [00:03<00:00, 129.83it/s]\n",
      "[2024-03-21 22:15:02,847]::4015256608::DEBUG::Epoch: 65 , 1-MAE: 0.8992 , 1-val_avg_o_loss:0.8974 , 1-val_avg_c_loss:0.8987 , 1-val_avg_e_loss:0.9058 , 1-val_avg_a_loss:0.8945 , 1-val_avg_n_loss:0.8996\n",
      "100%|██████████| 1269/1269 [00:25<00:00, 49.40it/s]\n",
      "100%|██████████| 425/425 [00:03<00:00, 128.93it/s]\n",
      "[2024-03-21 22:15:32,306]::4015256608::DEBUG::Epoch: 66 , 1-MAE: 0.8988 , 1-val_avg_o_loss:0.8986 , 1-val_avg_c_loss:0.8962 , 1-val_avg_e_loss:0.9063 , 1-val_avg_a_loss:0.8932 , 1-val_avg_n_loss:0.8996\n",
      "100%|██████████| 1269/1269 [00:25<00:00, 49.49it/s]\n",
      "100%|██████████| 425/425 [00:03<00:00, 123.63it/s]\n",
      "[2024-03-21 22:16:01,865]::4015256608::DEBUG::Epoch: 67 , 1-MAE: 0.8975 , 1-val_avg_o_loss:0.8955 , 1-val_avg_c_loss:0.8966 , 1-val_avg_e_loss:0.9043 , 1-val_avg_a_loss:0.8924 , 1-val_avg_n_loss:0.8985\n",
      "100%|██████████| 1269/1269 [00:25<00:00, 49.16it/s]\n",
      "100%|██████████| 425/425 [00:03<00:00, 125.20it/s]\n",
      "[2024-03-21 22:16:31,511]::4015256608::DEBUG::Epoch: 68 , 1-MAE: 0.8993 , 1-val_avg_o_loss:0.8985 , 1-val_avg_c_loss:0.8978 , 1-val_avg_e_loss:0.9067 , 1-val_avg_a_loss:0.8939 , 1-val_avg_n_loss:0.8996\n",
      "100%|██████████| 1269/1269 [00:25<00:00, 48.96it/s]\n",
      "100%|██████████| 425/425 [00:03<00:00, 126.55it/s]\n",
      "[2024-03-21 22:17:01,288]::4015256608::DEBUG::Epoch: 69 , 1-MAE: 0.8998 , 1-val_avg_o_loss:0.8998 , 1-val_avg_c_loss:0.8976 , 1-val_avg_e_loss:0.9061 , 1-val_avg_a_loss:0.8947 , 1-val_avg_n_loss:0.9011\n",
      "100%|██████████| 1269/1269 [00:25<00:00, 49.92it/s]\n",
      "100%|██████████| 425/425 [00:03<00:00, 129.51it/s]\n",
      "[2024-03-21 22:17:32,365]::4015256608::DEBUG::Epoch: 70 , 1-MAE: 0.8998 , 1-val_avg_o_loss:0.8995 , 1-val_avg_c_loss:0.8996 , 1-val_avg_e_loss:0.9057 , 1-val_avg_a_loss:0.8942 , 1-val_avg_n_loss:0.9002\n",
      "100%|██████████| 1269/1269 [00:25<00:00, 49.69it/s]\n",
      "100%|██████████| 425/425 [00:03<00:00, 130.57it/s]\n",
      "[2024-03-21 22:18:01,647]::4015256608::DEBUG::Epoch: 71 , 1-MAE: 0.8988 , 1-val_avg_o_loss:0.8991 , 1-val_avg_c_loss:0.8982 , 1-val_avg_e_loss:0.9028 , 1-val_avg_a_loss:0.8939 , 1-val_avg_n_loss:0.9000\n",
      "100%|██████████| 1269/1269 [00:25<00:00, 49.67it/s]\n",
      "100%|██████████| 425/425 [00:03<00:00, 131.44it/s]\n",
      "[2024-03-21 22:18:30,905]::4015256608::DEBUG::Epoch: 72 , 1-MAE: 0.8992 , 1-val_avg_o_loss:0.8997 , 1-val_avg_c_loss:0.8976 , 1-val_avg_e_loss:0.9051 , 1-val_avg_a_loss:0.8936 , 1-val_avg_n_loss:0.9001\n",
      "100%|██████████| 1269/1269 [00:25<00:00, 49.71it/s]\n",
      "100%|██████████| 425/425 [00:03<00:00, 128.83it/s]\n",
      "[2024-03-21 22:19:00,207]::4015256608::DEBUG::Epoch: 73 , 1-MAE: 0.8997 , 1-val_avg_o_loss:0.8985 , 1-val_avg_c_loss:0.8976 , 1-val_avg_e_loss:0.9080 , 1-val_avg_a_loss:0.8945 , 1-val_avg_n_loss:0.8998\n",
      "100%|██████████| 1269/1269 [00:25<00:00, 49.51it/s]\n",
      "100%|██████████| 425/425 [00:03<00:00, 133.90it/s]\n",
      "[2024-03-21 22:19:29,451]::4015256608::DEBUG::Epoch: 74 , 1-MAE: 0.8998 , 1-val_avg_o_loss:0.8997 , 1-val_avg_c_loss:0.8988 , 1-val_avg_e_loss:0.9068 , 1-val_avg_a_loss:0.8944 , 1-val_avg_n_loss:0.8993\n",
      "100%|██████████| 1269/1269 [00:25<00:00, 49.71it/s]\n",
      "100%|██████████| 425/425 [00:03<00:00, 125.10it/s]\n",
      "[2024-03-21 22:20:00,711]::4015256608::DEBUG::Epoch: 75 , 1-MAE: 0.9000 , 1-val_avg_o_loss:0.8991 , 1-val_avg_c_loss:0.8980 , 1-val_avg_e_loss:0.9073 , 1-val_avg_a_loss:0.8953 , 1-val_avg_n_loss:0.9001\n",
      "100%|██████████| 1269/1269 [00:25<00:00, 50.02it/s]\n",
      "100%|██████████| 425/425 [00:03<00:00, 125.73it/s]\n",
      "[2024-03-21 22:20:29,937]::4015256608::DEBUG::Epoch: 76 , 1-MAE: 0.8998 , 1-val_avg_o_loss:0.8996 , 1-val_avg_c_loss:0.8985 , 1-val_avg_e_loss:0.9070 , 1-val_avg_a_loss:0.8938 , 1-val_avg_n_loss:0.9000\n",
      "100%|██████████| 1269/1269 [00:25<00:00, 49.80it/s]\n",
      "100%|██████████| 425/425 [00:03<00:00, 125.34it/s]\n",
      "[2024-03-21 22:20:59,313]::4015256608::DEBUG::Epoch: 77 , 1-MAE: 0.8998 , 1-val_avg_o_loss:0.8997 , 1-val_avg_c_loss:0.8983 , 1-val_avg_e_loss:0.9060 , 1-val_avg_a_loss:0.8948 , 1-val_avg_n_loss:0.9002\n",
      "100%|██████████| 1269/1269 [00:25<00:00, 49.37it/s]\n",
      "100%|██████████| 425/425 [00:03<00:00, 124.71it/s]\n",
      "[2024-03-21 22:21:28,937]::4015256608::DEBUG::Epoch: 78 , 1-MAE: 0.8994 , 1-val_avg_o_loss:0.8997 , 1-val_avg_c_loss:0.8973 , 1-val_avg_e_loss:0.9072 , 1-val_avg_a_loss:0.8925 , 1-val_avg_n_loss:0.9002\n",
      "100%|██████████| 1269/1269 [00:26<00:00, 48.71it/s]\n",
      "100%|██████████| 425/425 [00:03<00:00, 130.91it/s]\n",
      "[2024-03-21 22:21:58,769]::4015256608::DEBUG::Epoch: 79 , 1-MAE: 0.8999 , 1-val_avg_o_loss:0.8991 , 1-val_avg_c_loss:0.8980 , 1-val_avg_e_loss:0.9074 , 1-val_avg_a_loss:0.8954 , 1-val_avg_n_loss:0.8998\n",
      "100%|██████████| 1269/1269 [00:25<00:00, 49.44it/s]\n",
      "100%|██████████| 425/425 [00:03<00:00, 125.43it/s]\n",
      "[2024-03-21 22:22:30,169]::4015256608::DEBUG::Epoch: 80 , 1-MAE: 0.9000 , 1-val_avg_o_loss:0.8997 , 1-val_avg_c_loss:0.8984 , 1-val_avg_e_loss:0.9075 , 1-val_avg_a_loss:0.8941 , 1-val_avg_n_loss:0.9000\n",
      "100%|██████████| 1269/1269 [00:25<00:00, 49.78it/s]\n",
      "100%|██████████| 425/425 [00:03<00:00, 123.77it/s]\n",
      "[2024-03-21 22:22:59,591]::4015256608::DEBUG::Epoch: 81 , 1-MAE: 0.8996 , 1-val_avg_o_loss:0.8983 , 1-val_avg_c_loss:0.8989 , 1-val_avg_e_loss:0.9070 , 1-val_avg_a_loss:0.8936 , 1-val_avg_n_loss:0.9001\n",
      "100%|██████████| 1269/1269 [00:25<00:00, 49.86it/s]\n",
      "100%|██████████| 425/425 [00:03<00:00, 124.97it/s]\n",
      "[2024-03-21 22:23:28,926]::4015256608::DEBUG::Epoch: 82 , 1-MAE: 0.9003 , 1-val_avg_o_loss:0.9001 , 1-val_avg_c_loss:0.8992 , 1-val_avg_e_loss:0.9071 , 1-val_avg_a_loss:0.8947 , 1-val_avg_n_loss:0.9003\n",
      "100%|██████████| 1269/1269 [00:25<00:00, 49.90it/s]\n",
      "100%|██████████| 425/425 [00:03<00:00, 125.47it/s]\n",
      "[2024-03-21 22:23:58,216]::4015256608::DEBUG::Epoch: 83 , 1-MAE: 0.8999 , 1-val_avg_o_loss:0.8997 , 1-val_avg_c_loss:0.8981 , 1-val_avg_e_loss:0.9070 , 1-val_avg_a_loss:0.8942 , 1-val_avg_n_loss:0.9005\n",
      "100%|██████████| 1269/1269 [00:25<00:00, 50.18it/s]\n",
      "100%|██████████| 425/425 [00:03<00:00, 125.23it/s]\n",
      "[2024-03-21 22:24:27,406]::4015256608::DEBUG::Epoch: 84 , 1-MAE: 0.8997 , 1-val_avg_o_loss:0.8984 , 1-val_avg_c_loss:0.8985 , 1-val_avg_e_loss:0.9069 , 1-val_avg_a_loss:0.8945 , 1-val_avg_n_loss:0.9001\n",
      "100%|██████████| 1269/1269 [00:25<00:00, 50.26it/s]\n",
      "100%|██████████| 425/425 [00:03<00:00, 126.08it/s]\n",
      "[2024-03-21 22:24:58,357]::4015256608::DEBUG::Epoch: 85 , 1-MAE: 0.8999 , 1-val_avg_o_loss:0.8987 , 1-val_avg_c_loss:0.8988 , 1-val_avg_e_loss:0.9078 , 1-val_avg_a_loss:0.8937 , 1-val_avg_n_loss:0.9002\n",
      "100%|██████████| 1269/1269 [00:25<00:00, 50.67it/s]\n",
      "100%|██████████| 425/425 [00:03<00:00, 126.88it/s]\n",
      "[2024-03-21 22:25:27,250]::4015256608::DEBUG::Epoch: 86 , 1-MAE: 0.8998 , 1-val_avg_o_loss:0.8988 , 1-val_avg_c_loss:0.8973 , 1-val_avg_e_loss:0.9077 , 1-val_avg_a_loss:0.8945 , 1-val_avg_n_loss:0.9007\n",
      "100%|██████████| 1269/1269 [00:25<00:00, 50.33it/s]\n",
      "100%|██████████| 425/425 [00:03<00:00, 120.45it/s]\n",
      "[2024-03-21 22:25:56,493]::4015256608::DEBUG::Epoch: 87 , 1-MAE: 0.8994 , 1-val_avg_o_loss:0.8985 , 1-val_avg_c_loss:0.8967 , 1-val_avg_e_loss:0.9062 , 1-val_avg_a_loss:0.8946 , 1-val_avg_n_loss:0.9009\n",
      "100%|██████████| 1269/1269 [00:26<00:00, 48.17it/s]\n",
      "100%|██████████| 425/425 [00:03<00:00, 127.88it/s]\n",
      "[2024-03-21 22:26:26,773]::4015256608::DEBUG::Epoch: 88 , 1-MAE: 0.8998 , 1-val_avg_o_loss:0.8993 , 1-val_avg_c_loss:0.8977 , 1-val_avg_e_loss:0.9070 , 1-val_avg_a_loss:0.8934 , 1-val_avg_n_loss:0.9015\n",
      "100%|██████████| 1269/1269 [00:25<00:00, 49.47it/s]\n",
      "100%|██████████| 425/425 [00:03<00:00, 128.84it/s]\n",
      "[2024-03-21 22:26:56,226]::4015256608::DEBUG::Epoch: 89 , 1-MAE: 0.8997 , 1-val_avg_o_loss:0.8992 , 1-val_avg_c_loss:0.8981 , 1-val_avg_e_loss:0.9072 , 1-val_avg_a_loss:0.8939 , 1-val_avg_n_loss:0.9003\n",
      "100%|██████████| 1269/1269 [00:25<00:00, 49.40it/s]\n",
      "100%|██████████| 425/425 [00:03<00:00, 130.78it/s]\n",
      "[2024-03-21 22:27:27,479]::4015256608::DEBUG::Epoch: 90 , 1-MAE: 0.8999 , 1-val_avg_o_loss:0.8993 , 1-val_avg_c_loss:0.8978 , 1-val_avg_e_loss:0.9079 , 1-val_avg_a_loss:0.8942 , 1-val_avg_n_loss:0.9003\n",
      "100%|██████████| 1269/1269 [00:25<00:00, 49.54it/s]\n",
      "100%|██████████| 425/425 [00:03<00:00, 133.02it/s]\n",
      "[2024-03-21 22:27:56,776]::4015256608::DEBUG::Epoch: 91 , 1-MAE: 0.8993 , 1-val_avg_o_loss:0.8998 , 1-val_avg_c_loss:0.8972 , 1-val_avg_e_loss:0.9060 , 1-val_avg_a_loss:0.8934 , 1-val_avg_n_loss:0.9002\n",
      "100%|██████████| 1269/1269 [00:25<00:00, 49.61it/s]\n",
      "100%|██████████| 425/425 [00:03<00:00, 128.97it/s]\n",
      "[2024-03-21 22:28:26,132]::4015256608::DEBUG::Epoch: 92 , 1-MAE: 0.8997 , 1-val_avg_o_loss:0.8989 , 1-val_avg_c_loss:0.8979 , 1-val_avg_e_loss:0.9068 , 1-val_avg_a_loss:0.8946 , 1-val_avg_n_loss:0.9005\n",
      "100%|██████████| 1269/1269 [00:25<00:00, 49.75it/s]\n",
      "100%|██████████| 425/425 [00:03<00:00, 128.61it/s]\n",
      "[2024-03-21 22:28:55,426]::4015256608::DEBUG::Epoch: 93 , 1-MAE: 0.9001 , 1-val_avg_o_loss:0.9001 , 1-val_avg_c_loss:0.8984 , 1-val_avg_e_loss:0.9076 , 1-val_avg_a_loss:0.8945 , 1-val_avg_n_loss:0.8997\n",
      "100%|██████████| 1269/1269 [00:25<00:00, 49.64it/s]\n",
      "100%|██████████| 425/425 [00:03<00:00, 133.07it/s]\n",
      "[2024-03-21 22:29:24,646]::4015256608::DEBUG::Epoch: 94 , 1-MAE: 0.9000 , 1-val_avg_o_loss:0.9005 , 1-val_avg_c_loss:0.8984 , 1-val_avg_e_loss:0.9072 , 1-val_avg_a_loss:0.8941 , 1-val_avg_n_loss:0.9000\n",
      "100%|██████████| 1269/1269 [00:26<00:00, 48.30it/s]\n",
      "100%|██████████| 425/425 [00:03<00:00, 127.74it/s]\n",
      "[2024-03-21 22:29:56,645]::4015256608::DEBUG::Epoch: 95 , 1-MAE: 0.9000 , 1-val_avg_o_loss:0.8998 , 1-val_avg_c_loss:0.8989 , 1-val_avg_e_loss:0.9069 , 1-val_avg_a_loss:0.8939 , 1-val_avg_n_loss:0.9004\n",
      "100%|██████████| 1269/1269 [00:25<00:00, 50.11it/s]\n",
      "100%|██████████| 425/425 [00:03<00:00, 130.14it/s]\n",
      "[2024-03-21 22:30:25,720]::4015256608::DEBUG::Epoch: 96 , 1-MAE: 0.9001 , 1-val_avg_o_loss:0.9000 , 1-val_avg_c_loss:0.8984 , 1-val_avg_e_loss:0.9069 , 1-val_avg_a_loss:0.8948 , 1-val_avg_n_loss:0.9003\n",
      "100%|██████████| 1269/1269 [00:25<00:00, 49.20it/s]\n",
      "100%|██████████| 425/425 [00:03<00:00, 123.90it/s]\n",
      "[2024-03-21 22:30:55,425]::4015256608::DEBUG::Epoch: 97 , 1-MAE: 0.8998 , 1-val_avg_o_loss:0.8992 , 1-val_avg_c_loss:0.8979 , 1-val_avg_e_loss:0.9074 , 1-val_avg_a_loss:0.8946 , 1-val_avg_n_loss:0.9001\n",
      "100%|██████████| 1269/1269 [00:26<00:00, 47.98it/s]\n",
      "100%|██████████| 425/425 [00:03<00:00, 125.13it/s]\n",
      "[2024-03-21 22:31:25,776]::4015256608::DEBUG::Epoch: 98 , 1-MAE: 0.8997 , 1-val_avg_o_loss:0.9001 , 1-val_avg_c_loss:0.8960 , 1-val_avg_e_loss:0.9069 , 1-val_avg_a_loss:0.8950 , 1-val_avg_n_loss:0.9004\n",
      "100%|██████████| 1269/1269 [00:25<00:00, 50.06it/s]\n",
      "100%|██████████| 425/425 [00:03<00:00, 123.94it/s]\n",
      "[2024-03-21 22:31:55,057]::4015256608::DEBUG::Epoch: 99 , 1-MAE: 0.8999 , 1-val_avg_o_loss:0.8989 , 1-val_avg_c_loss:0.8980 , 1-val_avg_e_loss:0.9076 , 1-val_avg_a_loss:0.8948 , 1-val_avg_n_loss:0.9003\n",
      "100%|██████████| 1269/1269 [00:25<00:00, 50.50it/s]\n",
      "100%|██████████| 425/425 [00:03<00:00, 125.46it/s]\n",
      "[2024-03-21 22:32:25,939]::4015256608::DEBUG::Epoch: 100 , 1-MAE: 0.9006 , 1-val_avg_o_loss:0.9003 , 1-val_avg_c_loss:0.8988 , 1-val_avg_e_loss:0.9075 , 1-val_avg_a_loss:0.8951 , 1-val_avg_n_loss:0.9013\n",
      "100%|██████████| 1269/1269 [00:25<00:00, 49.52it/s]\n",
      "100%|██████████| 425/425 [00:03<00:00, 126.14it/s]\n",
      "[2024-03-21 22:32:55,428]::4015256608::DEBUG::Epoch: 101 , 1-MAE: 0.8996 , 1-val_avg_o_loss:0.8991 , 1-val_avg_c_loss:0.8981 , 1-val_avg_e_loss:0.9077 , 1-val_avg_a_loss:0.8934 , 1-val_avg_n_loss:0.8999\n",
      "100%|██████████| 1269/1269 [00:25<00:00, 49.56it/s]\n",
      "100%|██████████| 425/425 [00:03<00:00, 131.76it/s]\n",
      "[2024-03-21 22:33:24,745]::4015256608::DEBUG::Epoch: 102 , 1-MAE: 0.9001 , 1-val_avg_o_loss:0.9002 , 1-val_avg_c_loss:0.8978 , 1-val_avg_e_loss:0.9074 , 1-val_avg_a_loss:0.8942 , 1-val_avg_n_loss:0.9007\n",
      "100%|██████████| 1269/1269 [00:25<00:00, 49.65it/s]\n",
      "100%|██████████| 425/425 [00:03<00:00, 132.88it/s]\n",
      "[2024-03-21 22:33:53,980]::4015256608::DEBUG::Epoch: 103 , 1-MAE: 0.8999 , 1-val_avg_o_loss:0.8999 , 1-val_avg_c_loss:0.8978 , 1-val_avg_e_loss:0.9074 , 1-val_avg_a_loss:0.8943 , 1-val_avg_n_loss:0.8999\n",
      "100%|██████████| 1269/1269 [00:25<00:00, 50.20it/s]\n",
      "100%|██████████| 425/425 [00:03<00:00, 129.15it/s]\n",
      "[2024-03-21 22:34:23,033]::4015256608::DEBUG::Epoch: 104 , 1-MAE: 0.8998 , 1-val_avg_o_loss:0.8994 , 1-val_avg_c_loss:0.8982 , 1-val_avg_e_loss:0.9067 , 1-val_avg_a_loss:0.8943 , 1-val_avg_n_loss:0.9003\n",
      "100%|██████████| 1269/1269 [00:25<00:00, 49.79it/s]\n",
      "100%|██████████| 425/425 [00:03<00:00, 129.56it/s]\n",
      "[2024-03-21 22:34:54,146]::4015256608::DEBUG::Epoch: 105 , 1-MAE: 0.9000 , 1-val_avg_o_loss:0.8999 , 1-val_avg_c_loss:0.8984 , 1-val_avg_e_loss:0.9073 , 1-val_avg_a_loss:0.8945 , 1-val_avg_n_loss:0.9000\n",
      "100%|██████████| 1269/1269 [00:25<00:00, 49.41it/s]\n",
      "100%|██████████| 425/425 [00:03<00:00, 129.44it/s]\n",
      "[2024-03-21 22:35:23,594]::4015256608::DEBUG::Epoch: 106 , 1-MAE: 0.8999 , 1-val_avg_o_loss:0.8994 , 1-val_avg_c_loss:0.8980 , 1-val_avg_e_loss:0.9069 , 1-val_avg_a_loss:0.8943 , 1-val_avg_n_loss:0.9006\n",
      "100%|██████████| 1269/1269 [00:25<00:00, 49.20it/s]\n",
      "100%|██████████| 425/425 [00:03<00:00, 123.30it/s]\n",
      "[2024-03-21 22:35:53,309]::4015256608::DEBUG::Epoch: 107 , 1-MAE: 0.9002 , 1-val_avg_o_loss:0.9001 , 1-val_avg_c_loss:0.8990 , 1-val_avg_e_loss:0.9072 , 1-val_avg_a_loss:0.8945 , 1-val_avg_n_loss:0.9000\n",
      "100%|██████████| 1269/1269 [00:26<00:00, 48.80it/s]\n",
      "100%|██████████| 425/425 [00:03<00:00, 127.70it/s]\n",
      "[2024-03-21 22:36:23,142]::4015256608::DEBUG::Epoch: 108 , 1-MAE: 0.9003 , 1-val_avg_o_loss:0.8994 , 1-val_avg_c_loss:0.8990 , 1-val_avg_e_loss:0.9077 , 1-val_avg_a_loss:0.8952 , 1-val_avg_n_loss:0.9001\n",
      "100%|██████████| 1269/1269 [00:25<00:00, 49.41it/s]\n",
      "100%|██████████| 425/425 [00:03<00:00, 130.81it/s]\n",
      "[2024-03-21 22:36:52,551]::4015256608::DEBUG::Epoch: 109 , 1-MAE: 0.9001 , 1-val_avg_o_loss:0.8995 , 1-val_avg_c_loss:0.8982 , 1-val_avg_e_loss:0.9074 , 1-val_avg_a_loss:0.8949 , 1-val_avg_n_loss:0.9007\n",
      "100%|██████████| 1269/1269 [00:25<00:00, 49.32it/s]\n",
      "100%|██████████| 425/425 [00:03<00:00, 128.07it/s]\n",
      "[2024-03-21 22:37:23,940]::4015256608::DEBUG::Epoch: 110 , 1-MAE: 0.8995 , 1-val_avg_o_loss:0.8990 , 1-val_avg_c_loss:0.8983 , 1-val_avg_e_loss:0.9068 , 1-val_avg_a_loss:0.8942 , 1-val_avg_n_loss:0.8994\n",
      "100%|██████████| 1269/1269 [00:25<00:00, 49.79it/s]\n",
      "100%|██████████| 425/425 [00:03<00:00, 132.42it/s]\n",
      "[2024-03-21 22:37:53,118]::4015256608::DEBUG::Epoch: 111 , 1-MAE: 0.8996 , 1-val_avg_o_loss:0.8994 , 1-val_avg_c_loss:0.8984 , 1-val_avg_e_loss:0.9067 , 1-val_avg_a_loss:0.8936 , 1-val_avg_n_loss:0.8999\n",
      "100%|██████████| 1269/1269 [00:25<00:00, 49.62it/s]\n",
      "100%|██████████| 425/425 [00:03<00:00, 131.51it/s]\n",
      "[2024-03-21 22:38:22,403]::4015256608::DEBUG::Epoch: 112 , 1-MAE: 0.9000 , 1-val_avg_o_loss:0.8996 , 1-val_avg_c_loss:0.8979 , 1-val_avg_e_loss:0.9077 , 1-val_avg_a_loss:0.8944 , 1-val_avg_n_loss:0.9002\n",
      "100%|██████████| 1269/1269 [00:25<00:00, 49.93it/s]\n",
      "100%|██████████| 425/425 [00:03<00:00, 125.14it/s]\n",
      "[2024-03-21 22:38:51,695]::4015256608::DEBUG::Epoch: 113 , 1-MAE: 0.9001 , 1-val_avg_o_loss:0.9000 , 1-val_avg_c_loss:0.8993 , 1-val_avg_e_loss:0.9066 , 1-val_avg_a_loss:0.8944 , 1-val_avg_n_loss:0.9003\n",
      "100%|██████████| 1269/1269 [00:25<00:00, 49.08it/s]\n",
      "100%|██████████| 425/425 [00:03<00:00, 122.71it/s]\n",
      "[2024-03-21 22:39:21,521]::4015256608::DEBUG::Epoch: 114 , 1-MAE: 0.8998 , 1-val_avg_o_loss:0.8997 , 1-val_avg_c_loss:0.8985 , 1-val_avg_e_loss:0.9062 , 1-val_avg_a_loss:0.8939 , 1-val_avg_n_loss:0.9009\n",
      "100%|██████████| 1269/1269 [00:26<00:00, 48.36it/s]\n",
      "100%|██████████| 425/425 [00:03<00:00, 123.63it/s]\n",
      "[2024-03-21 22:39:53,562]::4015256608::DEBUG::Epoch: 115 , 1-MAE: 0.9001 , 1-val_avg_o_loss:0.8996 , 1-val_avg_c_loss:0.8986 , 1-val_avg_e_loss:0.9075 , 1-val_avg_a_loss:0.8946 , 1-val_avg_n_loss:0.9002\n",
      "100%|██████████| 1269/1269 [00:25<00:00, 49.64it/s]\n",
      "100%|██████████| 425/425 [00:03<00:00, 124.72it/s]\n",
      "[2024-03-21 22:40:23,019]::4015256608::DEBUG::Epoch: 116 , 1-MAE: 0.8996 , 1-val_avg_o_loss:0.8977 , 1-val_avg_c_loss:0.8987 , 1-val_avg_e_loss:0.9065 , 1-val_avg_a_loss:0.8936 , 1-val_avg_n_loss:0.9013\n",
      "100%|██████████| 1269/1269 [00:25<00:00, 49.18it/s]\n",
      "100%|██████████| 425/425 [00:03<00:00, 129.09it/s]\n",
      "[2024-03-21 22:40:52,621]::4015256608::DEBUG::Epoch: 117 , 1-MAE: 0.8999 , 1-val_avg_o_loss:0.8995 , 1-val_avg_c_loss:0.8980 , 1-val_avg_e_loss:0.9075 , 1-val_avg_a_loss:0.8945 , 1-val_avg_n_loss:0.8999\n",
      "100%|██████████| 1269/1269 [00:25<00:00, 49.09it/s]\n",
      "100%|██████████| 425/425 [00:03<00:00, 130.15it/s]\n",
      "[2024-03-21 22:41:22,229]::4015256608::DEBUG::Epoch: 118 , 1-MAE: 0.9002 , 1-val_avg_o_loss:0.8999 , 1-val_avg_c_loss:0.8990 , 1-val_avg_e_loss:0.9069 , 1-val_avg_a_loss:0.8949 , 1-val_avg_n_loss:0.9002\n",
      "100%|██████████| 1269/1269 [00:25<00:00, 49.15it/s]\n",
      "100%|██████████| 425/425 [00:03<00:00, 130.76it/s]\n",
      "[2024-03-21 22:41:51,761]::4015256608::DEBUG::Epoch: 119 , 1-MAE: 0.9003 , 1-val_avg_o_loss:0.9001 , 1-val_avg_c_loss:0.8985 , 1-val_avg_e_loss:0.9068 , 1-val_avg_a_loss:0.8949 , 1-val_avg_n_loss:0.9011\n",
      "100%|██████████| 1269/1269 [00:25<00:00, 49.46it/s]\n",
      "100%|██████████| 425/425 [00:03<00:00, 130.19it/s]\n",
      "[2024-03-21 22:42:23,044]::4015256608::DEBUG::Epoch: 120 , 1-MAE: 0.8999 , 1-val_avg_o_loss:0.8993 , 1-val_avg_c_loss:0.8985 , 1-val_avg_e_loss:0.9077 , 1-val_avg_a_loss:0.8945 , 1-val_avg_n_loss:0.8997\n"
     ]
    }
   ],
   "source": [
    "with torch.cuda.device(1):\n",
    "    for i in range(start_epoch, epochs):\n",
    "        train_avg_loss = 0\n",
    "        val_avg_loss = 0\n",
    "        train_avg_o_loss = 0\n",
    "        train_avg_c_loss = 0\n",
    "        train_avg_e_loss = 0\n",
    "        train_avg_a_loss = 0\n",
    "        train_avg_n_loss = 0\n",
    "        val_avg_o_loss = 0\n",
    "        val_avg_c_loss = 0\n",
    "        val_avg_e_loss = 0\n",
    "        val_avg_a_loss = 0\n",
    "        val_avg_n_loss = 0\n",
    "        for audiodata,big_five_data in tqdm(train_dataloader):\n",
    "            big_five_data=big_five_data.permute(0,2,1)\n",
    "            big_five_data=big_five_data.squeeze()\n",
    "            audiodata = audiodata.to(device)\n",
    "            big_five_data = big_five_data.to(device)\n",
    "            optimizer.zero_grad()  # 기울기가 0이 됩니다.\n",
    "            hypothesis = model(audiodata)  # 모델의 예측 결과를 저장합니다.\n",
    "            loss = criterion(hypothesis, big_five_data)  # 예측된 결과와 실제 태그 사이의 손실 값을 저장합니다.\n",
    "            loss.backward()  # 역방향 전파입니다. \n",
    "            optimizer.step()  \n",
    "            train_avg_loss += loss  \n",
    "        train_avg_loss=train_avg_loss/len(train_dataloader)\n",
    "        with torch.no_grad():#validate\n",
    "            for audiodata,big_five_data in tqdm(val_dataloader):\n",
    "                big_five_data=big_five_data.permute(0,2,1)\n",
    "                big_five_data=big_five_data.squeeze()\n",
    "                audiodata = audiodata.to(device)\n",
    "                big_five_data = big_five_data.to(device)\n",
    "                hypothesis = model(audiodata)\n",
    "                val_loss = criterion(hypothesis, big_five_data)\n",
    "                hypothesiso,hypothesisc,hypothesise,hypothesisa,hypothesisn=extract_ocean(hypothesis,batchsz)\n",
    "                big_five_datao,big_five_datac,big_five_datae,big_five_dataa,big_five_datan=extract_ocean(big_five_data,batchsz)\n",
    "                val_o_loss = criterion(hypothesiso, big_five_datao) \n",
    "                val_c_loss = criterion(hypothesisc, big_five_datac) \n",
    "                val_e_loss = criterion(hypothesise, big_five_datae) \n",
    "                val_a_loss = criterion(hypothesisa, big_five_dataa) \n",
    "                val_n_loss = criterion(hypothesisn, big_five_datan)  \n",
    "                val_avg_loss += val_loss\n",
    "                val_avg_o_loss += val_o_loss\n",
    "                val_avg_c_loss += val_c_loss\n",
    "                val_avg_e_loss += val_e_loss\n",
    "                val_avg_a_loss += val_a_loss\n",
    "                val_avg_n_loss += val_n_loss\n",
    "            val_avg_loss=val_avg_loss/len(val_dataloader)\n",
    "            val_avg_o_loss=val_avg_o_loss/len(val_dataloader)\n",
    "            val_avg_c_loss=val_avg_c_loss/len(val_dataloader)\n",
    "            val_avg_e_loss=val_avg_e_loss/len(val_dataloader)\n",
    "            val_avg_a_loss=val_avg_a_loss/len(val_dataloader)\n",
    "            val_avg_n_loss=val_avg_n_loss/len(val_dataloader)\n",
    "        torch.cuda.empty_cache()\n",
    "        # if (1-val_avg_loss)>=(1-max_value):\n",
    "        max_value=val_avg_loss\n",
    "        start_epoch+=1\n",
    "        if (i + 1) % 5 == 0:\n",
    "            torch.save({\n",
    "                    'epoch': i+1,\n",
    "                    'model': model.state_dict(),\n",
    "                    'optimizer': optimizer.state_dict(),\n",
    "                    'loss': val_avg_loss,\n",
    "                }, save_model_file_path.format('model',start_epoch,'pth'))\n",
    "        logger.debug('Epoch: {} , 1-MAE: {:.4f} , 1-val_avg_o_loss:{:.4f} , 1-val_avg_c_loss:{:.4f} , 1-val_avg_e_loss:{:.4f} , 1-val_avg_a_loss:{:.4f} , 1-val_avg_n_loss:{:.4f}'.format(i+1, 1-val_avg_loss, 1-val_avg_o_loss, 1-val_avg_c_loss, 1-val_avg_e_loss, 1-val_avg_a_loss,1-val_avg_n_loss))\n",
    "    "
   ]
  },
  {
   "cell_type": "code",
   "execution_count": 20,
   "metadata": {},
   "outputs": [],
   "source": [
    "# from torchinfo import summary\n",
    "\n",
    "# summary(model, input_size = (4,15,4,3,224,224))"
   ]
  },
  {
   "cell_type": "code",
   "execution_count": null,
   "metadata": {},
   "outputs": [],
   "source": []
  }
 ],
 "metadata": {
  "kernelspec": {
   "display_name": "Python 3",
   "language": "python",
   "name": "python3"
  },
  "language_info": {
   "codemirror_mode": {
    "name": "ipython",
    "version": 3
   },
   "file_extension": ".py",
   "mimetype": "text/x-python",
   "name": "python",
   "nbconvert_exporter": "python",
   "pygments_lexer": "ipython3",
   "version": "3.10.11"
  }
 },
 "nbformat": 4,
 "nbformat_minor": 4
}
