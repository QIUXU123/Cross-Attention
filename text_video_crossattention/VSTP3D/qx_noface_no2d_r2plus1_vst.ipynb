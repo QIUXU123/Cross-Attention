{
 "cells": [
  {
   "cell_type": "code",
   "execution_count": 1,
   "metadata": {},
   "outputs": [
    {
     "name": "stderr",
     "output_type": "stream",
     "text": [
      "/home/ssrlab/.local/lib/python3.10/site-packages/lazy_loader/__init__.py:202: RuntimeWarning: subpackages can technically be lazily loaded, but it causes the package to be eagerly loaded even if it is already lazily loaded.So, you probably shouldn't use subpackages with this lazy feature.\n",
      "  warnings.warn(msg, RuntimeWarning)\n",
      "/home/ssrlab/.local/lib/python3.10/site-packages/lazy_loader/__init__.py:202: RuntimeWarning: subpackages can technically be lazily loaded, but it causes the package to be eagerly loaded even if it is already lazily loaded.So, you probably shouldn't use subpackages with this lazy feature.\n",
      "  warnings.warn(msg, RuntimeWarning)\n",
      "/home/ssrlab/anaconda3/envs/qx/lib/python3.10/site-packages/transformers/utils/generic.py:441: UserWarning: torch.utils._pytree._register_pytree_node is deprecated. Please use torch.utils._pytree.register_pytree_node instead.\n",
      "  _torch_pytree._register_pytree_node(\n"
     ]
    }
   ],
   "source": [
    "import librosa\n",
    "import librosa.display\n",
    "import numpy as np\n",
    "import pandas as pd\n",
    "import os\n",
    "from typing import List, Tuple, Dict\n",
    "import matplotlib.pyplot as plt\n",
    "import random\n",
    "import cv2\n",
    "# from vgg16 import VGG16_LSTM\n",
    "import pickle\n",
    "import torch.nn as nn\n",
    "import torch\n",
    "import datetime\n",
    "import torch.nn.functional as F\n",
    "import torchvision.models as models\n",
    "from torchvision import transforms, utils, models\n",
    "from torch.utils.data import Dataset, DataLoader\n",
    "from facenet_pytorch import MTCNN\n",
    "import logging\n",
    "import torch\n",
    "import torch.nn as nn\n",
    "from qx_noface_no2d_video_swin_transformer01 import SwinTransformer3D\n",
    "import gc\n",
    "from einops import rearrange\n",
    "from tqdm import tqdm\n",
    "# from kw_r2plus1d_video_swin_transformer import SwinTransformer3D\n",
    "batchsz = 4\n",
    "frame_nums=15\n",
    "start_epoch = 0\n",
    "test_flage=False\n",
    "model_name =\"fullshot \"\n",
    "logger = logging.getLogger(__name__)\n",
    "logger.setLevel(logging.DEBUG)\n",
    "formatter = logging.Formatter('[%(asctime)s]::%(module)s::%(levelname)s::%(message)s')\n",
    "streamHandler = logging.StreamHandler()\n",
    "streamHandler.setFormatter(formatter)\n",
    "fileHandler = logging.FileHandler('./LOG/personalityLog.log')\n",
    "fileHandler.setFormatter(formatter)\n",
    "logger.addHandler(streamHandler)\n",
    "logger.addHandler(fileHandler)\n",
    "USE_CUDA = torch.cuda.is_available()\n",
    "# device = torch.device('cuda:1' if USE_CUDA else 'cpu')"
   ]
  },
  {
   "cell_type": "code",
   "execution_count": 2,
   "metadata": {},
   "outputs": [
    {
     "name": "stderr",
     "output_type": "stream",
     "text": [
      "[2024-04-11 11:59:40,211]::3435124833::DEBUG::=============fullshot +Video swin transformerTrain Strat!=============\n"
     ]
    },
    {
     "name": "stdout",
     "output_type": "stream",
     "text": [
      "True\n",
      "학습을 진행하는 기기: cuda:0\n"
     ]
    }
   ],
   "source": [
    "logger.debug('============={}+Video swin transformerTrain Strat!============='.format(model_name))\n",
    "USE_CUDA = torch.cuda.is_available()\n",
    "print(USE_CUDA)\n",
    "\n",
    "device = torch.device('cuda:0' if USE_CUDA else 'cpu')\n",
    "print('학습을 진행하는 기기:', device)"
   ]
  },
  {
   "cell_type": "code",
   "execution_count": 3,
   "metadata": {},
   "outputs": [
    {
     "name": "stdout",
     "output_type": "stream",
     "text": [
      "1\n"
     ]
    }
   ],
   "source": [
    "def select_frame_data(datas,frame_num):\n",
    "    data_set=[]\n",
    "    begin_num=0\n",
    "    x=128/frame_num\n",
    "    indexes=[None] * frame_num\n",
    "    for i in range(frame_num):\n",
    "        indexes[i]=int(begin_num)\n",
    "        begin_num+=x\n",
    "    for data in datas:\n",
    "        video_frames = [None] * 2\n",
    "        video_frames[0]=[]\n",
    "        video_frames[1]=[]\n",
    "        for index in indexes:\n",
    "            video_frames[0].append(data[0][index])\n",
    "        video_frames[1].append(data[1])\n",
    "        data_set.append(video_frames)\n",
    "        del video_frames\n",
    "        del data \n",
    "        gc.collect()\n",
    "    del datas\n",
    "    gc.collect()\n",
    "    return data_set\n",
    "print(1)"
   ]
  },
  {
   "cell_type": "code",
   "execution_count": 4,
   "metadata": {},
   "outputs": [
    {
     "name": "stdout",
     "output_type": "stream",
     "text": [
      "1\n"
     ]
    }
   ],
   "source": [
    "def getdata(pathname,datatype):\n",
    "    if datatype==\"train\":\n",
    "        final_data_set=[]\n",
    "        output_file=open(pathname, \"rb\")\n",
    "        for i in range(1):\n",
    "            # train_data_set.extend(pickle.load(output_file))\n",
    "            final_data_set.extend(pickle.load(output_file))\n",
    "            # print(i)\n",
    "        return final_data_set\n",
    "    elif datatype==\"valid\":\n",
    "        final_data_set=[]\n",
    "        output_file=open(pathname, \"rb\")\n",
    "        for i in range(1):\n",
    "            valid_data_set=[]\n",
    "            final_data_set.extend(pickle.load(output_file))\n",
    "            del valid_data_set\n",
    "        return final_data_set\n",
    "print(1)"
   ]
  },
  {
   "cell_type": "code",
   "execution_count": 5,
   "metadata": {},
   "outputs": [
    {
     "name": "stdout",
     "output_type": "stream",
     "text": [
      "1\n"
     ]
    }
   ],
   "source": [
    "def datasize(type,batchsz):\n",
    "    if type=='train':\n",
    "        i=5076#5967\n",
    "        while True:\n",
    "            if i%batchsz==0:\n",
    "                return i\n",
    "            else:\n",
    "                i-=1\n",
    "    else:\n",
    "        i=1701#1986\n",
    "        while True:\n",
    "            if i%batchsz==0:\n",
    "                return i\n",
    "            else:\n",
    "                i-=1\n",
    "print(1)"
   ]
  },
  {
   "cell_type": "code",
   "execution_count": 6,
   "metadata": {},
   "outputs": [
    {
     "name": "stdout",
     "output_type": "stream",
     "text": [
      "1\n"
     ]
    }
   ],
   "source": [
    "\n",
    "save_model_file_path = './save_swintransformer_folder/{}_{}.{}'\n",
    "print(1)"
   ]
  },
  {
   "cell_type": "code",
   "execution_count": 7,
   "metadata": {},
   "outputs": [
    {
     "name": "stdout",
     "output_type": "stream",
     "text": [
      "1\n"
     ]
    }
   ],
   "source": [
    "def reshape_to_expected_traininput(dataset: List[Tuple[ np.ndarray, np.ndarray]]) -> Tuple[\n",
    "     np.ndarray, np.ndarray]:\n",
    "    result=[]\n",
    "    for i in range(0, len(dataset[0])):\n",
    "        result.append((dataset[0][i],dataset[1][i],dataset[2][i],dataset[3][i],dataset[4][i],dataset[5][i]))\n",
    "    result = result[:datasize(\"train\",batchsz)]\n",
    "    x0_list = []\n",
    "    x1_list = []\n",
    "    x2_list = []\n",
    "    x3_list = []\n",
    "    x4_list = []\n",
    "    x5_list = []\n",
    "    for i in range(0, len(result)):\n",
    "        x0_list.append(result[i][0])\n",
    "        x1_list.append(result[i][1])\n",
    "        x2_list.append(result[i][2])\n",
    "        x3_list.append(result[i][3])\n",
    "        x4_list.append(result[i][4])\n",
    "        x5_list.append(result[i][5])\n",
    "    return (np.stack(x0_list), np.stack(x1_list), np.stack(x2_list),np.stack(x3_list), np.stack(x4_list), np.stack(x5_list))\n",
    "print(1)"
   ]
  },
  {
   "cell_type": "code",
   "execution_count": 8,
   "metadata": {},
   "outputs": [
    {
     "name": "stdout",
     "output_type": "stream",
     "text": [
      "1\n"
     ]
    }
   ],
   "source": [
    "def reshape_to_expected_validinput(dataset: List[Tuple[ np.ndarray, np.ndarray]]) -> Tuple[\n",
    "     np.ndarray, np.ndarray]:\n",
    "    result=[]\n",
    "    for i in range(0, len(dataset[0])):\n",
    "        result.append((dataset[0][i],dataset[1][i],dataset[2][i],dataset[3][i],dataset[4][i],dataset[5][i]))\n",
    "    result = result[:datasize(\"valid\",batchsz)]\n",
    "    x0_list = []\n",
    "    x1_list = []\n",
    "    x2_list = []\n",
    "    x3_list = []\n",
    "    x4_list = []\n",
    "    x5_list = []\n",
    "    for i in range(0, len(result)):\n",
    "        x0_list.append(result[i][0])\n",
    "        x1_list.append(result[i][1])\n",
    "        x2_list.append(result[i][2])\n",
    "        x3_list.append(result[i][3])\n",
    "        x4_list.append(result[i][4])\n",
    "        x5_list.append(result[i][5])\n",
    "    return (np.stack(x0_list), np.stack(x1_list), np.stack(x2_list),np.stack(x3_list), np.stack(x4_list), np.stack(x5_list))\n",
    "print(1)"
   ]
  },
  {
   "cell_type": "code",
   "execution_count": 9,
   "metadata": {},
   "outputs": [
    {
     "name": "stdout",
     "output_type": "stream",
     "text": [
      "1\n"
     ]
    }
   ],
   "source": [
    "validation_set_data=getdata(\"/home/ssrlab/qx/code/test/video-swin-transformer-pytorch/data/15Frames/multidata/1700valid_set.dat\",\"valid\")\n",
    "validation_set_data=reshape_to_expected_validinput(validation_set_data)\n",
    "print(1)"
   ]
  },
  {
   "cell_type": "code",
   "execution_count": 10,
   "metadata": {},
   "outputs": [
    {
     "name": "stdout",
     "output_type": "stream",
     "text": [
      "1\n"
     ]
    }
   ],
   "source": [
    "train_set_data=getdata(\"/home/ssrlab/qx/code/test/video-swin-transformer-pytorch/data/15Frames/multidata/5076train_set.dat\",\"train\")\n",
    "train_set_data=reshape_to_expected_traininput(train_set_data)\n",
    "print(1)"
   ]
  },
  {
   "cell_type": "code",
   "execution_count": 11,
   "metadata": {},
   "outputs": [
    {
     "name": "stdout",
     "output_type": "stream",
     "text": [
      "1\n"
     ]
    }
   ],
   "source": [
    "def imagecrop(imagedata,batchsz):\n",
    "    # convert_tensor= transforms.ToTensor()\n",
    "    output=[]\n",
    "    for j in range(batchsz):#비디오 데이터 batchsz(9) 개 있다\n",
    "        firstoutput=[]\n",
    "        for i in range(len(imagedata[j])):#imagedata에 15개의 프레임이 있다\n",
    "            # temp = convert_tensor(imagedata[i])\n",
    "            #이미지를 나누\n",
    "            temp = imagedata[j][i].unfold(1,112,112).unfold(2,112,112)\n",
    "            temp = rearrange(temp, 'c h1 w1 h w -> (h1 w1) c h w')\n",
    "            firstoutput.append(temp)\n",
    "        firstoutput = torch.stack(firstoutput,0)\n",
    "        output.append(firstoutput)\n",
    "    output = torch.stack(output,0)\n",
    "    return output\n",
    "print(1)"
   ]
  },
  {
   "cell_type": "code",
   "execution_count": 12,
   "metadata": {},
   "outputs": [
    {
     "name": "stdout",
     "output_type": "stream",
     "text": [
      "1\n"
     ]
    }
   ],
   "source": [
    "transform = transforms.Compose([\n",
    "    transforms.ToPILImage(),\n",
    "    transforms.ToTensor(),\n",
    "])\n",
    "print(1)"
   ]
  },
  {
   "cell_type": "code",
   "execution_count": 13,
   "metadata": {},
   "outputs": [
    {
     "name": "stdout",
     "output_type": "stream",
     "text": [
      "1\n"
     ]
    }
   ],
   "source": [
    "class ChalearnDataset(Dataset):\n",
    "    def __init__(self,fullshot,tagdata,transform=None):\n",
    "        self.fullshot=fullshot\n",
    "        self.tagdata=tagdata\n",
    "        self.transform = transform  # 표준화 여부\n",
    "    def __len__(self):\n",
    "        return len(self.fullshot)\n",
    "\n",
    "    def __getitem__(self, idx):\n",
    "        if torch.is_tensor(idx):\n",
    "            idx = idx.tolist()#텐서의 경우 목록으로 돌아가기\n",
    "        # textdata = torch.FloatTensor(textdata)\n",
    "        fullshot=self.fullshot[idx]\n",
    "        fullshot=torch.FloatTensor(fullshot)\n",
    "        # image_data=image_data.reshape(15,3,224,224)\n",
    "        big_five_sorces=self.tagdata[idx]\n",
    "        big_five_sorces = torch.FloatTensor(big_five_sorces)\n",
    "        return fullshot,big_five_sorces\n",
    "print(1)"
   ]
  },
  {
   "cell_type": "code",
   "execution_count": 14,
   "metadata": {},
   "outputs": [
    {
     "name": "stdout",
     "output_type": "stream",
     "text": [
      "1\n"
     ]
    }
   ],
   "source": [
    "num_workerssz = 20\n",
    "lr = 3e-05\n",
    "epochs = 120\n",
    "print(1)"
   ]
  },
  {
   "cell_type": "markdown",
   "metadata": {},
   "source": []
  },
  {
   "cell_type": "code",
   "execution_count": 15,
   "metadata": {},
   "outputs": [
    {
     "name": "stdout",
     "output_type": "stream",
     "text": [
      "1\n"
     ]
    }
   ],
   "source": [
    "train_set_data = ChalearnDataset(fullshot = train_set_data[1],tagdata=train_set_data[5],transform=transform)\n",
    "val_set_data = ChalearnDataset(fullshot = validation_set_data[1], tagdata=validation_set_data[5],transform=transform)\n",
    "train_dataloader = DataLoader(dataset=train_set_data, batch_size=batchsz, shuffle=True, num_workers=num_workerssz)\n",
    "val_dataloader = DataLoader(dataset=val_set_data, batch_size=batchsz, shuffle=True, num_workers=num_workerssz)\n",
    "max_value=0\n",
    "print(1)"
   ]
  },
  {
   "cell_type": "code",
   "execution_count": 16,
   "metadata": {},
   "outputs": [
    {
     "name": "stderr",
     "output_type": "stream",
     "text": [
      "/home/ssrlab/.local/lib/python3.10/site-packages/torch/functional.py:507: UserWarning: torch.meshgrid: in an upcoming release, it will be required to pass the indexing argument. (Triggered internally at ../aten/src/ATen/native/TensorShape.cpp:3549.)\n",
      "  return _VF.meshgrid(tensors, **kwargs)  # type: ignore[attr-defined]\n"
     ]
    },
    {
     "name": "stdout",
     "output_type": "stream",
     "text": [
      "1\n"
     ]
    }
   ],
   "source": [
    "model=SwinTransformer3D()#num_frames=frame_nums,batchsz = batchsz\n",
    "model.to(device)\n",
    "criterion = torch.nn.L1Loss().to(device)  # 손실함수\n",
    "optimizer = torch.optim.AdamW(model.parameters(), lr=lr) # 옵티마이저\n",
    "\n",
    "if test_flage==True:\n",
    "    checkpoint=torch.load(save_model_file_path.format('model',start_epoch,'pth'), map_location=device)\n",
    "    model.load_state_dict(checkpoint[\"model\"])\n",
    "    optimizer.load_state_dict(checkpoint[\"optimizer\"])\n",
    "    # criterion.load_state_dict(checkpoint[\"loss\"])\n",
    "train_avg_loss0=[]\n",
    "val_avg_loss0=[]\n",
    "print(1)"
   ]
  },
  {
   "cell_type": "code",
   "execution_count": 17,
   "metadata": {},
   "outputs": [],
   "source": [
    "# from torchinfo import summary\n",
    "\n",
    "# summary(model, input_size = ((8,15,224,224,3),(8,24,1319,1)), col_names = ['input_size','output_size','num_params'])"
   ]
  },
  {
   "cell_type": "code",
   "execution_count": 18,
   "metadata": {},
   "outputs": [],
   "source": [
    "def extract_ocean(data,batch_size):\n",
    "    o=[]\n",
    "    c=[]\n",
    "    e=[]\n",
    "    a=[]\n",
    "    n=[]\n",
    "    for i in range(batch_size):\n",
    "        o.append(data[i][0].item())\n",
    "        c.append(data[i][1].item())\n",
    "        e.append(data[i][2].item())\n",
    "        a.append(data[i][3].item())\n",
    "        n.append(data[i][4].item())\n",
    "    o = torch.tensor(o) \n",
    "    c = torch.tensor(c) \n",
    "    e = torch.tensor(e) \n",
    "    a = torch.tensor(a) \n",
    "    n = torch.tensor(n) \n",
    "    return o,c,e,a,n"
   ]
  },
  {
   "cell_type": "code",
   "execution_count": 19,
   "metadata": {},
   "outputs": [
    {
     "name": "stderr",
     "output_type": "stream",
     "text": [
      "100%|██████████| 1269/1269 [01:07<00:00, 18.72it/s]\n",
      "100%|██████████| 425/425 [00:10<00:00, 40.66it/s]\n",
      "[2024-04-11 12:01:42,481]::4293502135::DEBUG::Epoch: 1 , 1-MAE: 0.8750 , 1-val_avg_o_loss:0.8570 , 1-val_avg_c_loss:0.8743 , 1-val_avg_e_loss:0.8961 , 1-val_avg_a_loss:0.8681 , 1-val_avg_n_loss:0.8795\n",
      "100%|██████████| 1269/1269 [01:06<00:00, 18.94it/s]\n",
      "100%|██████████| 425/425 [00:10<00:00, 40.90it/s]\n",
      "[2024-04-11 12:03:00,405]::4293502135::DEBUG::Epoch: 2 , 1-MAE: 0.8695 , 1-val_avg_o_loss:0.8626 , 1-val_avg_c_loss:0.8707 , 1-val_avg_e_loss:0.8873 , 1-val_avg_a_loss:0.8626 , 1-val_avg_n_loss:0.8644\n",
      "100%|██████████| 1269/1269 [01:07<00:00, 18.87it/s]\n",
      "100%|██████████| 425/425 [00:10<00:00, 40.60it/s]\n",
      "[2024-04-11 12:04:19,880]::4293502135::DEBUG::Epoch: 3 , 1-MAE: 0.8887 , 1-val_avg_o_loss:0.8898 , 1-val_avg_c_loss:0.8857 , 1-val_avg_e_loss:0.8998 , 1-val_avg_a_loss:0.8778 , 1-val_avg_n_loss:0.8902\n",
      "100%|██████████| 1269/1269 [01:07<00:00, 18.88it/s]\n",
      "100%|██████████| 425/425 [00:10<00:00, 40.71it/s]\n",
      "[2024-04-11 12:05:39,232]::4293502135::DEBUG::Epoch: 4 , 1-MAE: 0.8914 , 1-val_avg_o_loss:0.8920 , 1-val_avg_c_loss:0.8863 , 1-val_avg_e_loss:0.8998 , 1-val_avg_a_loss:0.8848 , 1-val_avg_n_loss:0.8939\n",
      "100%|██████████| 1269/1269 [01:06<00:00, 18.94it/s]\n",
      "100%|██████████| 425/425 [00:10<00:00, 40.31it/s]\n",
      "[2024-04-11 12:06:58,443]::4293502135::DEBUG::Epoch: 5 , 1-MAE: 0.8930 , 1-val_avg_o_loss:0.8953 , 1-val_avg_c_loss:0.8852 , 1-val_avg_e_loss:0.9029 , 1-val_avg_a_loss:0.8866 , 1-val_avg_n_loss:0.8948\n",
      "100%|██████████| 1269/1269 [01:06<00:00, 18.95it/s]\n",
      "100%|██████████| 425/425 [00:10<00:00, 41.22it/s]\n",
      "[2024-04-11 12:08:17,398]::4293502135::DEBUG::Epoch: 6 , 1-MAE: 0.8981 , 1-val_avg_o_loss:0.9003 , 1-val_avg_c_loss:0.8968 , 1-val_avg_e_loss:0.9046 , 1-val_avg_a_loss:0.8919 , 1-val_avg_n_loss:0.8968\n",
      "100%|██████████| 1269/1269 [01:07<00:00, 18.86it/s]\n",
      "100%|██████████| 425/425 [00:10<00:00, 40.95it/s]\n",
      "[2024-04-11 12:09:35,878]::4293502135::DEBUG::Epoch: 7 , 1-MAE: 0.8895 , 1-val_avg_o_loss:0.8948 , 1-val_avg_c_loss:0.8930 , 1-val_avg_e_loss:0.8883 , 1-val_avg_a_loss:0.8742 , 1-val_avg_n_loss:0.8974\n",
      "100%|██████████| 1269/1269 [01:06<00:00, 18.98it/s]\n",
      "100%|██████████| 425/425 [00:10<00:00, 40.89it/s]\n",
      "[2024-04-11 12:10:54,762]::4293502135::DEBUG::Epoch: 8 , 1-MAE: 0.9001 , 1-val_avg_o_loss:0.8980 , 1-val_avg_c_loss:0.8994 , 1-val_avg_e_loss:0.9069 , 1-val_avg_a_loss:0.8919 , 1-val_avg_n_loss:0.9045\n",
      "100%|██████████| 1269/1269 [01:07<00:00, 18.93it/s]\n",
      "100%|██████████| 425/425 [00:10<00:00, 40.79it/s]\n",
      "[2024-04-11 12:12:13,056]::4293502135::DEBUG::Epoch: 9 , 1-MAE: 0.8973 , 1-val_avg_o_loss:0.9004 , 1-val_avg_c_loss:0.8940 , 1-val_avg_e_loss:0.9021 , 1-val_avg_a_loss:0.8888 , 1-val_avg_n_loss:0.9011\n",
      "100%|██████████| 1269/1269 [01:06<00:00, 18.94it/s]\n",
      "100%|██████████| 425/425 [00:10<00:00, 40.58it/s]\n",
      "[2024-04-11 12:13:31,322]::4293502135::DEBUG::Epoch: 10 , 1-MAE: 0.8981 , 1-val_avg_o_loss:0.8968 , 1-val_avg_c_loss:0.8985 , 1-val_avg_e_loss:0.9065 , 1-val_avg_a_loss:0.8897 , 1-val_avg_n_loss:0.8991\n",
      "100%|██████████| 1269/1269 [01:07<00:00, 18.87it/s]\n",
      "100%|██████████| 425/425 [00:10<00:00, 41.09it/s]\n",
      "[2024-04-11 12:14:50,635]::4293502135::DEBUG::Epoch: 11 , 1-MAE: 0.9005 , 1-val_avg_o_loss:0.8981 , 1-val_avg_c_loss:0.8980 , 1-val_avg_e_loss:0.9091 , 1-val_avg_a_loss:0.8938 , 1-val_avg_n_loss:0.9032\n",
      "100%|██████████| 1269/1269 [01:07<00:00, 18.89it/s]\n",
      "100%|██████████| 425/425 [00:10<00:00, 40.73it/s]\n",
      "[2024-04-11 12:16:09,062]::4293502135::DEBUG::Epoch: 12 , 1-MAE: 0.8994 , 1-val_avg_o_loss:0.9005 , 1-val_avg_c_loss:0.8976 , 1-val_avg_e_loss:0.9071 , 1-val_avg_a_loss:0.8922 , 1-val_avg_n_loss:0.8997\n",
      "100%|██████████| 1269/1269 [01:07<00:00, 18.94it/s]\n",
      "100%|██████████| 425/425 [00:10<00:00, 40.34it/s]\n",
      "[2024-04-11 12:17:27,425]::4293502135::DEBUG::Epoch: 13 , 1-MAE: 0.8990 , 1-val_avg_o_loss:0.8978 , 1-val_avg_c_loss:0.8956 , 1-val_avg_e_loss:0.9065 , 1-val_avg_a_loss:0.8928 , 1-val_avg_n_loss:0.9023\n",
      "100%|██████████| 1269/1269 [01:07<00:00, 18.93it/s]\n",
      "100%|██████████| 425/425 [00:10<00:00, 40.79it/s]\n",
      "[2024-04-11 12:18:45,717]::4293502135::DEBUG::Epoch: 14 , 1-MAE: 0.8980 , 1-val_avg_o_loss:0.8988 , 1-val_avg_c_loss:0.8922 , 1-val_avg_e_loss:0.9042 , 1-val_avg_a_loss:0.8938 , 1-val_avg_n_loss:0.9008\n",
      "100%|██████████| 1269/1269 [01:07<00:00, 18.94it/s]\n",
      "100%|██████████| 425/425 [00:10<00:00, 41.32it/s]\n",
      "[2024-04-11 12:20:03,821]::4293502135::DEBUG::Epoch: 15 , 1-MAE: 0.8972 , 1-val_avg_o_loss:0.8976 , 1-val_avg_c_loss:0.8979 , 1-val_avg_e_loss:0.9050 , 1-val_avg_a_loss:0.8843 , 1-val_avg_n_loss:0.9012\n",
      "100%|██████████| 1269/1269 [01:07<00:00, 18.82it/s]\n",
      "100%|██████████| 425/425 [00:10<00:00, 41.08it/s]\n",
      "[2024-04-11 12:21:23,242]::4293502135::DEBUG::Epoch: 16 , 1-MAE: 0.9018 , 1-val_avg_o_loss:0.9037 , 1-val_avg_c_loss:0.8976 , 1-val_avg_e_loss:0.9082 , 1-val_avg_a_loss:0.8967 , 1-val_avg_n_loss:0.9030\n",
      "100%|██████████| 1269/1269 [01:07<00:00, 18.76it/s]\n",
      "100%|██████████| 425/425 [00:10<00:00, 40.94it/s]\n",
      "[2024-04-11 12:22:42,897]::4293502135::DEBUG::Epoch: 17 , 1-MAE: 0.9028 , 1-val_avg_o_loss:0.9049 , 1-val_avg_c_loss:0.8988 , 1-val_avg_e_loss:0.9091 , 1-val_avg_a_loss:0.8983 , 1-val_avg_n_loss:0.9031\n",
      "100%|██████████| 1269/1269 [01:06<00:00, 19.09it/s]\n",
      "100%|██████████| 425/425 [00:10<00:00, 41.58it/s]\n",
      "[2024-04-11 12:24:00,408]::4293502135::DEBUG::Epoch: 18 , 1-MAE: 0.8988 , 1-val_avg_o_loss:0.9011 , 1-val_avg_c_loss:0.8941 , 1-val_avg_e_loss:0.9087 , 1-val_avg_a_loss:0.8963 , 1-val_avg_n_loss:0.8939\n",
      "100%|██████████| 1269/1269 [01:07<00:00, 18.92it/s]\n",
      "100%|██████████| 425/425 [00:10<00:00, 41.26it/s]\n",
      "[2024-04-11 12:25:18,637]::4293502135::DEBUG::Epoch: 19 , 1-MAE: 0.9024 , 1-val_avg_o_loss:0.9027 , 1-val_avg_c_loss:0.8989 , 1-val_avg_e_loss:0.9087 , 1-val_avg_a_loss:0.8983 , 1-val_avg_n_loss:0.9031\n",
      "100%|██████████| 1269/1269 [01:07<00:00, 18.84it/s]\n",
      "100%|██████████| 425/425 [00:10<00:00, 41.48it/s]\n",
      "[2024-04-11 12:26:37,886]::4293502135::DEBUG::Epoch: 20 , 1-MAE: 0.9030 , 1-val_avg_o_loss:0.9041 , 1-val_avg_c_loss:0.8977 , 1-val_avg_e_loss:0.9080 , 1-val_avg_a_loss:0.9011 , 1-val_avg_n_loss:0.9041\n",
      "100%|██████████| 1269/1269 [01:06<00:00, 19.07it/s]\n",
      "100%|██████████| 425/425 [00:10<00:00, 40.70it/s]\n",
      "[2024-04-11 12:27:56,546]::4293502135::DEBUG::Epoch: 21 , 1-MAE: 0.9033 , 1-val_avg_o_loss:0.9031 , 1-val_avg_c_loss:0.8985 , 1-val_avg_e_loss:0.9088 , 1-val_avg_a_loss:0.9012 , 1-val_avg_n_loss:0.9046\n",
      "100%|██████████| 1269/1269 [01:06<00:00, 18.98it/s]\n",
      "100%|██████████| 425/425 [00:10<00:00, 41.65it/s]\n",
      "[2024-04-11 12:29:14,407]::4293502135::DEBUG::Epoch: 22 , 1-MAE: 0.9002 , 1-val_avg_o_loss:0.9003 , 1-val_avg_c_loss:0.8968 , 1-val_avg_e_loss:0.9065 , 1-val_avg_a_loss:0.8942 , 1-val_avg_n_loss:0.9030\n",
      "100%|██████████| 1269/1269 [01:06<00:00, 18.96it/s]\n",
      "100%|██████████| 425/425 [00:10<00:00, 41.21it/s]\n",
      "[2024-04-11 12:30:32,468]::4293502135::DEBUG::Epoch: 23 , 1-MAE: 0.9028 , 1-val_avg_o_loss:0.9027 , 1-val_avg_c_loss:0.8981 , 1-val_avg_e_loss:0.9097 , 1-val_avg_a_loss:0.9024 , 1-val_avg_n_loss:0.9011\n",
      "100%|██████████| 1269/1269 [01:06<00:00, 18.94it/s]\n",
      "100%|██████████| 425/425 [00:10<00:00, 41.13it/s]\n",
      "[2024-04-11 12:31:50,618]::4293502135::DEBUG::Epoch: 24 , 1-MAE: 0.9029 , 1-val_avg_o_loss:0.9028 , 1-val_avg_c_loss:0.8970 , 1-val_avg_e_loss:0.9078 , 1-val_avg_a_loss:0.9025 , 1-val_avg_n_loss:0.9046\n",
      "100%|██████████| 1269/1269 [01:06<00:00, 19.02it/s]\n",
      "100%|██████████| 425/425 [00:10<00:00, 40.66it/s]\n",
      "[2024-04-11 12:33:08,601]::4293502135::DEBUG::Epoch: 25 , 1-MAE: 0.9030 , 1-val_avg_o_loss:0.9030 , 1-val_avg_c_loss:0.8986 , 1-val_avg_e_loss:0.9063 , 1-val_avg_a_loss:0.9018 , 1-val_avg_n_loss:0.9055\n",
      "100%|██████████| 1269/1269 [01:07<00:00, 18.89it/s]\n",
      "100%|██████████| 425/425 [00:10<00:00, 40.88it/s]\n",
      "[2024-04-11 12:34:26,990]::4293502135::DEBUG::Epoch: 26 , 1-MAE: 0.9021 , 1-val_avg_o_loss:0.9000 , 1-val_avg_c_loss:0.8995 , 1-val_avg_e_loss:0.9049 , 1-val_avg_a_loss:0.9010 , 1-val_avg_n_loss:0.9052\n",
      "100%|██████████| 1269/1269 [01:06<00:00, 18.98it/s]\n",
      "100%|██████████| 425/425 [00:10<00:00, 40.75it/s]\n",
      "[2024-04-11 12:35:45,084]::4293502135::DEBUG::Epoch: 27 , 1-MAE: 0.9026 , 1-val_avg_o_loss:0.9026 , 1-val_avg_c_loss:0.8978 , 1-val_avg_e_loss:0.9063 , 1-val_avg_a_loss:0.9000 , 1-val_avg_n_loss:0.9064\n",
      "100%|██████████| 1269/1269 [01:07<00:00, 18.87it/s]\n",
      "100%|██████████| 425/425 [00:10<00:00, 40.66it/s]\n",
      "[2024-04-11 12:37:03,616]::4293502135::DEBUG::Epoch: 28 , 1-MAE: 0.9012 , 1-val_avg_o_loss:0.9024 , 1-val_avg_c_loss:0.8968 , 1-val_avg_e_loss:0.8998 , 1-val_avg_a_loss:0.9011 , 1-val_avg_n_loss:0.9056\n",
      "100%|██████████| 1269/1269 [01:07<00:00, 18.87it/s]\n",
      "100%|██████████| 425/425 [00:10<00:00, 41.11it/s]\n",
      "[2024-04-11 12:38:22,013]::4293502135::DEBUG::Epoch: 29 , 1-MAE: 0.9027 , 1-val_avg_o_loss:0.9024 , 1-val_avg_c_loss:0.8992 , 1-val_avg_e_loss:0.9073 , 1-val_avg_a_loss:0.8998 , 1-val_avg_n_loss:0.9048\n",
      "100%|██████████| 1269/1269 [01:06<00:00, 19.13it/s]\n",
      "100%|██████████| 425/425 [00:10<00:00, 40.92it/s]\n",
      "[2024-04-11 12:39:40,375]::4293502135::DEBUG::Epoch: 30 , 1-MAE: 0.9041 , 1-val_avg_o_loss:0.9039 , 1-val_avg_c_loss:0.9005 , 1-val_avg_e_loss:0.9083 , 1-val_avg_a_loss:0.9029 , 1-val_avg_n_loss:0.9048\n",
      "100%|██████████| 1269/1269 [01:07<00:00, 18.93it/s]\n",
      "100%|██████████| 425/425 [00:10<00:00, 40.56it/s]\n",
      "[2024-04-11 12:40:58,717]::4293502135::DEBUG::Epoch: 31 , 1-MAE: 0.9020 , 1-val_avg_o_loss:0.9026 , 1-val_avg_c_loss:0.8985 , 1-val_avg_e_loss:0.9059 , 1-val_avg_a_loss:0.9006 , 1-val_avg_n_loss:0.9023\n",
      "100%|██████████| 1269/1269 [01:07<00:00, 18.94it/s]\n",
      "100%|██████████| 425/425 [00:10<00:00, 40.83it/s]\n",
      "[2024-04-11 12:42:16,913]::4293502135::DEBUG::Epoch: 32 , 1-MAE: 0.9037 , 1-val_avg_o_loss:0.9014 , 1-val_avg_c_loss:0.9006 , 1-val_avg_e_loss:0.9079 , 1-val_avg_a_loss:0.9031 , 1-val_avg_n_loss:0.9053\n",
      "100%|██████████| 1269/1269 [01:07<00:00, 18.86it/s]\n",
      "100%|██████████| 425/425 [00:10<00:00, 39.35it/s]\n",
      "[2024-04-11 12:43:35,823]::4293502135::DEBUG::Epoch: 33 , 1-MAE: 0.9023 , 1-val_avg_o_loss:0.9019 , 1-val_avg_c_loss:0.8991 , 1-val_avg_e_loss:0.9072 , 1-val_avg_a_loss:0.9000 , 1-val_avg_n_loss:0.9034\n",
      "100%|██████████| 1269/1269 [01:07<00:00, 18.86it/s]\n",
      "100%|██████████| 425/425 [00:10<00:00, 41.07it/s]\n",
      "[2024-04-11 12:44:54,263]::4293502135::DEBUG::Epoch: 34 , 1-MAE: 0.9024 , 1-val_avg_o_loss:0.9015 , 1-val_avg_c_loss:0.8985 , 1-val_avg_e_loss:0.9063 , 1-val_avg_a_loss:0.9010 , 1-val_avg_n_loss:0.9048\n",
      "100%|██████████| 1269/1269 [01:06<00:00, 19.02it/s]\n",
      "100%|██████████| 425/425 [00:10<00:00, 41.38it/s]\n",
      "[2024-04-11 12:46:12,082]::4293502135::DEBUG::Epoch: 35 , 1-MAE: 0.9029 , 1-val_avg_o_loss:0.9026 , 1-val_avg_c_loss:0.8994 , 1-val_avg_e_loss:0.9044 , 1-val_avg_a_loss:0.9042 , 1-val_avg_n_loss:0.9039\n",
      "100%|██████████| 1269/1269 [01:07<00:00, 18.84it/s]\n",
      "100%|██████████| 425/425 [00:10<00:00, 40.92it/s]\n",
      "[2024-04-11 12:47:30,652]::4293502135::DEBUG::Epoch: 36 , 1-MAE: 0.9017 , 1-val_avg_o_loss:0.9015 , 1-val_avg_c_loss:0.8955 , 1-val_avg_e_loss:0.9056 , 1-val_avg_a_loss:0.9025 , 1-val_avg_n_loss:0.9036\n",
      "100%|██████████| 1269/1269 [01:06<00:00, 18.96it/s]\n",
      "100%|██████████| 425/425 [00:10<00:00, 40.69it/s]\n",
      "[2024-04-11 12:48:48,852]::4293502135::DEBUG::Epoch: 37 , 1-MAE: 0.9012 , 1-val_avg_o_loss:0.9011 , 1-val_avg_c_loss:0.8976 , 1-val_avg_e_loss:0.9044 , 1-val_avg_a_loss:0.9035 , 1-val_avg_n_loss:0.8996\n",
      "100%|██████████| 1269/1269 [01:06<00:00, 19.01it/s]\n",
      "100%|██████████| 425/425 [00:10<00:00, 40.58it/s]\n",
      "[2024-04-11 12:50:06,885]::4293502135::DEBUG::Epoch: 38 , 1-MAE: 0.9027 , 1-val_avg_o_loss:0.9017 , 1-val_avg_c_loss:0.8987 , 1-val_avg_e_loss:0.9074 , 1-val_avg_a_loss:0.9033 , 1-val_avg_n_loss:0.9024\n",
      "100%|██████████| 1269/1269 [01:07<00:00, 18.74it/s]\n",
      "100%|██████████| 425/425 [00:10<00:00, 40.96it/s]\n",
      "[2024-04-11 12:51:25,819]::4293502135::DEBUG::Epoch: 39 , 1-MAE: 0.9015 , 1-val_avg_o_loss:0.9024 , 1-val_avg_c_loss:0.8975 , 1-val_avg_e_loss:0.9055 , 1-val_avg_a_loss:0.9015 , 1-val_avg_n_loss:0.9004\n",
      "100%|██████████| 1269/1269 [01:07<00:00, 18.81it/s]\n",
      "100%|██████████| 425/425 [00:10<00:00, 41.04it/s]\n",
      "[2024-04-11 12:52:44,451]::4293502135::DEBUG::Epoch: 40 , 1-MAE: 0.9022 , 1-val_avg_o_loss:0.9022 , 1-val_avg_c_loss:0.8980 , 1-val_avg_e_loss:0.9048 , 1-val_avg_a_loss:0.9030 , 1-val_avg_n_loss:0.9029\n",
      "100%|██████████| 1269/1269 [01:07<00:00, 18.80it/s]\n",
      "100%|██████████| 425/425 [00:10<00:00, 40.81it/s]\n",
      "[2024-04-11 12:54:03,197]::4293502135::DEBUG::Epoch: 41 , 1-MAE: 0.9008 , 1-val_avg_o_loss:0.8999 , 1-val_avg_c_loss:0.8970 , 1-val_avg_e_loss:0.9030 , 1-val_avg_a_loss:0.9037 , 1-val_avg_n_loss:0.9006\n",
      "100%|██████████| 1269/1269 [01:07<00:00, 18.90it/s]\n",
      "100%|██████████| 425/425 [00:10<00:00, 40.57it/s]\n",
      "[2024-04-11 12:55:21,666]::4293502135::DEBUG::Epoch: 42 , 1-MAE: 0.8994 , 1-val_avg_o_loss:0.8954 , 1-val_avg_c_loss:0.8977 , 1-val_avg_e_loss:0.9017 , 1-val_avg_a_loss:0.9000 , 1-val_avg_n_loss:0.9022\n",
      "100%|██████████| 1269/1269 [01:07<00:00, 18.72it/s]\n",
      "100%|██████████| 425/425 [00:10<00:00, 41.13it/s]\n",
      "[2024-04-11 12:56:40,609]::4293502135::DEBUG::Epoch: 43 , 1-MAE: 0.9004 , 1-val_avg_o_loss:0.8996 , 1-val_avg_c_loss:0.8978 , 1-val_avg_e_loss:0.9013 , 1-val_avg_a_loss:0.9028 , 1-val_avg_n_loss:0.9008\n",
      "100%|██████████| 1269/1269 [01:07<00:00, 18.76it/s]\n",
      "100%|██████████| 425/425 [00:10<00:00, 40.23it/s]\n",
      "[2024-04-11 12:57:59,671]::4293502135::DEBUG::Epoch: 44 , 1-MAE: 0.9016 , 1-val_avg_o_loss:0.9010 , 1-val_avg_c_loss:0.8983 , 1-val_avg_e_loss:0.9048 , 1-val_avg_a_loss:0.9024 , 1-val_avg_n_loss:0.9013\n",
      "100%|██████████| 1269/1269 [01:07<00:00, 18.79it/s]\n",
      "100%|██████████| 425/425 [00:10<00:00, 40.39it/s]\n",
      "[2024-04-11 12:59:18,546]::4293502135::DEBUG::Epoch: 45 , 1-MAE: 0.9022 , 1-val_avg_o_loss:0.9026 , 1-val_avg_c_loss:0.8961 , 1-val_avg_e_loss:0.9055 , 1-val_avg_a_loss:0.9035 , 1-val_avg_n_loss:0.9032\n",
      "100%|██████████| 1269/1269 [01:07<00:00, 18.71it/s]\n",
      "100%|██████████| 425/425 [00:10<00:00, 40.59it/s]\n",
      "[2024-04-11 13:00:37,696]::4293502135::DEBUG::Epoch: 46 , 1-MAE: 0.9007 , 1-val_avg_o_loss:0.9010 , 1-val_avg_c_loss:0.8974 , 1-val_avg_e_loss:0.9039 , 1-val_avg_a_loss:0.9022 , 1-val_avg_n_loss:0.8991\n",
      "100%|██████████| 1269/1269 [01:07<00:00, 18.86it/s]\n",
      "100%|██████████| 425/425 [00:10<00:00, 40.75it/s]\n",
      "[2024-04-11 13:01:56,230]::4293502135::DEBUG::Epoch: 47 , 1-MAE: 0.9015 , 1-val_avg_o_loss:0.9035 , 1-val_avg_c_loss:0.8962 , 1-val_avg_e_loss:0.9050 , 1-val_avg_a_loss:0.9022 , 1-val_avg_n_loss:0.9005\n",
      "100%|██████████| 1269/1269 [01:07<00:00, 18.92it/s]\n",
      "100%|██████████| 425/425 [00:10<00:00, 40.35it/s]\n",
      "[2024-04-11 13:03:14,671]::4293502135::DEBUG::Epoch: 48 , 1-MAE: 0.9007 , 1-val_avg_o_loss:0.9008 , 1-val_avg_c_loss:0.8976 , 1-val_avg_e_loss:0.9036 , 1-val_avg_a_loss:0.9025 , 1-val_avg_n_loss:0.8994\n",
      "100%|██████████| 1269/1269 [01:07<00:00, 18.71it/s]\n",
      "100%|██████████| 425/425 [00:10<00:00, 40.85it/s]\n",
      "[2024-04-11 13:04:33,722]::4293502135::DEBUG::Epoch: 49 , 1-MAE: 0.9016 , 1-val_avg_o_loss:0.9028 , 1-val_avg_c_loss:0.8967 , 1-val_avg_e_loss:0.9060 , 1-val_avg_a_loss:0.9018 , 1-val_avg_n_loss:0.9009\n",
      "100%|██████████| 1269/1269 [01:07<00:00, 18.80it/s]\n",
      "100%|██████████| 425/425 [00:10<00:00, 40.83it/s]\n",
      "[2024-04-11 13:05:52,446]::4293502135::DEBUG::Epoch: 50 , 1-MAE: 0.9028 , 1-val_avg_o_loss:0.9034 , 1-val_avg_c_loss:0.8987 , 1-val_avg_e_loss:0.9056 , 1-val_avg_a_loss:0.9024 , 1-val_avg_n_loss:0.9039\n",
      "100%|██████████| 1269/1269 [01:07<00:00, 18.90it/s]\n",
      "100%|██████████| 425/425 [00:10<00:00, 40.58it/s]\n",
      "[2024-04-11 13:07:10,868]::4293502135::DEBUG::Epoch: 51 , 1-MAE: 0.9025 , 1-val_avg_o_loss:0.9021 , 1-val_avg_c_loss:0.8987 , 1-val_avg_e_loss:0.9058 , 1-val_avg_a_loss:0.9031 , 1-val_avg_n_loss:0.9027\n",
      "100%|██████████| 1269/1269 [01:07<00:00, 18.85it/s]\n",
      "100%|██████████| 425/425 [00:10<00:00, 40.88it/s]\n",
      "[2024-04-11 13:08:29,397]::4293502135::DEBUG::Epoch: 52 , 1-MAE: 0.9014 , 1-val_avg_o_loss:0.9013 , 1-val_avg_c_loss:0.8982 , 1-val_avg_e_loss:0.9039 , 1-val_avg_a_loss:0.9029 , 1-val_avg_n_loss:0.9008\n",
      "100%|██████████| 1269/1269 [01:07<00:00, 18.78it/s]\n",
      "100%|██████████| 425/425 [00:10<00:00, 40.20it/s]\n",
      "[2024-04-11 13:09:48,381]::4293502135::DEBUG::Epoch: 53 , 1-MAE: 0.9031 , 1-val_avg_o_loss:0.9033 , 1-val_avg_c_loss:0.8988 , 1-val_avg_e_loss:0.9075 , 1-val_avg_a_loss:0.9047 , 1-val_avg_n_loss:0.9013\n",
      "100%|██████████| 1269/1269 [01:07<00:00, 18.74it/s]\n",
      "100%|██████████| 425/425 [00:10<00:00, 40.49it/s]\n",
      "[2024-04-11 13:11:07,389]::4293502135::DEBUG::Epoch: 54 , 1-MAE: 0.9028 , 1-val_avg_o_loss:0.9027 , 1-val_avg_c_loss:0.8987 , 1-val_avg_e_loss:0.9070 , 1-val_avg_a_loss:0.9036 , 1-val_avg_n_loss:0.9020\n",
      "100%|██████████| 1269/1269 [01:07<00:00, 18.80it/s]\n",
      "100%|██████████| 425/425 [00:10<00:00, 40.22it/s]\n",
      "[2024-04-11 13:12:26,283]::4293502135::DEBUG::Epoch: 55 , 1-MAE: 0.9016 , 1-val_avg_o_loss:0.9016 , 1-val_avg_c_loss:0.8978 , 1-val_avg_e_loss:0.9044 , 1-val_avg_a_loss:0.9026 , 1-val_avg_n_loss:0.9018\n",
      "100%|██████████| 1269/1269 [01:06<00:00, 19.19it/s]\n",
      "100%|██████████| 425/425 [00:10<00:00, 40.91it/s]\n",
      "[2024-04-11 13:13:43,606]::4293502135::DEBUG::Epoch: 56 , 1-MAE: 0.9014 , 1-val_avg_o_loss:0.9026 , 1-val_avg_c_loss:0.8971 , 1-val_avg_e_loss:0.9014 , 1-val_avg_a_loss:0.9027 , 1-val_avg_n_loss:0.9031\n",
      "100%|██████████| 1269/1269 [01:07<00:00, 18.80it/s]\n",
      "100%|██████████| 425/425 [00:10<00:00, 40.50it/s]\n",
      "[2024-04-11 13:15:02,404]::4293502135::DEBUG::Epoch: 57 , 1-MAE: 0.9037 , 1-val_avg_o_loss:0.9029 , 1-val_avg_c_loss:0.8981 , 1-val_avg_e_loss:0.9082 , 1-val_avg_a_loss:0.9043 , 1-val_avg_n_loss:0.9049\n",
      "100%|██████████| 1269/1269 [01:07<00:00, 18.77it/s]\n",
      "100%|██████████| 425/425 [00:10<00:00, 40.65it/s]\n",
      "[2024-04-11 13:16:21,291]::4293502135::DEBUG::Epoch: 58 , 1-MAE: 0.9012 , 1-val_avg_o_loss:0.9010 , 1-val_avg_c_loss:0.8960 , 1-val_avg_e_loss:0.9050 , 1-val_avg_a_loss:0.9013 , 1-val_avg_n_loss:0.9027\n",
      "100%|██████████| 1269/1269 [01:07<00:00, 18.83it/s]\n",
      "100%|██████████| 425/425 [00:10<00:00, 40.40it/s]\n",
      "[2024-04-11 13:17:40,034]::4293502135::DEBUG::Epoch: 59 , 1-MAE: 0.9028 , 1-val_avg_o_loss:0.9020 , 1-val_avg_c_loss:0.9000 , 1-val_avg_e_loss:0.9055 , 1-val_avg_a_loss:0.9036 , 1-val_avg_n_loss:0.9030\n",
      "100%|██████████| 1269/1269 [01:06<00:00, 19.07it/s]\n",
      "100%|██████████| 425/425 [00:10<00:00, 41.13it/s]\n",
      "[2024-04-11 13:18:57,729]::4293502135::DEBUG::Epoch: 60 , 1-MAE: 0.9029 , 1-val_avg_o_loss:0.9028 , 1-val_avg_c_loss:0.8992 , 1-val_avg_e_loss:0.9059 , 1-val_avg_a_loss:0.9034 , 1-val_avg_n_loss:0.9029\n",
      "100%|██████████| 1269/1269 [01:07<00:00, 18.72it/s]\n",
      "100%|██████████| 425/425 [00:10<00:00, 40.65it/s]\n",
      "[2024-04-11 13:20:16,806]::4293502135::DEBUG::Epoch: 61 , 1-MAE: 0.9031 , 1-val_avg_o_loss:0.9027 , 1-val_avg_c_loss:0.8994 , 1-val_avg_e_loss:0.9081 , 1-val_avg_a_loss:0.9029 , 1-val_avg_n_loss:0.9023\n",
      "100%|██████████| 1269/1269 [01:07<00:00, 18.83it/s]\n",
      "100%|██████████| 425/425 [00:10<00:00, 40.34it/s]\n",
      "[2024-04-11 13:21:35,562]::4293502135::DEBUG::Epoch: 62 , 1-MAE: 0.9030 , 1-val_avg_o_loss:0.9028 , 1-val_avg_c_loss:0.8977 , 1-val_avg_e_loss:0.9082 , 1-val_avg_a_loss:0.9033 , 1-val_avg_n_loss:0.9030\n",
      "100%|██████████| 1269/1269 [01:06<00:00, 18.94it/s]\n",
      "100%|██████████| 425/425 [00:10<00:00, 40.50it/s]\n",
      "[2024-04-11 13:22:53,869]::4293502135::DEBUG::Epoch: 63 , 1-MAE: 0.9025 , 1-val_avg_o_loss:0.9025 , 1-val_avg_c_loss:0.8977 , 1-val_avg_e_loss:0.9066 , 1-val_avg_a_loss:0.9033 , 1-val_avg_n_loss:0.9025\n",
      "100%|██████████| 1269/1269 [01:07<00:00, 18.84it/s]\n",
      "100%|██████████| 425/425 [00:10<00:00, 40.56it/s]\n",
      "[2024-04-11 13:24:12,505]::4293502135::DEBUG::Epoch: 64 , 1-MAE: 0.9028 , 1-val_avg_o_loss:0.9031 , 1-val_avg_c_loss:0.8989 , 1-val_avg_e_loss:0.9064 , 1-val_avg_a_loss:0.9029 , 1-val_avg_n_loss:0.9027\n",
      "100%|██████████| 1269/1269 [01:07<00:00, 18.79it/s]\n",
      "100%|██████████| 425/425 [00:10<00:00, 40.38it/s]\n",
      "[2024-04-11 13:25:31,409]::4293502135::DEBUG::Epoch: 65 , 1-MAE: 0.9028 , 1-val_avg_o_loss:0.9024 , 1-val_avg_c_loss:0.8995 , 1-val_avg_e_loss:0.9067 , 1-val_avg_a_loss:0.9037 , 1-val_avg_n_loss:0.9019\n",
      "100%|██████████| 1269/1269 [01:07<00:00, 18.75it/s]\n",
      "100%|██████████| 425/425 [00:10<00:00, 40.13it/s]\n",
      "[2024-04-11 13:26:50,520]::4293502135::DEBUG::Epoch: 66 , 1-MAE: 0.9032 , 1-val_avg_o_loss:0.9031 , 1-val_avg_c_loss:0.8999 , 1-val_avg_e_loss:0.9069 , 1-val_avg_a_loss:0.9032 , 1-val_avg_n_loss:0.9029\n",
      "100%|██████████| 1269/1269 [01:07<00:00, 18.79it/s]\n",
      "100%|██████████| 425/425 [00:10<00:00, 40.27it/s]\n",
      "[2024-04-11 13:28:09,440]::4293502135::DEBUG::Epoch: 67 , 1-MAE: 0.9026 , 1-val_avg_o_loss:0.9021 , 1-val_avg_c_loss:0.8992 , 1-val_avg_e_loss:0.9066 , 1-val_avg_a_loss:0.9021 , 1-val_avg_n_loss:0.9030\n",
      "100%|██████████| 1269/1269 [01:07<00:00, 18.88it/s]\n",
      "100%|██████████| 425/425 [00:10<00:00, 40.35it/s]\n",
      "[2024-04-11 13:29:28,003]::4293502135::DEBUG::Epoch: 68 , 1-MAE: 0.9028 , 1-val_avg_o_loss:0.9024 , 1-val_avg_c_loss:0.8981 , 1-val_avg_e_loss:0.9064 , 1-val_avg_a_loss:0.9034 , 1-val_avg_n_loss:0.9039\n",
      "100%|██████████| 1269/1269 [01:06<00:00, 18.96it/s]\n",
      "100%|██████████| 425/425 [00:10<00:00, 40.58it/s]\n",
      "[2024-04-11 13:30:46,255]::4293502135::DEBUG::Epoch: 69 , 1-MAE: 0.9021 , 1-val_avg_o_loss:0.9021 , 1-val_avg_c_loss:0.8971 , 1-val_avg_e_loss:0.9056 , 1-val_avg_a_loss:0.9036 , 1-val_avg_n_loss:0.9021\n",
      "100%|██████████| 1269/1269 [01:07<00:00, 18.70it/s]\n",
      "100%|██████████| 425/425 [00:10<00:00, 40.88it/s]\n",
      "[2024-04-11 13:32:05,335]::4293502135::DEBUG::Epoch: 70 , 1-MAE: 0.9033 , 1-val_avg_o_loss:0.9036 , 1-val_avg_c_loss:0.8987 , 1-val_avg_e_loss:0.9064 , 1-val_avg_a_loss:0.9037 , 1-val_avg_n_loss:0.9039\n",
      "100%|██████████| 1269/1269 [01:07<00:00, 18.90it/s]\n",
      "100%|██████████| 425/425 [00:10<00:00, 40.57it/s]\n",
      "[2024-04-11 13:33:23,774]::4293502135::DEBUG::Epoch: 71 , 1-MAE: 0.9029 , 1-val_avg_o_loss:0.9032 , 1-val_avg_c_loss:0.8982 , 1-val_avg_e_loss:0.9062 , 1-val_avg_a_loss:0.9033 , 1-val_avg_n_loss:0.9035\n",
      "100%|██████████| 1269/1269 [01:07<00:00, 18.73it/s]\n",
      "100%|██████████| 425/425 [00:10<00:00, 40.52it/s]\n",
      "[2024-04-11 13:34:42,877]::4293502135::DEBUG::Epoch: 72 , 1-MAE: 0.9032 , 1-val_avg_o_loss:0.9027 , 1-val_avg_c_loss:0.8991 , 1-val_avg_e_loss:0.9069 , 1-val_avg_a_loss:0.9044 , 1-val_avg_n_loss:0.9030\n",
      "100%|██████████| 1269/1269 [01:07<00:00, 18.84it/s]\n",
      "100%|██████████| 425/425 [00:10<00:00, 40.73it/s]\n",
      "[2024-04-11 13:36:01,500]::4293502135::DEBUG::Epoch: 73 , 1-MAE: 0.9032 , 1-val_avg_o_loss:0.9037 , 1-val_avg_c_loss:0.8991 , 1-val_avg_e_loss:0.9069 , 1-val_avg_a_loss:0.9031 , 1-val_avg_n_loss:0.9033\n",
      "100%|██████████| 1269/1269 [01:06<00:00, 19.04it/s]\n",
      "100%|██████████| 425/425 [00:10<00:00, 40.25it/s]\n",
      "[2024-04-11 13:37:19,520]::4293502135::DEBUG::Epoch: 74 , 1-MAE: 0.9026 , 1-val_avg_o_loss:0.9020 , 1-val_avg_c_loss:0.8993 , 1-val_avg_e_loss:0.9058 , 1-val_avg_a_loss:0.9032 , 1-val_avg_n_loss:0.9028\n",
      "100%|██████████| 1269/1269 [01:08<00:00, 18.59it/s]\n",
      "100%|██████████| 425/425 [00:10<00:00, 40.60it/s]\n",
      "[2024-04-11 13:38:39,069]::4293502135::DEBUG::Epoch: 75 , 1-MAE: 0.9024 , 1-val_avg_o_loss:0.9019 , 1-val_avg_c_loss:0.8983 , 1-val_avg_e_loss:0.9056 , 1-val_avg_a_loss:0.9026 , 1-val_avg_n_loss:0.9035\n",
      "100%|██████████| 1269/1269 [01:07<00:00, 18.90it/s]\n",
      "100%|██████████| 425/425 [00:10<00:00, 40.36it/s]\n",
      "[2024-04-11 13:39:57,545]::4293502135::DEBUG::Epoch: 76 , 1-MAE: 0.9028 , 1-val_avg_o_loss:0.9038 , 1-val_avg_c_loss:0.8978 , 1-val_avg_e_loss:0.9068 , 1-val_avg_a_loss:0.9034 , 1-val_avg_n_loss:0.9022\n",
      "100%|██████████| 1269/1269 [01:07<00:00, 18.86it/s]\n",
      "100%|██████████| 425/425 [00:10<00:00, 40.75it/s]\n",
      "[2024-04-11 13:41:16,068]::4293502135::DEBUG::Epoch: 77 , 1-MAE: 0.9035 , 1-val_avg_o_loss:0.9038 , 1-val_avg_c_loss:0.8998 , 1-val_avg_e_loss:0.9074 , 1-val_avg_a_loss:0.9040 , 1-val_avg_n_loss:0.9026\n",
      "100%|██████████| 1269/1269 [01:07<00:00, 18.79it/s]\n",
      "100%|██████████| 425/425 [00:10<00:00, 40.21it/s]\n",
      "[2024-04-11 13:42:34,974]::4293502135::DEBUG::Epoch: 78 , 1-MAE: 0.9022 , 1-val_avg_o_loss:0.9022 , 1-val_avg_c_loss:0.8973 , 1-val_avg_e_loss:0.9057 , 1-val_avg_a_loss:0.9031 , 1-val_avg_n_loss:0.9024\n",
      "100%|██████████| 1269/1269 [01:07<00:00, 18.81it/s]\n",
      "100%|██████████| 425/425 [00:10<00:00, 40.29it/s]\n",
      "[2024-04-11 13:43:53,799]::4293502135::DEBUG::Epoch: 79 , 1-MAE: 0.9026 , 1-val_avg_o_loss:0.9028 , 1-val_avg_c_loss:0.8984 , 1-val_avg_e_loss:0.9066 , 1-val_avg_a_loss:0.9033 , 1-val_avg_n_loss:0.9020\n",
      "100%|██████████| 1269/1269 [01:07<00:00, 18.83it/s]\n",
      "100%|██████████| 425/425 [00:10<00:00, 40.88it/s]\n",
      "[2024-04-11 13:45:12,427]::4293502135::DEBUG::Epoch: 80 , 1-MAE: 0.9029 , 1-val_avg_o_loss:0.9026 , 1-val_avg_c_loss:0.8990 , 1-val_avg_e_loss:0.9064 , 1-val_avg_a_loss:0.9038 , 1-val_avg_n_loss:0.9026\n",
      "100%|██████████| 1269/1269 [01:07<00:00, 18.93it/s]\n",
      "100%|██████████| 425/425 [00:10<00:00, 40.83it/s]\n",
      "[2024-04-11 13:46:30,675]::4293502135::DEBUG::Epoch: 81 , 1-MAE: 0.9036 , 1-val_avg_o_loss:0.9035 , 1-val_avg_c_loss:0.8993 , 1-val_avg_e_loss:0.9072 , 1-val_avg_a_loss:0.9033 , 1-val_avg_n_loss:0.9045\n",
      "100%|██████████| 1269/1269 [01:08<00:00, 18.54it/s]\n",
      "100%|██████████| 425/425 [00:10<00:00, 40.11it/s]\n",
      "[2024-04-11 13:47:50,543]::4293502135::DEBUG::Epoch: 82 , 1-MAE: 0.9030 , 1-val_avg_o_loss:0.9029 , 1-val_avg_c_loss:0.8984 , 1-val_avg_e_loss:0.9064 , 1-val_avg_a_loss:0.9034 , 1-val_avg_n_loss:0.9038\n",
      "100%|██████████| 1269/1269 [01:06<00:00, 19.05it/s]\n",
      "100%|██████████| 425/425 [00:10<00:00, 40.88it/s]\n",
      "[2024-04-11 13:49:08,382]::4293502135::DEBUG::Epoch: 83 , 1-MAE: 0.9039 , 1-val_avg_o_loss:0.9043 , 1-val_avg_c_loss:0.9002 , 1-val_avg_e_loss:0.9073 , 1-val_avg_a_loss:0.9039 , 1-val_avg_n_loss:0.9041\n",
      "100%|██████████| 1269/1269 [01:07<00:00, 18.71it/s]\n",
      "100%|██████████| 425/425 [00:10<00:00, 40.55it/s]\n",
      "[2024-04-11 13:50:27,497]::4293502135::DEBUG::Epoch: 84 , 1-MAE: 0.9033 , 1-val_avg_o_loss:0.9022 , 1-val_avg_c_loss:0.8992 , 1-val_avg_e_loss:0.9068 , 1-val_avg_a_loss:0.9051 , 1-val_avg_n_loss:0.9034\n",
      "100%|██████████| 1269/1269 [01:07<00:00, 18.72it/s]\n",
      "100%|██████████| 425/425 [00:10<00:00, 40.83it/s]\n",
      "[2024-04-11 13:51:46,487]::4293502135::DEBUG::Epoch: 85 , 1-MAE: 0.9035 , 1-val_avg_o_loss:0.9035 , 1-val_avg_c_loss:0.8988 , 1-val_avg_e_loss:0.9073 , 1-val_avg_a_loss:0.9043 , 1-val_avg_n_loss:0.9035\n",
      "100%|██████████| 1269/1269 [01:07<00:00, 18.86it/s]\n",
      "100%|██████████| 425/425 [00:10<00:00, 40.78it/s]\n",
      "[2024-04-11 13:53:05,044]::4293502135::DEBUG::Epoch: 86 , 1-MAE: 0.9036 , 1-val_avg_o_loss:0.9039 , 1-val_avg_c_loss:0.8995 , 1-val_avg_e_loss:0.9072 , 1-val_avg_a_loss:0.9044 , 1-val_avg_n_loss:0.9032\n",
      "100%|██████████| 1269/1269 [01:07<00:00, 18.87it/s]\n",
      "100%|██████████| 425/425 [00:10<00:00, 40.51it/s]\n",
      "[2024-04-11 13:54:23,621]::4293502135::DEBUG::Epoch: 87 , 1-MAE: 0.9028 , 1-val_avg_o_loss:0.9024 , 1-val_avg_c_loss:0.8978 , 1-val_avg_e_loss:0.9070 , 1-val_avg_a_loss:0.9043 , 1-val_avg_n_loss:0.9025\n",
      "100%|██████████| 1269/1269 [01:07<00:00, 18.82it/s]\n",
      "100%|██████████| 425/425 [00:10<00:00, 40.38it/s]\n",
      "[2024-04-11 13:55:42,378]::4293502135::DEBUG::Epoch: 88 , 1-MAE: 0.9030 , 1-val_avg_o_loss:0.9018 , 1-val_avg_c_loss:0.8988 , 1-val_avg_e_loss:0.9070 , 1-val_avg_a_loss:0.9039 , 1-val_avg_n_loss:0.9034\n",
      "100%|██████████| 1269/1269 [01:07<00:00, 18.85it/s]\n",
      "100%|██████████| 425/425 [00:10<00:00, 40.79it/s]\n",
      "[2024-04-11 13:57:00,926]::4293502135::DEBUG::Epoch: 89 , 1-MAE: 0.9032 , 1-val_avg_o_loss:0.9030 , 1-val_avg_c_loss:0.8986 , 1-val_avg_e_loss:0.9072 , 1-val_avg_a_loss:0.9039 , 1-val_avg_n_loss:0.9035\n",
      "100%|██████████| 1269/1269 [01:07<00:00, 18.87it/s]\n",
      "100%|██████████| 425/425 [00:10<00:00, 40.83it/s]\n",
      "[2024-04-11 13:58:19,386]::4293502135::DEBUG::Epoch: 90 , 1-MAE: 0.9032 , 1-val_avg_o_loss:0.9033 , 1-val_avg_c_loss:0.8992 , 1-val_avg_e_loss:0.9063 , 1-val_avg_a_loss:0.9044 , 1-val_avg_n_loss:0.9030\n",
      "100%|██████████| 1269/1269 [01:07<00:00, 18.86it/s]\n",
      "100%|██████████| 425/425 [00:10<00:00, 40.60it/s]\n",
      "[2024-04-11 13:59:37,925]::4293502135::DEBUG::Epoch: 91 , 1-MAE: 0.9028 , 1-val_avg_o_loss:0.9030 , 1-val_avg_c_loss:0.8982 , 1-val_avg_e_loss:0.9061 , 1-val_avg_a_loss:0.9036 , 1-val_avg_n_loss:0.9031\n",
      "100%|██████████| 1269/1269 [01:07<00:00, 18.93it/s]\n",
      "100%|██████████| 425/425 [00:10<00:00, 40.16it/s]\n",
      "[2024-04-11 14:00:56,356]::4293502135::DEBUG::Epoch: 92 , 1-MAE: 0.9032 , 1-val_avg_o_loss:0.9041 , 1-val_avg_c_loss:0.8985 , 1-val_avg_e_loss:0.9063 , 1-val_avg_a_loss:0.9036 , 1-val_avg_n_loss:0.9035\n",
      "100%|██████████| 1269/1269 [01:07<00:00, 18.82it/s]\n",
      "100%|██████████| 425/425 [00:10<00:00, 40.92it/s]\n",
      "[2024-04-11 14:02:15,013]::4293502135::DEBUG::Epoch: 93 , 1-MAE: 0.9037 , 1-val_avg_o_loss:0.9034 , 1-val_avg_c_loss:0.8999 , 1-val_avg_e_loss:0.9067 , 1-val_avg_a_loss:0.9050 , 1-val_avg_n_loss:0.9036\n",
      "100%|██████████| 1269/1269 [01:07<00:00, 18.70it/s]\n",
      "100%|██████████| 425/425 [00:10<00:00, 40.75it/s]\n",
      "[2024-04-11 14:03:34,122]::4293502135::DEBUG::Epoch: 94 , 1-MAE: 0.9037 , 1-val_avg_o_loss:0.9037 , 1-val_avg_c_loss:0.8995 , 1-val_avg_e_loss:0.9072 , 1-val_avg_a_loss:0.9049 , 1-val_avg_n_loss:0.9032\n",
      "100%|██████████| 1269/1269 [01:07<00:00, 18.77it/s]\n",
      "100%|██████████| 425/425 [00:10<00:00, 40.26it/s]\n",
      "[2024-04-11 14:04:53,083]::4293502135::DEBUG::Epoch: 95 , 1-MAE: 0.9033 , 1-val_avg_o_loss:0.9032 , 1-val_avg_c_loss:0.8995 , 1-val_avg_e_loss:0.9067 , 1-val_avg_a_loss:0.9035 , 1-val_avg_n_loss:0.9034\n",
      "100%|██████████| 1269/1269 [01:07<00:00, 18.74it/s]\n",
      "100%|██████████| 425/425 [00:10<00:00, 40.30it/s]\n",
      "[2024-04-11 14:06:12,138]::4293502135::DEBUG::Epoch: 96 , 1-MAE: 0.9040 , 1-val_avg_o_loss:0.9040 , 1-val_avg_c_loss:0.8993 , 1-val_avg_e_loss:0.9073 , 1-val_avg_a_loss:0.9051 , 1-val_avg_n_loss:0.9046\n",
      "100%|██████████| 1269/1269 [01:06<00:00, 18.95it/s]\n",
      "100%|██████████| 425/425 [00:10<00:00, 40.61it/s]\n",
      "[2024-04-11 14:07:30,388]::4293502135::DEBUG::Epoch: 97 , 1-MAE: 0.9027 , 1-val_avg_o_loss:0.9034 , 1-val_avg_c_loss:0.8979 , 1-val_avg_e_loss:0.9066 , 1-val_avg_a_loss:0.9031 , 1-val_avg_n_loss:0.9027\n",
      "100%|██████████| 1269/1269 [01:06<00:00, 19.03it/s]\n",
      "100%|██████████| 425/425 [00:10<00:00, 41.03it/s]\n",
      "[2024-04-11 14:08:48,290]::4293502135::DEBUG::Epoch: 98 , 1-MAE: 0.9035 , 1-val_avg_o_loss:0.9031 , 1-val_avg_c_loss:0.8991 , 1-val_avg_e_loss:0.9066 , 1-val_avg_a_loss:0.9046 , 1-val_avg_n_loss:0.9038\n",
      "100%|██████████| 1269/1269 [01:07<00:00, 18.75it/s]\n",
      "100%|██████████| 425/425 [00:10<00:00, 40.35it/s]\n",
      "[2024-04-11 14:10:07,313]::4293502135::DEBUG::Epoch: 99 , 1-MAE: 0.9033 , 1-val_avg_o_loss:0.9038 , 1-val_avg_c_loss:0.8981 , 1-val_avg_e_loss:0.9062 , 1-val_avg_a_loss:0.9047 , 1-val_avg_n_loss:0.9035\n",
      "100%|██████████| 1269/1269 [01:07<00:00, 18.86it/s]\n",
      "100%|██████████| 425/425 [00:10<00:00, 40.78it/s]\n",
      "[2024-04-11 14:11:25,788]::4293502135::DEBUG::Epoch: 100 , 1-MAE: 0.9035 , 1-val_avg_o_loss:0.9028 , 1-val_avg_c_loss:0.8994 , 1-val_avg_e_loss:0.9084 , 1-val_avg_a_loss:0.9036 , 1-val_avg_n_loss:0.9032\n",
      "100%|██████████| 1269/1269 [01:07<00:00, 18.90it/s]\n",
      "100%|██████████| 425/425 [00:10<00:00, 40.24it/s]\n",
      "[2024-04-11 14:12:44,299]::4293502135::DEBUG::Epoch: 101 , 1-MAE: 0.9040 , 1-val_avg_o_loss:0.9036 , 1-val_avg_c_loss:0.9002 , 1-val_avg_e_loss:0.9082 , 1-val_avg_a_loss:0.9047 , 1-val_avg_n_loss:0.9032\n",
      "100%|██████████| 1269/1269 [01:08<00:00, 18.66it/s]\n",
      "100%|██████████| 425/425 [00:10<00:00, 40.46it/s]\n",
      "[2024-04-11 14:14:03,645]::4293502135::DEBUG::Epoch: 102 , 1-MAE: 0.9033 , 1-val_avg_o_loss:0.9022 , 1-val_avg_c_loss:0.8997 , 1-val_avg_e_loss:0.9073 , 1-val_avg_a_loss:0.9050 , 1-val_avg_n_loss:0.9023\n",
      "100%|██████████| 1269/1269 [01:07<00:00, 18.68it/s]\n",
      "100%|██████████| 425/425 [00:10<00:00, 40.82it/s]\n",
      "[2024-04-11 14:15:22,826]::4293502135::DEBUG::Epoch: 103 , 1-MAE: 0.9039 , 1-val_avg_o_loss:0.9037 , 1-val_avg_c_loss:0.8992 , 1-val_avg_e_loss:0.9081 , 1-val_avg_a_loss:0.9047 , 1-val_avg_n_loss:0.9040\n",
      "100%|██████████| 1269/1269 [01:07<00:00, 18.80it/s]\n",
      "100%|██████████| 425/425 [00:10<00:00, 40.94it/s]\n",
      "[2024-04-11 14:16:41,505]::4293502135::DEBUG::Epoch: 104 , 1-MAE: 0.9030 , 1-val_avg_o_loss:0.9020 , 1-val_avg_c_loss:0.8990 , 1-val_avg_e_loss:0.9073 , 1-val_avg_a_loss:0.9036 , 1-val_avg_n_loss:0.9033\n",
      "100%|██████████| 1269/1269 [01:07<00:00, 18.85it/s]\n",
      "100%|██████████| 425/425 [00:10<00:00, 40.73it/s]\n",
      "[2024-04-11 14:18:00,982]::4293502135::DEBUG::Epoch: 105 , 1-MAE: 0.9041 , 1-val_avg_o_loss:0.9038 , 1-val_avg_c_loss:0.9007 , 1-val_avg_e_loss:0.9075 , 1-val_avg_a_loss:0.9050 , 1-val_avg_n_loss:0.9035\n",
      "100%|██████████| 1269/1269 [01:07<00:00, 18.82it/s]\n",
      "100%|██████████| 425/425 [00:10<00:00, 39.70it/s]\n",
      "[2024-04-11 14:19:19,970]::4293502135::DEBUG::Epoch: 106 , 1-MAE: 0.9039 , 1-val_avg_o_loss:0.9034 , 1-val_avg_c_loss:0.9001 , 1-val_avg_e_loss:0.9077 , 1-val_avg_a_loss:0.9044 , 1-val_avg_n_loss:0.9040\n",
      "100%|██████████| 1269/1269 [01:07<00:00, 18.79it/s]\n",
      "100%|██████████| 425/425 [00:10<00:00, 40.63it/s]\n",
      "[2024-04-11 14:20:38,771]::4293502135::DEBUG::Epoch: 107 , 1-MAE: 0.9036 , 1-val_avg_o_loss:0.9040 , 1-val_avg_c_loss:0.8993 , 1-val_avg_e_loss:0.9083 , 1-val_avg_a_loss:0.9034 , 1-val_avg_n_loss:0.9029\n",
      "100%|██████████| 1269/1269 [01:07<00:00, 18.75it/s]\n",
      "100%|██████████| 425/425 [00:10<00:00, 40.26it/s]\n",
      "[2024-04-11 14:21:57,849]::4293502135::DEBUG::Epoch: 108 , 1-MAE: 0.9040 , 1-val_avg_o_loss:0.9036 , 1-val_avg_c_loss:0.8995 , 1-val_avg_e_loss:0.9076 , 1-val_avg_a_loss:0.9048 , 1-val_avg_n_loss:0.9044\n",
      "100%|██████████| 1269/1269 [01:07<00:00, 18.79it/s]\n",
      "100%|██████████| 425/425 [00:10<00:00, 40.13it/s]\n",
      "[2024-04-11 14:23:17,688]::4293502135::DEBUG::Epoch: 109 , 1-MAE: 0.9046 , 1-val_avg_o_loss:0.9043 , 1-val_avg_c_loss:0.8996 , 1-val_avg_e_loss:0.9091 , 1-val_avg_a_loss:0.9055 , 1-val_avg_n_loss:0.9045\n",
      "100%|██████████| 1269/1269 [01:07<00:00, 18.88it/s]\n",
      "100%|██████████| 425/425 [00:10<00:00, 40.39it/s]\n",
      "[2024-04-11 14:24:36,240]::4293502135::DEBUG::Epoch: 110 , 1-MAE: 0.9038 , 1-val_avg_o_loss:0.9039 , 1-val_avg_c_loss:0.8995 , 1-val_avg_e_loss:0.9078 , 1-val_avg_a_loss:0.9042 , 1-val_avg_n_loss:0.9035\n",
      "100%|██████████| 1269/1269 [01:07<00:00, 18.75it/s]\n",
      "100%|██████████| 425/425 [00:10<00:00, 41.13it/s]\n",
      "[2024-04-11 14:25:55,082]::4293502135::DEBUG::Epoch: 111 , 1-MAE: 0.9034 , 1-val_avg_o_loss:0.9029 , 1-val_avg_c_loss:0.8989 , 1-val_avg_e_loss:0.9069 , 1-val_avg_a_loss:0.9040 , 1-val_avg_n_loss:0.9042\n",
      "100%|██████████| 1269/1269 [01:07<00:00, 18.79it/s]\n",
      "100%|██████████| 425/425 [00:10<00:00, 40.63it/s]\n",
      "[2024-04-11 14:27:13,855]::4293502135::DEBUG::Epoch: 112 , 1-MAE: 0.9035 , 1-val_avg_o_loss:0.9023 , 1-val_avg_c_loss:0.9001 , 1-val_avg_e_loss:0.9074 , 1-val_avg_a_loss:0.9036 , 1-val_avg_n_loss:0.9041\n",
      "100%|██████████| 1269/1269 [01:07<00:00, 18.82it/s]\n",
      "100%|██████████| 425/425 [00:11<00:00, 38.29it/s]\n",
      "[2024-04-11 14:28:33,234]::4293502135::DEBUG::Epoch: 113 , 1-MAE: 0.9046 , 1-val_avg_o_loss:0.9044 , 1-val_avg_c_loss:0.9000 , 1-val_avg_e_loss:0.9090 , 1-val_avg_a_loss:0.9052 , 1-val_avg_n_loss:0.9042\n",
      "100%|██████████| 1269/1269 [01:08<00:00, 18.46it/s]\n",
      "100%|██████████| 425/425 [00:10<00:00, 38.83it/s]\n",
      "[2024-04-11 14:29:53,800]::4293502135::DEBUG::Epoch: 114 , 1-MAE: 0.9033 , 1-val_avg_o_loss:0.9029 , 1-val_avg_c_loss:0.8996 , 1-val_avg_e_loss:0.9073 , 1-val_avg_a_loss:0.9038 , 1-val_avg_n_loss:0.9030\n",
      "100%|██████████| 1269/1269 [01:08<00:00, 18.61it/s]\n",
      "100%|██████████| 425/425 [00:10<00:00, 39.47it/s]\n",
      "[2024-04-11 14:31:13,633]::4293502135::DEBUG::Epoch: 115 , 1-MAE: 0.9031 , 1-val_avg_o_loss:0.9022 , 1-val_avg_c_loss:0.8986 , 1-val_avg_e_loss:0.9071 , 1-val_avg_a_loss:0.9043 , 1-val_avg_n_loss:0.9032\n",
      "100%|██████████| 1269/1269 [01:07<00:00, 18.78it/s]\n",
      "100%|██████████| 425/425 [00:10<00:00, 39.94it/s]\n",
      "[2024-04-11 14:32:32,715]::4293502135::DEBUG::Epoch: 116 , 1-MAE: 0.9029 , 1-val_avg_o_loss:0.9017 , 1-val_avg_c_loss:0.8985 , 1-val_avg_e_loss:0.9070 , 1-val_avg_a_loss:0.9038 , 1-val_avg_n_loss:0.9035\n",
      "100%|██████████| 1269/1269 [01:08<00:00, 18.48it/s]\n",
      "100%|██████████| 425/425 [00:10<00:00, 39.32it/s]\n",
      "[2024-04-11 14:33:53,071]::4293502135::DEBUG::Epoch: 117 , 1-MAE: 0.9032 , 1-val_avg_o_loss:0.9023 , 1-val_avg_c_loss:0.8985 , 1-val_avg_e_loss:0.9067 , 1-val_avg_a_loss:0.9046 , 1-val_avg_n_loss:0.9041\n",
      "100%|██████████| 1269/1269 [01:10<00:00, 18.00it/s]\n",
      "100%|██████████| 425/425 [00:11<00:00, 38.46it/s]\n",
      "[2024-04-11 14:35:15,461]::4293502135::DEBUG::Epoch: 118 , 1-MAE: 0.9034 , 1-val_avg_o_loss:0.9032 , 1-val_avg_c_loss:0.8987 , 1-val_avg_e_loss:0.9068 , 1-val_avg_a_loss:0.9053 , 1-val_avg_n_loss:0.9028\n",
      "100%|██████████| 1269/1269 [01:08<00:00, 18.64it/s]\n",
      "100%|██████████| 425/425 [00:10<00:00, 39.29it/s]\n",
      "[2024-04-11 14:36:35,232]::4293502135::DEBUG::Epoch: 119 , 1-MAE: 0.9041 , 1-val_avg_o_loss:0.9037 , 1-val_avg_c_loss:0.8995 , 1-val_avg_e_loss:0.9079 , 1-val_avg_a_loss:0.9052 , 1-val_avg_n_loss:0.9040\n",
      "100%|██████████| 1269/1269 [01:07<00:00, 18.75it/s]\n",
      "100%|██████████| 425/425 [00:11<00:00, 38.14it/s]\n",
      "[2024-04-11 14:37:54,871]::4293502135::DEBUG::Epoch: 120 , 1-MAE: 0.9042 , 1-val_avg_o_loss:0.9030 , 1-val_avg_c_loss:0.8999 , 1-val_avg_e_loss:0.9091 , 1-val_avg_a_loss:0.9054 , 1-val_avg_n_loss:0.9036\n"
     ]
    }
   ],
   "source": [
    "with torch.cuda.device(0):\n",
    "    max_value = float('inf')\n",
    "    for i in range(start_epoch, epochs):\n",
    "        train_avg_loss = 0\n",
    "        val_avg_loss = 0\n",
    "        train_avg_o_loss = 0\n",
    "        train_avg_c_loss = 0\n",
    "        train_avg_e_loss = 0\n",
    "        train_avg_a_loss = 0\n",
    "        train_avg_n_loss = 0\n",
    "        val_avg_o_loss = 0\n",
    "        val_avg_c_loss = 0\n",
    "        val_avg_e_loss = 0\n",
    "        val_avg_a_loss = 0\n",
    "        val_avg_n_loss = 0\n",
    "        for fullshot,big_five_data in tqdm(train_dataloader):\n",
    "            big_five_data=big_five_data.permute(0,2,1)\n",
    "            big_five_data=big_five_data.squeeze()\n",
    "            # fullshot = fullshot.permute(0,4,1,2,3)\n",
    "            fullshot = fullshot.to(device)\n",
    "            big_five_data = big_five_data.to(device)\n",
    "            optimizer.zero_grad()  # 기울기가 0이 됩니다.\n",
    "            hypothesis = model(fullshot)  # 모델의 예측 결과를 저장합니다.\n",
    "            loss = criterion(hypothesis, big_five_data)  # 예측된 결과와 실제 태그 사이의 손실 값을 저장합니다.\n",
    "            loss.backward()  # 역방향 전파입니다. \n",
    "            optimizer.step()  \n",
    "            train_avg_loss += loss  \n",
    "        train_avg_loss=train_avg_loss/len(train_dataloader)\n",
    "        with torch.no_grad():#validate\n",
    "            for fullshot,big_five_data in tqdm(val_dataloader):\n",
    "                big_five_data=big_five_data.permute(0,2,1)\n",
    "                big_five_data=big_five_data.squeeze()\n",
    "                fullshot = fullshot.to(device)\n",
    "                big_five_data = big_five_data.to(device)\n",
    "                hypothesis = model(fullshot)\n",
    "                val_loss = criterion(hypothesis, big_five_data)\n",
    "                hypothesiso,hypothesisc,hypothesise,hypothesisa,hypothesisn=extract_ocean(hypothesis,batchsz)\n",
    "                big_five_datao,big_five_datac,big_five_datae,big_five_dataa,big_five_datan=extract_ocean(big_five_data,batchsz)\n",
    "                val_o_loss = criterion(hypothesiso, big_five_datao) \n",
    "                val_c_loss = criterion(hypothesisc, big_five_datac) \n",
    "                val_e_loss = criterion(hypothesise, big_five_datae) \n",
    "                val_a_loss = criterion(hypothesisa, big_five_dataa) \n",
    "                val_n_loss = criterion(hypothesisn, big_five_datan)  \n",
    "                val_avg_loss += val_loss\n",
    "                val_avg_o_loss += val_o_loss\n",
    "                val_avg_c_loss += val_c_loss\n",
    "                val_avg_e_loss += val_e_loss\n",
    "                val_avg_a_loss += val_a_loss\n",
    "                val_avg_n_loss += val_n_loss\n",
    "            val_avg_loss=val_avg_loss/len(val_dataloader)\n",
    "            val_avg_o_loss=val_avg_o_loss/len(val_dataloader)\n",
    "            val_avg_c_loss=val_avg_c_loss/len(val_dataloader)\n",
    "            val_avg_e_loss=val_avg_e_loss/len(val_dataloader)\n",
    "            val_avg_a_loss=val_avg_a_loss/len(val_dataloader)\n",
    "            val_avg_n_loss=val_avg_n_loss/len(val_dataloader)\n",
    "        torch.cuda.empty_cache()\n",
    "        # if (1-val_avg_loss)>=(1-max_value):\n",
    "        start_epoch+=1\n",
    "        if val_avg_loss < max_value:\n",
    "            max_value=val_avg_loss\n",
    "            torch.save({\n",
    "                'epoch': i+1,\n",
    "                'model': model.state_dict(),\n",
    "                'optimizer': optimizer.state_dict(),\n",
    "                'loss': val_avg_loss,\n",
    "            }, save_model_file_path.format('model',start_epoch,'pth'))\n",
    "        logger.debug('Epoch: {} , 1-MAE: {:.4f} , 1-val_avg_o_loss:{:.4f} , 1-val_avg_c_loss:{:.4f} , 1-val_avg_e_loss:{:.4f} , 1-val_avg_a_loss:{:.4f} , 1-val_avg_n_loss:{:.4f}'.format(i+1, 1-val_avg_loss, 1-val_avg_o_loss, 1-val_avg_c_loss, 1-val_avg_e_loss, 1-val_avg_a_loss,1-val_avg_n_loss))\n",
    "    "
   ]
  },
  {
   "cell_type": "code",
   "execution_count": 20,
   "metadata": {},
   "outputs": [],
   "source": [
    "# from torchinfo import summary\n",
    "\n",
    "# summary(model, input_size = (4,15,4,3,224,224))"
   ]
  },
  {
   "cell_type": "code",
   "execution_count": null,
   "metadata": {},
   "outputs": [],
   "source": []
  }
 ],
 "metadata": {
  "kernelspec": {
   "display_name": "Python 3",
   "language": "python",
   "name": "python3"
  },
  "language_info": {
   "codemirror_mode": {
    "name": "ipython",
    "version": 3
   },
   "file_extension": ".py",
   "mimetype": "text/x-python",
   "name": "python",
   "nbconvert_exporter": "python",
   "pygments_lexer": "ipython3",
   "version": "3.10.11"
  }
 },
 "nbformat": 4,
 "nbformat_minor": 4
}
