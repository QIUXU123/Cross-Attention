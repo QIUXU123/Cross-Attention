{
 "cells": [
  {
   "cell_type": "code",
   "execution_count": 1,
   "metadata": {},
   "outputs": [],
   "source": [
    "import librosa\n",
    "import librosa.display\n",
    "import numpy as np\n",
    "import pandas as pd\n",
    "import os\n",
    "from typing import List, Tuple, Dict\n",
    "import matplotlib.pyplot as plt\n",
    "import random\n",
    "import cv2\n",
    "# from vgg16 import VGG16_LSTM\n",
    "import pickle\n",
    "import torch.nn as nn\n",
    "import torch\n",
    "import datetime\n",
    "import torch.nn.functional as F\n",
    "import torchvision.models as models\n",
    "from torchvision import transforms, utils, models\n",
    "from torch.utils.data import Dataset, DataLoader\n",
    "from facenet_pytorch import MTCNN\n",
    "import logging\n",
    "import torch\n",
    "import torch.nn as nn\n",
    "from qx_noface_no2d_video_swin_transformer01 import SwinTransformer3D\n",
    "import gc\n",
    "from einops import rearrange\n",
    "from tqdm import tqdm\n",
    "# from kw_r2plus1d_video_swin_transformer import SwinTransformer3D\n",
    "batchsz = 4\n",
    "frame_nums=15\n",
    "start_epoch = 0\n",
    "test_flage=False\n",
    "model_name =\"fullshot and ast\"\n",
    "logger = logging.getLogger(__name__)\n",
    "logger.setLevel(logging.DEBUG)\n",
    "formatter = logging.Formatter('[%(asctime)s]::%(module)s::%(levelname)s::%(message)s')\n",
    "streamHandler = logging.StreamHandler()\n",
    "streamHandler.setFormatter(formatter)\n",
    "fileHandler = logging.FileHandler('./LOG/personalityLog.log')\n",
    "fileHandler.setFormatter(formatter)\n",
    "logger.addHandler(streamHandler)\n",
    "logger.addHandler(fileHandler)\n",
    "USE_CUDA = torch.cuda.is_available()\n",
    "# device = torch.device('cuda:1' if USE_CUDA else 'cpu')"
   ]
  },
  {
   "cell_type": "code",
   "execution_count": 2,
   "metadata": {},
   "outputs": [
    {
     "name": "stderr",
     "output_type": "stream",
     "text": [
      "[2024-03-25 18:02:03,517]::387438924::DEBUG::=============fullshot and ast+Video swin transformerTrain Strat!=============\n"
     ]
    },
    {
     "name": "stdout",
     "output_type": "stream",
     "text": [
      "True\n",
      "학습을 진행하는 기기: cuda:1\n"
     ]
    }
   ],
   "source": [
    "logger.debug('============={}+Video swin transformerTrain Strat!============='.format(model_name))\n",
    "USE_CUDA = torch.cuda.is_available()\n",
    "print(USE_CUDA)\n",
    "\n",
    "device = torch.device('cuda:1' if USE_CUDA else 'cpu')\n",
    "print('학습을 진행하는 기기:', device)"
   ]
  },
  {
   "cell_type": "code",
   "execution_count": 3,
   "metadata": {},
   "outputs": [
    {
     "name": "stdout",
     "output_type": "stream",
     "text": [
      "1\n"
     ]
    }
   ],
   "source": [
    "def select_frame_data(datas,frame_num):\n",
    "    data_set=[]\n",
    "    begin_num=0\n",
    "    x=128/frame_num\n",
    "    indexes=[None] * frame_num\n",
    "    for i in range(frame_num):\n",
    "        indexes[i]=int(begin_num)\n",
    "        begin_num+=x\n",
    "    for data in datas:\n",
    "        video_frames = [None] * 2\n",
    "        video_frames[0]=[]\n",
    "        video_frames[1]=[]\n",
    "        for index in indexes:\n",
    "            video_frames[0].append(data[0][index])\n",
    "        video_frames[1].append(data[1])\n",
    "        data_set.append(video_frames)\n",
    "        del video_frames\n",
    "        del data \n",
    "        gc.collect()\n",
    "    del datas\n",
    "    gc.collect()\n",
    "    return data_set\n",
    "print(1)"
   ]
  },
  {
   "cell_type": "code",
   "execution_count": 4,
   "metadata": {},
   "outputs": [
    {
     "name": "stdout",
     "output_type": "stream",
     "text": [
      "1\n"
     ]
    }
   ],
   "source": [
    "def getdata(pathname,datatype):\n",
    "    if datatype==\"train\":\n",
    "        final_data_set=[]\n",
    "        output_file=open(pathname, \"rb\")\n",
    "        for i in range(1):\n",
    "            # train_data_set.extend(pickle.load(output_file))\n",
    "            final_data_set.extend(pickle.load(output_file))\n",
    "            # print(i)\n",
    "        return final_data_set\n",
    "    elif datatype==\"valid\":\n",
    "        final_data_set=[]\n",
    "        output_file=open(pathname, \"rb\")\n",
    "        for i in range(1):\n",
    "            valid_data_set=[]\n",
    "            final_data_set.extend(pickle.load(output_file))\n",
    "            del valid_data_set\n",
    "        return final_data_set\n",
    "print(1)"
   ]
  },
  {
   "cell_type": "code",
   "execution_count": 5,
   "metadata": {},
   "outputs": [
    {
     "name": "stdout",
     "output_type": "stream",
     "text": [
      "1\n"
     ]
    }
   ],
   "source": [
    "def datasize(type,batchsz):\n",
    "    if type=='train':\n",
    "        i=5076#5967\n",
    "        while True:\n",
    "            if i%batchsz==0:\n",
    "                return i\n",
    "            else:\n",
    "                i-=1\n",
    "    else:\n",
    "        i=1700#1986\n",
    "        while True:\n",
    "            if i%batchsz==0:\n",
    "                return i\n",
    "            else:\n",
    "                i-=1\n",
    "print(1)"
   ]
  },
  {
   "cell_type": "code",
   "execution_count": 6,
   "metadata": {},
   "outputs": [
    {
     "name": "stdout",
     "output_type": "stream",
     "text": [
      "1\n"
     ]
    }
   ],
   "source": [
    "\n",
    "save_model_file_path = './save_swintransformer_folder/{}_{}.{}'\n",
    "mtcnn= MTCNN(image_size=224, margin=0, min_face_size= 20, thresholds=[0.6, 0.7, 0.7], post_process=True)\n",
    "# test_set_data=getdata(\"/home/ssrlab/qx/code/test/video-swin-transformer-pytorch/data/15Frames/test_set.dat\",\"test\")\n",
    "# test_set_data=test_set_data[:datasize(\"test\",batchsz)]\n",
    "print(1)"
   ]
  },
  {
   "cell_type": "code",
   "execution_count": 7,
   "metadata": {},
   "outputs": [
    {
     "name": "stdout",
     "output_type": "stream",
     "text": [
      "1\n"
     ]
    }
   ],
   "source": [
    "def reshape_to_expected_traininput(dataset: List[Tuple[ np.ndarray, np.ndarray]]) -> Tuple[\n",
    "     np.ndarray, np.ndarray]:\n",
    "    result=[]\n",
    "    for i in range(0, len(dataset[0])):\n",
    "        result.append((dataset[0][i],dataset[1][i],dataset[2][i],dataset[3][i],dataset[4][i],dataset[5][i]))\n",
    "    result = result[:datasize(\"train\",batchsz)]\n",
    "    x0_list = []\n",
    "    x1_list = []\n",
    "    x2_list = []\n",
    "    x3_list = []\n",
    "    x4_list = []\n",
    "    x5_list = []\n",
    "    for i in range(0, len(result)):\n",
    "        x0_list.append(result[i][0])\n",
    "        x1_list.append(result[i][1])\n",
    "        x2_list.append(result[i][2])\n",
    "        x3_list.append(result[i][3])\n",
    "        x4_list.append(result[i][4])\n",
    "        x5_list.append(result[i][5])\n",
    "    return (np.stack(x0_list), np.stack(x1_list), np.stack(x2_list),np.stack(x3_list), np.stack(x4_list), np.stack(x5_list))\n",
    "print(1)"
   ]
  },
  {
   "cell_type": "code",
   "execution_count": 8,
   "metadata": {},
   "outputs": [
    {
     "name": "stdout",
     "output_type": "stream",
     "text": [
      "1\n"
     ]
    }
   ],
   "source": [
    "def reshape_to_expected_validinput(dataset: List[Tuple[ np.ndarray, np.ndarray]]) -> Tuple[\n",
    "     np.ndarray, np.ndarray]:\n",
    "    result=[]\n",
    "    for i in range(0, len(dataset[0])):\n",
    "        result.append((dataset[0][i],dataset[1][i],dataset[2][i],dataset[3][i],dataset[4][i],dataset[5][i]))\n",
    "    result = result[:datasize(\"valid\",batchsz)]\n",
    "    x0_list = []\n",
    "    x1_list = []\n",
    "    x2_list = []\n",
    "    x3_list = []\n",
    "    x4_list = []\n",
    "    x5_list = []\n",
    "    for i in range(0, len(result)):\n",
    "        x0_list.append(result[i][0])\n",
    "        x1_list.append(result[i][1])\n",
    "        x2_list.append(result[i][2])\n",
    "        x3_list.append(result[i][3])\n",
    "        x4_list.append(result[i][4])\n",
    "        x5_list.append(result[i][5])\n",
    "    return (np.stack(x0_list), np.stack(x1_list), np.stack(x2_list),np.stack(x3_list), np.stack(x4_list), np.stack(x5_list))\n",
    "print(1)"
   ]
  },
  {
   "cell_type": "code",
   "execution_count": 9,
   "metadata": {},
   "outputs": [
    {
     "name": "stdout",
     "output_type": "stream",
     "text": [
      "1\n"
     ]
    }
   ],
   "source": [
    "validation_set_data=getdata(\"/home/ssrlab/qx/code/test/video-swin-transformer-pytorch/data/15Frames/multidata/1700valid_set.dat\",\"valid\")\n",
    "validation_set_data=reshape_to_expected_validinput(validation_set_data)\n",
    "print(1)"
   ]
  },
  {
   "cell_type": "code",
   "execution_count": 10,
   "metadata": {},
   "outputs": [
    {
     "name": "stdout",
     "output_type": "stream",
     "text": [
      "1\n"
     ]
    }
   ],
   "source": [
    "train_set_data=getdata(\"/home/ssrlab/qx/code/test/video-swin-transformer-pytorch/data/15Frames/multidata/5076train_set.dat\",\"train\")\n",
    "train_set_data=reshape_to_expected_traininput(train_set_data)\n",
    "print(1)"
   ]
  },
  {
   "cell_type": "code",
   "execution_count": 11,
   "metadata": {},
   "outputs": [
    {
     "name": "stdout",
     "output_type": "stream",
     "text": [
      "1\n"
     ]
    }
   ],
   "source": [
    "def imagecrop(imagedata,batchsz):\n",
    "    # convert_tensor= transforms.ToTensor()\n",
    "    output=[]\n",
    "    for j in range(batchsz):#비디오 데이터 batchsz(9) 개 있다\n",
    "        firstoutput=[]\n",
    "        for i in range(len(imagedata[j])):#imagedata에 15개의 프레임이 있다\n",
    "            # temp = convert_tensor(imagedata[i])\n",
    "            #이미지를 나누\n",
    "            temp = imagedata[j][i].unfold(1,112,112).unfold(2,112,112)\n",
    "            temp = rearrange(temp, 'c h1 w1 h w -> (h1 w1) c h w')\n",
    "            firstoutput.append(temp)\n",
    "        firstoutput = torch.stack(firstoutput,0)\n",
    "        output.append(firstoutput)\n",
    "    output = torch.stack(output,0)\n",
    "    return output\n",
    "print(1)"
   ]
  },
  {
   "cell_type": "code",
   "execution_count": 12,
   "metadata": {},
   "outputs": [
    {
     "name": "stdout",
     "output_type": "stream",
     "text": [
      "1\n"
     ]
    }
   ],
   "source": [
    "transform = transforms.Compose([\n",
    "    transforms.ToPILImage(),\n",
    "    transforms.ToTensor(),\n",
    "])\n",
    "print(1)"
   ]
  },
  {
   "cell_type": "code",
   "execution_count": 13,
   "metadata": {},
   "outputs": [
    {
     "name": "stdout",
     "output_type": "stream",
     "text": [
      "1\n"
     ]
    }
   ],
   "source": [
    "class ChalearnDataset(Dataset):\n",
    "    def __init__(self,fullshot,facedata,tagdata,transform=None):\n",
    "        self.facedata=facedata\n",
    "        self.fullshot=fullshot\n",
    "        self.tagdata=tagdata\n",
    "        self.transform = transform  # 표준화 여부\n",
    "    def __len__(self):\n",
    "        return len(self.fullshot)\n",
    "\n",
    "    def __getitem__(self, idx):\n",
    "        if torch.is_tensor(idx):\n",
    "            idx = idx.tolist()#텐서의 경우 목록으로 돌아가기\n",
    "        facedata = self.facedata[idx]\n",
    "        facedata = torch.FloatTensor(facedata)\n",
    "        fullshot=self.fullshot[idx]\n",
    "        fullshot=torch.FloatTensor(fullshot)\n",
    "        # image_data=image_data.reshape(15,3,224,224)\n",
    "        big_five_sorces=self.tagdata[idx]\n",
    "        big_five_sorces = torch.FloatTensor(big_five_sorces)\n",
    "        return fullshot,facedata,big_five_sorces\n",
    "print(1)"
   ]
  },
  {
   "cell_type": "code",
   "execution_count": 14,
   "metadata": {},
   "outputs": [
    {
     "name": "stdout",
     "output_type": "stream",
     "text": [
      "1\n"
     ]
    }
   ],
   "source": [
    "num_workerssz = 20\n",
    "lr = 3e-05\n",
    "epochs = 120\n",
    "#device = torch.device('cuda')\n",
    "# train_set_data = reshape_to_expected_input(train_set_data)\n",
    "# val_set_data = reshape_to_expected_input(validation_set_data)\n",
    "print(1)"
   ]
  },
  {
   "cell_type": "markdown",
   "metadata": {},
   "source": []
  },
  {
   "cell_type": "code",
   "execution_count": 15,
   "metadata": {},
   "outputs": [
    {
     "name": "stdout",
     "output_type": "stream",
     "text": [
      "1\n"
     ]
    }
   ],
   "source": [
    "train_set_data = ChalearnDataset(fullshot = train_set_data[1],facedata=train_set_data[2],tagdata=train_set_data[5],transform=transform)\n",
    "val_set_data = ChalearnDataset(fullshot = validation_set_data[1],facedata=validation_set_data[2],tagdata=validation_set_data[5],transform=transform)\n",
    "train_dataloader = DataLoader(dataset=train_set_data, batch_size=batchsz, shuffle=True, num_workers=num_workerssz)\n",
    "val_dataloader = DataLoader(dataset=val_set_data, batch_size=batchsz, shuffle=True, num_workers=num_workerssz)\n",
    "max_value=0\n",
    "print(1)"
   ]
  },
  {
   "cell_type": "code",
   "execution_count": 16,
   "metadata": {},
   "outputs": [
    {
     "name": "stderr",
     "output_type": "stream",
     "text": [
      "Some weights of AlbertModel were not initialized from the model checkpoint at text_model/ and are newly initialized: ['albert.pooler.bias', 'albert.pooler.weight']\n",
      "You should probably TRAIN this model on a down-stream task to be able to use it for predictions and inference.\n"
     ]
    },
    {
     "name": "stdout",
     "output_type": "stream",
     "text": [
      "---------------AST Model Summary---------------\n",
      "ImageNet pretraining: True, AudioSet pretraining: True\n",
      "frequncey stride=10, time stride=10\n",
      "number of patches=131\n"
     ]
    },
    {
     "name": "stderr",
     "output_type": "stream",
     "text": [
      "/home/ssrlab/anaconda3/envs/qx/lib/python3.10/site-packages/torch/functional.py:504: UserWarning: torch.meshgrid: in an upcoming release, it will be required to pass the indexing argument. (Triggered internally at ../aten/src/ATen/native/TensorShape.cpp:3483.)\n",
      "  return _VF.meshgrid(tensors, **kwargs)  # type: ignore[attr-defined]\n"
     ]
    },
    {
     "name": "stdout",
     "output_type": "stream",
     "text": [
      "1\n"
     ]
    }
   ],
   "source": [
    "model=SwinTransformer3D()#num_frames=frame_nums,batchsz = batchsz\n",
    "model.to(device)\n",
    "criterion = torch.nn.L1Loss().to(device)  # 손실함수\n",
    "optimizer = torch.optim.AdamW(model.parameters(), lr=lr) # 옵티마이저\n",
    "\n",
    "if test_flage==True:\n",
    "    checkpoint=torch.load(save_model_file_path.format('model',start_epoch,'pth'), map_location=device)\n",
    "    model.load_state_dict(checkpoint[\"model\"])\n",
    "    optimizer.load_state_dict(checkpoint[\"optimizer\"])\n",
    "    # criterion.load_state_dict(checkpoint[\"loss\"])\n",
    "train_avg_loss0=[]\n",
    "val_avg_loss0=[]\n",
    "print(1)"
   ]
  },
  {
   "cell_type": "code",
   "execution_count": 17,
   "metadata": {},
   "outputs": [],
   "source": [
    "# from torchinfo import summary\n",
    "\n",
    "# summary(model, input_size = ((8,15,224,224,3),(8,24,1319,1)), col_names = ['input_size','output_size','num_params'])"
   ]
  },
  {
   "cell_type": "code",
   "execution_count": 18,
   "metadata": {},
   "outputs": [],
   "source": [
    "def extract_ocean(data,batch_size):\n",
    "    o=[]\n",
    "    c=[]\n",
    "    e=[]\n",
    "    a=[]\n",
    "    n=[]\n",
    "    for i in range(batch_size):\n",
    "        o.append(data[i][0].item())\n",
    "        c.append(data[i][1].item())\n",
    "        e.append(data[i][2].item())\n",
    "        a.append(data[i][3].item())\n",
    "        n.append(data[i][4].item())\n",
    "    o = torch.tensor(o) \n",
    "    c = torch.tensor(c) \n",
    "    e = torch.tensor(e) \n",
    "    a = torch.tensor(a) \n",
    "    n = torch.tensor(n) \n",
    "    return o,c,e,a,n"
   ]
  },
  {
   "cell_type": "code",
   "execution_count": 19,
   "metadata": {},
   "outputs": [
    {
     "name": "stderr",
     "output_type": "stream",
     "text": [
      "  0%|          | 0/1269 [00:00<?, ?it/s]"
     ]
    },
    {
     "name": "stderr",
     "output_type": "stream",
     "text": [
      "100%|██████████| 1269/1269 [08:48<00:00,  2.40it/s]\n",
      "100%|██████████| 425/425 [01:03<00:00,  6.72it/s]\n",
      "[2024-03-25 18:12:47,621]::1706848405::DEBUG::Epoch: 1 , 1-MAE: 0.8788 , 1-val_avg_o_loss:0.8780 , 1-val_avg_c_loss:0.8769 , 1-val_avg_e_loss:0.8983 , 1-val_avg_a_loss:0.8713 , 1-val_avg_n_loss:0.8692\n",
      "100%|██████████| 1269/1269 [08:44<00:00,  2.42it/s]\n",
      "100%|██████████| 425/425 [01:03<00:00,  6.65it/s]\n",
      "[2024-03-25 18:22:37,572]::1706848405::DEBUG::Epoch: 2 , 1-MAE: 0.8704 , 1-val_avg_o_loss:0.8781 , 1-val_avg_c_loss:0.8550 , 1-val_avg_e_loss:0.8779 , 1-val_avg_a_loss:0.8578 , 1-val_avg_n_loss:0.8830\n",
      "100%|██████████| 1269/1269 [08:45<00:00,  2.42it/s]\n",
      "100%|██████████| 425/425 [01:04<00:00,  6.63it/s]\n",
      "[2024-03-25 18:32:28,384]::1706848405::DEBUG::Epoch: 3 , 1-MAE: 0.8637 , 1-val_avg_o_loss:0.8817 , 1-val_avg_c_loss:0.8770 , 1-val_avg_e_loss:0.8907 , 1-val_avg_a_loss:0.7865 , 1-val_avg_n_loss:0.8826\n",
      "100%|██████████| 1269/1269 [08:45<00:00,  2.42it/s]\n",
      "100%|██████████| 425/425 [01:04<00:00,  6.64it/s]\n",
      "[2024-03-25 18:42:19,263]::1706848405::DEBUG::Epoch: 4 , 1-MAE: 0.8777 , 1-val_avg_o_loss:0.8761 , 1-val_avg_c_loss:0.8694 , 1-val_avg_e_loss:0.8984 , 1-val_avg_a_loss:0.8600 , 1-val_avg_n_loss:0.8845\n",
      "100%|██████████| 1269/1269 [08:45<00:00,  2.42it/s]\n",
      "100%|██████████| 425/425 [01:03<00:00,  6.64it/s]\n",
      "[2024-03-25 18:52:11,722]::1706848405::DEBUG::Epoch: 5 , 1-MAE: 0.8803 , 1-val_avg_o_loss:0.8769 , 1-val_avg_c_loss:0.8732 , 1-val_avg_e_loss:0.8941 , 1-val_avg_a_loss:0.8742 , 1-val_avg_n_loss:0.8829\n",
      "100%|██████████| 1269/1269 [08:45<00:00,  2.42it/s]\n",
      "100%|██████████| 425/425 [01:03<00:00,  6.66it/s]\n",
      "[2024-03-25 19:02:01,860]::1706848405::DEBUG::Epoch: 6 , 1-MAE: 0.8796 , 1-val_avg_o_loss:0.8776 , 1-val_avg_c_loss:0.8786 , 1-val_avg_e_loss:0.8843 , 1-val_avg_a_loss:0.8747 , 1-val_avg_n_loss:0.8827\n",
      "100%|██████████| 1269/1269 [08:45<00:00,  2.42it/s]\n",
      "100%|██████████| 425/425 [01:04<00:00,  6.64it/s]\n",
      "[2024-03-25 19:11:52,525]::1706848405::DEBUG::Epoch: 7 , 1-MAE: 0.8789 , 1-val_avg_o_loss:0.8764 , 1-val_avg_c_loss:0.8769 , 1-val_avg_e_loss:0.8961 , 1-val_avg_a_loss:0.8665 , 1-val_avg_n_loss:0.8784\n",
      "100%|██████████| 1269/1269 [08:44<00:00,  2.42it/s]\n",
      "100%|██████████| 425/425 [01:03<00:00,  6.66it/s]\n",
      "[2024-03-25 19:21:42,829]::1706848405::DEBUG::Epoch: 8 , 1-MAE: 0.8788 , 1-val_avg_o_loss:0.8807 , 1-val_avg_c_loss:0.8781 , 1-val_avg_e_loss:0.9001 , 1-val_avg_a_loss:0.8703 , 1-val_avg_n_loss:0.8646\n",
      "100%|██████████| 1269/1269 [08:44<00:00,  2.42it/s]\n",
      "100%|██████████| 425/425 [01:03<00:00,  6.66it/s]\n",
      "[2024-03-25 19:31:33,044]::1706848405::DEBUG::Epoch: 9 , 1-MAE: 0.8826 , 1-val_avg_o_loss:0.8820 , 1-val_avg_c_loss:0.8732 , 1-val_avg_e_loss:0.8988 , 1-val_avg_a_loss:0.8753 , 1-val_avg_n_loss:0.8837\n",
      "100%|██████████| 1269/1269 [08:44<00:00,  2.42it/s]\n",
      "100%|██████████| 425/425 [01:03<00:00,  6.71it/s]\n",
      "[2024-03-25 19:41:24,855]::1706848405::DEBUG::Epoch: 10 , 1-MAE: 0.8762 , 1-val_avg_o_loss:0.8777 , 1-val_avg_c_loss:0.8600 , 1-val_avg_e_loss:0.8992 , 1-val_avg_a_loss:0.8751 , 1-val_avg_n_loss:0.8688\n",
      "100%|██████████| 1269/1269 [08:44<00:00,  2.42it/s]\n",
      "100%|██████████| 425/425 [01:03<00:00,  6.70it/s]\n",
      "[2024-03-25 19:51:14,661]::1706848405::DEBUG::Epoch: 11 , 1-MAE: 0.8784 , 1-val_avg_o_loss:0.8810 , 1-val_avg_c_loss:0.8763 , 1-val_avg_e_loss:0.8806 , 1-val_avg_a_loss:0.8703 , 1-val_avg_n_loss:0.8836\n",
      "100%|██████████| 1269/1269 [08:44<00:00,  2.42it/s]\n",
      "100%|██████████| 425/425 [01:03<00:00,  6.70it/s]\n",
      "[2024-03-25 20:01:04,315]::1706848405::DEBUG::Epoch: 12 , 1-MAE: 0.8812 , 1-val_avg_o_loss:0.8812 , 1-val_avg_c_loss:0.8753 , 1-val_avg_e_loss:0.8921 , 1-val_avg_a_loss:0.8740 , 1-val_avg_n_loss:0.8835\n",
      "100%|██████████| 1269/1269 [08:44<00:00,  2.42it/s]\n",
      "100%|██████████| 425/425 [01:03<00:00,  6.71it/s]\n",
      "[2024-03-25 20:10:53,967]::1706848405::DEBUG::Epoch: 13 , 1-MAE: 0.8812 , 1-val_avg_o_loss:0.8794 , 1-val_avg_c_loss:0.8784 , 1-val_avg_e_loss:0.8999 , 1-val_avg_a_loss:0.8672 , 1-val_avg_n_loss:0.8811\n",
      "100%|██████████| 1269/1269 [08:45<00:00,  2.42it/s]\n",
      "100%|██████████| 425/425 [01:03<00:00,  6.70it/s]\n",
      "[2024-03-25 20:20:43,997]::1706848405::DEBUG::Epoch: 14 , 1-MAE: 0.8838 , 1-val_avg_o_loss:0.8813 , 1-val_avg_c_loss:0.8782 , 1-val_avg_e_loss:0.8997 , 1-val_avg_a_loss:0.8754 , 1-val_avg_n_loss:0.8844\n",
      "100%|██████████| 1269/1269 [08:45<00:00,  2.42it/s]\n",
      "100%|██████████| 425/425 [01:03<00:00,  6.71it/s]\n",
      "[2024-03-25 20:30:35,812]::1706848405::DEBUG::Epoch: 15 , 1-MAE: 0.8815 , 1-val_avg_o_loss:0.8749 , 1-val_avg_c_loss:0.8785 , 1-val_avg_e_loss:0.9000 , 1-val_avg_a_loss:0.8738 , 1-val_avg_n_loss:0.8800\n",
      "100%|██████████| 1269/1269 [08:44<00:00,  2.42it/s]\n",
      "100%|██████████| 425/425 [01:03<00:00,  6.70it/s]\n",
      "[2024-03-25 20:40:25,494]::1706848405::DEBUG::Epoch: 16 , 1-MAE: 0.8808 , 1-val_avg_o_loss:0.8799 , 1-val_avg_c_loss:0.8786 , 1-val_avg_e_loss:0.8972 , 1-val_avg_a_loss:0.8688 , 1-val_avg_n_loss:0.8796\n",
      "100%|██████████| 1269/1269 [08:44<00:00,  2.42it/s]\n",
      "100%|██████████| 425/425 [01:03<00:00,  6.68it/s]\n",
      "[2024-03-25 20:50:15,534]::1706848405::DEBUG::Epoch: 17 , 1-MAE: 0.8813 , 1-val_avg_o_loss:0.8817 , 1-val_avg_c_loss:0.8786 , 1-val_avg_e_loss:0.8964 , 1-val_avg_a_loss:0.8677 , 1-val_avg_n_loss:0.8821\n",
      "100%|██████████| 1269/1269 [08:44<00:00,  2.42it/s]\n",
      "100%|██████████| 425/425 [01:03<00:00,  6.71it/s]\n",
      "[2024-03-25 21:00:05,387]::1706848405::DEBUG::Epoch: 18 , 1-MAE: 0.8813 , 1-val_avg_o_loss:0.8762 , 1-val_avg_c_loss:0.8727 , 1-val_avg_e_loss:0.8999 , 1-val_avg_a_loss:0.8737 , 1-val_avg_n_loss:0.8837\n",
      "100%|██████████| 1269/1269 [08:45<00:00,  2.42it/s]\n",
      "100%|██████████| 425/425 [01:03<00:00,  6.69it/s]\n",
      "[2024-03-25 21:09:55,533]::1706848405::DEBUG::Epoch: 19 , 1-MAE: 0.8807 , 1-val_avg_o_loss:0.8791 , 1-val_avg_c_loss:0.8753 , 1-val_avg_e_loss:0.8947 , 1-val_avg_a_loss:0.8724 , 1-val_avg_n_loss:0.8818\n",
      "100%|██████████| 1269/1269 [08:45<00:00,  2.42it/s]\n",
      "100%|██████████| 425/425 [01:03<00:00,  6.69it/s]\n",
      "[2024-03-25 21:19:47,486]::1706848405::DEBUG::Epoch: 20 , 1-MAE: 0.8828 , 1-val_avg_o_loss:0.8819 , 1-val_avg_c_loss:0.8785 , 1-val_avg_e_loss:0.8943 , 1-val_avg_a_loss:0.8749 , 1-val_avg_n_loss:0.8844\n",
      "100%|██████████| 1269/1269 [08:44<00:00,  2.42it/s]\n",
      "100%|██████████| 425/425 [01:03<00:00,  6.73it/s]\n",
      "[2024-03-25 21:29:37,064]::1706848405::DEBUG::Epoch: 21 , 1-MAE: 0.8800 , 1-val_avg_o_loss:0.8821 , 1-val_avg_c_loss:0.8774 , 1-val_avg_e_loss:0.8933 , 1-val_avg_a_loss:0.8652 , 1-val_avg_n_loss:0.8822\n",
      "100%|██████████| 1269/1269 [08:44<00:00,  2.42it/s]\n",
      "100%|██████████| 425/425 [01:03<00:00,  6.69it/s]\n",
      "[2024-03-25 21:39:26,910]::1706848405::DEBUG::Epoch: 22 , 1-MAE: 0.8834 , 1-val_avg_o_loss:0.8820 , 1-val_avg_c_loss:0.8782 , 1-val_avg_e_loss:0.8970 , 1-val_avg_a_loss:0.8755 , 1-val_avg_n_loss:0.8844\n",
      "100%|██████████| 1269/1269 [08:44<00:00,  2.42it/s]\n",
      "100%|██████████| 425/425 [01:03<00:00,  6.69it/s]\n",
      "[2024-03-25 21:49:17,022]::1706848405::DEBUG::Epoch: 23 , 1-MAE: 0.8825 , 1-val_avg_o_loss:0.8820 , 1-val_avg_c_loss:0.8755 , 1-val_avg_e_loss:0.8995 , 1-val_avg_a_loss:0.8733 , 1-val_avg_n_loss:0.8822\n",
      "100%|██████████| 1269/1269 [08:44<00:00,  2.42it/s]\n",
      "100%|██████████| 425/425 [01:03<00:00,  6.70it/s]\n",
      "[2024-03-25 21:59:06,815]::1706848405::DEBUG::Epoch: 24 , 1-MAE: 0.8830 , 1-val_avg_o_loss:0.8818 , 1-val_avg_c_loss:0.8764 , 1-val_avg_e_loss:0.9000 , 1-val_avg_a_loss:0.8751 , 1-val_avg_n_loss:0.8818\n",
      "100%|██████████| 1269/1269 [08:45<00:00,  2.42it/s]\n",
      "100%|██████████| 425/425 [01:03<00:00,  6.73it/s]\n",
      "[2024-03-25 22:08:58,526]::1706848405::DEBUG::Epoch: 25 , 1-MAE: 0.8822 , 1-val_avg_o_loss:0.8820 , 1-val_avg_c_loss:0.8750 , 1-val_avg_e_loss:0.8976 , 1-val_avg_a_loss:0.8749 , 1-val_avg_n_loss:0.8814\n",
      "100%|██████████| 1269/1269 [08:44<00:00,  2.42it/s]\n",
      "100%|██████████| 425/425 [01:03<00:00,  6.70it/s]\n",
      "[2024-03-25 22:18:48,390]::1706848405::DEBUG::Epoch: 26 , 1-MAE: 0.8794 , 1-val_avg_o_loss:0.8707 , 1-val_avg_c_loss:0.8782 , 1-val_avg_e_loss:0.8982 , 1-val_avg_a_loss:0.8677 , 1-val_avg_n_loss:0.8824\n",
      "100%|██████████| 1269/1269 [08:44<00:00,  2.42it/s]\n",
      "100%|██████████| 425/425 [01:03<00:00,  6.70it/s]\n",
      "[2024-03-25 22:28:38,116]::1706848405::DEBUG::Epoch: 27 , 1-MAE: 0.8832 , 1-val_avg_o_loss:0.8809 , 1-val_avg_c_loss:0.8775 , 1-val_avg_e_loss:0.9001 , 1-val_avg_a_loss:0.8757 , 1-val_avg_n_loss:0.8817\n",
      "100%|██████████| 1269/1269 [08:45<00:00,  2.42it/s]\n",
      "100%|██████████| 425/425 [01:03<00:00,  6.68it/s]\n",
      "[2024-03-25 22:38:28,502]::1706848405::DEBUG::Epoch: 28 , 1-MAE: 0.8826 , 1-val_avg_o_loss:0.8817 , 1-val_avg_c_loss:0.8759 , 1-val_avg_e_loss:0.8998 , 1-val_avg_a_loss:0.8717 , 1-val_avg_n_loss:0.8839\n",
      "100%|██████████| 1269/1269 [08:44<00:00,  2.42it/s]\n",
      "100%|██████████| 425/425 [01:03<00:00,  6.70it/s]\n",
      "[2024-03-25 22:48:18,171]::1706848405::DEBUG::Epoch: 29 , 1-MAE: 0.8835 , 1-val_avg_o_loss:0.8817 , 1-val_avg_c_loss:0.8774 , 1-val_avg_e_loss:0.9001 , 1-val_avg_a_loss:0.8754 , 1-val_avg_n_loss:0.8830\n",
      "100%|██████████| 1269/1269 [08:45<00:00,  2.42it/s]\n",
      "100%|██████████| 425/425 [01:03<00:00,  6.71it/s]\n",
      "[2024-03-25 22:58:10,141]::1706848405::DEBUG::Epoch: 30 , 1-MAE: 0.8813 , 1-val_avg_o_loss:0.8796 , 1-val_avg_c_loss:0.8764 , 1-val_avg_e_loss:0.8976 , 1-val_avg_a_loss:0.8694 , 1-val_avg_n_loss:0.8833\n",
      "100%|██████████| 1269/1269 [08:44<00:00,  2.42it/s]\n",
      "100%|██████████| 425/425 [01:03<00:00,  6.65it/s]\n",
      "[2024-03-25 23:08:00,544]::1706848405::DEBUG::Epoch: 31 , 1-MAE: 0.8817 , 1-val_avg_o_loss:0.8751 , 1-val_avg_c_loss:0.8775 , 1-val_avg_e_loss:0.8993 , 1-val_avg_a_loss:0.8754 , 1-val_avg_n_loss:0.8814\n",
      "100%|██████████| 1269/1269 [08:45<00:00,  2.42it/s]\n",
      "100%|██████████| 425/425 [01:03<00:00,  6.70it/s]\n",
      "[2024-03-25 23:17:50,752]::1706848405::DEBUG::Epoch: 32 , 1-MAE: 0.8822 , 1-val_avg_o_loss:0.8812 , 1-val_avg_c_loss:0.8728 , 1-val_avg_e_loss:0.8988 , 1-val_avg_a_loss:0.8745 , 1-val_avg_n_loss:0.8835\n",
      "100%|██████████| 1269/1269 [08:45<00:00,  2.42it/s]\n",
      "100%|██████████| 425/425 [01:03<00:00,  6.71it/s]\n",
      "[2024-03-25 23:27:41,031]::1706848405::DEBUG::Epoch: 33 , 1-MAE: 0.8821 , 1-val_avg_o_loss:0.8813 , 1-val_avg_c_loss:0.8760 , 1-val_avg_e_loss:0.8985 , 1-val_avg_a_loss:0.8727 , 1-val_avg_n_loss:0.8819\n",
      "100%|██████████| 1269/1269 [08:45<00:00,  2.42it/s]\n",
      "100%|██████████| 425/425 [01:03<00:00,  6.70it/s]\n",
      "[2024-03-25 23:37:31,134]::1706848405::DEBUG::Epoch: 34 , 1-MAE: 0.8811 , 1-val_avg_o_loss:0.8795 , 1-val_avg_c_loss:0.8778 , 1-val_avg_e_loss:0.8981 , 1-val_avg_a_loss:0.8660 , 1-val_avg_n_loss:0.8842\n",
      "100%|██████████| 1269/1269 [08:44<00:00,  2.42it/s]\n",
      "100%|██████████| 425/425 [01:03<00:00,  6.68it/s]\n",
      "[2024-03-25 23:47:23,041]::1706848405::DEBUG::Epoch: 35 , 1-MAE: 0.8819 , 1-val_avg_o_loss:0.8818 , 1-val_avg_c_loss:0.8768 , 1-val_avg_e_loss:0.8970 , 1-val_avg_a_loss:0.8741 , 1-val_avg_n_loss:0.8797\n",
      "100%|██████████| 1269/1269 [08:44<00:00,  2.42it/s]\n",
      "100%|██████████| 425/425 [01:03<00:00,  6.65it/s]\n",
      "[2024-03-25 23:57:13,390]::1706848405::DEBUG::Epoch: 36 , 1-MAE: 0.8828 , 1-val_avg_o_loss:0.8808 , 1-val_avg_c_loss:0.8787 , 1-val_avg_e_loss:0.8989 , 1-val_avg_a_loss:0.8716 , 1-val_avg_n_loss:0.8842\n",
      "100%|██████████| 1269/1269 [08:45<00:00,  2.42it/s]\n",
      "100%|██████████| 425/425 [01:03<00:00,  6.66it/s]\n",
      "[2024-03-26 00:07:03,838]::1706848405::DEBUG::Epoch: 37 , 1-MAE: 0.8832 , 1-val_avg_o_loss:0.8816 , 1-val_avg_c_loss:0.8786 , 1-val_avg_e_loss:0.8969 , 1-val_avg_a_loss:0.8747 , 1-val_avg_n_loss:0.8844\n",
      "100%|██████████| 1269/1269 [08:45<00:00,  2.42it/s]\n",
      "100%|██████████| 425/425 [01:03<00:00,  6.66it/s]\n",
      "[2024-03-26 00:16:54,255]::1706848405::DEBUG::Epoch: 38 , 1-MAE: 0.8817 , 1-val_avg_o_loss:0.8800 , 1-val_avg_c_loss:0.8785 , 1-val_avg_e_loss:0.8976 , 1-val_avg_a_loss:0.8702 , 1-val_avg_n_loss:0.8822\n",
      "100%|██████████| 1269/1269 [08:45<00:00,  2.42it/s]\n",
      "100%|██████████| 425/425 [01:03<00:00,  6.70it/s]\n",
      "[2024-03-26 00:26:44,502]::1706848405::DEBUG::Epoch: 39 , 1-MAE: 0.8834 , 1-val_avg_o_loss:0.8816 , 1-val_avg_c_loss:0.8786 , 1-val_avg_e_loss:0.8984 , 1-val_avg_a_loss:0.8745 , 1-val_avg_n_loss:0.8839\n",
      "100%|██████████| 1269/1269 [08:45<00:00,  2.42it/s]\n",
      "100%|██████████| 425/425 [01:03<00:00,  6.72it/s]\n",
      "[2024-03-26 00:36:36,234]::1706848405::DEBUG::Epoch: 40 , 1-MAE: 0.8833 , 1-val_avg_o_loss:0.8818 , 1-val_avg_c_loss:0.8774 , 1-val_avg_e_loss:0.8974 , 1-val_avg_a_loss:0.8753 , 1-val_avg_n_loss:0.8845\n",
      "100%|██████████| 1269/1269 [08:44<00:00,  2.42it/s]\n",
      "100%|██████████| 425/425 [01:03<00:00,  6.64it/s]\n",
      "[2024-03-26 00:46:26,525]::1706848405::DEBUG::Epoch: 41 , 1-MAE: 0.8837 , 1-val_avg_o_loss:0.8815 , 1-val_avg_c_loss:0.8783 , 1-val_avg_e_loss:0.8998 , 1-val_avg_a_loss:0.8754 , 1-val_avg_n_loss:0.8835\n",
      "100%|██████████| 1269/1269 [08:44<00:00,  2.42it/s]\n",
      "100%|██████████| 425/425 [01:03<00:00,  6.68it/s]\n",
      "[2024-03-26 00:56:16,560]::1706848405::DEBUG::Epoch: 42 , 1-MAE: 0.8811 , 1-val_avg_o_loss:0.8820 , 1-val_avg_c_loss:0.8740 , 1-val_avg_e_loss:0.8987 , 1-val_avg_a_loss:0.8737 , 1-val_avg_n_loss:0.8774\n",
      "100%|██████████| 1269/1269 [08:44<00:00,  2.42it/s]\n",
      "100%|██████████| 425/425 [01:03<00:00,  6.71it/s]\n",
      "[2024-03-26 01:06:06,446]::1706848405::DEBUG::Epoch: 43 , 1-MAE: 0.8836 , 1-val_avg_o_loss:0.8820 , 1-val_avg_c_loss:0.8786 , 1-val_avg_e_loss:0.8983 , 1-val_avg_a_loss:0.8754 , 1-val_avg_n_loss:0.8838\n",
      "100%|██████████| 1269/1269 [08:44<00:00,  2.42it/s]\n",
      "100%|██████████| 425/425 [01:03<00:00,  6.72it/s]\n",
      "[2024-03-26 01:15:56,097]::1706848405::DEBUG::Epoch: 44 , 1-MAE: 0.8811 , 1-val_avg_o_loss:0.8749 , 1-val_avg_c_loss:0.8762 , 1-val_avg_e_loss:0.8997 , 1-val_avg_a_loss:0.8731 , 1-val_avg_n_loss:0.8815\n",
      "100%|██████████| 1269/1269 [08:45<00:00,  2.42it/s]\n",
      "100%|██████████| 425/425 [01:03<00:00,  6.67it/s]\n",
      "[2024-03-26 01:25:48,631]::1706848405::DEBUG::Epoch: 45 , 1-MAE: 0.8820 , 1-val_avg_o_loss:0.8738 , 1-val_avg_c_loss:0.8786 , 1-val_avg_e_loss:0.8993 , 1-val_avg_a_loss:0.8750 , 1-val_avg_n_loss:0.8832\n",
      "100%|██████████| 1269/1269 [08:45<00:00,  2.42it/s]\n",
      "100%|██████████| 425/425 [01:03<00:00,  6.66it/s]\n",
      "[2024-03-26 01:35:39,358]::1706848405::DEBUG::Epoch: 46 , 1-MAE: 0.8827 , 1-val_avg_o_loss:0.8818 , 1-val_avg_c_loss:0.8781 , 1-val_avg_e_loss:0.8997 , 1-val_avg_a_loss:0.8751 , 1-val_avg_n_loss:0.8788\n",
      "100%|██████████| 1269/1269 [08:45<00:00,  2.42it/s]\n",
      "100%|██████████| 425/425 [01:03<00:00,  6.66it/s]\n",
      "[2024-03-26 01:45:29,901]::1706848405::DEBUG::Epoch: 47 , 1-MAE: 0.8825 , 1-val_avg_o_loss:0.8817 , 1-val_avg_c_loss:0.8780 , 1-val_avg_e_loss:0.8976 , 1-val_avg_a_loss:0.8713 , 1-val_avg_n_loss:0.8840\n",
      "100%|██████████| 1269/1269 [08:45<00:00,  2.42it/s]\n",
      "100%|██████████| 425/425 [01:03<00:00,  6.66it/s]\n",
      "[2024-03-26 01:55:20,824]::1706848405::DEBUG::Epoch: 48 , 1-MAE: 0.8834 , 1-val_avg_o_loss:0.8808 , 1-val_avg_c_loss:0.8786 , 1-val_avg_e_loss:0.8999 , 1-val_avg_a_loss:0.8734 , 1-val_avg_n_loss:0.8842\n",
      "100%|██████████| 1269/1269 [08:45<00:00,  2.42it/s]\n",
      "100%|██████████| 425/425 [01:03<00:00,  6.67it/s]\n",
      "[2024-03-26 02:05:11,312]::1706848405::DEBUG::Epoch: 49 , 1-MAE: 0.8831 , 1-val_avg_o_loss:0.8809 , 1-val_avg_c_loss:0.8782 , 1-val_avg_e_loss:0.8988 , 1-val_avg_a_loss:0.8754 , 1-val_avg_n_loss:0.8820\n",
      "100%|██████████| 1269/1269 [08:44<00:00,  2.42it/s]\n",
      "100%|██████████| 425/425 [01:04<00:00,  6.63it/s]\n",
      "[2024-03-26 02:15:03,963]::1706848405::DEBUG::Epoch: 50 , 1-MAE: 0.8829 , 1-val_avg_o_loss:0.8815 , 1-val_avg_c_loss:0.8762 , 1-val_avg_e_loss:0.8978 , 1-val_avg_a_loss:0.8748 , 1-val_avg_n_loss:0.8842\n",
      "100%|██████████| 1269/1269 [08:44<00:00,  2.42it/s]\n",
      "100%|██████████| 425/425 [01:04<00:00,  6.60it/s]\n",
      "[2024-03-26 02:24:54,850]::1706848405::DEBUG::Epoch: 51 , 1-MAE: 0.8819 , 1-val_avg_o_loss:0.8814 , 1-val_avg_c_loss:0.8786 , 1-val_avg_e_loss:0.8939 , 1-val_avg_a_loss:0.8712 , 1-val_avg_n_loss:0.8844\n",
      "100%|██████████| 1269/1269 [08:45<00:00,  2.42it/s]\n",
      "100%|██████████| 425/425 [01:04<00:00,  6.63it/s]\n",
      "[2024-03-26 02:34:45,670]::1706848405::DEBUG::Epoch: 52 , 1-MAE: 0.8831 , 1-val_avg_o_loss:0.8807 , 1-val_avg_c_loss:0.8761 , 1-val_avg_e_loss:0.9002 , 1-val_avg_a_loss:0.8756 , 1-val_avg_n_loss:0.8829\n",
      "100%|██████████| 1269/1269 [08:45<00:00,  2.42it/s]\n",
      "100%|██████████| 425/425 [01:04<00:00,  6.62it/s]\n",
      "[2024-03-26 02:44:36,505]::1706848405::DEBUG::Epoch: 53 , 1-MAE: 0.8832 , 1-val_avg_o_loss:0.8820 , 1-val_avg_c_loss:0.8784 , 1-val_avg_e_loss:0.8989 , 1-val_avg_a_loss:0.8724 , 1-val_avg_n_loss:0.8843\n",
      "100%|██████████| 1269/1269 [08:45<00:00,  2.42it/s]\n",
      "100%|██████████| 425/425 [01:04<00:00,  6.63it/s]\n",
      "[2024-03-26 02:54:27,286]::1706848405::DEBUG::Epoch: 54 , 1-MAE: 0.8834 , 1-val_avg_o_loss:0.8820 , 1-val_avg_c_loss:0.8786 , 1-val_avg_e_loss:0.8999 , 1-val_avg_a_loss:0.8751 , 1-val_avg_n_loss:0.8812\n",
      "100%|██████████| 1269/1269 [08:44<00:00,  2.42it/s]\n",
      "100%|██████████| 425/425 [01:03<00:00,  6.72it/s]\n",
      "[2024-03-26 03:04:18,759]::1706848405::DEBUG::Epoch: 55 , 1-MAE: 0.8817 , 1-val_avg_o_loss:0.8745 , 1-val_avg_c_loss:0.8783 , 1-val_avg_e_loss:0.8999 , 1-val_avg_a_loss:0.8753 , 1-val_avg_n_loss:0.8807\n",
      "100%|██████████| 1269/1269 [08:44<00:00,  2.42it/s]\n",
      "100%|██████████| 425/425 [01:03<00:00,  6.70it/s]\n",
      "[2024-03-26 03:14:08,527]::1706848405::DEBUG::Epoch: 56 , 1-MAE: 0.8832 , 1-val_avg_o_loss:0.8817 , 1-val_avg_c_loss:0.8778 , 1-val_avg_e_loss:0.8999 , 1-val_avg_a_loss:0.8721 , 1-val_avg_n_loss:0.8844\n",
      "100%|██████████| 1269/1269 [08:45<00:00,  2.42it/s]\n",
      "100%|██████████| 425/425 [01:03<00:00,  6.67it/s]\n",
      "[2024-03-26 03:23:58,853]::1706848405::DEBUG::Epoch: 57 , 1-MAE: 0.8811 , 1-val_avg_o_loss:0.8763 , 1-val_avg_c_loss:0.8764 , 1-val_avg_e_loss:0.8989 , 1-val_avg_a_loss:0.8705 , 1-val_avg_n_loss:0.8833\n",
      "100%|██████████| 1269/1269 [08:45<00:00,  2.42it/s]\n",
      "100%|██████████| 425/425 [01:03<00:00,  6.70it/s]\n",
      "[2024-03-26 03:33:49,279]::1706848405::DEBUG::Epoch: 58 , 1-MAE: 0.8828 , 1-val_avg_o_loss:0.8813 , 1-val_avg_c_loss:0.8786 , 1-val_avg_e_loss:0.8979 , 1-val_avg_a_loss:0.8721 , 1-val_avg_n_loss:0.8842\n",
      "100%|██████████| 1269/1269 [08:45<00:00,  2.42it/s]\n",
      "100%|██████████| 425/425 [01:03<00:00,  6.68it/s]\n",
      "[2024-03-26 03:43:39,525]::1706848405::DEBUG::Epoch: 59 , 1-MAE: 0.8838 , 1-val_avg_o_loss:0.8819 , 1-val_avg_c_loss:0.8782 , 1-val_avg_e_loss:0.8994 , 1-val_avg_a_loss:0.8751 , 1-val_avg_n_loss:0.8844\n",
      "100%|██████████| 1269/1269 [08:44<00:00,  2.42it/s]\n",
      "100%|██████████| 425/425 [01:03<00:00,  6.65it/s]\n",
      "[2024-03-26 03:53:31,884]::1706848405::DEBUG::Epoch: 60 , 1-MAE: 0.8820 , 1-val_avg_o_loss:0.8791 , 1-val_avg_c_loss:0.8769 , 1-val_avg_e_loss:0.8989 , 1-val_avg_a_loss:0.8710 , 1-val_avg_n_loss:0.8844\n",
      "100%|██████████| 1269/1269 [08:44<00:00,  2.42it/s]\n",
      "100%|██████████| 425/425 [01:03<00:00,  6.68it/s]\n",
      "[2024-03-26 04:03:22,015]::1706848405::DEBUG::Epoch: 61 , 1-MAE: 0.8813 , 1-val_avg_o_loss:0.8773 , 1-val_avg_c_loss:0.8722 , 1-val_avg_e_loss:0.8999 , 1-val_avg_a_loss:0.8737 , 1-val_avg_n_loss:0.8833\n",
      "100%|██████████| 1269/1269 [08:45<00:00,  2.42it/s]\n",
      "100%|██████████| 425/425 [01:03<00:00,  6.68it/s]\n",
      "[2024-03-26 04:13:12,247]::1706848405::DEBUG::Epoch: 62 , 1-MAE: 0.8816 , 1-val_avg_o_loss:0.8752 , 1-val_avg_c_loss:0.8777 , 1-val_avg_e_loss:0.8974 , 1-val_avg_a_loss:0.8735 , 1-val_avg_n_loss:0.8840\n",
      "100%|██████████| 1269/1269 [08:44<00:00,  2.42it/s]\n",
      "100%|██████████| 425/425 [01:03<00:00,  6.70it/s]\n",
      "[2024-03-26 04:23:02,087]::1706848405::DEBUG::Epoch: 63 , 1-MAE: 0.8823 , 1-val_avg_o_loss:0.8818 , 1-val_avg_c_loss:0.8733 , 1-val_avg_e_loss:0.9001 , 1-val_avg_a_loss:0.8736 , 1-val_avg_n_loss:0.8826\n",
      "100%|██████████| 1269/1269 [08:44<00:00,  2.42it/s]\n",
      "100%|██████████| 425/425 [01:03<00:00,  6.69it/s]\n",
      "[2024-03-26 04:32:51,915]::1706848405::DEBUG::Epoch: 64 , 1-MAE: 0.8834 , 1-val_avg_o_loss:0.8809 , 1-val_avg_c_loss:0.8786 , 1-val_avg_e_loss:0.8991 , 1-val_avg_a_loss:0.8750 , 1-val_avg_n_loss:0.8833\n",
      "100%|██████████| 1269/1269 [08:44<00:00,  2.42it/s]\n",
      "100%|██████████| 425/425 [01:03<00:00,  6.69it/s]\n",
      "[2024-03-26 04:42:43,951]::1706848405::DEBUG::Epoch: 65 , 1-MAE: 0.8828 , 1-val_avg_o_loss:0.8795 , 1-val_avg_c_loss:0.8766 , 1-val_avg_e_loss:0.8991 , 1-val_avg_a_loss:0.8749 , 1-val_avg_n_loss:0.8837\n",
      "100%|██████████| 1269/1269 [08:45<00:00,  2.42it/s]\n",
      "100%|██████████| 425/425 [01:03<00:00,  6.69it/s]\n",
      "[2024-03-26 04:52:34,235]::1706848405::DEBUG::Epoch: 66 , 1-MAE: 0.8832 , 1-val_avg_o_loss:0.8807 , 1-val_avg_c_loss:0.8785 , 1-val_avg_e_loss:0.8996 , 1-val_avg_a_loss:0.8754 , 1-val_avg_n_loss:0.8820\n",
      "100%|██████████| 1269/1269 [08:44<00:00,  2.42it/s]\n",
      "100%|██████████| 425/425 [01:03<00:00,  6.69it/s]\n",
      "[2024-03-26 05:02:24,287]::1706848405::DEBUG::Epoch: 67 , 1-MAE: 0.8834 , 1-val_avg_o_loss:0.8819 , 1-val_avg_c_loss:0.8782 , 1-val_avg_e_loss:0.9001 , 1-val_avg_a_loss:0.8728 , 1-val_avg_n_loss:0.8839\n",
      "100%|██████████| 1269/1269 [08:45<00:00,  2.42it/s]\n",
      "100%|██████████| 425/425 [01:03<00:00,  6.70it/s]\n",
      "[2024-03-26 05:12:14,561]::1706848405::DEBUG::Epoch: 68 , 1-MAE: 0.8839 , 1-val_avg_o_loss:0.8819 , 1-val_avg_c_loss:0.8785 , 1-val_avg_e_loss:0.9001 , 1-val_avg_a_loss:0.8746 , 1-val_avg_n_loss:0.8841\n",
      "100%|██████████| 1269/1269 [08:44<00:00,  2.42it/s]\n",
      "100%|██████████| 425/425 [01:03<00:00,  6.71it/s]\n",
      "[2024-03-26 05:22:04,377]::1706848405::DEBUG::Epoch: 69 , 1-MAE: 0.8835 , 1-val_avg_o_loss:0.8793 , 1-val_avg_c_loss:0.8785 , 1-val_avg_e_loss:0.8999 , 1-val_avg_a_loss:0.8755 , 1-val_avg_n_loss:0.8843\n",
      "100%|██████████| 1269/1269 [08:44<00:00,  2.42it/s]\n",
      "100%|██████████| 425/425 [01:03<00:00,  6.71it/s]\n",
      "[2024-03-26 05:31:56,021]::1706848405::DEBUG::Epoch: 70 , 1-MAE: 0.8836 , 1-val_avg_o_loss:0.8817 , 1-val_avg_c_loss:0.8772 , 1-val_avg_e_loss:0.9000 , 1-val_avg_a_loss:0.8748 , 1-val_avg_n_loss:0.8845\n",
      "100%|██████████| 1269/1269 [08:45<00:00,  2.42it/s]\n",
      "100%|██████████| 425/425 [01:03<00:00,  6.68it/s]\n",
      "[2024-03-26 05:41:46,431]::1706848405::DEBUG::Epoch: 71 , 1-MAE: 0.8837 , 1-val_avg_o_loss:0.8813 , 1-val_avg_c_loss:0.8785 , 1-val_avg_e_loss:0.8998 , 1-val_avg_a_loss:0.8752 , 1-val_avg_n_loss:0.8838\n",
      "100%|██████████| 1269/1269 [08:44<00:00,  2.42it/s]\n",
      "100%|██████████| 425/425 [01:03<00:00,  6.68it/s]\n",
      "[2024-03-26 05:51:36,570]::1706848405::DEBUG::Epoch: 72 , 1-MAE: 0.8830 , 1-val_avg_o_loss:0.8814 , 1-val_avg_c_loss:0.8786 , 1-val_avg_e_loss:0.8956 , 1-val_avg_a_loss:0.8752 , 1-val_avg_n_loss:0.8839\n",
      "100%|██████████| 1269/1269 [08:44<00:00,  2.42it/s]\n",
      "100%|██████████| 425/425 [01:03<00:00,  6.66it/s]\n",
      "[2024-03-26 06:01:26,589]::1706848405::DEBUG::Epoch: 73 , 1-MAE: 0.8826 , 1-val_avg_o_loss:0.8820 , 1-val_avg_c_loss:0.8774 , 1-val_avg_e_loss:0.8962 , 1-val_avg_a_loss:0.8751 , 1-val_avg_n_loss:0.8824\n",
      "100%|██████████| 1269/1269 [08:45<00:00,  2.42it/s]\n",
      "100%|██████████| 425/425 [01:04<00:00,  6.63it/s]\n",
      "[2024-03-26 06:11:17,312]::1706848405::DEBUG::Epoch: 74 , 1-MAE: 0.8840 , 1-val_avg_o_loss:0.8819 , 1-val_avg_c_loss:0.8784 , 1-val_avg_e_loss:0.9000 , 1-val_avg_a_loss:0.8753 , 1-val_avg_n_loss:0.8844\n",
      "100%|██████████| 1269/1269 [08:45<00:00,  2.42it/s]\n",
      "100%|██████████| 425/425 [01:04<00:00,  6.63it/s]\n",
      "[2024-03-26 06:21:10,044]::1706848405::DEBUG::Epoch: 75 , 1-MAE: 0.8837 , 1-val_avg_o_loss:0.8813 , 1-val_avg_c_loss:0.8772 , 1-val_avg_e_loss:0.9001 , 1-val_avg_a_loss:0.8755 , 1-val_avg_n_loss:0.8844\n",
      "100%|██████████| 1269/1269 [08:45<00:00,  2.42it/s]\n",
      "100%|██████████| 425/425 [01:03<00:00,  6.64it/s]\n",
      "[2024-03-26 06:31:00,682]::1706848405::DEBUG::Epoch: 76 , 1-MAE: 0.8834 , 1-val_avg_o_loss:0.8816 , 1-val_avg_c_loss:0.8777 , 1-val_avg_e_loss:0.9001 , 1-val_avg_a_loss:0.8734 , 1-val_avg_n_loss:0.8841\n",
      "100%|██████████| 1269/1269 [08:45<00:00,  2.42it/s]\n",
      "100%|██████████| 425/425 [01:03<00:00,  6.67it/s]\n",
      "[2024-03-26 06:40:51,175]::1706848405::DEBUG::Epoch: 77 , 1-MAE: 0.8836 , 1-val_avg_o_loss:0.8806 , 1-val_avg_c_loss:0.8786 , 1-val_avg_e_loss:0.8999 , 1-val_avg_a_loss:0.8754 , 1-val_avg_n_loss:0.8836\n",
      "100%|██████████| 1269/1269 [08:44<00:00,  2.42it/s]\n",
      "100%|██████████| 425/425 [01:03<00:00,  6.67it/s]\n",
      "[2024-03-26 06:50:41,479]::1706848405::DEBUG::Epoch: 78 , 1-MAE: 0.8840 , 1-val_avg_o_loss:0.8819 , 1-val_avg_c_loss:0.8786 , 1-val_avg_e_loss:0.9000 , 1-val_avg_a_loss:0.8752 , 1-val_avg_n_loss:0.8844\n",
      "100%|██████████| 1269/1269 [08:45<00:00,  2.42it/s]\n",
      "100%|██████████| 425/425 [01:03<00:00,  6.65it/s]\n",
      "[2024-03-26 07:00:32,335]::1706848405::DEBUG::Epoch: 79 , 1-MAE: 0.8839 , 1-val_avg_o_loss:0.8814 , 1-val_avg_c_loss:0.8782 , 1-val_avg_e_loss:0.9001 , 1-val_avg_a_loss:0.8755 , 1-val_avg_n_loss:0.8843\n",
      "100%|██████████| 1269/1269 [08:44<00:00,  2.42it/s]\n",
      "100%|██████████| 425/425 [01:03<00:00,  6.65it/s]\n",
      "[2024-03-26 07:10:24,652]::1706848405::DEBUG::Epoch: 80 , 1-MAE: 0.8826 , 1-val_avg_o_loss:0.8781 , 1-val_avg_c_loss:0.8775 , 1-val_avg_e_loss:0.8999 , 1-val_avg_a_loss:0.8731 , 1-val_avg_n_loss:0.8843\n",
      "100%|██████████| 1269/1269 [08:44<00:00,  2.42it/s]\n",
      "100%|██████████| 425/425 [01:03<00:00,  6.68it/s]\n",
      "[2024-03-26 07:20:14,736]::1706848405::DEBUG::Epoch: 81 , 1-MAE: 0.8831 , 1-val_avg_o_loss:0.8813 , 1-val_avg_c_loss:0.8767 , 1-val_avg_e_loss:0.8998 , 1-val_avg_a_loss:0.8738 , 1-val_avg_n_loss:0.8842\n",
      "100%|██████████| 1269/1269 [08:44<00:00,  2.42it/s]\n",
      "100%|██████████| 425/425 [01:03<00:00,  6.67it/s]\n",
      "[2024-03-26 07:30:04,873]::1706848405::DEBUG::Epoch: 82 , 1-MAE: 0.8839 , 1-val_avg_o_loss:0.8820 , 1-val_avg_c_loss:0.8780 , 1-val_avg_e_loss:0.9001 , 1-val_avg_a_loss:0.8752 , 1-val_avg_n_loss:0.8844\n",
      "100%|██████████| 1269/1269 [08:44<00:00,  2.42it/s]\n",
      "100%|██████████| 425/425 [01:03<00:00,  6.65it/s]\n",
      "[2024-03-26 07:39:55,259]::1706848405::DEBUG::Epoch: 83 , 1-MAE: 0.8830 , 1-val_avg_o_loss:0.8820 , 1-val_avg_c_loss:0.8770 , 1-val_avg_e_loss:0.8999 , 1-val_avg_a_loss:0.8720 , 1-val_avg_n_loss:0.8843\n",
      "100%|██████████| 1269/1269 [08:44<00:00,  2.42it/s]\n",
      "100%|██████████| 425/425 [01:03<00:00,  6.65it/s]\n",
      "[2024-03-26 07:49:45,702]::1706848405::DEBUG::Epoch: 84 , 1-MAE: 0.8839 , 1-val_avg_o_loss:0.8818 , 1-val_avg_c_loss:0.8787 , 1-val_avg_e_loss:0.8999 , 1-val_avg_a_loss:0.8745 , 1-val_avg_n_loss:0.8845\n",
      "100%|██████████| 1269/1269 [08:45<00:00,  2.42it/s]\n",
      "100%|██████████| 425/425 [01:03<00:00,  6.64it/s]\n",
      "[2024-03-26 07:59:38,309]::1706848405::DEBUG::Epoch: 85 , 1-MAE: 0.8836 , 1-val_avg_o_loss:0.8812 , 1-val_avg_c_loss:0.8781 , 1-val_avg_e_loss:0.8998 , 1-val_avg_a_loss:0.8748 , 1-val_avg_n_loss:0.8839\n",
      "100%|██████████| 1269/1269 [08:45<00:00,  2.42it/s]\n",
      "100%|██████████| 425/425 [01:03<00:00,  6.66it/s]\n",
      "[2024-03-26 08:09:29,022]::1706848405::DEBUG::Epoch: 86 , 1-MAE: 0.8823 , 1-val_avg_o_loss:0.8814 , 1-val_avg_c_loss:0.8767 , 1-val_avg_e_loss:0.8983 , 1-val_avg_a_loss:0.8740 , 1-val_avg_n_loss:0.8812\n",
      "100%|██████████| 1269/1269 [08:45<00:00,  2.42it/s]\n",
      "100%|██████████| 425/425 [01:03<00:00,  6.65it/s]\n",
      "[2024-03-26 08:19:19,734]::1706848405::DEBUG::Epoch: 87 , 1-MAE: 0.8838 , 1-val_avg_o_loss:0.8804 , 1-val_avg_c_loss:0.8786 , 1-val_avg_e_loss:0.9002 , 1-val_avg_a_loss:0.8755 , 1-val_avg_n_loss:0.8842\n",
      "100%|██████████| 1269/1269 [08:45<00:00,  2.42it/s]\n",
      "100%|██████████| 425/425 [01:03<00:00,  6.69it/s]\n",
      "[2024-03-26 08:29:09,933]::1706848405::DEBUG::Epoch: 88 , 1-MAE: 0.8826 , 1-val_avg_o_loss:0.8798 , 1-val_avg_c_loss:0.8767 , 1-val_avg_e_loss:0.9001 , 1-val_avg_a_loss:0.8718 , 1-val_avg_n_loss:0.8843\n",
      "100%|██████████| 1269/1269 [08:44<00:00,  2.42it/s]\n",
      "100%|██████████| 425/425 [01:03<00:00,  6.67it/s]\n",
      "[2024-03-26 08:39:00,139]::1706848405::DEBUG::Epoch: 89 , 1-MAE: 0.8831 , 1-val_avg_o_loss:0.8815 , 1-val_avg_c_loss:0.8782 , 1-val_avg_e_loss:0.8985 , 1-val_avg_a_loss:0.8755 , 1-val_avg_n_loss:0.8820\n",
      "100%|██████████| 1269/1269 [08:45<00:00,  2.42it/s]\n",
      "100%|██████████| 425/425 [01:03<00:00,  6.65it/s]\n",
      "[2024-03-26 08:48:52,582]::1706848405::DEBUG::Epoch: 90 , 1-MAE: 0.8834 , 1-val_avg_o_loss:0.8815 , 1-val_avg_c_loss:0.8786 , 1-val_avg_e_loss:0.9001 , 1-val_avg_a_loss:0.8739 , 1-val_avg_n_loss:0.8828\n",
      "100%|██████████| 1269/1269 [08:44<00:00,  2.42it/s]\n",
      "100%|██████████| 425/425 [01:03<00:00,  6.68it/s]\n",
      "[2024-03-26 08:58:42,729]::1706848405::DEBUG::Epoch: 91 , 1-MAE: 0.8839 , 1-val_avg_o_loss:0.8817 , 1-val_avg_c_loss:0.8786 , 1-val_avg_e_loss:0.8998 , 1-val_avg_a_loss:0.8751 , 1-val_avg_n_loss:0.8844\n",
      "100%|██████████| 1269/1269 [08:44<00:00,  2.42it/s]\n",
      "100%|██████████| 425/425 [01:03<00:00,  6.66it/s]\n",
      "[2024-03-26 09:08:32,742]::1706848405::DEBUG::Epoch: 92 , 1-MAE: 0.8833 , 1-val_avg_o_loss:0.8812 , 1-val_avg_c_loss:0.8771 , 1-val_avg_e_loss:0.8994 , 1-val_avg_a_loss:0.8742 , 1-val_avg_n_loss:0.8843\n",
      "100%|██████████| 1269/1269 [08:44<00:00,  2.42it/s]\n",
      "100%|██████████| 425/425 [01:03<00:00,  6.66it/s]\n",
      "[2024-03-26 09:18:22,989]::1706848405::DEBUG::Epoch: 93 , 1-MAE: 0.8833 , 1-val_avg_o_loss:0.8820 , 1-val_avg_c_loss:0.8767 , 1-val_avg_e_loss:0.9001 , 1-val_avg_a_loss:0.8733 , 1-val_avg_n_loss:0.8844\n",
      "100%|██████████| 1269/1269 [08:44<00:00,  2.42it/s]\n",
      "100%|██████████| 425/425 [01:03<00:00,  6.64it/s]\n",
      "[2024-03-26 09:28:13,579]::1706848405::DEBUG::Epoch: 94 , 1-MAE: 0.8839 , 1-val_avg_o_loss:0.8820 , 1-val_avg_c_loss:0.8781 , 1-val_avg_e_loss:0.8995 , 1-val_avg_a_loss:0.8754 , 1-val_avg_n_loss:0.8845\n",
      "100%|██████████| 1269/1269 [08:45<00:00,  2.42it/s]\n",
      "100%|██████████| 425/425 [01:04<00:00,  6.61it/s]\n",
      "[2024-03-26 09:38:06,494]::1706848405::DEBUG::Epoch: 95 , 1-MAE: 0.8837 , 1-val_avg_o_loss:0.8816 , 1-val_avg_c_loss:0.8785 , 1-val_avg_e_loss:0.8999 , 1-val_avg_a_loss:0.8744 , 1-val_avg_n_loss:0.8841\n",
      "100%|██████████| 1269/1269 [08:45<00:00,  2.42it/s]\n",
      "100%|██████████| 425/425 [01:04<00:00,  6.62it/s]\n",
      "[2024-03-26 09:47:57,469]::1706848405::DEBUG::Epoch: 96 , 1-MAE: 0.8840 , 1-val_avg_o_loss:0.8817 , 1-val_avg_c_loss:0.8786 , 1-val_avg_e_loss:0.8998 , 1-val_avg_a_loss:0.8756 , 1-val_avg_n_loss:0.8842\n",
      "100%|██████████| 1269/1269 [08:45<00:00,  2.42it/s]\n",
      "100%|██████████| 425/425 [01:04<00:00,  6.58it/s]\n",
      "[2024-03-26 09:57:48,649]::1706848405::DEBUG::Epoch: 97 , 1-MAE: 0.8829 , 1-val_avg_o_loss:0.8792 , 1-val_avg_c_loss:0.8778 , 1-val_avg_e_loss:0.8984 , 1-val_avg_a_loss:0.8744 , 1-val_avg_n_loss:0.8845\n",
      "100%|██████████| 1269/1269 [08:45<00:00,  2.42it/s]\n",
      "100%|██████████| 425/425 [01:04<00:00,  6.60it/s]\n",
      "[2024-03-26 10:07:39,806]::1706848405::DEBUG::Epoch: 98 , 1-MAE: 0.8839 , 1-val_avg_o_loss:0.8816 , 1-val_avg_c_loss:0.8781 , 1-val_avg_e_loss:0.8996 , 1-val_avg_a_loss:0.8756 , 1-val_avg_n_loss:0.8844\n",
      "100%|██████████| 1269/1269 [08:45<00:00,  2.42it/s]\n",
      "100%|██████████| 425/425 [01:04<00:00,  6.62it/s]\n",
      "[2024-03-26 10:17:30,694]::1706848405::DEBUG::Epoch: 99 , 1-MAE: 0.8832 , 1-val_avg_o_loss:0.8819 , 1-val_avg_c_loss:0.8784 , 1-val_avg_e_loss:0.8997 , 1-val_avg_a_loss:0.8742 , 1-val_avg_n_loss:0.8819\n",
      "100%|██████████| 1269/1269 [08:44<00:00,  2.42it/s]\n",
      "100%|██████████| 425/425 [01:04<00:00,  6.63it/s]\n",
      "[2024-03-26 10:27:23,085]::1706848405::DEBUG::Epoch: 100 , 1-MAE: 0.8836 , 1-val_avg_o_loss:0.8819 , 1-val_avg_c_loss:0.8767 , 1-val_avg_e_loss:0.8996 , 1-val_avg_a_loss:0.8754 , 1-val_avg_n_loss:0.8844\n",
      "100%|██████████| 1269/1269 [08:44<00:00,  2.42it/s]\n",
      "100%|██████████| 425/425 [01:03<00:00,  6.67it/s]\n",
      "[2024-03-26 10:37:13,070]::1706848405::DEBUG::Epoch: 101 , 1-MAE: 0.8833 , 1-val_avg_o_loss:0.8819 , 1-val_avg_c_loss:0.8781 , 1-val_avg_e_loss:0.8983 , 1-val_avg_a_loss:0.8738 , 1-val_avg_n_loss:0.8844\n",
      "100%|██████████| 1269/1269 [08:45<00:00,  2.42it/s]\n",
      "100%|██████████| 425/425 [01:03<00:00,  6.66it/s]\n",
      "[2024-03-26 10:47:03,582]::1706848405::DEBUG::Epoch: 102 , 1-MAE: 0.8836 , 1-val_avg_o_loss:0.8807 , 1-val_avg_c_loss:0.8786 , 1-val_avg_e_loss:0.8993 , 1-val_avg_a_loss:0.8753 , 1-val_avg_n_loss:0.8842\n",
      "100%|██████████| 1269/1269 [08:44<00:00,  2.42it/s]\n",
      "100%|██████████| 425/425 [01:03<00:00,  6.71it/s]\n",
      "[2024-03-26 10:56:53,258]::1706848405::DEBUG::Epoch: 103 , 1-MAE: 0.8837 , 1-val_avg_o_loss:0.8818 , 1-val_avg_c_loss:0.8776 , 1-val_avg_e_loss:0.8999 , 1-val_avg_a_loss:0.8747 , 1-val_avg_n_loss:0.8843\n",
      "100%|██████████| 1269/1269 [08:44<00:00,  2.42it/s]\n",
      "100%|██████████| 425/425 [01:03<00:00,  6.70it/s]\n",
      "[2024-03-26 11:06:43,209]::1706848405::DEBUG::Epoch: 104 , 1-MAE: 0.8833 , 1-val_avg_o_loss:0.8818 , 1-val_avg_c_loss:0.8782 , 1-val_avg_e_loss:0.8999 , 1-val_avg_a_loss:0.8755 , 1-val_avg_n_loss:0.8811\n",
      "100%|██████████| 1269/1269 [08:44<00:00,  2.42it/s]\n",
      "100%|██████████| 425/425 [01:03<00:00,  6.69it/s]\n",
      "[2024-03-26 11:16:34,934]::1706848405::DEBUG::Epoch: 105 , 1-MAE: 0.8838 , 1-val_avg_o_loss:0.8820 , 1-val_avg_c_loss:0.8784 , 1-val_avg_e_loss:0.8993 , 1-val_avg_a_loss:0.8756 , 1-val_avg_n_loss:0.8835\n",
      "100%|██████████| 1269/1269 [08:45<00:00,  2.42it/s]\n",
      "100%|██████████| 425/425 [01:03<00:00,  6.68it/s]\n",
      "[2024-03-26 11:26:25,207]::1706848405::DEBUG::Epoch: 106 , 1-MAE: 0.8841 , 1-val_avg_o_loss:0.8821 , 1-val_avg_c_loss:0.8786 , 1-val_avg_e_loss:0.9001 , 1-val_avg_a_loss:0.8751 , 1-val_avg_n_loss:0.8846\n",
      "100%|██████████| 1269/1269 [08:44<00:00,  2.42it/s]\n",
      "100%|██████████| 425/425 [01:03<00:00,  6.69it/s]\n",
      "[2024-03-26 11:36:15,053]::1706848405::DEBUG::Epoch: 107 , 1-MAE: 0.8837 , 1-val_avg_o_loss:0.8818 , 1-val_avg_c_loss:0.8784 , 1-val_avg_e_loss:0.8984 , 1-val_avg_a_loss:0.8755 , 1-val_avg_n_loss:0.8842\n",
      "100%|██████████| 1269/1269 [08:44<00:00,  2.42it/s]\n",
      "100%|██████████| 425/425 [01:03<00:00,  6.70it/s]\n",
      "[2024-03-26 11:46:04,930]::1706848405::DEBUG::Epoch: 108 , 1-MAE: 0.8838 , 1-val_avg_o_loss:0.8810 , 1-val_avg_c_loss:0.8783 , 1-val_avg_e_loss:0.9002 , 1-val_avg_a_loss:0.8756 , 1-val_avg_n_loss:0.8839\n",
      "100%|██████████| 1269/1269 [08:44<00:00,  2.42it/s]\n",
      "100%|██████████| 425/425 [01:03<00:00,  6.70it/s]\n",
      "[2024-03-26 11:55:54,756]::1706848405::DEBUG::Epoch: 109 , 1-MAE: 0.8839 , 1-val_avg_o_loss:0.8819 , 1-val_avg_c_loss:0.8779 , 1-val_avg_e_loss:0.8999 , 1-val_avg_a_loss:0.8753 , 1-val_avg_n_loss:0.8843\n",
      "100%|██████████| 1269/1269 [08:45<00:00,  2.42it/s]\n",
      "100%|██████████| 425/425 [01:03<00:00,  6.68it/s]\n",
      "[2024-03-26 12:05:47,004]::1706848405::DEBUG::Epoch: 110 , 1-MAE: 0.8838 , 1-val_avg_o_loss:0.8820 , 1-val_avg_c_loss:0.8786 , 1-val_avg_e_loss:0.9001 , 1-val_avg_a_loss:0.8755 , 1-val_avg_n_loss:0.8827\n",
      "100%|██████████| 1269/1269 [08:44<00:00,  2.42it/s]\n",
      "100%|██████████| 425/425 [01:03<00:00,  6.67it/s]\n",
      "[2024-03-26 12:15:37,214]::1706848405::DEBUG::Epoch: 111 , 1-MAE: 0.8833 , 1-val_avg_o_loss:0.8804 , 1-val_avg_c_loss:0.8786 , 1-val_avg_e_loss:0.9001 , 1-val_avg_a_loss:0.8731 , 1-val_avg_n_loss:0.8842\n",
      "100%|██████████| 1269/1269 [08:44<00:00,  2.42it/s]\n",
      "100%|██████████| 425/425 [01:03<00:00,  6.67it/s]\n",
      "[2024-03-26 12:25:27,331]::1706848405::DEBUG::Epoch: 112 , 1-MAE: 0.8838 , 1-val_avg_o_loss:0.8819 , 1-val_avg_c_loss:0.8783 , 1-val_avg_e_loss:0.8988 , 1-val_avg_a_loss:0.8754 , 1-val_avg_n_loss:0.8845\n",
      "100%|██████████| 1269/1269 [08:44<00:00,  2.42it/s]\n",
      "100%|██████████| 425/425 [01:03<00:00,  6.67it/s]\n",
      "[2024-03-26 12:35:17,603]::1706848405::DEBUG::Epoch: 113 , 1-MAE: 0.8839 , 1-val_avg_o_loss:0.8820 , 1-val_avg_c_loss:0.8786 , 1-val_avg_e_loss:0.8998 , 1-val_avg_a_loss:0.8746 , 1-val_avg_n_loss:0.8843\n",
      "100%|██████████| 1269/1269 [08:45<00:00,  2.42it/s]\n",
      "100%|██████████| 425/425 [01:04<00:00,  6.64it/s]\n",
      "[2024-03-26 12:45:08,652]::1706848405::DEBUG::Epoch: 114 , 1-MAE: 0.8841 , 1-val_avg_o_loss:0.8820 , 1-val_avg_c_loss:0.8786 , 1-val_avg_e_loss:0.9001 , 1-val_avg_a_loss:0.8753 , 1-val_avg_n_loss:0.8843\n",
      "100%|██████████| 1269/1269 [08:45<00:00,  2.42it/s]\n",
      "100%|██████████| 425/425 [01:03<00:00,  6.68it/s]\n",
      "[2024-03-26 12:55:00,832]::1706848405::DEBUG::Epoch: 115 , 1-MAE: 0.8838 , 1-val_avg_o_loss:0.8820 , 1-val_avg_c_loss:0.8786 , 1-val_avg_e_loss:0.8999 , 1-val_avg_a_loss:0.8739 , 1-val_avg_n_loss:0.8846\n",
      "100%|██████████| 1269/1269 [08:44<00:00,  2.42it/s]\n",
      "100%|██████████| 425/425 [01:03<00:00,  6.71it/s]\n",
      "[2024-03-26 13:04:50,566]::1706848405::DEBUG::Epoch: 116 , 1-MAE: 0.8837 , 1-val_avg_o_loss:0.8819 , 1-val_avg_c_loss:0.8785 , 1-val_avg_e_loss:0.8995 , 1-val_avg_a_loss:0.8741 , 1-val_avg_n_loss:0.8844\n",
      "100%|██████████| 1269/1269 [08:44<00:00,  2.42it/s]\n",
      "100%|██████████| 425/425 [01:03<00:00,  6.66it/s]\n",
      "[2024-03-26 13:14:40,706]::1706848405::DEBUG::Epoch: 117 , 1-MAE: 0.8837 , 1-val_avg_o_loss:0.8819 , 1-val_avg_c_loss:0.8784 , 1-val_avg_e_loss:0.8998 , 1-val_avg_a_loss:0.8748 , 1-val_avg_n_loss:0.8837\n",
      "100%|██████████| 1269/1269 [08:45<00:00,  2.42it/s]\n",
      "100%|██████████| 425/425 [01:03<00:00,  6.65it/s]\n",
      "[2024-03-26 13:24:31,458]::1706848405::DEBUG::Epoch: 118 , 1-MAE: 0.8838 , 1-val_avg_o_loss:0.8820 , 1-val_avg_c_loss:0.8785 , 1-val_avg_e_loss:0.8991 , 1-val_avg_a_loss:0.8747 , 1-val_avg_n_loss:0.8845\n",
      "100%|██████████| 1269/1269 [08:45<00:00,  2.42it/s]\n",
      "100%|██████████| 425/425 [01:03<00:00,  6.66it/s]\n",
      "[2024-03-26 13:34:22,175]::1706848405::DEBUG::Epoch: 119 , 1-MAE: 0.8837 , 1-val_avg_o_loss:0.8816 , 1-val_avg_c_loss:0.8778 , 1-val_avg_e_loss:0.9001 , 1-val_avg_a_loss:0.8748 , 1-val_avg_n_loss:0.8843\n",
      " 40%|███▉      | 503/1269 [03:28<05:15,  2.43it/s]"
     ]
    }
   ],
   "source": [
    "with torch.cuda.device(1):\n",
    "    for i in range(start_epoch, epochs):\n",
    "        train_avg_loss = 0\n",
    "        val_avg_loss = 0\n",
    "        train_avg_o_loss = 0\n",
    "        train_avg_c_loss = 0\n",
    "        train_avg_e_loss = 0\n",
    "        train_avg_a_loss = 0\n",
    "        train_avg_n_loss = 0\n",
    "        val_avg_o_loss = 0\n",
    "        val_avg_c_loss = 0\n",
    "        val_avg_e_loss = 0\n",
    "        val_avg_a_loss = 0\n",
    "        val_avg_n_loss = 0\n",
    "        for fullshot,facedata,big_five_data in tqdm(train_dataloader):\n",
    "            big_five_data=big_five_data.permute(0,2,1)\n",
    "            big_five_data=big_five_data.squeeze()\n",
    "            facedata = facedata.to(device)\n",
    "            fullshot = fullshot.to(device)\n",
    "            big_five_data = big_five_data.to(device)\n",
    "            optimizer.zero_grad()  # 기울기가 0이 됩니다.\n",
    "            hypothesis = model(fullshot,facedata)  # 모델의 예측 결과를 저장합니다.\n",
    "            loss = criterion(hypothesis, big_five_data)  # 예측된 결과와 실제 태그 사이의 손실 값을 저장합니다.\n",
    "            loss.backward()  # 역방향 전파입니다. \n",
    "            optimizer.step()  \n",
    "            train_avg_loss += loss  \n",
    "        train_avg_loss=train_avg_loss/len(train_dataloader)\n",
    "        with torch.no_grad():#validate\n",
    "            for fullshot,facedata,big_five_data in tqdm(val_dataloader):\n",
    "                big_five_data=big_five_data.permute(0,2,1)\n",
    "                big_five_data=big_five_data.squeeze()\n",
    "                facedata = facedata.to(device)\n",
    "                fullshot = fullshot.to(device)\n",
    "                big_five_data = big_five_data.to(device)\n",
    "                hypothesis = model(fullshot,facedata)\n",
    "                val_loss = criterion(hypothesis, big_five_data)\n",
    "                hypothesiso,hypothesisc,hypothesise,hypothesisa,hypothesisn=extract_ocean(hypothesis,batchsz)\n",
    "                big_five_datao,big_five_datac,big_five_datae,big_five_dataa,big_five_datan=extract_ocean(big_five_data,batchsz)\n",
    "                val_o_loss = criterion(hypothesiso, big_five_datao) \n",
    "                val_c_loss = criterion(hypothesisc, big_five_datac) \n",
    "                val_e_loss = criterion(hypothesise, big_five_datae) \n",
    "                val_a_loss = criterion(hypothesisa, big_five_dataa) \n",
    "                val_n_loss = criterion(hypothesisn, big_five_datan)  \n",
    "                val_avg_loss += val_loss\n",
    "                val_avg_o_loss += val_o_loss\n",
    "                val_avg_c_loss += val_c_loss\n",
    "                val_avg_e_loss += val_e_loss\n",
    "                val_avg_a_loss += val_a_loss\n",
    "                val_avg_n_loss += val_n_loss\n",
    "            val_avg_loss=val_avg_loss/len(val_dataloader)\n",
    "            val_avg_o_loss=val_avg_o_loss/len(val_dataloader)\n",
    "            val_avg_c_loss=val_avg_c_loss/len(val_dataloader)\n",
    "            val_avg_e_loss=val_avg_e_loss/len(val_dataloader)\n",
    "            val_avg_a_loss=val_avg_a_loss/len(val_dataloader)\n",
    "            val_avg_n_loss=val_avg_n_loss/len(val_dataloader)\n",
    "        torch.cuda.empty_cache()\n",
    "        # if (1-val_avg_loss)>=(1-max_value):\n",
    "        max_value=val_avg_loss\n",
    "        start_epoch+=1\n",
    "        if (i + 1) % 5 == 0:\n",
    "            torch.save({\n",
    "                    'epoch': i+1,\n",
    "                    'model': model.state_dict(),\n",
    "                    'optimizer': optimizer.state_dict(),\n",
    "                    'loss': val_avg_loss,\n",
    "                }, save_model_file_path.format('model',start_epoch,'pth'))\n",
    "        logger.debug('Epoch: {} , 1-MAE: {:.4f} , 1-val_avg_o_loss:{:.4f} , 1-val_avg_c_loss:{:.4f} , 1-val_avg_e_loss:{:.4f} , 1-val_avg_a_loss:{:.4f} , 1-val_avg_n_loss:{:.4f}'.format(i+1, 1-val_avg_loss, 1-val_avg_o_loss, 1-val_avg_c_loss, 1-val_avg_e_loss, 1-val_avg_a_loss,1-val_avg_n_loss))\n",
    "    "
   ]
  },
  {
   "cell_type": "code",
   "execution_count": null,
   "metadata": {},
   "outputs": [],
   "source": [
    "# from torchinfo import summary\n",
    "\n",
    "# summary(model, input_size = (4,15,4,3,224,224))"
   ]
  },
  {
   "cell_type": "code",
   "execution_count": null,
   "metadata": {},
   "outputs": [],
   "source": []
  }
 ],
 "metadata": {
  "kernelspec": {
   "display_name": "Python 3",
   "language": "python",
   "name": "python3"
  },
  "language_info": {
   "codemirror_mode": {
    "name": "ipython",
    "version": 3
   },
   "file_extension": ".py",
   "mimetype": "text/x-python",
   "name": "python",
   "nbconvert_exporter": "python",
   "pygments_lexer": "ipython3",
   "version": "3.10.11"
  }
 },
 "nbformat": 4,
 "nbformat_minor": 4
}
