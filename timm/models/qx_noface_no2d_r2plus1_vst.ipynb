{
 "cells": [
  {
   "cell_type": "code",
   "execution_count": 1,
   "metadata": {},
   "outputs": [],
   "source": [
    "import librosa\n",
    "import librosa.display\n",
    "import numpy as np\n",
    "import pandas as pd\n",
    "import os\n",
    "from typing import List, Tuple, Dict\n",
    "import matplotlib.pyplot as plt\n",
    "import random\n",
    "import cv2\n",
    "# from vgg16 import VGG16_LSTM\n",
    "import pickle\n",
    "import torch.nn as nn\n",
    "import torch\n",
    "import datetime\n",
    "import torch.nn.functional as F\n",
    "import torchvision.models as models\n",
    "from torchvision import transforms, utils, models\n",
    "from torch.utils.data import Dataset, DataLoader\n",
    "from facenet_pytorch import MTCNN\n",
    "import logging\n",
    "import torch\n",
    "import torch.nn as nn\n",
    "from davit3D import DaViT\n",
    "import gc\n",
    "from einops import rearrange\n",
    "from tqdm import tqdm\n",
    "# from kw_r2plus1d_video_swin_transformer import SwinTransformer3D\n",
    "batchsz = 4\n",
    "frame_nums=15\n",
    "start_epoch = 0\n",
    "test_flage=False\n",
    "model_name =\"fullshot \"\n",
    "logger = logging.getLogger(__name__)\n",
    "logger.setLevel(logging.DEBUG)\n",
    "formatter = logging.Formatter('[%(asctime)s]::%(module)s::%(levelname)s::%(message)s')\n",
    "streamHandler = logging.StreamHandler()\n",
    "streamHandler.setFormatter(formatter)\n",
    "fileHandler = logging.FileHandler('./LOG/personalityLog.log')\n",
    "fileHandler.setFormatter(formatter)\n",
    "logger.addHandler(streamHandler)\n",
    "logger.addHandler(fileHandler)\n",
    "USE_CUDA = torch.cuda.is_available()\n",
    "# device = torch.device('cuda:1' if USE_CUDA else 'cpu')"
   ]
  },
  {
   "cell_type": "code",
   "execution_count": 2,
   "metadata": {},
   "outputs": [
    {
     "name": "stderr",
     "output_type": "stream",
     "text": [
      "[2024-04-09 13:57:01,305]::3435124833::DEBUG::=============fullshot +Video swin transformerTrain Strat!=============\n"
     ]
    },
    {
     "name": "stdout",
     "output_type": "stream",
     "text": [
      "True\n",
      "학습을 진행하는 기기: cuda:0\n"
     ]
    }
   ],
   "source": [
    "logger.debug('============={}+Video swin transformerTrain Strat!============='.format(model_name))\n",
    "USE_CUDA = torch.cuda.is_available()\n",
    "print(USE_CUDA)\n",
    "\n",
    "device = torch.device('cuda:0' if USE_CUDA else 'cpu')\n",
    "print('학습을 진행하는 기기:', device)"
   ]
  },
  {
   "cell_type": "code",
   "execution_count": 3,
   "metadata": {},
   "outputs": [
    {
     "name": "stdout",
     "output_type": "stream",
     "text": [
      "1\n"
     ]
    }
   ],
   "source": [
    "def select_frame_data(datas,frame_num):\n",
    "    data_set=[]\n",
    "    begin_num=0\n",
    "    x=128/frame_num\n",
    "    indexes=[None] * frame_num\n",
    "    for i in range(frame_num):\n",
    "        indexes[i]=int(begin_num)\n",
    "        begin_num+=x\n",
    "    for data in datas:\n",
    "        video_frames = [None] * 2\n",
    "        video_frames[0]=[]\n",
    "        video_frames[1]=[]\n",
    "        for index in indexes:\n",
    "            video_frames[0].append(data[0][index])\n",
    "        video_frames[1].append(data[1])\n",
    "        data_set.append(video_frames)\n",
    "        del video_frames\n",
    "        del data \n",
    "        gc.collect()\n",
    "    del datas\n",
    "    gc.collect()\n",
    "    return data_set\n",
    "print(1)"
   ]
  },
  {
   "cell_type": "code",
   "execution_count": 4,
   "metadata": {},
   "outputs": [
    {
     "name": "stdout",
     "output_type": "stream",
     "text": [
      "1\n"
     ]
    }
   ],
   "source": [
    "def getdata(pathname,datatype):\n",
    "    if datatype==\"train\":\n",
    "        final_data_set=[]\n",
    "        output_file=open(pathname, \"rb\")\n",
    "        for i in range(1):\n",
    "            # train_data_set.extend(pickle.load(output_file))\n",
    "            final_data_set.extend(pickle.load(output_file))\n",
    "            # print(i)\n",
    "        return final_data_set\n",
    "    elif datatype==\"valid\":\n",
    "        final_data_set=[]\n",
    "        output_file=open(pathname, \"rb\")\n",
    "        for i in range(1):\n",
    "            valid_data_set=[]\n",
    "            final_data_set.extend(pickle.load(output_file))\n",
    "            del valid_data_set\n",
    "        return final_data_set\n",
    "print(1)"
   ]
  },
  {
   "cell_type": "code",
   "execution_count": 5,
   "metadata": {},
   "outputs": [
    {
     "name": "stdout",
     "output_type": "stream",
     "text": [
      "1\n"
     ]
    }
   ],
   "source": [
    "def datasize(type,batchsz):\n",
    "    if type=='train':\n",
    "        i=5076#5967\n",
    "        while True:\n",
    "            if i%batchsz==0:\n",
    "                return i\n",
    "            else:\n",
    "                i-=1\n",
    "    else:\n",
    "        i=1701#1986\n",
    "        while True:\n",
    "            if i%batchsz==0:\n",
    "                return i\n",
    "            else:\n",
    "                i-=1\n",
    "print(1)"
   ]
  },
  {
   "cell_type": "code",
   "execution_count": 6,
   "metadata": {},
   "outputs": [
    {
     "name": "stdout",
     "output_type": "stream",
     "text": [
      "1\n"
     ]
    }
   ],
   "source": [
    "\n",
    "save_model_file_path = './save_swintransformer_folder/{}_{}.{}'\n",
    "print(1)"
   ]
  },
  {
   "cell_type": "code",
   "execution_count": 7,
   "metadata": {},
   "outputs": [
    {
     "name": "stdout",
     "output_type": "stream",
     "text": [
      "1\n"
     ]
    }
   ],
   "source": [
    "def reshape_to_expected_traininput(dataset: List[Tuple[ np.ndarray, np.ndarray]]) -> Tuple[\n",
    "     np.ndarray, np.ndarray]:\n",
    "    result=[]\n",
    "    for i in range(0, len(dataset[0])):\n",
    "        result.append((dataset[0][i],dataset[1][i]))\n",
    "    result = result[:datasize(\"train\",batchsz)]\n",
    "    x0_list = []\n",
    "    x1_list = []\n",
    "    for i in range(0, len(result)):\n",
    "        x0_list.append(result[i][0])\n",
    "        x1_list.append(result[i][1])\n",
    "    return (np.stack(x0_list), np.stack(x1_list))\n",
    "print(1)"
   ]
  },
  {
   "cell_type": "code",
   "execution_count": 8,
   "metadata": {},
   "outputs": [
    {
     "name": "stdout",
     "output_type": "stream",
     "text": [
      "1\n"
     ]
    }
   ],
   "source": [
    "def reshape_to_expected_validinput(dataset: List[Tuple[ np.ndarray, np.ndarray]]) -> Tuple[\n",
    "     np.ndarray, np.ndarray]:\n",
    "    result=[]\n",
    "    for i in range(0, len(dataset[0])):\n",
    "        result.append((dataset[0][i],dataset[1][i]))\n",
    "    result = result[:datasize(\"valid\",batchsz)]\n",
    "    x0_list = []\n",
    "    x1_list = []\n",
    "    for i in range(0, len(result)):\n",
    "        x0_list.append(result[i][0])\n",
    "        x1_list.append(result[i][1])\n",
    "    return (np.stack(x0_list), np.stack(x1_list))\n",
    "print(1)"
   ]
  },
  {
   "cell_type": "code",
   "execution_count": 9,
   "metadata": {},
   "outputs": [
    {
     "name": "stdout",
     "output_type": "stream",
     "text": [
      "1\n"
     ]
    }
   ],
   "source": [
    "def reshape_to_expected_input(dataset: List[Tuple[ np.ndarray, np.ndarray]]) -> Tuple[\n",
    "     np.ndarray, np.ndarray]:\n",
    "    x0_list = []\n",
    "    x1_list = []\n",
    "    for i in range(0, len(dataset)):\n",
    "        x0_list.append(dataset[i][0])\n",
    "        x1_list.append(dataset[i][1])\n",
    "    return (np.stack(x0_list), np.stack(x1_list))\n",
    "print(1)"
   ]
  },
  {
   "cell_type": "code",
   "execution_count": 10,
   "metadata": {},
   "outputs": [
    {
     "name": "stdout",
     "output_type": "stream",
     "text": [
      "1\n"
     ]
    }
   ],
   "source": [
    "validation_set_data=getdata(\"/home/ssrlab/qx/code/test/video-swin-transformer-pytorch/data/15Frames/Full_frames/valid_set.dat\",\"valid\")\n",
    "# validation_set_data=reshape_to_expected_validinput(validation_set_data)\n",
    "validation_set_data=validation_set_data[:datasize(\"valid\",batchsz)]\n",
    "validation_set_data = reshape_to_expected_input(validation_set_data)\n",
    "print(1)"
   ]
  },
  {
   "cell_type": "code",
   "execution_count": 11,
   "metadata": {},
   "outputs": [
    {
     "name": "stdout",
     "output_type": "stream",
     "text": [
      "1\n"
     ]
    }
   ],
   "source": [
    "train_set_data=getdata(\"/home/ssrlab/qx/code/test/video-swin-transformer-pytorch/data/15Frames/Full_frames/train_set.dat\",\"train\")\n",
    "# train_set_data=reshape_to_expected_traininput(train_set_data)\n",
    "train_set_data=train_set_data[:datasize(\"train\",batchsz)]\n",
    "train_set_data = reshape_to_expected_input(train_set_data)\n",
    "print(1)"
   ]
  },
  {
   "cell_type": "code",
   "execution_count": 12,
   "metadata": {},
   "outputs": [
    {
     "name": "stdout",
     "output_type": "stream",
     "text": [
      "1\n"
     ]
    }
   ],
   "source": [
    "def imagecrop(imagedata,batchsz):\n",
    "    # convert_tensor= transforms.ToTensor()\n",
    "    output=[]\n",
    "    for j in range(batchsz):#비디오 데이터 batchsz(9) 개 있다\n",
    "        firstoutput=[]\n",
    "        for i in range(len(imagedata[j])):#imagedata에 15개의 프레임이 있다\n",
    "            # temp = convert_tensor(imagedata[i])\n",
    "            #이미지를 나누\n",
    "            temp = imagedata[j][i].unfold(1,112,112).unfold(2,112,112)\n",
    "            temp = rearrange(temp, 'c h1 w1 h w -> (h1 w1) c h w')\n",
    "            firstoutput.append(temp)\n",
    "        firstoutput = torch.stack(firstoutput,0)\n",
    "        output.append(firstoutput)\n",
    "    output = torch.stack(output,0)\n",
    "    return output\n",
    "print(1)"
   ]
  },
  {
   "cell_type": "code",
   "execution_count": 13,
   "metadata": {},
   "outputs": [
    {
     "name": "stdout",
     "output_type": "stream",
     "text": [
      "1\n"
     ]
    }
   ],
   "source": [
    "transform = transforms.Compose([\n",
    "    transforms.ToPILImage(),\n",
    "    transforms.ToTensor(),\n",
    "])\n",
    "print(1)"
   ]
  },
  {
   "cell_type": "code",
   "execution_count": 14,
   "metadata": {},
   "outputs": [
    {
     "name": "stdout",
     "output_type": "stream",
     "text": [
      "1\n"
     ]
    }
   ],
   "source": [
    "class ChalearnDataset(Dataset):\n",
    "    def __init__(self,fullshot,tagdata,transform=None):\n",
    "        self.fullshot=fullshot\n",
    "        self.tagdata=tagdata\n",
    "        self.transform = transform  # 표준화 여부\n",
    "    def __len__(self):\n",
    "        return len(self.fullshot)\n",
    "\n",
    "    def __getitem__(self, idx):\n",
    "        if torch.is_tensor(idx):\n",
    "            idx = idx.tolist()#텐서의 경우 목록으로 돌아가기\n",
    "        # textdata = torch.FloatTensor(textdata)\n",
    "        fullshot=self.fullshot[idx]\n",
    "        fullshot=torch.FloatTensor(fullshot)\n",
    "        # image_data=image_data.reshape(15,3,224,224)\n",
    "        big_five_sorces=self.tagdata[idx]\n",
    "        big_five_sorces = torch.FloatTensor(big_five_sorces)\n",
    "        return fullshot,big_five_sorces\n",
    "print(1)"
   ]
  },
  {
   "cell_type": "code",
   "execution_count": 15,
   "metadata": {},
   "outputs": [
    {
     "name": "stdout",
     "output_type": "stream",
     "text": [
      "1\n"
     ]
    }
   ],
   "source": [
    "num_workerssz = 20\n",
    "lr = 3e-05\n",
    "epochs = 120\n",
    "print(1)"
   ]
  },
  {
   "cell_type": "markdown",
   "metadata": {},
   "source": []
  },
  {
   "cell_type": "code",
   "execution_count": 16,
   "metadata": {},
   "outputs": [
    {
     "name": "stdout",
     "output_type": "stream",
     "text": [
      "1\n"
     ]
    }
   ],
   "source": [
    "train_set_data = ChalearnDataset(fullshot = train_set_data[0],tagdata=train_set_data[1],transform=transform)\n",
    "val_set_data = ChalearnDataset(fullshot = validation_set_data[0], tagdata=validation_set_data[1],transform=transform)\n",
    "train_dataloader = DataLoader(dataset=train_set_data, batch_size=batchsz, shuffle=True, num_workers=num_workerssz)\n",
    "val_dataloader = DataLoader(dataset=val_set_data, batch_size=batchsz, shuffle=True, num_workers=num_workerssz)\n",
    "max_value=0\n",
    "print(1)"
   ]
  },
  {
   "cell_type": "code",
   "execution_count": 17,
   "metadata": {},
   "outputs": [
    {
     "name": "stderr",
     "output_type": "stream",
     "text": [
      "/home/ssrlab/anaconda3/envs/qx/lib/python3.10/site-packages/torch/functional.py:504: UserWarning: torch.meshgrid: in an upcoming release, it will be required to pass the indexing argument. (Triggered internally at ../aten/src/ATen/native/TensorShape.cpp:3483.)\n",
      "  return _VF.meshgrid(tensors, **kwargs)  # type: ignore[attr-defined]\n"
     ]
    },
    {
     "name": "stdout",
     "output_type": "stream",
     "text": [
      "1\n"
     ]
    }
   ],
   "source": [
    "model=DaViT()#num_frames=frame_nums,batchsz = batchsz\n",
    "model.to(device)\n",
    "criterion = torch.nn.L1Loss().to(device)  # 손실함수\n",
    "optimizer = torch.optim.AdamW(model.parameters(), lr=lr) # 옵티마이저\n",
    "\n",
    "if test_flage==True:\n",
    "    checkpoint=torch.load(save_model_file_path.format('model',start_epoch,'pth'), map_location=device)\n",
    "    model.load_state_dict(checkpoint[\"model\"])\n",
    "    optimizer.load_state_dict(checkpoint[\"optimizer\"])\n",
    "    # criterion.load_state_dict(checkpoint[\"loss\"])\n",
    "train_avg_loss0=[]\n",
    "val_avg_loss0=[]\n",
    "print(1)"
   ]
  },
  {
   "cell_type": "code",
   "execution_count": 18,
   "metadata": {},
   "outputs": [
    {
     "data": {
      "text/plain": [
       "=============================================================================================================================\n",
       "Layer (type:depth-idx)                             Input Shape               Output Shape              Param #\n",
       "=============================================================================================================================\n",
       "DaViT                                              [8, 15, 224, 224, 3]      [8, 5]                    31,505,325\n",
       "├─ModuleList: 1-7                                  --                        --                        (recursive)\n",
       "│    └─PatchEmbed3D: 2-1                           [8, 3, 15, 224, 224]      [8, 96, 4, 56, 56]        --\n",
       "│    │    └─Conv3d: 3-1                            [8, 3, 16, 224, 224]      [8, 96, 4, 56, 56]        18,528\n",
       "├─ModuleList: 1-8                                  --                        --                        (recursive)\n",
       "│    └─ModuleList: 2-2                             --                        --                        --\n",
       "│    │    └─MySequential: 3-2                      [8, 96, 4, 56, 56]        [8, 96, 4, 56, 56]        1,220,913\n",
       "│    │    └─MySequential: 3-3                      [8, 96, 4, 56, 56]        [8, 96, 4, 56, 56]        1,220,913\n",
       "├─ModuleList: 1-7                                  --                        --                        (recursive)\n",
       "│    └─PatchEmbed3D: 2-3                           [8, 96, 4, 56, 56]        [8, 192, 2, 28, 28]       --\n",
       "│    │    └─Conv3d: 3-4                            [8, 96, 4, 56, 56]        [8, 192, 2, 28, 28]       147,648\n",
       "├─ModuleList: 1-8                                  --                        --                        (recursive)\n",
       "│    └─ModuleList: 2-4                             --                        --                        --\n",
       "│    │    └─MySequential: 3-5                      [8, 192, 2, 28, 28]       [8, 192, 2, 28, 28]       4,874,850\n",
       "│    │    └─MySequential: 3-6                      [8, 192, 2, 28, 28]       [8, 192, 2, 28, 28]       4,874,850\n",
       "├─ModuleList: 1-7                                  --                        --                        (recursive)\n",
       "│    └─PatchEmbed3D: 2-5                           [8, 192, 2, 28, 28]       [8, 384, 1, 14, 14]       --\n",
       "│    │    └─Conv3d: 3-7                            [8, 192, 2, 28, 28]       [8, 384, 1, 14, 14]       590,208\n",
       "├─ModuleList: 1-8                                  --                        --                        (recursive)\n",
       "│    └─ModuleList: 2-6                             --                        --                        --\n",
       "│    │    └─MySequential: 3-8                      [8, 384, 1, 14, 14]       [8, 384, 1, 14, 14]       19,481,796\n",
       "│    │    └─MySequential: 3-9                      [8, 384, 1, 14, 14]       [8, 384, 1, 14, 14]       19,481,796\n",
       "│    │    └─MySequential: 3-10                     [8, 384, 1, 14, 14]       [8, 384, 1, 14, 14]       19,481,796\n",
       "│    │    └─MySequential: 3-11                     [8, 384, 1, 14, 14]       [8, 384, 1, 14, 14]       19,481,796\n",
       "│    │    └─MySequential: 3-12                     [8, 384, 1, 14, 14]       [8, 384, 1, 14, 14]       19,481,796\n",
       "│    │    └─MySequential: 3-13                     [8, 384, 1, 14, 14]       [8, 384, 1, 14, 14]       19,481,796\n",
       "├─ModuleList: 1-7                                  --                        --                        (recursive)\n",
       "│    └─PatchEmbed3D: 2-7                           [8, 384, 1, 14, 14]       [8, 768, 1, 7, 7]         --\n",
       "│    │    └─Conv3d: 3-14                           [8, 384, 2, 14, 14]       [8, 768, 1, 7, 7]         2,360,064\n",
       "├─ModuleList: 1-8                                  --                        --                        (recursive)\n",
       "│    └─ModuleList: 2-8                             --                        --                        --\n",
       "│    │    └─MySequential: 3-15                     [8, 768, 1, 7, 7]         [8, 768, 1, 7, 7]         77,891,976\n",
       "│    │    └─MySequential: 3-16                     [8, 768, 1, 7, 7]         [8, 768, 1, 7, 7]         77,891,976\n",
       "├─LayerNorm: 1-9                                   [8, 37632]                [8, 37632]                75,264\n",
       "├─Linear: 1-10                                     [8, 37632]                [8, 5]                    188,165\n",
       "=============================================================================================================================\n",
       "Total params: 319,751,456\n",
       "Trainable params: 319,751,456\n",
       "Non-trainable params: 0\n",
       "Total mult-adds (G): 505.63\n",
       "=============================================================================================================================\n",
       "Input size (MB): 72.25\n",
       "Forward/backward pass size (MB): 5992.22\n",
       "Params size (MB): 1152.70\n",
       "Estimated Total Size (MB): 7217.18\n",
       "============================================================================================================================="
      ]
     },
     "execution_count": 18,
     "metadata": {},
     "output_type": "execute_result"
    }
   ],
   "source": [
    "from torchinfo import summary\n",
    "\n",
    "summary(model, input_size = ((8,15,224,224,3)), col_names = ['input_size','output_size','num_params'])"
   ]
  },
  {
   "cell_type": "code",
   "execution_count": 19,
   "metadata": {},
   "outputs": [],
   "source": [
    "def extract_ocean(data,batch_size):\n",
    "    o=[]\n",
    "    c=[]\n",
    "    e=[]\n",
    "    a=[]\n",
    "    n=[]\n",
    "    for i in range(batch_size):\n",
    "        o.append(data[i][0].item())\n",
    "        c.append(data[i][1].item())\n",
    "        e.append(data[i][2].item())\n",
    "        a.append(data[i][3].item())\n",
    "        n.append(data[i][4].item())\n",
    "    o = torch.tensor(o) \n",
    "    c = torch.tensor(c) \n",
    "    e = torch.tensor(e) \n",
    "    a = torch.tensor(a) \n",
    "    n = torch.tensor(n) \n",
    "    return o,c,e,a,n"
   ]
  },
  {
   "cell_type": "code",
   "execution_count": 20,
   "metadata": {},
   "outputs": [
    {
     "name": "stderr",
     "output_type": "stream",
     "text": [
      "100%|██████████| 1269/1269 [02:33<00:00,  8.29it/s]\n",
      "100%|██████████| 425/425 [00:20<00:00, 20.96it/s]\n",
      "[2024-04-09 14:05:11,711]::3713155006::DEBUG::Epoch: 1 , 1-MAE: 0.7859 , 1-val_avg_o_loss:0.6513 , 1-val_avg_c_loss:0.8101 , 1-val_avg_e_loss:0.7640 , 1-val_avg_a_loss:0.8367 , 1-val_avg_n_loss:0.8673\n",
      "100%|██████████| 1269/1269 [02:32<00:00,  8.30it/s]\n",
      "100%|██████████| 425/425 [00:20<00:00, 20.92it/s]\n",
      "[2024-04-09 14:08:06,307]::3713155006::DEBUG::Epoch: 2 , 1-MAE: 0.8274 , 1-val_avg_o_loss:0.8711 , 1-val_avg_c_loss:0.8257 , 1-val_avg_e_loss:0.8911 , 1-val_avg_a_loss:0.7266 , 1-val_avg_n_loss:0.8227\n",
      "100%|██████████| 1269/1269 [02:32<00:00,  8.32it/s]\n",
      "100%|██████████| 425/425 [00:20<00:00, 20.99it/s]\n",
      "[2024-04-09 14:11:00,479]::3713155006::DEBUG::Epoch: 3 , 1-MAE: 0.8385 , 1-val_avg_o_loss:0.8798 , 1-val_avg_c_loss:0.8120 , 1-val_avg_e_loss:0.8938 , 1-val_avg_a_loss:0.7889 , 1-val_avg_n_loss:0.8178\n",
      "100%|██████████| 1269/1269 [02:32<00:00,  8.30it/s]\n",
      "100%|██████████| 425/425 [00:20<00:00, 20.62it/s]\n",
      "[2024-04-09 14:13:55,300]::3713155006::DEBUG::Epoch: 4 , 1-MAE: 0.8590 , 1-val_avg_o_loss:0.8376 , 1-val_avg_c_loss:0.8644 , 1-val_avg_e_loss:0.8951 , 1-val_avg_a_loss:0.8191 , 1-val_avg_n_loss:0.8789\n",
      "100%|██████████| 1269/1269 [02:33<00:00,  8.29it/s]\n",
      "100%|██████████| 425/425 [00:20<00:00, 20.60it/s]\n",
      "[2024-04-09 14:16:53,935]::3713155006::DEBUG::Epoch: 5 , 1-MAE: 0.8609 , 1-val_avg_o_loss:0.8631 , 1-val_avg_c_loss:0.8793 , 1-val_avg_e_loss:0.8866 , 1-val_avg_a_loss:0.8693 , 1-val_avg_n_loss:0.8062\n",
      "100%|██████████| 1269/1269 [02:33<00:00,  8.28it/s]\n",
      "100%|██████████| 425/425 [00:20<00:00, 20.78it/s]\n",
      "[2024-04-09 14:19:48,956]::3713155006::DEBUG::Epoch: 6 , 1-MAE: 0.8616 , 1-val_avg_o_loss:0.8745 , 1-val_avg_c_loss:0.8139 , 1-val_avg_e_loss:0.8961 , 1-val_avg_a_loss:0.8445 , 1-val_avg_n_loss:0.8792\n",
      "100%|██████████| 1269/1269 [02:32<00:00,  8.30it/s]\n",
      "100%|██████████| 425/425 [00:20<00:00, 20.71it/s]\n",
      "[2024-04-09 14:22:43,772]::3713155006::DEBUG::Epoch: 7 , 1-MAE: 0.8623 , 1-val_avg_o_loss:0.8795 , 1-val_avg_c_loss:0.8740 , 1-val_avg_e_loss:0.8258 , 1-val_avg_a_loss:0.8532 , 1-val_avg_n_loss:0.8788\n",
      "100%|██████████| 1269/1269 [02:33<00:00,  8.29it/s]\n",
      "100%|██████████| 425/425 [00:20<00:00, 20.92it/s]\n",
      "[2024-04-09 14:25:38,564]::3713155006::DEBUG::Epoch: 8 , 1-MAE: 0.8737 , 1-val_avg_o_loss:0.8739 , 1-val_avg_c_loss:0.8647 , 1-val_avg_e_loss:0.8993 , 1-val_avg_a_loss:0.8540 , 1-val_avg_n_loss:0.8764\n",
      " 41%|████      | 518/1269 [01:03<01:28,  8.46it/s]"
     ]
    }
   ],
   "source": [
    "with torch.cuda.device(0):\n",
    "    for i in range(start_epoch, epochs):\n",
    "        train_avg_loss = 0\n",
    "        val_avg_loss = 0\n",
    "        train_avg_o_loss = 0\n",
    "        train_avg_c_loss = 0\n",
    "        train_avg_e_loss = 0\n",
    "        train_avg_a_loss = 0\n",
    "        train_avg_n_loss = 0\n",
    "        val_avg_o_loss = 0\n",
    "        val_avg_c_loss = 0\n",
    "        val_avg_e_loss = 0\n",
    "        val_avg_a_loss = 0\n",
    "        val_avg_n_loss = 0\n",
    "        for fullshot,big_five_data in tqdm(train_dataloader):\n",
    "            big_five_data=big_five_data.permute(0,2,1)\n",
    "            big_five_data=big_five_data.squeeze()\n",
    "            fullshot = fullshot.to(device)\n",
    "            big_five_data = big_five_data.to(device)\n",
    "            optimizer.zero_grad()  # 기울기가 0이 됩니다.\n",
    "            hypothesis = model(fullshot)  # 모델의 예측 결과를 저장합니다.\n",
    "            loss = criterion(hypothesis, big_five_data)  # 예측된 결과와 실제 태그 사이의 손실 값을 저장합니다.\n",
    "            loss.backward()  # 역방향 전파입니다. \n",
    "            optimizer.step()  \n",
    "            train_avg_loss += loss  \n",
    "        train_avg_loss=train_avg_loss/len(train_dataloader)\n",
    "        with torch.no_grad():#validate\n",
    "            for fullshot,big_five_data in tqdm(val_dataloader):\n",
    "                big_five_data=big_five_data.permute(0,2,1)\n",
    "                big_five_data=big_five_data.squeeze()\n",
    "                fullshot = fullshot.to(device)\n",
    "                big_five_data = big_five_data.to(device)\n",
    "                hypothesis = model(fullshot)\n",
    "                val_loss = criterion(hypothesis, big_five_data)\n",
    "                hypothesiso,hypothesisc,hypothesise,hypothesisa,hypothesisn=extract_ocean(hypothesis,batchsz)\n",
    "                big_five_datao,big_five_datac,big_five_datae,big_five_dataa,big_five_datan=extract_ocean(big_five_data,batchsz)\n",
    "                val_o_loss = criterion(hypothesiso, big_five_datao) \n",
    "                val_c_loss = criterion(hypothesisc, big_five_datac) \n",
    "                val_e_loss = criterion(hypothesise, big_five_datae) \n",
    "                val_a_loss = criterion(hypothesisa, big_five_dataa) \n",
    "                val_n_loss = criterion(hypothesisn, big_five_datan)  \n",
    "                val_avg_loss += val_loss\n",
    "                val_avg_o_loss += val_o_loss\n",
    "                val_avg_c_loss += val_c_loss\n",
    "                val_avg_e_loss += val_e_loss\n",
    "                val_avg_a_loss += val_a_loss\n",
    "                val_avg_n_loss += val_n_loss\n",
    "            val_avg_loss=val_avg_loss/len(val_dataloader)\n",
    "            val_avg_o_loss=val_avg_o_loss/len(val_dataloader)\n",
    "            val_avg_c_loss=val_avg_c_loss/len(val_dataloader)\n",
    "            val_avg_e_loss=val_avg_e_loss/len(val_dataloader)\n",
    "            val_avg_a_loss=val_avg_a_loss/len(val_dataloader)\n",
    "            val_avg_n_loss=val_avg_n_loss/len(val_dataloader)\n",
    "        torch.cuda.empty_cache()\n",
    "        # if (1-val_avg_loss)>=(1-max_value):\n",
    "        max_value=val_avg_loss\n",
    "        start_epoch+=1\n",
    "        if (i + 1) % 5 == 0:\n",
    "            torch.save({\n",
    "                    'epoch': i+1,\n",
    "                    'model': model.state_dict(),\n",
    "                    'optimizer': optimizer.state_dict(),\n",
    "                    'loss': val_avg_loss,\n",
    "                }, save_model_file_path.format('model',start_epoch,'pth'))\n",
    "        logger.debug('Epoch: {} , 1-MAE: {:.4f} , 1-val_avg_o_loss:{:.4f} , 1-val_avg_c_loss:{:.4f} , 1-val_avg_e_loss:{:.4f} , 1-val_avg_a_loss:{:.4f} , 1-val_avg_n_loss:{:.4f}'.format(i+1, 1-val_avg_loss, 1-val_avg_o_loss, 1-val_avg_c_loss, 1-val_avg_e_loss, 1-val_avg_a_loss,1-val_avg_n_loss))\n",
    "    "
   ]
  }
 ],
 "metadata": {
  "kernelspec": {
   "display_name": "Python 3",
   "language": "python",
   "name": "python3"
  },
  "language_info": {
   "codemirror_mode": {
    "name": "ipython",
    "version": 3
   },
   "file_extension": ".py",
   "mimetype": "text/x-python",
   "name": "python",
   "nbconvert_exporter": "python",
   "pygments_lexer": "ipython3",
   "version": "3.10.11"
  }
 },
 "nbformat": 4,
 "nbformat_minor": 4
}
