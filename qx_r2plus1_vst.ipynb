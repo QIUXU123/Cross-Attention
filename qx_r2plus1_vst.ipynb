{
 "cells": [
  {
   "cell_type": "code",
   "execution_count": 1,
   "metadata": {},
   "outputs": [],
   "source": [
    "import librosa\n",
    "import librosa.display\n",
    "import numpy as np\n",
    "import pandas as pd\n",
    "import os\n",
    "from typing import List, Tuple, Dict\n",
    "import matplotlib.pyplot as plt\n",
    "import random\n",
    "import cv2\n",
    "# from vgg16 import VGG16_LSTM\n",
    "import pickle\n",
    "import torch.nn as nn\n",
    "import torch\n",
    "import datetime\n",
    "import torch.nn.functional as F\n",
    "import torchvision.models as models\n",
    "from torchvision import transforms, utils, models\n",
    "from torch.utils.data import Dataset, DataLoader\n",
    "from facenet_pytorch import MTCNN\n",
    "import logging\n",
    "import torch\n",
    "import torch.nn as nn\n",
    "from qx_noface_no2d_video_swin_transformer01 import SwinTransformer3D\n",
    "import gc\n",
    "from einops import rearrange\n",
    "from tqdm import tqdm\n",
    "# from kw_r2plus1d_video_swin_transformer import SwinTransformer3D\n",
    "batchsz = 16\n",
    "start_epoch = 0\n",
    "test_flage=False\n",
    "model_name =\"15Frame VAA Fusion in stage 3 dim=128 head4,8,16,32\"\n",
    "logger = logging.getLogger(__name__)\n",
    "logger.setLevel(logging.DEBUG)\n",
    "formatter = logging.Formatter('[%(asctime)s]::%(module)s::%(levelname)s::%(message)s')\n",
    "streamHandler = logging.StreamHandler()\n",
    "streamHandler.setFormatter(formatter)\n",
    "fileHandler = logging.FileHandler('./LOG/personalityLog.log')\n",
    "fileHandler.setFormatter(formatter)\n",
    "logger.addHandler(streamHandler)\n",
    "logger.addHandler(fileHandler)\n",
    "USE_CUDA = torch.cuda.is_available()\n",
    "# device = torch.device('cuda:1' if USE_CUDA else 'cpu')"
   ]
  },
  {
   "cell_type": "code",
   "execution_count": 2,
   "metadata": {},
   "outputs": [
    {
     "name": "stderr",
     "output_type": "stream",
     "text": [
      "[2024-01-16 10:45:21,168]::<ipython-input-2-8c4f50b4ea24>::DEBUG::=============15Frame VAA Fusion in stage 3 dim=128 head4,8,16,32+Video swin transformerTrain Strat!=============\n"
     ]
    },
    {
     "name": "stdout",
     "output_type": "stream",
     "text": [
      "True\n",
      "학습을 진행하는 기기: cuda:0\n"
     ]
    }
   ],
   "source": [
    "logger.debug('============={}+Video swin transformerTrain Strat!============='.format(model_name))\n",
    "USE_CUDA = torch.cuda.is_available()\n",
    "print(USE_CUDA)\n",
    "\n",
    "device = torch.device('cuda:0' if USE_CUDA else 'cpu')\n",
    "print('학습을 진행하는 기기:', device)"
   ]
  },
  {
   "cell_type": "code",
   "execution_count": 3,
   "metadata": {},
   "outputs": [
    {
     "name": "stdout",
     "output_type": "stream",
     "text": [
      "1\n"
     ]
    }
   ],
   "source": [
    "def select_frame_data(datas,frame_num):\n",
    "    data_set=[]\n",
    "    begin_num=0\n",
    "    x=128/frame_num\n",
    "    indexes=[None] * frame_num\n",
    "    for i in range(frame_num):\n",
    "        indexes[i]=int(begin_num)\n",
    "        begin_num+=x\n",
    "    for data in datas:\n",
    "        video_frames = [None] * 2\n",
    "        video_frames[0]=[]\n",
    "        video_frames[1]=[]\n",
    "        for index in indexes:\n",
    "            video_frames[0].append(data[0][index])\n",
    "        video_frames[1].append(data[1])\n",
    "        data_set.append(video_frames)\n",
    "        del video_frames\n",
    "        del data \n",
    "        gc.collect()\n",
    "    del datas\n",
    "    gc.collect()\n",
    "    return data_set\n",
    "print(1)"
   ]
  },
  {
   "cell_type": "code",
   "execution_count": 4,
   "metadata": {},
   "outputs": [
    {
     "name": "stdout",
     "output_type": "stream",
     "text": [
      "1\n"
     ]
    }
   ],
   "source": [
    "def getdata(pathname,datatype):\n",
    "    if datatype==\"train\":\n",
    "        final_data_set=[]\n",
    "        output_file=open(pathname, \"rb\")\n",
    "        for i in range(1):\n",
    "            # train_data_set.extend(pickle.load(output_file))\n",
    "            final_data_set.extend(pickle.load(output_file))\n",
    "            # print(i)\n",
    "        return final_data_set\n",
    "    elif datatype==\"valid\":\n",
    "        final_data_set=[]\n",
    "        output_file=open(pathname, \"rb\")\n",
    "        for i in range(1):\n",
    "            valid_data_set=[]\n",
    "            final_data_set.extend(pickle.load(output_file))\n",
    "            del valid_data_set\n",
    "        return final_data_set\n",
    "print(1)"
   ]
  },
  {
   "cell_type": "code",
   "execution_count": 5,
   "metadata": {},
   "outputs": [
    {
     "name": "stdout",
     "output_type": "stream",
     "text": [
      "1\n"
     ]
    }
   ],
   "source": [
    "def datasize(type,batchsz):\n",
    "    if type=='train':\n",
    "        i=5978#5967\n",
    "        while True:\n",
    "            if i%batchsz==0:\n",
    "                return i\n",
    "            else:\n",
    "                i-=1\n",
    "    else:\n",
    "        i=1992#1986\n",
    "        while True:\n",
    "            if i%batchsz==0:\n",
    "                return i\n",
    "            else:\n",
    "                i-=1\n",
    "print(1)"
   ]
  },
  {
   "cell_type": "code",
   "execution_count": 6,
   "metadata": {},
   "outputs": [
    {
     "name": "stdout",
     "output_type": "stream",
     "text": [
      "1\n"
     ]
    }
   ],
   "source": [
    "\n",
    "save_model_file_path = './save_swintransformer_folder/{}_{}.{}'\n",
    "mtcnn= MTCNN(image_size=224, margin=0, min_face_size= 20, thresholds=[0.6, 0.7, 0.7], post_process=True)\n",
    "# test_set_data=getdata(\"/home/ssrlab/qx/code/test/video-swin-transformer-pytorch/data/15Frames/test_set.dat\",\"test\")\n",
    "# test_set_data=test_set_data[:datasize(\"test\",batchsz)]\n",
    "print(1)"
   ]
  },
  {
   "cell_type": "code",
   "execution_count": 7,
   "metadata": {},
   "outputs": [
    {
     "name": "stdout",
     "output_type": "stream",
     "text": [
      "1\n"
     ]
    }
   ],
   "source": [
    "validation_set_data=getdata(\"/jf-training-home/datasets_rw/issrlab-dataset2/15Frames/FaceandAudio/FaceAndAudiovalid_set.dat\",\"valid\")\n",
    "validation_set_data=validation_set_data[:datasize(\"valid\",batchsz)]\n",
    "print(1)"
   ]
  },
  {
   "cell_type": "code",
   "execution_count": 8,
   "metadata": {},
   "outputs": [
    {
     "name": "stdout",
     "output_type": "stream",
     "text": [
      "1\n"
     ]
    }
   ],
   "source": [
    "train_set_data=getdata(\"/jf-training-home/datasets_rw/issrlab-dataset2/15Frames/FaceandAudio/FaceAndAudiotrain_set.dat\",\"train\")\n",
    "train_set_data=train_set_data[:datasize(\"train\",batchsz)]\n",
    "print(1)"
   ]
  },
  {
   "cell_type": "code",
   "execution_count": 9,
   "metadata": {},
   "outputs": [
    {
     "name": "stdout",
     "output_type": "stream",
     "text": [
      "1\n"
     ]
    }
   ],
   "source": [
    "def imagecrop(imagedata,batchsz):\n",
    "    # convert_tensor= transforms.ToTensor()\n",
    "    output=[]\n",
    "    for j in range(batchsz):#비디오 데이터 batchsz(9) 개 있다\n",
    "        firstoutput=[]\n",
    "        for i in range(len(imagedata[j])):#imagedata에 15개의 프레임이 있다\n",
    "            # temp = convert_tensor(imagedata[i])\n",
    "            #이미지를 나누\n",
    "            temp = imagedata[j][i].unfold(1,112,112).unfold(2,112,112)\n",
    "            temp = rearrange(temp, 'c h1 w1 h w -> (h1 w1) c h w')\n",
    "            firstoutput.append(temp)\n",
    "        firstoutput = torch.stack(firstoutput,0)\n",
    "        output.append(firstoutput)\n",
    "    output = torch.stack(output,0)\n",
    "    return output\n",
    "print(1)"
   ]
  },
  {
   "cell_type": "code",
   "execution_count": 10,
   "metadata": {},
   "outputs": [
    {
     "name": "stdout",
     "output_type": "stream",
     "text": [
      "1\n"
     ]
    }
   ],
   "source": [
    "def reshape_to_expected_input(dataset: List[Tuple[ np.ndarray, np.ndarray]]) -> Tuple[\n",
    "     np.ndarray, np.ndarray]:\n",
    "    x0_list = []\n",
    "    x1_list = []\n",
    "    x2_list = []\n",
    "    for i in range(0, len(dataset)):\n",
    "        x0_list.append(dataset[i][0])\n",
    "        x1_list.append(dataset[i][1])\n",
    "        x2_list.append(dataset[i][2])\n",
    "        print(len(x0_list))\n",
    "        print(len(x1_list))\n",
    "        print(len(x2_list))\n",
    "    return (np.stack(x0_list), np.stack(x1_list), np.stack(x2_list))\n",
    "print(1)"
   ]
  },
  {
   "cell_type": "code",
   "execution_count": 11,
   "metadata": {},
   "outputs": [
    {
     "name": "stdout",
     "output_type": "stream",
     "text": [
      "1\n"
     ]
    }
   ],
   "source": [
    "transform = transforms.Compose([\n",
    "    transforms.ToPILImage(),\n",
    "    transforms.ToTensor(),\n",
    "])\n",
    "print(1)"
   ]
  },
  {
   "cell_type": "code",
   "execution_count": 12,
   "metadata": {},
   "outputs": [
    {
     "name": "stdout",
     "output_type": "stream",
     "text": [
      "1\n"
     ]
    }
   ],
   "source": [
    "class ChalearnDataset(Dataset):\n",
    "    def __init__(self,audiodata,imagedata,tagdata,transform=None):\n",
    "        self.audiodata=audiodata\n",
    "        self.imagedata=imagedata\n",
    "        self.tagdata=tagdata\n",
    "        self.transform = transform  # 표준화 여부\n",
    "    def __len__(self):\n",
    "        return len(self.imagedata)\n",
    "\n",
    "    def __getitem__(self, idx):\n",
    "        if torch.is_tensor(idx):\n",
    "            idx = idx.tolist()#텐서의 경우 목록으로 돌아가기\n",
    "        audiodata = self.audiodata[idx]\n",
    "        audiodata = torch.FloatTensor(audiodata)\n",
    "        image_data=self.imagedata[idx]\n",
    "        imagedata1=torch.FloatTensor(image_data)\n",
    "        # image_data=image_data.reshape(15,3,224,224)\n",
    "        big_five_sorces=self.tagdata[idx]\n",
    "        big_five_sorces = torch.FloatTensor(big_five_sorces)\n",
    "        return audiodata,imagedata1,big_five_sorces\n",
    "print(1)"
   ]
  },
  {
   "cell_type": "code",
   "execution_count": 13,
   "metadata": {},
   "outputs": [
    {
     "name": "stdout",
     "output_type": "stream",
     "text": [
      "1\n"
     ]
    }
   ],
   "source": [
    "num_workerssz = 20\n",
    "lr = 3e-05\n",
    "epochs = 120\n",
    "#device = torch.device('cuda')\n",
    "# train_set_data = reshape_to_expected_input(train_set_data)\n",
    "# val_set_data = reshape_to_expected_input(validation_set_data)\n",
    "print(1)"
   ]
  },
  {
   "cell_type": "markdown",
   "metadata": {},
   "source": []
  },
  {
   "cell_type": "code",
   "execution_count": 14,
   "metadata": {},
   "outputs": [
    {
     "name": "stdout",
     "output_type": "stream",
     "text": [
      "1\n"
     ]
    }
   ],
   "source": [
    "train_set_data = ChalearnDataset(audiodata = train_set_data[0], imagedata=train_set_data[1],tagdata=train_set_data[2],transform=transform)\n",
    "val_set_data = ChalearnDataset(audiodata = validation_set_data[0], imagedata=validation_set_data[1],tagdata=validation_set_data[2],transform=transform)\n",
    "train_dataloader = DataLoader(dataset=train_set_data, batch_size=batchsz, shuffle=True, num_workers=num_workerssz)\n",
    "val_dataloader = DataLoader(dataset=val_set_data, batch_size=batchsz, shuffle=True, num_workers=num_workerssz)\n",
    "max_value=0\n",
    "print(1)"
   ]
  },
  {
   "cell_type": "code",
   "execution_count": 15,
   "metadata": {},
   "outputs": [
    {
     "name": "stdout",
     "output_type": "stream",
     "text": [
      "---------------AST Model Summary---------------\n",
      "ImageNet pretraining: True, AudioSet pretraining: True\n",
      "frequncey stride=10, time stride=10\n",
      "number of patches=131\n"
     ]
    },
    {
     "name": "stderr",
     "output_type": "stream",
     "text": [
      "/opt/conda/lib/python3.8/site-packages/torch/nn/functional.py:3559: UserWarning: Default upsampling behavior when mode=bilinear is changed to align_corners=False since 0.4.0. Please specify align_corners=True if the old behavior is desired. See the documentation of nn.Upsample for details.\n",
      "  warnings.warn(\n"
     ]
    },
    {
     "name": "stdout",
     "output_type": "stream",
     "text": [
      "1\n"
     ]
    }
   ],
   "source": [
    "model=SwinTransformer3D()#num_frames=frame_nums,batchsz = batchsz\n",
    "model.to(device)\n",
    "criterion = torch.nn.L1Loss().to(device)  # 손실함수\n",
    "optimizer = torch.optim.AdamW(model.parameters(), lr=lr) # 옵티마이저\n",
    "\n",
    "if test_flage==True:\n",
    "    checkpoint=torch.load(save_model_file_path.format('model',start_epoch,'pth'), map_location=device)\n",
    "    model.load_state_dict(checkpoint[\"model\"])\n",
    "    optimizer.load_state_dict(checkpoint[\"optimizer\"])\n",
    "    # criterion.load_state_dict(checkpoint[\"loss\"])\n",
    "train_avg_loss0=[]\n",
    "val_avg_loss0=[]\n",
    "print(1)"
   ]
  },
  {
   "cell_type": "code",
   "execution_count": 16,
   "metadata": {},
   "outputs": [],
   "source": [
    "# from torchinfo import summary\n",
    "\n",
    "# summary(model, input_size = (8,15,224,224,3), col_names = ['input_size','output_size','num_params'])"
   ]
  },
  {
   "cell_type": "code",
   "execution_count": 17,
   "metadata": {},
   "outputs": [
    {
     "name": "stderr",
     "output_type": "stream",
     "text": [
      "100%|██████████| 375/375 [04:33<00:00,  1.37it/s]\n",
      "100%|██████████| 125/125 [00:34<00:00,  3.62it/s]\n",
      "[2024-01-16 10:50:41,907]::<ipython-input-17-d6a636970e37>::DEBUG::Epoch: 1 , 1-MAE: 0.8736 , 1-train_avg_loss:0.8557 , 1-val_avg_loss:0.8736 , MAX Value:0.1264 , MAX Value Epoch:1\n",
      "100%|██████████| 375/375 [04:32<00:00,  1.38it/s]\n",
      "100%|██████████| 125/125 [00:34<00:00,  3.63it/s]\n",
      "[2024-01-16 10:55:49,164]::<ipython-input-17-d6a636970e37>::DEBUG::Epoch: 2 , 1-MAE: 0.8936 , 1-train_avg_loss:0.8797 , 1-val_avg_loss:0.8936 , MAX Value:0.1064 , MAX Value Epoch:2\n",
      "100%|██████████| 375/375 [04:31<00:00,  1.38it/s]\n",
      "100%|██████████| 125/125 [00:34<00:00,  3.62it/s]\n",
      "[2024-01-16 11:00:56,078]::<ipython-input-17-d6a636970e37>::DEBUG::Epoch: 3 , 1-MAE: 0.8833 , 1-train_avg_loss:0.8866 , 1-val_avg_loss:0.8833 , MAX Value:0.1167 , MAX Value Epoch:3\n",
      "100%|██████████| 375/375 [04:32<00:00,  1.38it/s]\n",
      "100%|██████████| 125/125 [00:34<00:00,  3.60it/s]\n",
      "[2024-01-16 11:06:03,750]::<ipython-input-17-d6a636970e37>::DEBUG::Epoch: 4 , 1-MAE: 0.8970 , 1-train_avg_loss:0.8956 , 1-val_avg_loss:0.8970 , MAX Value:0.1030 , MAX Value Epoch:4\n",
      "100%|██████████| 375/375 [04:32<00:00,  1.38it/s]\n",
      "100%|██████████| 125/125 [00:34<00:00,  3.62it/s]\n",
      "[2024-01-16 11:11:19,457]::<ipython-input-17-d6a636970e37>::DEBUG::Epoch: 5 , 1-MAE: 0.9019 , 1-train_avg_loss:0.9108 , 1-val_avg_loss:0.9019 , MAX Value:0.0981 , MAX Value Epoch:5\n",
      "100%|██████████| 375/375 [04:32<00:00,  1.38it/s]\n",
      "100%|██████████| 125/125 [00:34<00:00,  3.61it/s]\n",
      "[2024-01-16 11:16:26,768]::<ipython-input-17-d6a636970e37>::DEBUG::Epoch: 6 , 1-MAE: 0.9076 , 1-train_avg_loss:0.9230 , 1-val_avg_loss:0.9076 , MAX Value:0.0924 , MAX Value Epoch:6\n",
      "100%|██████████| 375/375 [04:32<00:00,  1.38it/s]\n",
      "100%|██████████| 125/125 [00:34<00:00,  3.60it/s]\n",
      "[2024-01-16 11:21:34,615]::<ipython-input-17-d6a636970e37>::DEBUG::Epoch: 7 , 1-MAE: 0.9044 , 1-train_avg_loss:0.9321 , 1-val_avg_loss:0.9044 , MAX Value:0.0956 , MAX Value Epoch:7\n",
      "100%|██████████| 375/375 [04:31<00:00,  1.38it/s]\n",
      "100%|██████████| 125/125 [00:34<00:00,  3.60it/s]\n",
      "[2024-01-16 11:26:41,626]::<ipython-input-17-d6a636970e37>::DEBUG::Epoch: 8 , 1-MAE: 0.9053 , 1-train_avg_loss:0.9395 , 1-val_avg_loss:0.9053 , MAX Value:0.0947 , MAX Value Epoch:8\n",
      "100%|██████████| 375/375 [04:32<00:00,  1.38it/s]\n",
      "100%|██████████| 125/125 [00:34<00:00,  3.61it/s]\n",
      "[2024-01-16 11:31:49,053]::<ipython-input-17-d6a636970e37>::DEBUG::Epoch: 9 , 1-MAE: 0.9047 , 1-train_avg_loss:0.9432 , 1-val_avg_loss:0.9047 , MAX Value:0.0953 , MAX Value Epoch:9\n",
      "100%|██████████| 375/375 [04:32<00:00,  1.38it/s]\n",
      "100%|██████████| 125/125 [00:34<00:00,  3.61it/s]\n",
      "[2024-01-16 11:37:04,864]::<ipython-input-17-d6a636970e37>::DEBUG::Epoch: 10 , 1-MAE: 0.9071 , 1-train_avg_loss:0.9484 , 1-val_avg_loss:0.9071 , MAX Value:0.0929 , MAX Value Epoch:10\n",
      "100%|██████████| 375/375 [04:32<00:00,  1.38it/s]\n",
      "100%|██████████| 125/125 [00:34<00:00,  3.62it/s]\n",
      "[2024-01-16 11:42:11,815]::<ipython-input-17-d6a636970e37>::DEBUG::Epoch: 11 , 1-MAE: 0.9060 , 1-train_avg_loss:0.9518 , 1-val_avg_loss:0.9060 , MAX Value:0.0940 , MAX Value Epoch:11\n",
      "100%|██████████| 375/375 [04:32<00:00,  1.38it/s]\n",
      "100%|██████████| 125/125 [00:34<00:00,  3.61it/s]\n",
      "[2024-01-16 11:47:18,936]::<ipython-input-17-d6a636970e37>::DEBUG::Epoch: 12 , 1-MAE: 0.9090 , 1-train_avg_loss:0.9552 , 1-val_avg_loss:0.9090 , MAX Value:0.0910 , MAX Value Epoch:12\n",
      "100%|██████████| 375/375 [04:32<00:00,  1.38it/s]\n",
      "100%|██████████| 125/125 [00:34<00:00,  3.61it/s]\n",
      "[2024-01-16 11:52:26,290]::<ipython-input-17-d6a636970e37>::DEBUG::Epoch: 13 , 1-MAE: 0.9094 , 1-train_avg_loss:0.9578 , 1-val_avg_loss:0.9094 , MAX Value:0.0906 , MAX Value Epoch:13\n",
      "100%|██████████| 375/375 [04:32<00:00,  1.38it/s]\n",
      "100%|██████████| 125/125 [00:34<00:00,  3.61it/s]\n",
      "[2024-01-16 11:57:33,587]::<ipython-input-17-d6a636970e37>::DEBUG::Epoch: 14 , 1-MAE: 0.9055 , 1-train_avg_loss:0.9610 , 1-val_avg_loss:0.9055 , MAX Value:0.0945 , MAX Value Epoch:14\n",
      "100%|██████████| 375/375 [04:32<00:00,  1.38it/s]\n",
      "100%|██████████| 125/125 [00:34<00:00,  3.61it/s]\n",
      "[2024-01-16 12:02:49,080]::<ipython-input-17-d6a636970e37>::DEBUG::Epoch: 15 , 1-MAE: 0.9085 , 1-train_avg_loss:0.9629 , 1-val_avg_loss:0.9085 , MAX Value:0.0915 , MAX Value Epoch:15\n",
      "100%|██████████| 375/375 [04:32<00:00,  1.37it/s]\n",
      "100%|██████████| 125/125 [00:34<00:00,  3.62it/s]\n",
      "[2024-01-16 12:07:56,880]::<ipython-input-17-d6a636970e37>::DEBUG::Epoch: 16 , 1-MAE: 0.9088 , 1-train_avg_loss:0.9646 , 1-val_avg_loss:0.9088 , MAX Value:0.0912 , MAX Value Epoch:16\n",
      "100%|██████████| 375/375 [04:32<00:00,  1.38it/s]\n",
      "100%|██████████| 125/125 [00:34<00:00,  3.61it/s]\n",
      "[2024-01-16 12:13:04,229]::<ipython-input-17-d6a636970e37>::DEBUG::Epoch: 17 , 1-MAE: 0.9079 , 1-train_avg_loss:0.9648 , 1-val_avg_loss:0.9079 , MAX Value:0.0921 , MAX Value Epoch:17\n",
      "100%|██████████| 375/375 [04:32<00:00,  1.38it/s]\n",
      "100%|██████████| 125/125 [00:34<00:00,  3.61it/s]\n",
      "[2024-01-16 12:18:11,635]::<ipython-input-17-d6a636970e37>::DEBUG::Epoch: 18 , 1-MAE: 0.9088 , 1-train_avg_loss:0.9678 , 1-val_avg_loss:0.9088 , MAX Value:0.0912 , MAX Value Epoch:18\n",
      "100%|██████████| 375/375 [04:32<00:00,  1.38it/s]\n",
      "100%|██████████| 125/125 [00:34<00:00,  3.60it/s]\n",
      "[2024-01-16 12:23:19,132]::<ipython-input-17-d6a636970e37>::DEBUG::Epoch: 19 , 1-MAE: 0.9102 , 1-train_avg_loss:0.9690 , 1-val_avg_loss:0.9102 , MAX Value:0.0898 , MAX Value Epoch:19\n",
      "100%|██████████| 375/375 [04:32<00:00,  1.38it/s]\n",
      "100%|██████████| 125/125 [00:34<00:00,  3.60it/s]\n",
      "[2024-01-16 12:28:36,115]::<ipython-input-17-d6a636970e37>::DEBUG::Epoch: 20 , 1-MAE: 0.9101 , 1-train_avg_loss:0.9700 , 1-val_avg_loss:0.9101 , MAX Value:0.0899 , MAX Value Epoch:20\n",
      "100%|██████████| 375/375 [04:32<00:00,  1.38it/s]\n",
      "100%|██████████| 125/125 [00:34<00:00,  3.59it/s]\n",
      "[2024-01-16 12:33:43,545]::<ipython-input-17-d6a636970e37>::DEBUG::Epoch: 21 , 1-MAE: 0.9104 , 1-train_avg_loss:0.9718 , 1-val_avg_loss:0.9104 , MAX Value:0.0896 , MAX Value Epoch:21\n",
      "100%|██████████| 375/375 [04:32<00:00,  1.38it/s]\n",
      "100%|██████████| 125/125 [00:34<00:00,  3.61it/s]\n",
      "[2024-01-16 12:38:51,228]::<ipython-input-17-d6a636970e37>::DEBUG::Epoch: 22 , 1-MAE: 0.9113 , 1-train_avg_loss:0.9719 , 1-val_avg_loss:0.9113 , MAX Value:0.0887 , MAX Value Epoch:22\n",
      "100%|██████████| 375/375 [04:32<00:00,  1.38it/s]\n",
      "100%|██████████| 125/125 [00:34<00:00,  3.60it/s]\n",
      "[2024-01-16 12:43:58,767]::<ipython-input-17-d6a636970e37>::DEBUG::Epoch: 23 , 1-MAE: 0.9099 , 1-train_avg_loss:0.9722 , 1-val_avg_loss:0.9099 , MAX Value:0.0901 , MAX Value Epoch:23\n",
      "100%|██████████| 375/375 [04:32<00:00,  1.38it/s]\n",
      "100%|██████████| 125/125 [00:34<00:00,  3.61it/s]\n",
      "[2024-01-16 12:49:06,437]::<ipython-input-17-d6a636970e37>::DEBUG::Epoch: 24 , 1-MAE: 0.9122 , 1-train_avg_loss:0.9729 , 1-val_avg_loss:0.9122 , MAX Value:0.0878 , MAX Value Epoch:24\n",
      "100%|██████████| 375/375 [04:32<00:00,  1.38it/s]\n",
      "100%|██████████| 125/125 [00:34<00:00,  3.60it/s]\n",
      "[2024-01-16 12:54:22,533]::<ipython-input-17-d6a636970e37>::DEBUG::Epoch: 25 , 1-MAE: 0.9115 , 1-train_avg_loss:0.9739 , 1-val_avg_loss:0.9115 , MAX Value:0.0885 , MAX Value Epoch:25\n",
      "100%|██████████| 375/375 [04:32<00:00,  1.38it/s]\n",
      "100%|██████████| 125/125 [00:34<00:00,  3.61it/s]\n",
      "[2024-01-16 12:59:29,778]::<ipython-input-17-d6a636970e37>::DEBUG::Epoch: 26 , 1-MAE: 0.9112 , 1-train_avg_loss:0.9739 , 1-val_avg_loss:0.9112 , MAX Value:0.0888 , MAX Value Epoch:26\n",
      "100%|██████████| 375/375 [04:32<00:00,  1.38it/s]\n",
      "100%|██████████| 125/125 [00:34<00:00,  3.58it/s]\n",
      "[2024-01-16 13:04:37,540]::<ipython-input-17-d6a636970e37>::DEBUG::Epoch: 27 , 1-MAE: 0.9104 , 1-train_avg_loss:0.9740 , 1-val_avg_loss:0.9104 , MAX Value:0.0896 , MAX Value Epoch:27\n",
      "100%|██████████| 375/375 [04:32<00:00,  1.38it/s]\n",
      "100%|██████████| 125/125 [00:34<00:00,  3.61it/s]\n",
      "[2024-01-16 13:09:45,258]::<ipython-input-17-d6a636970e37>::DEBUG::Epoch: 28 , 1-MAE: 0.9117 , 1-train_avg_loss:0.9746 , 1-val_avg_loss:0.9117 , MAX Value:0.0883 , MAX Value Epoch:28\n",
      "100%|██████████| 375/375 [04:32<00:00,  1.38it/s]\n",
      "100%|██████████| 125/125 [00:34<00:00,  3.61it/s]\n",
      "[2024-01-16 13:14:53,142]::<ipython-input-17-d6a636970e37>::DEBUG::Epoch: 29 , 1-MAE: 0.9105 , 1-train_avg_loss:0.9756 , 1-val_avg_loss:0.9105 , MAX Value:0.0895 , MAX Value Epoch:29\n",
      "100%|██████████| 375/375 [04:32<00:00,  1.38it/s]\n",
      "100%|██████████| 125/125 [00:34<00:00,  3.61it/s]\n",
      "[2024-01-16 13:20:10,333]::<ipython-input-17-d6a636970e37>::DEBUG::Epoch: 30 , 1-MAE: 0.9107 , 1-train_avg_loss:0.9764 , 1-val_avg_loss:0.9107 , MAX Value:0.0893 , MAX Value Epoch:30\n",
      "100%|██████████| 375/375 [04:32<00:00,  1.38it/s]\n",
      "100%|██████████| 125/125 [00:34<00:00,  3.60it/s]\n",
      "[2024-01-16 13:25:17,747]::<ipython-input-17-d6a636970e37>::DEBUG::Epoch: 31 , 1-MAE: 0.9091 , 1-train_avg_loss:0.9756 , 1-val_avg_loss:0.9091 , MAX Value:0.0909 , MAX Value Epoch:31\n",
      "100%|██████████| 375/375 [04:32<00:00,  1.37it/s]\n",
      "100%|██████████| 125/125 [00:34<00:00,  3.61it/s]\n",
      "[2024-01-16 13:30:25,641]::<ipython-input-17-d6a636970e37>::DEBUG::Epoch: 32 , 1-MAE: 0.9100 , 1-train_avg_loss:0.9764 , 1-val_avg_loss:0.9100 , MAX Value:0.0900 , MAX Value Epoch:32\n",
      "100%|██████████| 375/375 [04:32<00:00,  1.38it/s]\n",
      "100%|██████████| 125/125 [00:34<00:00,  3.59it/s]\n",
      "[2024-01-16 13:35:33,301]::<ipython-input-17-d6a636970e37>::DEBUG::Epoch: 33 , 1-MAE: 0.9117 , 1-train_avg_loss:0.9773 , 1-val_avg_loss:0.9117 , MAX Value:0.0883 , MAX Value Epoch:33\n",
      "100%|██████████| 375/375 [04:32<00:00,  1.38it/s]\n",
      "100%|██████████| 125/125 [00:34<00:00,  3.59it/s]\n",
      "[2024-01-16 13:40:41,100]::<ipython-input-17-d6a636970e37>::DEBUG::Epoch: 34 , 1-MAE: 0.9110 , 1-train_avg_loss:0.9775 , 1-val_avg_loss:0.9110 , MAX Value:0.0890 , MAX Value Epoch:34\n",
      "100%|██████████| 375/375 [04:32<00:00,  1.38it/s]\n",
      "100%|██████████| 125/125 [00:34<00:00,  3.62it/s]\n",
      "[2024-01-16 13:45:57,079]::<ipython-input-17-d6a636970e37>::DEBUG::Epoch: 35 , 1-MAE: 0.9115 , 1-train_avg_loss:0.9766 , 1-val_avg_loss:0.9115 , MAX Value:0.0885 , MAX Value Epoch:35\n",
      "100%|██████████| 375/375 [04:32<00:00,  1.38it/s]\n",
      "100%|██████████| 125/125 [00:34<00:00,  3.59it/s]\n",
      "[2024-01-16 13:51:04,558]::<ipython-input-17-d6a636970e37>::DEBUG::Epoch: 36 , 1-MAE: 0.9109 , 1-train_avg_loss:0.9774 , 1-val_avg_loss:0.9109 , MAX Value:0.0891 , MAX Value Epoch:36\n",
      "100%|██████████| 375/375 [04:32<00:00,  1.38it/s]\n",
      "100%|██████████| 125/125 [00:34<00:00,  3.61it/s]\n",
      "[2024-01-16 13:56:12,228]::<ipython-input-17-d6a636970e37>::DEBUG::Epoch: 37 , 1-MAE: 0.9122 , 1-train_avg_loss:0.9786 , 1-val_avg_loss:0.9122 , MAX Value:0.0878 , MAX Value Epoch:37\n",
      "100%|██████████| 375/375 [04:32<00:00,  1.37it/s]\n",
      "100%|██████████| 125/125 [00:34<00:00,  3.60it/s]\n",
      "[2024-01-16 14:01:20,184]::<ipython-input-17-d6a636970e37>::DEBUG::Epoch: 38 , 1-MAE: 0.9119 , 1-train_avg_loss:0.9781 , 1-val_avg_loss:0.9119 , MAX Value:0.0881 , MAX Value Epoch:38\n",
      "100%|██████████| 375/375 [04:32<00:00,  1.38it/s]\n",
      "100%|██████████| 125/125 [00:34<00:00,  3.61it/s]\n",
      "[2024-01-16 14:06:27,731]::<ipython-input-17-d6a636970e37>::DEBUG::Epoch: 39 , 1-MAE: 0.9093 , 1-train_avg_loss:0.9784 , 1-val_avg_loss:0.9093 , MAX Value:0.0907 , MAX Value Epoch:39\n",
      "100%|██████████| 375/375 [04:32<00:00,  1.38it/s]\n",
      "100%|██████████| 125/125 [00:34<00:00,  3.61it/s]\n",
      "[2024-01-16 14:11:43,595]::<ipython-input-17-d6a636970e37>::DEBUG::Epoch: 40 , 1-MAE: 0.9119 , 1-train_avg_loss:0.9789 , 1-val_avg_loss:0.9119 , MAX Value:0.0881 , MAX Value Epoch:40\n",
      "100%|██████████| 375/375 [04:32<00:00,  1.38it/s]\n",
      "100%|██████████| 125/125 [00:34<00:00,  3.60it/s]\n",
      "[2024-01-16 14:16:51,302]::<ipython-input-17-d6a636970e37>::DEBUG::Epoch: 41 , 1-MAE: 0.9119 , 1-train_avg_loss:0.9790 , 1-val_avg_loss:0.9119 , MAX Value:0.0881 , MAX Value Epoch:41\n",
      "100%|██████████| 375/375 [04:32<00:00,  1.37it/s]\n",
      "100%|██████████| 125/125 [00:34<00:00,  3.61it/s]\n",
      "[2024-01-16 14:21:59,090]::<ipython-input-17-d6a636970e37>::DEBUG::Epoch: 42 , 1-MAE: 0.9117 , 1-train_avg_loss:0.9791 , 1-val_avg_loss:0.9117 , MAX Value:0.0883 , MAX Value Epoch:42\n",
      "100%|██████████| 375/375 [04:32<00:00,  1.38it/s]\n",
      "100%|██████████| 125/125 [00:34<00:00,  3.59it/s]\n",
      "[2024-01-16 14:27:06,767]::<ipython-input-17-d6a636970e37>::DEBUG::Epoch: 43 , 1-MAE: 0.9109 , 1-train_avg_loss:0.9797 , 1-val_avg_loss:0.9109 , MAX Value:0.0891 , MAX Value Epoch:43\n",
      "100%|██████████| 375/375 [04:32<00:00,  1.38it/s]\n",
      "100%|██████████| 125/125 [00:34<00:00,  3.60it/s]\n",
      "[2024-01-16 14:32:14,269]::<ipython-input-17-d6a636970e37>::DEBUG::Epoch: 44 , 1-MAE: 0.9105 , 1-train_avg_loss:0.9796 , 1-val_avg_loss:0.9105 , MAX Value:0.0895 , MAX Value Epoch:44\n",
      "100%|██████████| 375/375 [04:32<00:00,  1.38it/s]\n",
      "100%|██████████| 125/125 [00:34<00:00,  3.61it/s]\n",
      "[2024-01-16 14:37:29,491]::<ipython-input-17-d6a636970e37>::DEBUG::Epoch: 45 , 1-MAE: 0.9118 , 1-train_avg_loss:0.9801 , 1-val_avg_loss:0.9118 , MAX Value:0.0882 , MAX Value Epoch:45\n",
      "100%|██████████| 375/375 [04:32<00:00,  1.38it/s]\n",
      "100%|██████████| 125/125 [00:34<00:00,  3.62it/s]\n",
      "[2024-01-16 14:42:36,706]::<ipython-input-17-d6a636970e37>::DEBUG::Epoch: 46 , 1-MAE: 0.9116 , 1-train_avg_loss:0.9803 , 1-val_avg_loss:0.9116 , MAX Value:0.0884 , MAX Value Epoch:46\n",
      "100%|██████████| 375/375 [04:32<00:00,  1.38it/s]\n",
      "100%|██████████| 125/125 [00:34<00:00,  3.60it/s]\n",
      "[2024-01-16 14:47:44,355]::<ipython-input-17-d6a636970e37>::DEBUG::Epoch: 47 , 1-MAE: 0.9106 , 1-train_avg_loss:0.9803 , 1-val_avg_loss:0.9106 , MAX Value:0.0894 , MAX Value Epoch:47\n",
      "100%|██████████| 375/375 [04:32<00:00,  1.38it/s]\n",
      "100%|██████████| 125/125 [00:34<00:00,  3.61it/s]\n",
      "[2024-01-16 14:52:51,901]::<ipython-input-17-d6a636970e37>::DEBUG::Epoch: 48 , 1-MAE: 0.9117 , 1-train_avg_loss:0.9801 , 1-val_avg_loss:0.9117 , MAX Value:0.0883 , MAX Value Epoch:48\n",
      "100%|██████████| 375/375 [04:32<00:00,  1.38it/s]\n",
      "100%|██████████| 125/125 [00:34<00:00,  3.60it/s]\n",
      "[2024-01-16 14:57:59,418]::<ipython-input-17-d6a636970e37>::DEBUG::Epoch: 49 , 1-MAE: 0.9119 , 1-train_avg_loss:0.9808 , 1-val_avg_loss:0.9119 , MAX Value:0.0881 , MAX Value Epoch:49\n",
      "100%|██████████| 375/375 [04:32<00:00,  1.38it/s]\n",
      "100%|██████████| 125/125 [00:34<00:00,  3.60it/s]\n",
      "[2024-01-16 15:03:15,790]::<ipython-input-17-d6a636970e37>::DEBUG::Epoch: 50 , 1-MAE: 0.9106 , 1-train_avg_loss:0.9813 , 1-val_avg_loss:0.9106 , MAX Value:0.0894 , MAX Value Epoch:50\n",
      "100%|██████████| 375/375 [04:32<00:00,  1.38it/s]\n",
      "100%|██████████| 125/125 [00:34<00:00,  3.61it/s]\n",
      "[2024-01-16 15:08:23,195]::<ipython-input-17-d6a636970e37>::DEBUG::Epoch: 51 , 1-MAE: 0.9117 , 1-train_avg_loss:0.9816 , 1-val_avg_loss:0.9117 , MAX Value:0.0883 , MAX Value Epoch:51\n",
      "100%|██████████| 375/375 [04:32<00:00,  1.38it/s]\n",
      "100%|██████████| 125/125 [00:34<00:00,  3.60it/s]\n",
      "[2024-01-16 15:13:30,996]::<ipython-input-17-d6a636970e37>::DEBUG::Epoch: 52 , 1-MAE: 0.9113 , 1-train_avg_loss:0.9812 , 1-val_avg_loss:0.9113 , MAX Value:0.0887 , MAX Value Epoch:52\n",
      "100%|██████████| 375/375 [04:32<00:00,  1.38it/s]\n",
      "100%|██████████| 125/125 [00:34<00:00,  3.60it/s]\n",
      "[2024-01-16 15:18:38,626]::<ipython-input-17-d6a636970e37>::DEBUG::Epoch: 53 , 1-MAE: 0.9118 , 1-train_avg_loss:0.9820 , 1-val_avg_loss:0.9118 , MAX Value:0.0882 , MAX Value Epoch:53\n",
      "100%|██████████| 375/375 [04:32<00:00,  1.38it/s]\n",
      "100%|██████████| 125/125 [00:34<00:00,  3.60it/s]\n",
      "[2024-01-16 15:23:46,242]::<ipython-input-17-d6a636970e37>::DEBUG::Epoch: 54 , 1-MAE: 0.9106 , 1-train_avg_loss:0.9819 , 1-val_avg_loss:0.9106 , MAX Value:0.0894 , MAX Value Epoch:54\n",
      "100%|██████████| 375/375 [04:32<00:00,  1.38it/s]\n",
      "100%|██████████| 125/125 [00:34<00:00,  3.61it/s]\n",
      "[2024-01-16 15:29:02,589]::<ipython-input-17-d6a636970e37>::DEBUG::Epoch: 55 , 1-MAE: 0.9115 , 1-train_avg_loss:0.9818 , 1-val_avg_loss:0.9115 , MAX Value:0.0885 , MAX Value Epoch:55\n",
      "100%|██████████| 375/375 [04:32<00:00,  1.38it/s]\n",
      "100%|██████████| 125/125 [00:34<00:00,  3.62it/s]\n",
      "[2024-01-16 15:34:09,632]::<ipython-input-17-d6a636970e37>::DEBUG::Epoch: 56 , 1-MAE: 0.9108 , 1-train_avg_loss:0.9818 , 1-val_avg_loss:0.9108 , MAX Value:0.0892 , MAX Value Epoch:56\n",
      "100%|██████████| 375/375 [04:32<00:00,  1.38it/s]\n",
      "100%|██████████| 125/125 [00:34<00:00,  3.60it/s]\n",
      "[2024-01-16 15:39:17,183]::<ipython-input-17-d6a636970e37>::DEBUG::Epoch: 57 , 1-MAE: 0.9116 , 1-train_avg_loss:0.9828 , 1-val_avg_loss:0.9116 , MAX Value:0.0884 , MAX Value Epoch:57\n",
      "100%|██████████| 375/375 [04:32<00:00,  1.38it/s]\n",
      "100%|██████████| 125/125 [00:34<00:00,  3.62it/s]\n",
      "[2024-01-16 15:44:24,333]::<ipython-input-17-d6a636970e37>::DEBUG::Epoch: 58 , 1-MAE: 0.9118 , 1-train_avg_loss:0.9823 , 1-val_avg_loss:0.9118 , MAX Value:0.0882 , MAX Value Epoch:58\n",
      "100%|██████████| 375/375 [04:32<00:00,  1.38it/s]\n",
      "100%|██████████| 125/125 [00:34<00:00,  3.58it/s]\n",
      "[2024-01-16 15:49:31,950]::<ipython-input-17-d6a636970e37>::DEBUG::Epoch: 59 , 1-MAE: 0.9120 , 1-train_avg_loss:0.9824 , 1-val_avg_loss:0.9120 , MAX Value:0.0880 , MAX Value Epoch:59\n",
      "100%|██████████| 375/375 [04:32<00:00,  1.38it/s]\n",
      "100%|██████████| 125/125 [00:34<00:00,  3.60it/s]\n",
      "[2024-01-16 15:54:47,978]::<ipython-input-17-d6a636970e37>::DEBUG::Epoch: 60 , 1-MAE: 0.9107 , 1-train_avg_loss:0.9831 , 1-val_avg_loss:0.9107 , MAX Value:0.0893 , MAX Value Epoch:60\n",
      "100%|██████████| 375/375 [04:32<00:00,  1.38it/s]\n",
      "100%|██████████| 125/125 [00:34<00:00,  3.62it/s]\n",
      "[2024-01-16 15:59:55,334]::<ipython-input-17-d6a636970e37>::DEBUG::Epoch: 61 , 1-MAE: 0.9106 , 1-train_avg_loss:0.9834 , 1-val_avg_loss:0.9106 , MAX Value:0.0894 , MAX Value Epoch:61\n",
      "100%|██████████| 375/375 [04:32<00:00,  1.37it/s]\n",
      "100%|██████████| 125/125 [00:34<00:00,  3.60it/s]\n",
      "[2024-01-16 16:05:03,350]::<ipython-input-17-d6a636970e37>::DEBUG::Epoch: 62 , 1-MAE: 0.9112 , 1-train_avg_loss:0.9835 , 1-val_avg_loss:0.9112 , MAX Value:0.0888 , MAX Value Epoch:62\n",
      "100%|██████████| 375/375 [04:32<00:00,  1.38it/s]\n",
      "100%|██████████| 125/125 [00:34<00:00,  3.61it/s]\n",
      "[2024-01-16 16:10:10,962]::<ipython-input-17-d6a636970e37>::DEBUG::Epoch: 63 , 1-MAE: 0.9111 , 1-train_avg_loss:0.9831 , 1-val_avg_loss:0.9111 , MAX Value:0.0889 , MAX Value Epoch:63\n",
      "100%|██████████| 375/375 [04:32<00:00,  1.37it/s]\n",
      "100%|██████████| 125/125 [00:34<00:00,  3.59it/s]\n",
      "[2024-01-16 16:15:18,927]::<ipython-input-17-d6a636970e37>::DEBUG::Epoch: 64 , 1-MAE: 0.9114 , 1-train_avg_loss:0.9831 , 1-val_avg_loss:0.9114 , MAX Value:0.0886 , MAX Value Epoch:64\n",
      "100%|██████████| 375/375 [04:32<00:00,  1.37it/s]\n",
      "100%|██████████| 125/125 [00:34<00:00,  3.60it/s]\n",
      "[2024-01-16 16:20:35,706]::<ipython-input-17-d6a636970e37>::DEBUG::Epoch: 65 , 1-MAE: 0.9120 , 1-train_avg_loss:0.9836 , 1-val_avg_loss:0.9120 , MAX Value:0.0880 , MAX Value Epoch:65\n",
      "100%|██████████| 375/375 [04:32<00:00,  1.38it/s]\n",
      "100%|██████████| 125/125 [00:34<00:00,  3.60it/s]\n",
      "[2024-01-16 16:25:43,513]::<ipython-input-17-d6a636970e37>::DEBUG::Epoch: 66 , 1-MAE: 0.9112 , 1-train_avg_loss:0.9836 , 1-val_avg_loss:0.9112 , MAX Value:0.0888 , MAX Value Epoch:66\n",
      "100%|██████████| 375/375 [04:32<00:00,  1.38it/s]\n",
      "100%|██████████| 125/125 [00:34<00:00,  3.62it/s]\n",
      "[2024-01-16 16:30:51,174]::<ipython-input-17-d6a636970e37>::DEBUG::Epoch: 67 , 1-MAE: 0.9114 , 1-train_avg_loss:0.9838 , 1-val_avg_loss:0.9114 , MAX Value:0.0886 , MAX Value Epoch:67\n",
      "100%|██████████| 375/375 [04:32<00:00,  1.37it/s]\n",
      "100%|██████████| 125/125 [00:34<00:00,  3.60it/s]\n",
      "[2024-01-16 16:35:59,016]::<ipython-input-17-d6a636970e37>::DEBUG::Epoch: 68 , 1-MAE: 0.9112 , 1-train_avg_loss:0.9840 , 1-val_avg_loss:0.9112 , MAX Value:0.0888 , MAX Value Epoch:68\n",
      "100%|██████████| 375/375 [04:32<00:00,  1.38it/s]\n",
      "100%|██████████| 125/125 [00:34<00:00,  3.61it/s]\n",
      "[2024-01-16 16:41:06,456]::<ipython-input-17-d6a636970e37>::DEBUG::Epoch: 69 , 1-MAE: 0.9114 , 1-train_avg_loss:0.9839 , 1-val_avg_loss:0.9114 , MAX Value:0.0886 , MAX Value Epoch:69\n",
      "100%|██████████| 375/375 [04:32<00:00,  1.38it/s]\n",
      "100%|██████████| 125/125 [00:34<00:00,  3.60it/s]\n",
      "[2024-01-16 16:46:22,447]::<ipython-input-17-d6a636970e37>::DEBUG::Epoch: 70 , 1-MAE: 0.9117 , 1-train_avg_loss:0.9837 , 1-val_avg_loss:0.9117 , MAX Value:0.0883 , MAX Value Epoch:70\n",
      "100%|██████████| 375/375 [04:32<00:00,  1.38it/s]\n",
      "100%|██████████| 125/125 [00:34<00:00,  3.61it/s]\n",
      "[2024-01-16 16:51:29,706]::<ipython-input-17-d6a636970e37>::DEBUG::Epoch: 71 , 1-MAE: 0.9111 , 1-train_avg_loss:0.9838 , 1-val_avg_loss:0.9111 , MAX Value:0.0889 , MAX Value Epoch:71\n",
      "100%|██████████| 375/375 [04:31<00:00,  1.38it/s]\n",
      "100%|██████████| 125/125 [00:34<00:00,  3.61it/s]\n",
      "[2024-01-16 16:56:36,675]::<ipython-input-17-d6a636970e37>::DEBUG::Epoch: 72 , 1-MAE: 0.9114 , 1-train_avg_loss:0.9837 , 1-val_avg_loss:0.9114 , MAX Value:0.0886 , MAX Value Epoch:72\n",
      "100%|██████████| 375/375 [04:32<00:00,  1.38it/s]\n",
      "100%|██████████| 125/125 [00:34<00:00,  3.60it/s]\n",
      "[2024-01-16 17:01:44,444]::<ipython-input-17-d6a636970e37>::DEBUG::Epoch: 73 , 1-MAE: 0.9113 , 1-train_avg_loss:0.9839 , 1-val_avg_loss:0.9113 , MAX Value:0.0887 , MAX Value Epoch:73\n",
      "100%|██████████| 375/375 [04:32<00:00,  1.38it/s]\n",
      "100%|██████████| 125/125 [00:34<00:00,  3.60it/s]\n",
      "[2024-01-16 17:06:52,168]::<ipython-input-17-d6a636970e37>::DEBUG::Epoch: 74 , 1-MAE: 0.9115 , 1-train_avg_loss:0.9847 , 1-val_avg_loss:0.9115 , MAX Value:0.0885 , MAX Value Epoch:74\n",
      "100%|██████████| 375/375 [04:32<00:00,  1.38it/s]\n",
      "100%|██████████| 125/125 [00:34<00:00,  3.60it/s]\n",
      "[2024-01-16 17:12:08,323]::<ipython-input-17-d6a636970e37>::DEBUG::Epoch: 75 , 1-MAE: 0.9118 , 1-train_avg_loss:0.9844 , 1-val_avg_loss:0.9118 , MAX Value:0.0882 , MAX Value Epoch:75\n",
      "100%|██████████| 375/375 [04:32<00:00,  1.38it/s]\n",
      "100%|██████████| 125/125 [00:34<00:00,  3.62it/s]\n",
      "[2024-01-16 17:17:15,852]::<ipython-input-17-d6a636970e37>::DEBUG::Epoch: 76 , 1-MAE: 0.9113 , 1-train_avg_loss:0.9846 , 1-val_avg_loss:0.9113 , MAX Value:0.0887 , MAX Value Epoch:76\n",
      "100%|██████████| 375/375 [04:32<00:00,  1.38it/s]\n",
      "100%|██████████| 125/125 [00:34<00:00,  3.61it/s]\n",
      "[2024-01-16 17:22:23,399]::<ipython-input-17-d6a636970e37>::DEBUG::Epoch: 77 , 1-MAE: 0.9114 , 1-train_avg_loss:0.9848 , 1-val_avg_loss:0.9114 , MAX Value:0.0886 , MAX Value Epoch:77\n",
      "100%|██████████| 375/375 [04:32<00:00,  1.38it/s]\n",
      "100%|██████████| 125/125 [00:34<00:00,  3.62it/s]\n",
      "[2024-01-16 17:27:30,964]::<ipython-input-17-d6a636970e37>::DEBUG::Epoch: 78 , 1-MAE: 0.9111 , 1-train_avg_loss:0.9849 , 1-val_avg_loss:0.9111 , MAX Value:0.0889 , MAX Value Epoch:78\n",
      "100%|██████████| 375/375 [04:32<00:00,  1.38it/s]\n",
      "100%|██████████| 125/125 [00:34<00:00,  3.60it/s]\n",
      "[2024-01-16 17:32:38,421]::<ipython-input-17-d6a636970e37>::DEBUG::Epoch: 79 , 1-MAE: 0.9119 , 1-train_avg_loss:0.9851 , 1-val_avg_loss:0.9119 , MAX Value:0.0881 , MAX Value Epoch:79\n",
      "100%|██████████| 375/375 [04:32<00:00,  1.38it/s]\n",
      "100%|██████████| 125/125 [00:34<00:00,  3.60it/s]\n",
      "[2024-01-16 17:37:54,338]::<ipython-input-17-d6a636970e37>::DEBUG::Epoch: 80 , 1-MAE: 0.9115 , 1-train_avg_loss:0.9853 , 1-val_avg_loss:0.9115 , MAX Value:0.0885 , MAX Value Epoch:80\n",
      "100%|██████████| 375/375 [04:32<00:00,  1.38it/s]\n",
      "100%|██████████| 125/125 [00:34<00:00,  3.60it/s]\n",
      "[2024-01-16 17:43:01,642]::<ipython-input-17-d6a636970e37>::DEBUG::Epoch: 81 , 1-MAE: 0.9116 , 1-train_avg_loss:0.9855 , 1-val_avg_loss:0.9116 , MAX Value:0.0884 , MAX Value Epoch:81\n",
      "100%|██████████| 375/375 [04:32<00:00,  1.37it/s]\n",
      "100%|██████████| 125/125 [00:34<00:00,  3.61it/s]\n",
      "[2024-01-16 17:48:09,579]::<ipython-input-17-d6a636970e37>::DEBUG::Epoch: 82 , 1-MAE: 0.9112 , 1-train_avg_loss:0.9850 , 1-val_avg_loss:0.9112 , MAX Value:0.0888 , MAX Value Epoch:82\n",
      "100%|██████████| 375/375 [04:32<00:00,  1.38it/s]\n",
      "100%|██████████| 125/125 [00:34<00:00,  3.60it/s]\n",
      "[2024-01-16 17:53:17,056]::<ipython-input-17-d6a636970e37>::DEBUG::Epoch: 83 , 1-MAE: 0.9119 , 1-train_avg_loss:0.9854 , 1-val_avg_loss:0.9119 , MAX Value:0.0881 , MAX Value Epoch:83\n",
      "100%|██████████| 375/375 [04:32<00:00,  1.38it/s]\n",
      "100%|██████████| 125/125 [00:34<00:00,  3.61it/s]\n",
      "[2024-01-16 17:58:24,594]::<ipython-input-17-d6a636970e37>::DEBUG::Epoch: 84 , 1-MAE: 0.9117 , 1-train_avg_loss:0.9853 , 1-val_avg_loss:0.9117 , MAX Value:0.0883 , MAX Value Epoch:84\n",
      "100%|██████████| 375/375 [04:32<00:00,  1.38it/s]\n",
      "100%|██████████| 125/125 [00:34<00:00,  3.60it/s]\n",
      "[2024-01-16 18:03:41,177]::<ipython-input-17-d6a636970e37>::DEBUG::Epoch: 85 , 1-MAE: 0.9107 , 1-train_avg_loss:0.9852 , 1-val_avg_loss:0.9107 , MAX Value:0.0893 , MAX Value Epoch:85\n",
      "100%|██████████| 375/375 [04:32<00:00,  1.37it/s]\n",
      "100%|██████████| 125/125 [00:34<00:00,  3.61it/s]\n",
      "[2024-01-16 18:08:49,029]::<ipython-input-17-d6a636970e37>::DEBUG::Epoch: 86 , 1-MAE: 0.9113 , 1-train_avg_loss:0.9858 , 1-val_avg_loss:0.9113 , MAX Value:0.0887 , MAX Value Epoch:86\n",
      "100%|██████████| 375/375 [04:32<00:00,  1.37it/s]\n",
      "100%|██████████| 125/125 [00:34<00:00,  3.61it/s]\n",
      "[2024-01-16 18:13:56,973]::<ipython-input-17-d6a636970e37>::DEBUG::Epoch: 87 , 1-MAE: 0.9116 , 1-train_avg_loss:0.9856 , 1-val_avg_loss:0.9116 , MAX Value:0.0884 , MAX Value Epoch:87\n",
      "100%|██████████| 375/375 [04:32<00:00,  1.37it/s]\n",
      "100%|██████████| 125/125 [00:34<00:00,  3.60it/s]\n",
      "[2024-01-16 18:19:05,151]::<ipython-input-17-d6a636970e37>::DEBUG::Epoch: 88 , 1-MAE: 0.9113 , 1-train_avg_loss:0.9854 , 1-val_avg_loss:0.9113 , MAX Value:0.0887 , MAX Value Epoch:88\n",
      "100%|██████████| 375/375 [04:32<00:00,  1.38it/s]\n",
      "100%|██████████| 125/125 [00:34<00:00,  3.61it/s]\n",
      "[2024-01-16 18:24:12,632]::<ipython-input-17-d6a636970e37>::DEBUG::Epoch: 89 , 1-MAE: 0.9111 , 1-train_avg_loss:0.9855 , 1-val_avg_loss:0.9111 , MAX Value:0.0889 , MAX Value Epoch:89\n",
      "100%|██████████| 375/375 [04:32<00:00,  1.38it/s]\n",
      "100%|██████████| 125/125 [00:34<00:00,  3.61it/s]\n",
      "[2024-01-16 18:29:28,571]::<ipython-input-17-d6a636970e37>::DEBUG::Epoch: 90 , 1-MAE: 0.9118 , 1-train_avg_loss:0.9861 , 1-val_avg_loss:0.9118 , MAX Value:0.0882 , MAX Value Epoch:90\n",
      "100%|██████████| 375/375 [04:32<00:00,  1.38it/s]\n",
      "100%|██████████| 125/125 [00:34<00:00,  3.59it/s]\n",
      "[2024-01-16 18:34:36,172]::<ipython-input-17-d6a636970e37>::DEBUG::Epoch: 91 , 1-MAE: 0.9111 , 1-train_avg_loss:0.9863 , 1-val_avg_loss:0.9111 , MAX Value:0.0889 , MAX Value Epoch:91\n",
      "100%|██████████| 375/375 [04:32<00:00,  1.38it/s]\n",
      "100%|██████████| 125/125 [00:34<00:00,  3.61it/s]\n",
      "[2024-01-16 18:39:43,385]::<ipython-input-17-d6a636970e37>::DEBUG::Epoch: 92 , 1-MAE: 0.9116 , 1-train_avg_loss:0.9860 , 1-val_avg_loss:0.9116 , MAX Value:0.0884 , MAX Value Epoch:92\n",
      "100%|██████████| 375/375 [04:32<00:00,  1.38it/s]\n",
      "100%|██████████| 125/125 [00:34<00:00,  3.61it/s]\n",
      "[2024-01-16 18:44:51,066]::<ipython-input-17-d6a636970e37>::DEBUG::Epoch: 93 , 1-MAE: 0.9114 , 1-train_avg_loss:0.9858 , 1-val_avg_loss:0.9114 , MAX Value:0.0886 , MAX Value Epoch:93\n",
      "100%|██████████| 375/375 [04:32<00:00,  1.38it/s]\n",
      "100%|██████████| 125/125 [00:34<00:00,  3.61it/s]\n",
      "[2024-01-16 18:49:58,672]::<ipython-input-17-d6a636970e37>::DEBUG::Epoch: 94 , 1-MAE: 0.9112 , 1-train_avg_loss:0.9861 , 1-val_avg_loss:0.9112 , MAX Value:0.0888 , MAX Value Epoch:94\n",
      "100%|██████████| 375/375 [04:32<00:00,  1.38it/s]\n",
      "100%|██████████| 125/125 [00:34<00:00,  3.62it/s]\n",
      "[2024-01-16 18:55:15,181]::<ipython-input-17-d6a636970e37>::DEBUG::Epoch: 95 , 1-MAE: 0.9116 , 1-train_avg_loss:0.9861 , 1-val_avg_loss:0.9116 , MAX Value:0.0884 , MAX Value Epoch:95\n",
      "100%|██████████| 375/375 [04:32<00:00,  1.38it/s]\n",
      "100%|██████████| 125/125 [00:34<00:00,  3.60it/s]\n",
      "[2024-01-16 19:00:22,558]::<ipython-input-17-d6a636970e37>::DEBUG::Epoch: 96 , 1-MAE: 0.9111 , 1-train_avg_loss:0.9863 , 1-val_avg_loss:0.9111 , MAX Value:0.0889 , MAX Value Epoch:96\n",
      "100%|██████████| 375/375 [04:32<00:00,  1.38it/s]\n",
      "100%|██████████| 125/125 [00:34<00:00,  3.60it/s]\n",
      "[2024-01-16 19:05:30,414]::<ipython-input-17-d6a636970e37>::DEBUG::Epoch: 97 , 1-MAE: 0.9115 , 1-train_avg_loss:0.9861 , 1-val_avg_loss:0.9115 , MAX Value:0.0885 , MAX Value Epoch:97\n",
      "100%|██████████| 375/375 [04:32<00:00,  1.38it/s]\n",
      "100%|██████████| 125/125 [00:34<00:00,  3.60it/s]\n",
      "[2024-01-16 19:10:38,082]::<ipython-input-17-d6a636970e37>::DEBUG::Epoch: 98 , 1-MAE: 0.9109 , 1-train_avg_loss:0.9863 , 1-val_avg_loss:0.9109 , MAX Value:0.0891 , MAX Value Epoch:98\n",
      "100%|██████████| 375/375 [04:32<00:00,  1.38it/s]\n",
      "100%|██████████| 125/125 [00:34<00:00,  3.61it/s]\n",
      "[2024-01-16 19:15:45,692]::<ipython-input-17-d6a636970e37>::DEBUG::Epoch: 99 , 1-MAE: 0.9113 , 1-train_avg_loss:0.9867 , 1-val_avg_loss:0.9113 , MAX Value:0.0887 , MAX Value Epoch:99\n",
      "100%|██████████| 375/375 [04:32<00:00,  1.38it/s]\n",
      "100%|██████████| 125/125 [00:34<00:00,  3.61it/s]\n",
      "[2024-01-16 19:21:01,282]::<ipython-input-17-d6a636970e37>::DEBUG::Epoch: 100 , 1-MAE: 0.9115 , 1-train_avg_loss:0.9864 , 1-val_avg_loss:0.9115 , MAX Value:0.0885 , MAX Value Epoch:100\n",
      "100%|██████████| 375/375 [04:32<00:00,  1.38it/s]\n",
      "100%|██████████| 125/125 [00:34<00:00,  3.62it/s]\n",
      "[2024-01-16 19:26:08,748]::<ipython-input-17-d6a636970e37>::DEBUG::Epoch: 101 , 1-MAE: 0.9116 , 1-train_avg_loss:0.9867 , 1-val_avg_loss:0.9116 , MAX Value:0.0884 , MAX Value Epoch:101\n",
      "100%|██████████| 375/375 [04:32<00:00,  1.38it/s]\n",
      "100%|██████████| 125/125 [00:34<00:00,  3.60it/s]\n",
      "[2024-01-16 19:31:16,137]::<ipython-input-17-d6a636970e37>::DEBUG::Epoch: 102 , 1-MAE: 0.9117 , 1-train_avg_loss:0.9866 , 1-val_avg_loss:0.9117 , MAX Value:0.0883 , MAX Value Epoch:102\n",
      "100%|██████████| 375/375 [04:32<00:00,  1.37it/s]\n",
      "100%|██████████| 125/125 [00:34<00:00,  3.61it/s]\n",
      "[2024-01-16 19:36:24,077]::<ipython-input-17-d6a636970e37>::DEBUG::Epoch: 103 , 1-MAE: 0.9115 , 1-train_avg_loss:0.9868 , 1-val_avg_loss:0.9115 , MAX Value:0.0885 , MAX Value Epoch:103\n",
      "100%|██████████| 375/375 [04:32<00:00,  1.38it/s]\n",
      "100%|██████████| 125/125 [00:34<00:00,  3.61it/s]\n",
      "[2024-01-16 19:41:31,793]::<ipython-input-17-d6a636970e37>::DEBUG::Epoch: 104 , 1-MAE: 0.9110 , 1-train_avg_loss:0.9867 , 1-val_avg_loss:0.9110 , MAX Value:0.0890 , MAX Value Epoch:104\n",
      "100%|██████████| 375/375 [04:32<00:00,  1.37it/s]\n",
      "100%|██████████| 125/125 [00:34<00:00,  3.61it/s]\n",
      "[2024-01-16 19:46:47,547]::<ipython-input-17-d6a636970e37>::DEBUG::Epoch: 105 , 1-MAE: 0.9112 , 1-train_avg_loss:0.9871 , 1-val_avg_loss:0.9112 , MAX Value:0.0888 , MAX Value Epoch:105\n",
      "100%|██████████| 375/375 [04:32<00:00,  1.38it/s]\n",
      "100%|██████████| 125/125 [00:34<00:00,  3.61it/s]\n",
      "[2024-01-16 19:51:54,998]::<ipython-input-17-d6a636970e37>::DEBUG::Epoch: 106 , 1-MAE: 0.9112 , 1-train_avg_loss:0.9869 , 1-val_avg_loss:0.9112 , MAX Value:0.0888 , MAX Value Epoch:106\n",
      "100%|██████████| 375/375 [04:32<00:00,  1.38it/s]\n",
      "100%|██████████| 125/125 [00:34<00:00,  3.60it/s]\n",
      "[2024-01-16 19:57:02,775]::<ipython-input-17-d6a636970e37>::DEBUG::Epoch: 107 , 1-MAE: 0.9113 , 1-train_avg_loss:0.9869 , 1-val_avg_loss:0.9113 , MAX Value:0.0887 , MAX Value Epoch:107\n",
      "100%|██████████| 375/375 [04:32<00:00,  1.38it/s]\n",
      "100%|██████████| 125/125 [00:34<00:00,  3.60it/s]\n",
      "[2024-01-16 20:02:10,202]::<ipython-input-17-d6a636970e37>::DEBUG::Epoch: 108 , 1-MAE: 0.9116 , 1-train_avg_loss:0.9870 , 1-val_avg_loss:0.9116 , MAX Value:0.0884 , MAX Value Epoch:108\n",
      "100%|██████████| 375/375 [04:32<00:00,  1.38it/s]\n",
      "100%|██████████| 125/125 [00:34<00:00,  3.59it/s]\n",
      "[2024-01-16 20:07:17,563]::<ipython-input-17-d6a636970e37>::DEBUG::Epoch: 109 , 1-MAE: 0.9115 , 1-train_avg_loss:0.9870 , 1-val_avg_loss:0.9115 , MAX Value:0.0885 , MAX Value Epoch:109\n",
      "100%|██████████| 375/375 [04:31<00:00,  1.38it/s]\n",
      "100%|██████████| 125/125 [00:34<00:00,  3.61it/s]\n",
      "[2024-01-16 20:12:32,864]::<ipython-input-17-d6a636970e37>::DEBUG::Epoch: 110 , 1-MAE: 0.9115 , 1-train_avg_loss:0.9874 , 1-val_avg_loss:0.9115 , MAX Value:0.0885 , MAX Value Epoch:110\n",
      "100%|██████████| 375/375 [04:32<00:00,  1.38it/s]\n",
      "100%|██████████| 125/125 [00:34<00:00,  3.60it/s]\n",
      "[2024-01-16 20:17:40,881]::<ipython-input-17-d6a636970e37>::DEBUG::Epoch: 111 , 1-MAE: 0.9112 , 1-train_avg_loss:0.9874 , 1-val_avg_loss:0.9112 , MAX Value:0.0888 , MAX Value Epoch:111\n",
      "100%|██████████| 375/375 [04:32<00:00,  1.37it/s]\n",
      "100%|██████████| 125/125 [00:34<00:00,  3.59it/s]\n",
      "[2024-01-16 20:22:49,005]::<ipython-input-17-d6a636970e37>::DEBUG::Epoch: 112 , 1-MAE: 0.9109 , 1-train_avg_loss:0.9871 , 1-val_avg_loss:0.9109 , MAX Value:0.0891 , MAX Value Epoch:112\n",
      "100%|██████████| 375/375 [04:32<00:00,  1.38it/s]\n",
      "100%|██████████| 125/125 [00:34<00:00,  3.61it/s]\n",
      "[2024-01-16 20:27:56,534]::<ipython-input-17-d6a636970e37>::DEBUG::Epoch: 113 , 1-MAE: 0.9109 , 1-train_avg_loss:0.9872 , 1-val_avg_loss:0.9109 , MAX Value:0.0891 , MAX Value Epoch:113\n",
      "100%|██████████| 375/375 [04:32<00:00,  1.37it/s]\n",
      "100%|██████████| 125/125 [00:34<00:00,  3.61it/s]\n",
      "[2024-01-16 20:33:04,736]::<ipython-input-17-d6a636970e37>::DEBUG::Epoch: 114 , 1-MAE: 0.9108 , 1-train_avg_loss:0.9870 , 1-val_avg_loss:0.9108 , MAX Value:0.0892 , MAX Value Epoch:114\n",
      "100%|██████████| 375/375 [04:32<00:00,  1.38it/s]\n",
      "100%|██████████| 125/125 [00:34<00:00,  3.60it/s]\n",
      "[2024-01-16 20:38:20,996]::<ipython-input-17-d6a636970e37>::DEBUG::Epoch: 115 , 1-MAE: 0.9113 , 1-train_avg_loss:0.9873 , 1-val_avg_loss:0.9113 , MAX Value:0.0887 , MAX Value Epoch:115\n",
      "100%|██████████| 375/375 [04:32<00:00,  1.37it/s]\n",
      "100%|██████████| 125/125 [00:34<00:00,  3.60it/s]\n",
      "[2024-01-16 20:43:29,145]::<ipython-input-17-d6a636970e37>::DEBUG::Epoch: 116 , 1-MAE: 0.9115 , 1-train_avg_loss:0.9876 , 1-val_avg_loss:0.9115 , MAX Value:0.0885 , MAX Value Epoch:116\n",
      "100%|██████████| 375/375 [04:32<00:00,  1.37it/s]\n",
      "100%|██████████| 125/125 [00:34<00:00,  3.61it/s]\n",
      "[2024-01-16 20:48:36,991]::<ipython-input-17-d6a636970e37>::DEBUG::Epoch: 117 , 1-MAE: 0.9102 , 1-train_avg_loss:0.9876 , 1-val_avg_loss:0.9102 , MAX Value:0.0898 , MAX Value Epoch:117\n",
      "100%|██████████| 375/375 [04:32<00:00,  1.38it/s]\n",
      "100%|██████████| 125/125 [00:34<00:00,  3.60it/s]\n",
      "[2024-01-16 20:53:44,768]::<ipython-input-17-d6a636970e37>::DEBUG::Epoch: 118 , 1-MAE: 0.9115 , 1-train_avg_loss:0.9874 , 1-val_avg_loss:0.9115 , MAX Value:0.0885 , MAX Value Epoch:118\n",
      "100%|██████████| 375/375 [04:32<00:00,  1.38it/s]\n",
      "100%|██████████| 125/125 [00:34<00:00,  3.60it/s]\n",
      "[2024-01-16 20:58:52,252]::<ipython-input-17-d6a636970e37>::DEBUG::Epoch: 119 , 1-MAE: 0.9109 , 1-train_avg_loss:0.9875 , 1-val_avg_loss:0.9109 , MAX Value:0.0891 , MAX Value Epoch:119\n",
      "100%|██████████| 375/375 [04:32<00:00,  1.37it/s]\n",
      "100%|██████████| 125/125 [00:34<00:00,  3.60it/s]\n",
      "[2024-01-16 21:04:09,004]::<ipython-input-17-d6a636970e37>::DEBUG::Epoch: 120 , 1-MAE: 0.9117 , 1-train_avg_loss:0.9878 , 1-val_avg_loss:0.9117 , MAX Value:0.0883 , MAX Value Epoch:120\n"
     ]
    }
   ],
   "source": [
    "with torch.cuda.device(0):\n",
    "    for i in range(start_epoch, epochs):\n",
    "        train_avg_loss = 0\n",
    "        val_avg_loss = 0\n",
    "        \n",
    "        for audiodata, image_data, big_five_data in tqdm(train_dataloader):\n",
    "            # image_data=image_data.permute(0,4,1,2,3)\n",
    "            big_five_data=big_five_data.permute(0,2,1)\n",
    "            big_five_data=big_five_data.squeeze()\n",
    "            # image_data=imagecrop(image_data,batchsz)\n",
    "            # torch.Size([batchsz, 15, 4 , 3 , 112 , 112])\n",
    "            # torch.Size([batchsz, 3, 15, 224, 224])\n",
    "            audiodata = audiodata.to(device)\n",
    "            image_data = image_data.to(device)\n",
    "            #torch.Size([64, 5])\n",
    "            big_five_data = big_five_data.to(device)\n",
    "            optimizer.zero_grad()  # 기울기가 0이 됩니다.\n",
    "            hypothesis = model(image_data,audiodata)  # 모델의 예측 결과를 저장합니다.\n",
    "            loss = criterion(hypothesis, big_five_data)  # 예측된 결과와 실제 태그 사이의 손실 값을 저장합니다.\n",
    "            loss.backward()  # 역방향 전파입니다.\n",
    "            optimizer.step()  # 매개 변수를 업데이트합니다\n",
    "            train_avg_loss += loss  # 훈련 손실의 평균치입니다\n",
    "        train_avg_loss=train_avg_loss/len(train_dataloader)\n",
    "        \n",
    "        with torch.no_grad():#validate\n",
    "            for audiodata, image_data, big_five_data in tqdm(val_dataloader):\n",
    "                # image_data=image_data.permute(0,4,1,2,3)\n",
    "                big_five_data=big_five_data.permute(0,2,1)\n",
    "                big_five_data=big_five_data.squeeze()\n",
    "                audiodata = audiodata.to(device)\n",
    "                # image_data=imagecrop(image_data,batchsz)\n",
    "                image_data = image_data.to(device)\n",
    "                big_five_data = big_five_data.to(device)\n",
    "                hypothesis = model(image_data, audiodata)\n",
    "                val_loss = criterion(hypothesis, big_five_data)\n",
    "                val_avg_loss += val_loss\n",
    "            val_avg_loss=val_avg_loss/len(val_dataloader)\n",
    "        # 每个epoch打印训练和验证的平均损失\n",
    "        # print(\"Epoch {}, Train 1-MAE: {:.4f}, Val 1-MAE: {:.4f}\".format(i + 1, 1-train_avg_loss, 1-val_avg_loss))\n",
    "\n",
    "        torch.cuda.empty_cache()\n",
    "        # if (1-val_avg_loss)>=(1-max_value):\n",
    "        max_value=val_avg_loss\n",
    "        start_epoch+=1\n",
    "        if (i + 1) % 5 == 0:\n",
    "            torch.save({\n",
    "                    'epoch': i+1,\n",
    "                    'model': model.state_dict(),\n",
    "                    'optimizer': optimizer.state_dict(),\n",
    "                    'loss': val_avg_loss,\n",
    "                }, save_model_file_path.format('model',start_epoch,'pth'))\n",
    "        logger.debug('Epoch: {} , 1-MAE: {:.4f} , 1-train_avg_loss:{:.4f} , 1-val_avg_loss:{:.4f} , MAX Value:{:.4f} , MAX Value Epoch:{}'.format(i+1, 1-val_avg_loss, 1-train_avg_loss, 1-val_avg_loss, max_value, start_epoch))\n",
    "    "
   ]
  },
  {
   "cell_type": "code",
   "execution_count": 18,
   "metadata": {},
   "outputs": [],
   "source": [
    "# from torchinfo import summary\n",
    "\n",
    "# summary(model, input_size = (4,15,4,3,224,224))"
   ]
  },
  {
   "cell_type": "code",
   "execution_count": null,
   "metadata": {},
   "outputs": [],
   "source": []
  }
 ],
 "metadata": {
  "kernelspec": {
   "display_name": "Python 3",
   "language": "python",
   "name": "python3"
  },
  "language_info": {
   "codemirror_mode": {
    "name": "ipython",
    "version": 3
   },
   "file_extension": ".py",
   "mimetype": "text/x-python",
   "name": "python",
   "nbconvert_exporter": "python",
   "pygments_lexer": "ipython3",
   "version": "3.8.8"
  }
 },
 "nbformat": 4,
 "nbformat_minor": 4
}
